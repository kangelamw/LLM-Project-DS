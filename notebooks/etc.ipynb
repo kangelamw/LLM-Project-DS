{
 "cells": [
  {
   "cell_type": "markdown",
   "metadata": {},
   "source": [
    "# Pretty stuff"
   ]
  },
  {
   "cell_type": "markdown",
   "metadata": {},
   "source": [
    "> Where I generate nice but random and somewhat unnecessary pieces of the project."
   ]
  },
  {
   "cell_type": "code",
   "execution_count": 1,
   "metadata": {},
   "outputs": [],
   "source": [
    "# Imports\n",
    "import os\n",
    "import pandas as pd\n",
    "from functions import *"
   ]
  },
  {
   "cell_type": "markdown",
   "metadata": {},
   "source": [
    "#### File Structure"
   ]
  },
  {
   "cell_type": "code",
   "execution_count": 5,
   "metadata": {},
   "outputs": [
    {
     "data": {
      "text/plain": [
       "True"
      ]
     },
     "execution_count": 5,
     "metadata": {},
     "output_type": "execute_result"
    }
   ],
   "source": [
    "fpath = '../../LLM-Project-DS/'\n",
    "\n",
    "os.path.exists(fpath)"
   ]
  },
  {
   "cell_type": "code",
   "execution_count": 6,
   "metadata": {},
   "outputs": [
    {
     "name": "stdout",
     "output_type": "stream",
     "text": [
      "├── data\n",
      "│   ├── emotions\n",
      "│   │   ├── test_classified.csv\n",
      "│   │   ├── train_classified.csv\n",
      "│   ├── input\n",
      "│   │   ├── test_input.csv\n",
      "│   │   ├── train_input.csv\n",
      "│   ├── pre-processed\n",
      "│   │   ├── test.csv\n",
      "│   │   ├── train.csv\n",
      "├── images\n",
      "│   ├── .gitkeep\n",
      "├── notebooks\n",
      "│   ├── 1-preprocessing.ipynb\n",
      "│   ├── 2-representation.ipynb\n",
      "│   ├── 3-pre-trained-model.ipynb\n",
      "│   ├── 4-optimization.ipynb\n",
      "│   ├── 5-deployment.ipynb\n",
      "│   ├── eee.md\n",
      "│   ├── etc.ipynb\n",
      "│   ├── functions.py\n",
      "│   ├── __pycache__\n",
      "│   │   ├── functions.cpython-39.pyc\n",
      "├── Project_Journal.md\n",
      "├── README.md\n",
      "\n"
     ]
    }
   ],
   "source": [
    "print(generate_file_structure(fpath))"
   ]
  },
  {
   "cell_type": "code",
   "execution_count": 1,
   "metadata": {},
   "outputs": [
    {
     "name": "stdout",
     "output_type": "stream",
     "text": [
      "True\n"
     ]
    }
   ],
   "source": [
    "import torch\n",
    "print(torch.cuda.is_available())"
   ]
  }
 ],
 "metadata": {
  "kernelspec": {
   "display_name": "lhl_llm-project",
   "language": "python",
   "name": "python3"
  },
  "language_info": {
   "codemirror_mode": {
    "name": "ipython",
    "version": 3
   },
   "file_extension": ".py",
   "mimetype": "text/x-python",
   "name": "python",
   "nbconvert_exporter": "python",
   "pygments_lexer": "ipython3",
   "version": "3.9.15"
  }
 },
 "nbformat": 4,
 "nbformat_minor": 2
}
