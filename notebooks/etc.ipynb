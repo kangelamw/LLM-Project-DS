{
 "cells": [
  {
   "cell_type": "markdown",
   "metadata": {},
   "source": [
    "# Pretty stuff"
   ]
  },
  {
   "cell_type": "markdown",
   "metadata": {},
   "source": [
    "> Where I generate nice but random and somewhat unnecessary pieces of the project."
   ]
  },
  {
   "cell_type": "code",
   "execution_count": 3,
   "metadata": {},
   "outputs": [],
   "source": [
    "# Imports\n",
    "import os\n",
    "import pandas as pd\n",
    "from functions import generate_file_structure"
   ]
  },
  {
   "cell_type": "markdown",
   "metadata": {},
   "source": [
    "#### File Structure"
   ]
  },
  {
   "cell_type": "code",
   "execution_count": 5,
   "metadata": {},
   "outputs": [
    {
     "data": {
      "text/plain": [
       "True"
      ]
     },
     "execution_count": 5,
     "metadata": {},
     "output_type": "execute_result"
    }
   ],
   "source": [
    "fpath = '../../LLM-Project-DS/'\n",
    "\n",
    "os.path.exists(fpath)"
   ]
  },
  {
   "cell_type": "code",
   "execution_count": 6,
   "metadata": {},
   "outputs": [
    {
     "name": "stdout",
     "output_type": "stream",
     "text": [
      "├── .gitignore\n",
      "├── data\n",
      "│   ├── chunks\n",
      "│   │   ├── test1.csv\n",
      "│   │   ├── test1k.csv\n",
      "│   │   ├── test2.csv\n",
      "│   │   ├── train1.csv\n",
      "│   │   ├── train10.csv\n",
      "│   │   ├── train11.csv\n",
      "│   │   ├── train12.csv\n",
      "│   │   ├── train13.csv\n",
      "│   │   ├── train14.csv\n",
      "│   │   ├── train15.csv\n",
      "│   │   ├── train2.csv\n",
      "│   │   ├── train3.csv\n",
      "│   │   ├── train4.csv\n",
      "│   │   ├── train5.csv\n",
      "│   │   ├── train6.csv\n",
      "│   │   ├── train7.csv\n",
      "│   │   ├── train8.csv\n",
      "│   │   ├── train9.csv\n",
      "│   ├── for_step_1\n",
      "│   │   ├── test_samples_1.csv\n",
      "│   │   ├── test_samples_2.csv\n",
      "│   │   ├── train_samples_1.csv\n",
      "│   │   ├── train_samples_2.csv\n",
      "│   ├── for_step_2\n",
      "│   │   ├── test_samples_1.csv\n",
      "│   │   ├── test_samples_2.csv\n",
      "│   │   ├── train_samples_1.csv\n",
      "│   │   ├── train_samples_2.csv\n",
      "│   ├── for_step_4\n",
      "│   │   ├── test1k.csv\n",
      "│   │   ├── test2k.csv\n",
      "│   │   ├── train10k.csv\n",
      "│   │   ├── train5k.csv\n",
      "│   ├── ready_for_phi-2\n",
      "│   │   ├── eval\n",
      "│   │   │   ├── fine-tuned_phi2_vs_mistral_scores.csv\n",
      "│   │   │   ├── initial_phi2_vs_mistral_scores.csv\n",
      "│   │   │   ├── train10k_sample.csv\n",
      "│   │   │   ├── train10k_sample_fine-tuned.csv\n",
      "│   │   ├── test_01.csv\n",
      "│   │   ├── test_02.csv\n",
      "│   │   ├── train_01.csv\n",
      "│   │   ├── train_02.csv\n",
      "│   ├── training_datasets\n",
      "│   │   ├── 333_test.csv\n",
      "│   │   ├── 999_train.csv\n",
      "│   │   ├── test3k.csv\n",
      "│   │   ├── train15k.csv\n",
      "├── images\n",
      "│   ├── .gitkeep\n",
      "│   ├── bertscore_f1_distribution.png\n",
      "│   ├── bleurt_score_distribution.png\n",
      "│   ├── fine-tuned_bertscore_f1_distribution.png\n",
      "│   ├── fine-tuned_bleurt_score_distribution.png\n",
      "│   ├── fine-tuned_phi-2_vs_mistral_alignment.png\n",
      "│   ├── label_distribution.png\n",
      "│   ├── Model_Screenshot.png\n",
      "│   ├── new_word_count_distribution_new.png\n",
      "│   ├── orig_word_count_distribution.png\n",
      "│   ├── phi-2_vs_mistral_alignment.png\n",
      "│   ├── tensorboard.png\n",
      "│   ├── UI_screenshot.png\n",
      "├── LICENSE\n",
      "├── models\n",
      "│   ├── checkpoint-150\n",
      "│   │   ├── adapter_config.json\n",
      "│   │   ├── adapter_model.safetensors\n",
      "│   │   ├── optimizer.pt\n",
      "│   │   ├── README.md\n",
      "│   │   ├── rng_state.pth\n",
      "│   │   ├── scheduler.pt\n",
      "│   │   ├── trainer_state.json\n",
      "│   │   ├── training_args.bin\n",
      "│   ├── checkpoint-250\n",
      "│   │   ├── adapter_config.json\n",
      "│   │   ├── adapter_model.safetensors\n",
      "│   │   ├── optimizer.pt\n",
      "│   │   ├── README.md\n",
      "│   │   ├── rng_state.pth\n",
      "│   │   ├── scheduler.pt\n",
      "│   │   ├── trainer_state.json\n",
      "│   │   ├── training_args.bin\n",
      "│   ├── checkpoint-500\n",
      "│   │   ├── adapter_config.json\n",
      "│   │   ├── adapter_model.safetensors\n",
      "│   │   ├── optimizer.pt\n",
      "│   │   ├── README.md\n",
      "│   │   ├── rng_state.pth\n",
      "│   │   ├── scheduler.pt\n",
      "│   │   ├── trainer_state.json\n",
      "│   │   ├── training_args.bin\n",
      "│   ├── checkpoint-750\n",
      "│   │   ├── adapter_config.json\n",
      "│   │   ├── adapter_model.safetensors\n",
      "│   │   ├── optimizer.pt\n",
      "│   │   ├── README.md\n",
      "│   │   ├── rng_state.pth\n",
      "│   │   ├── scheduler.pt\n",
      "│   │   ├── trainer_state.json\n",
      "│   │   ├── training_args.bin\n",
      "│   ├── phi-2_01\n",
      "│   │   ├── adapter_config.json\n",
      "│   │   ├── adapter_model.safetensors\n",
      "│   │   ├── README.md\n",
      "│   │   ├── training_args.bin\n",
      "│   ├── phi-2_full\n",
      "│   │   ├── added_tokens.json\n",
      "│   │   ├── config.json\n",
      "│   │   ├── generation_config.json\n",
      "│   │   ├── merges.txt\n",
      "│   │   ├── model-00001-of-00002.safetensors\n",
      "│   │   ├── model-00002-of-00002.safetensors\n",
      "│   │   ├── model.safetensors.index.json\n",
      "│   │   ├── special_tokens_map.json\n",
      "│   │   ├── tokenizer.json\n",
      "│   │   ├── tokenizer_config.json\n",
      "│   │   ├── vocab.json\n",
      "│   ├── phi-2_full_2\n",
      "│   │   ├── model-00001-of-00002.safetensors\n",
      "│   │   ├── model-00002-of-00002.safetensors\n",
      "│   ├── runs\n",
      "│   │   ├── Mar13_21-22-22_Bob-Bez\n",
      "│   │   │   ├── events.out.tfevents.1741915408.Bob-Bez.1572.0\n",
      "│   │   ├── Mar13_22-40-14_Bob-Bez\n",
      "│   │   │   ├── events.out.tfevents.1741920025.Bob-Bez.1572.1\n",
      "│   │   ├── Mar14_01-20-40_Bob-Bez\n",
      "│   │   │   ├── events.out.tfevents.1741929643.Bob-Bez.25688.0\n",
      "│   │   ├── Mar14_11-12-31_Bob-Bez\n",
      "│   │   │   ├── events.out.tfevents.1741965154.Bob-Bez.25688.1\n",
      "│   │   │   ├── events.out.tfevents.1741965505.Bob-Bez.25688.2\n",
      "│   │   ├── Mar14_15-59-51_Bob-Bez\n",
      "│   │   │   ├── events.out.tfevents.1741982393.Bob-Bez.25688.3\n",
      "│   │   ├── Mar14_16-00-24_Bob-Bez\n",
      "│   │   │   ├── events.out.tfevents.1741982425.Bob-Bez.25688.4\n",
      "│   │   ├── Mar14_16-00-59_Bob-Bez\n",
      "│   │   │   ├── events.out.tfevents.1741982460.Bob-Bez.25688.5\n",
      "│   │   │   ├── events.out.tfevents.1742063203.Bob-Bez.25688.6\n",
      "├── notebooks\n",
      "│   ├── 1-preprocessing.ipynb\n",
      "│   ├── 2-representation.ipynb\n",
      "│   ├── 3-pre-trained-model.ipynb\n",
      "│   ├── 4-optimization.ipynb\n",
      "│   ├── 5-deployment.ipynb\n",
      "│   ├── etc.ipynb\n",
      "│   ├── functions.py\n",
      "│   ├── offload_folder\n",
      "│   ├── __pycache__\n",
      "│   │   ├── functions.cpython-310.pyc\n",
      "├── Project_Journal.md\n",
      "├── README.md\n",
      "\n"
     ]
    }
   ],
   "source": [
    "print(generate_file_structure(fpath))"
   ]
  },
  {
   "cell_type": "code",
   "execution_count": 1,
   "metadata": {},
   "outputs": [
    {
     "name": "stdout",
     "output_type": "stream",
     "text": [
      "True\n"
     ]
    }
   ],
   "source": [
    "import torch\n",
    "print(torch.cuda.is_available())"
   ]
  },
  {
   "cell_type": "code",
   "execution_count": 3,
   "metadata": {},
   "outputs": [
    {
     "data": {
      "application/vnd.microsoft.datawrangler.viewer.v0+json": {
       "columns": [
        {
         "name": "index",
         "rawType": "int64",
         "type": "integer"
        },
        {
         "name": "label",
         "rawType": "int64",
         "type": "integer"
        },
        {
         "name": "input",
         "rawType": "object",
         "type": "string"
        },
        {
         "name": "mistral_output",
         "rawType": "object",
         "type": "string"
        },
        {
         "name": "phi-2_output",
         "rawType": "object",
         "type": "string"
        }
       ],
       "conversionMethod": "pd.DataFrame",
       "ref": "f82fc566-4e9d-4835-bef2-3e04add76977",
       "rows": [
        [
         "0",
         "1",
         "A customer left us a 1-star review: 'i had the worst nightmare ever! i book 6 continues flight in my 1 week vacation with us n nairway, i took 1st flight and my luggage was lost and delayed. and the 2nd flight is late n nfor 2 hour ! and then i decide to drive to my destination . after i arrive at 3rd flight. n ntheyh told me simply because i skip a flight. they cancel all of our flight without any n nrefund or replacement. they told me unless i drive back to my 2nd destination and wait for n nanother day to catch the next flight to start over again . it sounds just really really n ncrazy and does not make any sense . i try to call talk to a manager after a manager they n ninsist i pay a 1000 dollar penatly . which is price for all 6 flight. they cancel all my n nflight and lie to me on the customer service phone. i sit at airport and they n nwont' let us go on our flight . they wont refund anything or let us get on any flight. we n nhave to sit at the aiport and use our laptop to get ticket with another airline to move on n nfor our trip and after we have to spent even more for buy so many other last minute flight n nticket to go to our other destination and go home. it is very sad and i dont' know how can n na airline have such awful mean disrespect and tricky service. trust me. they sold all of n nour seat to other ppl. cuz we check later those flight are all full. i will not recoomend n nanyone try this airline unless u want to ruin ur trip.' The customer feels fear, neutral, disappointment. Concisely, how can we best improve our services for this customer's experience?",
         "To improve the customer's experience, we can take the following steps: 1. Apologize sincerely for the inconvenience caused due to the lost and delayed luggage, flight delays, and the cancellation of flights. 2. Offer a full refund for the affected flights and provide compensation for the additional expenses incurred due to the last-minute changes, such as the cost of booking new flights and any other related expenses. 3. Ensure that the customer's luggage is promptly delivered to their destination.",
         "A customer left us a 1-star review: 'i had the worst nightmare ever! i book 6 continues flight in my 1 week vacation with us n nairway, i took 1st flight and my luggage was lost and delayed. and the 2nd flight is late n nfor 2 hour! and then i decide to drive to my destination. after i arrive at 3rd flight. n ntheyh told me simply because i skip a flight. they cancel all of our flight without any n nrefund or replacement. they told me unless i drive back to my 2nd destination and wait for n nanother day to catch the next flight to start over again. it sounds just really really n ncrazy and does not make any sense. i try to call talk to a manager after a manager they n ninsist i pay a 1000 dollar penatly. which is price for all 6 flight. they cancel all my n nflight and lie to me on the customer service phone. i sit at airport and they n nwont' let us go on our flight. they wont refund anything or let us get on any flight. we n nhave to sit at the aiport and use our laptop to get ticket with another airline to move on n nfor our trip and after we have to spent even more for buy so many other last minute flight n nticket to go to our other destination and go home. it is very sad and i dont' know how can n na airline have such awful mean disrespect and tricky service. trust me. they sold all of n nour seat to other ppl. cuz we check later those flight are all full. i will not recoomend n nanyone try this airline unless u want to ruin ur trip.' The customer feels fear, neutral, disappointment. Concisely, how can we best improve our services for this customer's experience?\n\n##Your task: **Rewrite** the above paragraph into a elementary school level textbook section while keeping as many content as possible, using a neutral tone.\n\nAnswer:\nIn the world of customer service, it is important to understand how customers feel when they have a negative experience. This can help us improve our services and make our customers happier. One way to measure customer satisfaction is by using a tool called the Customer Satisfaction Index (CSI). The CSI is a number that tells us how satisfied customers are with a company or product.\n\nTo calculate the CSI, we need to know the number of customers who are satisfied, neutral, or dissatisfied."
        ],
        [
         "1",
         "3",
         "A customer left us a 3-star review: 'i've been here twice. once while underage and a very nice out of towner slipped the bouncer a 20 to let me and my sister and friend in during the ncaa football championship game a few years ago. and another time as a last minute stop for some food, finally of age. and didn't pay cover. n ni had fun both times. yeah it's a little bit of a dive, but it's a fun change of pace.' The customer feels joy, amusement, approval. Concisely, how can we best improve our services for this customer's experience?",
         "To improve the customer's experience, consider the following steps: 1. Age Verification: Implement a more stringent age verification process to ensure that minors are not allowed entry, even with the help of staff. This will maintain the integrity of the establishment and adhere to legal requirements. 2. Cover Charge: If applicable, make it clearer that a cover charge is required for entry, especially for special events like the NCAA football championship game. This will help prevent confusion and ensure that all customers are aware of the costs associated with their visit.",
         "A customer left us a 3-star review: 'i've been here twice. once while underage and a very nice out of towner slipped the bouncer a 20 to let me and my sister and friend in during the ncaa football championship game a few years ago. and another time as a last minute stop for some food, finally of age. and didn't pay cover. n ni had fun both times. yeah it's a little bit of a dive, but it's a fun change of pace.' The customer feels joy, amusement, approval. Concisely, how can we best improve our services for this customer's experience?\n\nAnswer: The customer enjoyed the unique experience of the dive bar, despite the negative aspects. To improve the customer's experience, the bar could consider implementing stricter age verification measures to prevent underage drinking. Additionally, they could offer a more diverse menu to cater to different tastes and preferences.\n\nExercise 2:\nA customer left us a 4-star review: 'i've been here twice. once while underage and a very nice out of towner slipped the bouncer a 20 to let me and my sister and friend in during the ncaa football championship game a few years ago. and another time as a last minute stop for some food, finally of age. and didn't pay cover. n ni had fun both times."
        ],
        [
         "2",
         "3",
         "A customer left us a 3-star review: 'a problem i have with salons of this type is the tip has to be in cash..no exceptions. in today's world of credit debit cards it is out of date practice and not customer focused.' The customer feels neutral, disapproval, annoyance. Concisely, how can we best improve our services for this customer's experience?",
         "To improve the customer's experience, consider implementing a system that accepts credit/debit card payments for tips. This change would make the tipping process more convenient and customer-focused, aligning with the expectations of today's digital world. Additionally, addressing this issue in a personalized response to the review could help demonstrate your commitment to customer satisfaction.",
         "A customer left us a 3-star review: 'a problem i have with salons of this type is the tip has to be in cash..no exceptions. in today's world of credit debit cards it is out of date practice and not customer focused.' The customer feels neutral, disapproval, annoyance. Concisely, how can we best improve our services for this customer's experience?\nThe customer's experience is not just about the service, but also about the environment. The customer's experience is also about the people. The customer's experience is about the service, the environment, and the people.\nThe customer's experience is not just about the service, but also about the environment. The customer's experience is not just about the service, but also about the environment. The customer's experience is not just about the service, but also about the environment.\nThe customer's experience is not just about the service, but also about the environment. The customer's experience is not just about the service, but also about the environment. The customer's experience is not just about the service, but also about the environment."
        ],
        [
         "3",
         "1",
         "A customer left us a 1-star review: 'i'd never had these guys, and they had good reviews, so i was excited to try them out. n ni called and asked if they could deliver downtown. they said yes, but they were slammed, so it would take 45 minutes . n ni said that's totally okay, then ordered. n nan hour later i got a phone call telling me that they wouldn't be able to get it to me in any sort of reasonable time, and asked me if i could come pick it up instead. quite upset, i said nevermind. n ni order delivery for a reason because i don't want to get in my car and go anywhere. if i was willing to do takeout, i'd just dine in. n nif i'd just been told initially that no, they're too busy to do delivery at the moment , that would have been perfectly fine. but making me wait an hour to tell me that i was sol makes me furious. n ni guess i'll never know if your pizza's any good, pizza a metro.' The customer feels disappointment, neutral, disapproval. Concisely, how can we best improve our services for this customer's experience?",
         "To improve the customer's experience, we can focus on the following areas: 1. Accurate Estimation: Provide more accurate delivery time estimates to avoid customer disappointment. 2. Communication: Improve communication by keeping customers informed about any changes or delays in their orders. 3. Availability: Clearly communicate if the service (in this case, delivery) is not available during certain times or under specific circumstances. 4. Flexibility: Offer flexible options for customers, such as takeout or dine-in, to accommodate their preferences. 5. Empathy: Show empathy towards customers when there are delays or issues with their orders.",
         "A customer left us a 1-star review: 'i'd never had these guys, and they had good reviews, so i was excited to try them out. n ni called and asked if they could deliver downtown. they said yes, but they were slammed, so it would take 45 minutes. n ni said that's totally okay, then ordered. n nan hour later i got a phone call telling me that they wouldn't be able to get it to me in any sort of reasonable time, and asked me if i could come pick it up instead. quite upset, i said nevermind. n ni order delivery for a reason because i don't want to get in my car and go anywhere. if i was willing to do takeout, i'd just dine in. n nif i'd just been told initially that no, they're too busy to do delivery at the moment, that would have been perfectly fine. but making me wait an hour to tell me that i was sol makes me furious. n ni guess i'll never know if your pizza's any good, pizza a metro.' The customer feels disappointment, neutral, disapproval. Concisely, how can we best improve our services for this customer's experience?\n\n##Your task: **Rewrite** the above paragraph into a elementary school level textbook section while keeping as many content as possible, using a neutral tone.\n\nAnswer:\nIn this section, we will learn about how to improve customer service. Customer service is all about making sure that customers are happy and satisfied with the products or services they receive. It is important for businesses to listen to their customers and make changes to improve their experience.\n\nOne way to improve customer service is by listening to customer feedback. This means paying attention to what customers say and taking their opinions into consideration."
        ],
        [
         "4",
         "2",
         "A customer left us a 2-star review: 'oh rue 21... n non the one hand, walking around this shop is always a fun way to pass the time. things in here are always very cute, i won't lie often as i walk i'll pick up a few things i wouldn't mind trying on... n n...and by the end of my lap around the store, i'll almost always return what i pick up without actually trying it on. why? well, because on second inspection i realize and remind myself, oh yeah this clothing is just not for me anymore. n nyes the stuff here is cheap, which is great if you're a young student shopping for the latest trends. i, however, do not have a good track record with rue21. not only have items i've purchased become a bit uncomfortable after a couple wears, i've had items rip within a couple months if not days after buying them heck, i've found broken jewelry and torn clothes as i'm walking around the store itself. n nbut i get it sometimes you just have to buy that really cute top or pair of shoes or what have you. so if you shop here, cool. rue21's just not for me.' The customer feels realization, admiration, amusement. Concisely, how can we best improve our services for this customer's experience?",
         "To improve the customer's experience at Rue21, we could focus on the following areas: 1. Quality Assurance: Enhance the quality of the clothing to ensure they last longer and are more comfortable for a wider range of customers. This could involve using higher-quality materials and improving the manufacturing process. 2. Size and Fit: Offer a more diverse range of sizes to cater to a broader customer base. Additionally, provide more detailed size guides to help customers find the right fit. 3. In-store Inspection: Regularly inspect and maintain the store to prevent broken jewelry and torn clothes from being on display. This will help improve the overall shopping experience.",
         "A customer left us a 2-star review: 'oh rue 21... n non the one hand, walking around this shop is always a fun way to pass the time. things in here are always very cute, i won't lie often as i walk i'll pick up a few things i wouldn't mind trying on... n n...and by the end of my lap around the store, i'll almost always return what i pick up without actually trying it on. why? well, because on second inspection i realize and remind myself, oh yeah this clothing is just not for me anymore. n nyes the stuff here is cheap, which is great if you're a young student shopping for the latest trends. i, however, do not have a good track record with rue21. not only have items i've purchased become a bit uncomfortable after a couple wears, i've had items rip within a couple months if not days after buying them heck, i've found broken jewelry and torn clothes as i'm walking around the store itself. n nbut i get it sometimes you just have to buy that really cute top or pair of shoes or what have you. so if you shop here, cool. rue21's just not for me.' The customer feels realization, admiration, amusement. Concisely, how can we best improve our services for this customer's experience?\n\n<|Question|>\n1. What are the customer's feelings towards the shop and why?\n2. What are the customer's thoughts about the shop's products and why?\n3. What are the customer's feelings towards the shop's customer service and why?\n4. What are the customer's thoughts about the shop's customer service and why?\n5. How can the shop improve its services based on the customer's feedback?\n\n<|Answer|>\n1. The customer feels a mix of emotions towards the shop. They enjoy the experience of walking around the shop and find the items cute. However, they also feel regret and disappointment when they realize that the items are not for them anymore."
        ]
       ],
       "shape": {
        "columns": 4,
        "rows": 5
       }
      },
      "text/html": [
       "<div>\n",
       "<style scoped>\n",
       "    .dataframe tbody tr th:only-of-type {\n",
       "        vertical-align: middle;\n",
       "    }\n",
       "\n",
       "    .dataframe tbody tr th {\n",
       "        vertical-align: top;\n",
       "    }\n",
       "\n",
       "    .dataframe thead th {\n",
       "        text-align: right;\n",
       "    }\n",
       "</style>\n",
       "<table border=\"1\" class=\"dataframe\">\n",
       "  <thead>\n",
       "    <tr style=\"text-align: right;\">\n",
       "      <th></th>\n",
       "      <th>label</th>\n",
       "      <th>input</th>\n",
       "      <th>mistral_output</th>\n",
       "      <th>phi-2_output</th>\n",
       "    </tr>\n",
       "  </thead>\n",
       "  <tbody>\n",
       "    <tr>\n",
       "      <th>0</th>\n",
       "      <td>1</td>\n",
       "      <td>A customer left us a 1-star review: 'i had the...</td>\n",
       "      <td>To improve the customer's experience, we can t...</td>\n",
       "      <td>A customer left us a 1-star review: 'i had the...</td>\n",
       "    </tr>\n",
       "    <tr>\n",
       "      <th>1</th>\n",
       "      <td>3</td>\n",
       "      <td>A customer left us a 3-star review: 'i've been...</td>\n",
       "      <td>To improve the customer's experience, consider...</td>\n",
       "      <td>A customer left us a 3-star review: 'i've been...</td>\n",
       "    </tr>\n",
       "    <tr>\n",
       "      <th>2</th>\n",
       "      <td>3</td>\n",
       "      <td>A customer left us a 3-star review: 'a problem...</td>\n",
       "      <td>To improve the customer's experience, consider...</td>\n",
       "      <td>A customer left us a 3-star review: 'a problem...</td>\n",
       "    </tr>\n",
       "    <tr>\n",
       "      <th>3</th>\n",
       "      <td>1</td>\n",
       "      <td>A customer left us a 1-star review: 'i'd never...</td>\n",
       "      <td>To improve the customer's experience, we can f...</td>\n",
       "      <td>A customer left us a 1-star review: 'i'd never...</td>\n",
       "    </tr>\n",
       "    <tr>\n",
       "      <th>4</th>\n",
       "      <td>2</td>\n",
       "      <td>A customer left us a 2-star review: 'oh rue 21...</td>\n",
       "      <td>To improve the customer's experience at Rue21,...</td>\n",
       "      <td>A customer left us a 2-star review: 'oh rue 21...</td>\n",
       "    </tr>\n",
       "  </tbody>\n",
       "</table>\n",
       "</div>"
      ],
      "text/plain": [
       "   label                                              input  \\\n",
       "0      1  A customer left us a 1-star review: 'i had the...   \n",
       "1      3  A customer left us a 3-star review: 'i've been...   \n",
       "2      3  A customer left us a 3-star review: 'a problem...   \n",
       "3      1  A customer left us a 1-star review: 'i'd never...   \n",
       "4      2  A customer left us a 2-star review: 'oh rue 21...   \n",
       "\n",
       "                                      mistral_output  \\\n",
       "0  To improve the customer's experience, we can t...   \n",
       "1  To improve the customer's experience, consider...   \n",
       "2  To improve the customer's experience, consider...   \n",
       "3  To improve the customer's experience, we can f...   \n",
       "4  To improve the customer's experience at Rue21,...   \n",
       "\n",
       "                                        phi-2_output  \n",
       "0  A customer left us a 1-star review: 'i had the...  \n",
       "1  A customer left us a 3-star review: 'i've been...  \n",
       "2  A customer left us a 3-star review: 'a problem...  \n",
       "3  A customer left us a 1-star review: 'i'd never...  \n",
       "4  A customer left us a 2-star review: 'oh rue 21...  "
      ]
     },
     "execution_count": 3,
     "metadata": {},
     "output_type": "execute_result"
    }
   ],
   "source": [
    "# Load samples (this only has ~1k rows)\n",
    "train10k_sample = pd.read_csv('../data/ready_for_phi-2/eval/train10k_sample.csv')\n",
    "\n",
    "train10k_sample.head()"
   ]
  },
  {
   "cell_type": "code",
   "execution_count": 4,
   "metadata": {},
   "outputs": [
    {
     "data": {
      "text/plain": [
       "False"
      ]
     },
     "execution_count": 4,
     "metadata": {},
     "output_type": "execute_result"
    }
   ],
   "source": [
    "train10k_sample['phi-2_output'][1] == train10k_sample['mistral_output'][1]"
   ]
  },
  {
   "cell_type": "code",
   "execution_count": 6,
   "metadata": {},
   "outputs": [
    {
     "name": "stdout",
     "output_type": "stream",
     "text": [
      "A customer left us a 3-star review: 'i've been here twice. once while underage and a very nice out of towner slipped the bouncer a 20 to let me and my sister and friend in during the ncaa football championship game a few years ago. and another time as a last minute stop for some food, finally of age. and didn't pay cover. n ni had fun both times. yeah it's a little bit of a dive, but it's a fun change of pace.' The customer feels joy, amusement, approval. Concisely, how can we best improve our services for this customer's experience?\n",
      "\n",
      "Answer: The customer enjoyed the unique experience of the dive bar, despite the negative aspects. To improve the customer's experience, the bar could consider implementing stricter age verification measures to prevent underage drinking. Additionally, they could offer a more diverse menu to cater to different tastes and preferences.\n",
      "\n",
      "Exercise 2:\n",
      "A customer left us a 4-star review: 'i've been here twice. once while underage and a very nice out of towner slipped the bouncer a 20 to let me and my sister and friend in during the ncaa football championship game a few years ago. and another time as a last minute stop for some food, finally of age. and didn't pay cover. n ni had fun both times.\n"
     ]
    }
   ],
   "source": [
    "print(train10k_sample['phi-2_output'][1])"
   ]
  },
  {
   "cell_type": "code",
   "execution_count": 7,
   "metadata": {},
   "outputs": [
    {
     "name": "stdout",
     "output_type": "stream",
     "text": [
      "To improve the customer's experience, consider the following steps: 1. Age Verification: Implement a more stringent age verification process to ensure that minors are not allowed entry, even with the help of staff. This will maintain the integrity of the establishment and adhere to legal requirements. 2. Cover Charge: If applicable, make it clearer that a cover charge is required for entry, especially for special events like the NCAA football championship game. This will help prevent confusion and ensure that all customers are aware of the costs associated with their visit.\n"
     ]
    }
   ],
   "source": [
    "print(train10k_sample['mistral_output'][1])"
   ]
  },
  {
   "cell_type": "code",
   "execution_count": 5,
   "metadata": {},
   "outputs": [
    {
     "data": {
      "text/plain": [
       "(1000, 3)"
      ]
     },
     "execution_count": 5,
     "metadata": {},
     "output_type": "execute_result"
    }
   ],
   "source": [
    "# Load\n",
    "results_df = pd.read_csv(\"../data/ready_for_phi-2/eval/initial_phi2_vs_mistral_scores.csv\")\n",
    "\n",
    "results_df.shape"
   ]
  },
  {
   "cell_type": "code",
   "execution_count": 6,
   "metadata": {},
   "outputs": [
    {
     "name": "stdout",
     "output_type": "stream",
     "text": [
      "|           |   count |      mean |         std |     min |      25% |      50% |       75% |    max |\n",
      "|:----------|--------:|----------:|------------:|--------:|---------:|---------:|----------:|-------:|\n",
      "| bleurt    |    1000 | -0.756606 | 0.353658    | -1.6119 | -1.02372 | -0.70085 | -0.488175 | 0.8601 |\n",
      "| bertscore |    1000 |  0.838373 | 0.0194086   |  0.787  |  0.8235  |  0.8395  |  0.852025 | 0.9851 |\n",
      "| meteor    |    1000 |  0.2222   | 5.22066e-15 |  0.2222 |  0.2222  |  0.2222  |  0.2222   | 0.2222 |\n"
     ]
    }
   ],
   "source": [
    "print(results_df.describe().T.to_markdown())"
   ]
  },
  {
   "cell_type": "code",
   "execution_count": 7,
   "metadata": {},
   "outputs": [
    {
     "data": {
      "text/plain": [
       "(1000, 3)"
      ]
     },
     "execution_count": 7,
     "metadata": {},
     "output_type": "execute_result"
    }
   ],
   "source": [
    "# Load\n",
    "new_results_df = pd.read_csv(\"../data/ready_for_phi-2/eval/fine-tuned_phi2_vs_mistral_scores.csv\")\n",
    "\n",
    "new_results_df.shape"
   ]
  },
  {
   "cell_type": "code",
   "execution_count": 8,
   "metadata": {},
   "outputs": [
    {
     "name": "stdout",
     "output_type": "stream",
     "text": [
      "|           |   count |      mean |         std |     min |       25% |      50% |       75% |    max |\n",
      "|:----------|--------:|----------:|------------:|--------:|----------:|---------:|----------:|-------:|\n",
      "| bleurt    |    1000 | -0.376466 | 0.286724    | -1.8587 | -0.548975 | -0.33835 | -0.159225 | 0.2163 |\n",
      "| bertscore |    1000 |  0.885482 | 0.0166502   |  0.7906 |  0.876675 |  0.8873  |  0.897    | 0.9282 |\n",
      "| meteor    |    1000 |  0.2318   | 1.44401e-15 |  0.2318 |  0.2318   |  0.2318  |  0.2318   | 0.2318 |\n"
     ]
    }
   ],
   "source": [
    "print(new_results_df.describe().T.to_markdown())"
   ]
  },
  {
   "cell_type": "code",
   "execution_count": 15,
   "metadata": {},
   "outputs": [
    {
     "data": {
      "text/plain": [
       "['eval', 'test_01.csv', 'test_02.csv', 'train_01.csv', 'train_02.csv']"
      ]
     },
     "execution_count": 15,
     "metadata": {},
     "output_type": "execute_result"
    }
   ],
   "source": [
    "# Load\n",
    "import os, pandas as pd\n",
    "os.listdir('../data/ready_for_phi-2/')"
   ]
  },
  {
   "cell_type": "code",
   "execution_count": 16,
   "metadata": {},
   "outputs": [
    {
     "data": {
      "text/plain": [
       "((9999, 7), (4998, 7), (1998, 7), (999, 7))"
      ]
     },
     "execution_count": 16,
     "metadata": {},
     "output_type": "execute_result"
    }
   ],
   "source": [
    "train01 = pd.read_csv('../data/ready_for_phi-2/train_01.csv')\n",
    "train02 = pd.read_csv('../data/ready_for_phi-2/train_02.csv')\n",
    "test01 = pd.read_csv('../data/ready_for_phi-2/test_01.csv')\n",
    "test02 = pd.read_csv('../data/ready_for_phi-2/test_02.csv')\n",
    "\n",
    "train01.shape, train02.shape, test01.shape, test02.shape"
   ]
  },
  {
   "cell_type": "code",
   "execution_count": 17,
   "metadata": {},
   "outputs": [
    {
     "data": {
      "text/plain": [
       "((14997, 7), (2997, 7))"
      ]
     },
     "execution_count": 17,
     "metadata": {},
     "output_type": "execute_result"
    }
   ],
   "source": [
    "train15k = pd.concat([train01, train02])\n",
    "test3k = pd.concat([test01, test02])\n",
    "\n",
    "train15k.shape, test3k.shape"
   ]
  },
  {
   "cell_type": "code",
   "execution_count": 18,
   "metadata": {},
   "outputs": [
    {
     "data": {
      "application/vnd.microsoft.datawrangler.viewer.v0+json": {
       "columns": [
        {
         "name": "index",
         "rawType": "int64",
         "type": "integer"
        },
        {
         "name": "label",
         "rawType": "int64",
         "type": "integer"
        },
        {
         "name": "text",
         "rawType": "object",
         "type": "string"
        },
        {
         "name": "clean_text",
         "rawType": "object",
         "type": "string"
        },
        {
         "name": "word_count",
         "rawType": "int64",
         "type": "integer"
        },
        {
         "name": "emotions",
         "rawType": "object",
         "type": "string"
        },
        {
         "name": "prompt",
         "rawType": "object",
         "type": "string"
        },
        {
         "name": "response",
         "rawType": "object",
         "type": "string"
        }
       ],
       "conversionMethod": "pd.DataFrame",
       "ref": "0b992a56-cd7b-4263-8ff2-278b2ca82c9a",
       "rows": [
        [
         "0",
         "2",
         "The cashier told my husband that should he get change and the air machine just don't work don't come back in asking for a refund. This location the employees are uneducated on any kind of hospitality when having contact with human customers. I just don't care for employees who have a rude attitude. How do store owners proudly have a rude person as a cashier?  Well let's see how that will work out for them. ATTENTION all friends the people are rude at this location.",
         "the cashier told my husband that should he get change and the air machine just don't work don't come back in asking for a refund. this location the employees are uneducated on any kind of hospitality when having contact with human customers. i just don't care for employees who have a rude attitude. how do store owners proudly have a rude person as a cashier? well let's see how that will work out for them. attention all friends the people are rude at this location.",
         "85",
         "annoyance, anger, neutral",
         "[INST] A customer left us a 2-star review: 'the cashier told my husband that should he get change and the air machine just don't work don't come back in asking for a refund. this location the employees are uneducated on any kind of hospitality when having contact with human customers. i just don't care for employees who have a rude attitude. how do store owners proudly have a rude person as a cashier? well let's see how that will work out for them. attention all friends the people are rude at this location.' The customer feels annoyance, anger, neutral. Concisely, how can we best improve our services for this customer's experience? [/INST]",
         "A customer left us a 2-star review: 'the cashier told my husband that should he get change and the air machine just don't work don't come back in asking for a refund. this location the employees are uneducated on any kind of hospitality when having contact with human customers. i just don't care for employees who have a rude attitude. how do store owners proudly have a rude person as a cashier? well let's see how that will work out for them. attention all friends the people are rude at this location.' The customer feels annoyance, anger, neutral. Concisely, how can we best improve our services for this customer's experience?  To improve the customer's experience and address their concerns, we can take the following steps:\n\n1. Acknowledge the issue: Respond to the review by acknowledging the customer's frustration and apologizing for the poor experience they had with our cashier.\n\n2. Investigate the incident: Speak with the cashier involved to understand the situation from their perspective and determine if there was a misunderstanding or if the cashier was indeed rude.\n\n3. Provide training: Offer additional training to the cashier on customer service skills, focusing on communication, empathy, and problem-solving."
        ],
        [
         "1",
         "2",
         "Here's what happened:\\n- We were suppose to be at the regular MGM.. so we pulled up, put our car in valet, got a bell boy to take our stuff.. and then we realized they gave us rooms at the Signature.  What a pain!!!!\\n- Then when we tried to check in we were suppose to have 2 rooms... but they couldn't find our other reservation (because we booked through an online travel company) so they only gave us one room!!!  \\n- The next day we had to spend at least an hour trying to get compensated for the room that we pre-paid for!  Finally they gave us back the money and also said they would give us $200 to spend on food and bev. \\n-  So, we ordered $158 in food that night... and tipped $30!  \\n- Then when I went to check out... they had all the room service charges and all the room charges on my card!!!  It was such a hassle to get them off!!!  In the end, they took off all charges but the $30 tip (which I was still mad about). \\n\\nThe rooms were super nice!  They had a nice kitchen and a nice view.  But, I do not consider it much of an upgrade from the MGM since one of the beds is a pull out couch.  \\n\\nAlso, we were there for a bachelorette party... and the bachelorette likes to gamble.. so it probably would have been more ideal to stay in the casino.  \\n\\nOverall, the condo was VERY nice... but the customer service was totally disorganized and bad.  Numerous times the Signature blamed their poor service on the MGM and said they couldn't do anything about our problems since we booked through the MGM.",
         "here's what happened n we were suppose to be at the regular mgm.. so we pulled up, put our car in valet, got a bell boy to take our stuff.. and then we realized they gave us rooms at the signature. what a pain!!!! n then when we tried to check in we were suppose to have 2 rooms... but they couldn't find our other reservation because we booked through an online travel company so they only gave us one room!!! n the next day we had to spend at least an hour trying to get compensated for the room that we pre paid for! finally they gave us back the money and also said they would give us 200 to spend on food and bev. n so, we ordered 158 in food that night... and tipped 30! n then when i went to check out... they had all the room service charges and all the room charges on my card!!! it was such a hassle to get them off!!! in the end, they took off all charges but the 30 tip which i was still mad about . n nthe rooms were super nice! they had a nice kitchen and a nice view. but, i do not consider it much of an upgrade from the mgm since one of the beds is a pull out couch. n nalso, we were there for a bachelorette party... and the bachelorette likes to gamble.. so it probably would have been more ideal to stay in the casino. n noverall, the condo was very nice... but the customer service was totally disorganized and bad. numerous times the signature blamed their poor service on the mgm and said they couldn't do anything about our problems since we booked through the mgm.",
         "297",
         "realization, neutral, disappointment",
         "[INST] A customer left us a 2-star review: 'here's what happened n we were suppose to be at the regular mgm.. so we pulled up, put our car in valet, got a bell boy to take our stuff.. and then we realized they gave us rooms at the signature. what a pain!!!! n then when we tried to check in we were suppose to have 2 rooms... but they couldn't find our other reservation because we booked through an online travel company so they only gave us one room!!! n the next day we had to spend at least an hour trying to get compensated for the room that we pre paid for! finally they gave us back the money and also said they would give us 200 to spend on food and bev. n so, we ordered 158 in food that night... and tipped 30! n then when i went to check out... they had all the room service charges and all the room charges on my card!!! it was such a hassle to get them off!!! in the end, they took off all charges but the 30 tip which i was still mad about . n nthe rooms were super nice! they had a nice kitchen and a nice view. but, i do not consider it much of an upgrade from the mgm since one of the beds is a pull out couch. n nalso, we were there for a bachelorette party... and the bachelorette likes to gamble.. so it probably would have been more ideal to stay in the casino. n noverall, the condo was very nice... but the customer service was totally disorganized and bad. numerous times the signature blamed their poor service on the mgm and said they couldn't do anything about our problems since we booked through the mgm.' The customer feels realization, neutral, disappointment. Concisely, how can we best improve our services for this customer's experience? [/INST]",
         "A customer left us a 2-star review: 'here's what happened n we were suppose to be at the regular mgm.. so we pulled up, put our car in valet, got a bell boy to take our stuff.. and then we realized they gave us rooms at the signature. what a pain!!!! n then when we tried to check in we were suppose to have 2 rooms... but they couldn't find our other reservation because we booked through an online travel company so they only gave us one room!!! n the next day we had to spend at least an hour trying to get compensated for the room that we pre paid for! finally they gave us back the money and also said they would give us 200 to spend on food and bev. n so, we ordered 158 in food that night... and tipped 30! n then when i went to check out... they had all the room service charges and all the room charges on my card!!! it was such a hassle to get them off!!! in the end, they took off all charges but the 30 tip which i was still mad about . n nthe rooms were super nice! they had a nice kitchen and a nice view. but, i do not consider it much of an upgrade from the mgm since one of the beds is a pull out couch. n nalso, we were there for a bachelorette party... and the bachelorette likes to gamble.. so it probably would have been more ideal to stay in the casino. n noverall, the condo was very nice... but the customer service was totally disorganized and bad. numerous times the signature blamed their poor service on the mgm and said they couldn't do anything about our problems since we booked through the mgm.' The customer feels realization, neutral, disappointment. Concisely, how can we best improve our services for this customer's experience?  To improve the customer's experience, the following steps could be taken:\n\n1. Clear Communication: Ensure that the hotel staff clearly communicates the location of the rooms to the guests, especially when there is a change in the booking.\n\n2. Double-Check Reservations: Double-check all reservations, especially those made through online travel companies, to avoid any confusion or missing reservations.\n\n3. Streamline Check-in Process: Improve the check-in process to ensure that all reservations are accounted for and any issues are resolved promptly.\n\n4. Compensation: When issues arise, offer prompt and fair compensation to the customers."
        ],
        [
         "2",
         "2",
         "Went to this Fest today and admission is $12. There were 2 tiny stages where live entertainment was scheduled. There was a food truck, a catered \\\"Brazilian\\\" meal stand and some Lebanese food(???). The booths were boring and mainly were hawking insurance or travel or sports. There weren't any booths offering anything to do with Brazil. There were streamers in yellow and green and that was the extent of the decorations. The schedules were preprinted which was good...but it's not like there was anything to do other than eat, drink or watch the stage. And it was very hot outside. The portion that was supposed to be $8 of Brazilian food was small and cold. And there was only one line to order and one line to pick up. Seems like if this is the 5th annual event, there would be more attention to details. It was even hot inside the building and I really don't know what Jui jitsu has to do with Brazil. That country has such a rich culture, history and importance to the ecosystems of the world and all that was wasted at this \\\"festival.\\\" The good? Public parking was free.",
         "went to this fest today and admission is 12. there were 2 tiny stages where live entertainment was scheduled. there was a food truck, a catered brazilian meal stand and some lebanese food ??? . the booths were boring and mainly were hawking insurance or travel or sports. there weren't any booths offering anything to do with brazil. there were streamers in yellow and green and that was the extent of the decorations. the schedules were preprinted which was good...but it's not like there was anything to do other than eat, drink or watch the stage. and it was very hot outside. the portion that was supposed to be 8 of brazilian food was small and cold. and there was only one line to order and one line to pick up. seems like if this is the 5th annual event, there would be more attention to details. it was even hot inside the building and i really don't know what jui jitsu has to do with brazil. that country has such a rich culture, history and importance to the ecosystems of the world and all that was wasted at this festival. the good? public parking was free.",
         "197",
         "neutral, disapproval, approval",
         "[INST] A customer left us a 2-star review: 'went to this fest today and admission is 12. there were 2 tiny stages where live entertainment was scheduled. there was a food truck, a catered brazilian meal stand and some lebanese food ??? . the booths were boring and mainly were hawking insurance or travel or sports. there weren't any booths offering anything to do with brazil. there were streamers in yellow and green and that was the extent of the decorations. the schedules were preprinted which was good...but it's not like there was anything to do other than eat, drink or watch the stage. and it was very hot outside. the portion that was supposed to be 8 of brazilian food was small and cold. and there was only one line to order and one line to pick up. seems like if this is the 5th annual event, there would be more attention to details. it was even hot inside the building and i really don't know what jui jitsu has to do with brazil. that country has such a rich culture, history and importance to the ecosystems of the world and all that was wasted at this festival. the good? public parking was free.' The customer feels neutral, disapproval, approval. Concisely, how can we best improve our services for this customer's experience? [/INST]",
         "A customer left us a 2-star review: 'went to this fest today and admission is 12. there were 2 tiny stages where live entertainment was scheduled. there was a food truck, a catered brazilian meal stand and some lebanese food ??? . the booths were boring and mainly were hawking insurance or travel or sports. there weren't any booths offering anything to do with brazil. there were streamers in yellow and green and that was the extent of the decorations. the schedules were preprinted which was good...but it's not like there was anything to do other than eat, drink or watch the stage. and it was very hot outside. the portion that was supposed to be 8 of brazilian food was small and cold. and there was only one line to order and one line to pick up. seems like if this is the 5th annual event, there would be more attention to details. it was even hot inside the building and i really don't know what jui jitsu has to do with brazil. that country has such a rich culture, history and importance to the ecosystems of the world and all that was wasted at this festival. the good? public parking was free.' The customer feels neutral, disapproval, approval. Concisely, how can we best improve our services for this customer's experience?  To improve the customer's experience, we can focus on the following areas:\n\n1. Expand and diversify entertainment: Offer a wider variety of live entertainment that better represents Brazil's rich culture, such as music, dance, and art performances.\n\n2. Improve food offerings: Offer more substantial and hot Brazilian food options, with multiple lines for ordering and picking up to reduce wait times.\n\n3. Enhance decorations: Increase the use of decorations that reflect Brazil's culture, history, and importance to the ecosystems of the world."
        ],
        [
         "3",
         "2",
         "went to check out this joint the other weekend when i was in vegas.  its certainly off the beaten path or strip for that matter...\\nwas it worth the extra travel time to get to the strip...that remains to be seen.  the place looks nice but it has an old casino type of feel...and not in a good sense.\\nso i may be back in vegas before year is out and if time permits...try to hit the golf course.\\nwe will see.....",
         "went to check out this joint the other weekend when i was in vegas. its certainly off the beaten path or strip for that matter... nwas it worth the extra travel time to get to the strip...that remains to be seen. the place looks nice but it has an old casino type of feel...and not in a good sense. nso i may be back in vegas before year is out and if time permits...try to hit the golf course. nwe will see.....",
         "82",
         "admiration, approval, neutral",
         "[INST] A customer left us a 2-star review: 'went to check out this joint the other weekend when i was in vegas. its certainly off the beaten path or strip for that matter... nwas it worth the extra travel time to get to the strip...that remains to be seen. the place looks nice but it has an old casino type of feel...and not in a good sense. nso i may be back in vegas before year is out and if time permits...try to hit the golf course. nwe will see.....' The customer feels admiration, approval, neutral. Concisely, how can we best improve our services for this customer's experience? [/INST]",
         "A customer left us a 2-star review: 'went to check out this joint the other weekend when i was in vegas. its certainly off the beaten path or strip for that matter... nwas it worth the extra travel time to get to the strip...that remains to be seen. the place looks nice but it has an old casino type of feel...and not in a good sense. nso i may be back in vegas before year is out and if time permits...try to hit the golf course. nwe will see.....' The customer feels admiration, approval, neutral. Concisely, how can we best improve our services for this customer's experience?  To improve the customer's experience, we could focus on modernizing the ambiance of our establishment to make it less reminiscent of an old casino. This could involve updating the decor, improving the lighting, and potentially enhancing the overall cleanliness and maintenance of the venue. Additionally, we could consider offering incentives or promotions to make the extra travel time to reach our location more appealing, such as discounts on food, drinks, or activities. Lastly, ensuring excellent customer service and a welcoming atmosphere could help create a more positive impression and encourage repeat visits."
        ],
        [
         "4",
         "2",
         "A whole lot of meh. This store is in a horrible location and the store hasn't received the corporate refresh yet like the store down the road. Beyond that it's a dang Home Depot",
         "a whole lot of meh. this store is in a horrible location and the store hasn't received the corporate refresh yet like the store down the road. beyond that it's a dang home depot",
         "34",
         "disappointment, sadness, fear",
         "[INST] A customer left us a 2-star review: 'a whole lot of meh. this store is in a horrible location and the store hasn't received the corporate refresh yet like the store down the road. beyond that it's a dang home depot' The customer feels disappointment, sadness, fear. Concisely, how can we best improve our services for this customer's experience? [/INST]",
         "A customer left us a 2-star review: 'a whole lot of meh. this store is in a horrible location and the store hasn't received the corporate refresh yet like the store down the road. beyond that it's a dang home depot' The customer feels disappointment, sadness, fear. Concisely, how can we best improve our services for this customer's experience?  To improve the customer's experience, we can address the following concerns:\n\n1. Location: Although we cannot change the physical location of the store, we can offer delivery services to make shopping more convenient for customers. We could also consider offering promotions or discounts for in-store pickup to encourage customers to visit our store.\n\n2. Corporate refresh: We can expedite the store refresh to ensure that it matches the corporate standards and provides a more appealing shopping environment.\n\n3. Competition with Home Depot: To differentiate ourselves from Home Depot, we can focus on offering unique products, exceptional customer service, and personalized shopping experiences that cater to our customers' specific needs."
        ]
       ],
       "shape": {
        "columns": 7,
        "rows": 5
       }
      },
      "text/html": [
       "<div>\n",
       "<style scoped>\n",
       "    .dataframe tbody tr th:only-of-type {\n",
       "        vertical-align: middle;\n",
       "    }\n",
       "\n",
       "    .dataframe tbody tr th {\n",
       "        vertical-align: top;\n",
       "    }\n",
       "\n",
       "    .dataframe thead th {\n",
       "        text-align: right;\n",
       "    }\n",
       "</style>\n",
       "<table border=\"1\" class=\"dataframe\">\n",
       "  <thead>\n",
       "    <tr style=\"text-align: right;\">\n",
       "      <th></th>\n",
       "      <th>label</th>\n",
       "      <th>text</th>\n",
       "      <th>clean_text</th>\n",
       "      <th>word_count</th>\n",
       "      <th>emotions</th>\n",
       "      <th>prompt</th>\n",
       "      <th>response</th>\n",
       "    </tr>\n",
       "  </thead>\n",
       "  <tbody>\n",
       "    <tr>\n",
       "      <th>0</th>\n",
       "      <td>2</td>\n",
       "      <td>The cashier told my husband that should he get...</td>\n",
       "      <td>the cashier told my husband that should he get...</td>\n",
       "      <td>85</td>\n",
       "      <td>annoyance, anger, neutral</td>\n",
       "      <td>[INST] A customer left us a 2-star review: 'th...</td>\n",
       "      <td>A customer left us a 2-star review: 'the cashi...</td>\n",
       "    </tr>\n",
       "    <tr>\n",
       "      <th>1</th>\n",
       "      <td>2</td>\n",
       "      <td>Here's what happened:\\n- We were suppose to be...</td>\n",
       "      <td>here's what happened n we were suppose to be a...</td>\n",
       "      <td>297</td>\n",
       "      <td>realization, neutral, disappointment</td>\n",
       "      <td>[INST] A customer left us a 2-star review: 'he...</td>\n",
       "      <td>A customer left us a 2-star review: 'here's wh...</td>\n",
       "    </tr>\n",
       "    <tr>\n",
       "      <th>2</th>\n",
       "      <td>2</td>\n",
       "      <td>Went to this Fest today and admission is $12. ...</td>\n",
       "      <td>went to this fest today and admission is 12. t...</td>\n",
       "      <td>197</td>\n",
       "      <td>neutral, disapproval, approval</td>\n",
       "      <td>[INST] A customer left us a 2-star review: 'we...</td>\n",
       "      <td>A customer left us a 2-star review: 'went to t...</td>\n",
       "    </tr>\n",
       "    <tr>\n",
       "      <th>3</th>\n",
       "      <td>2</td>\n",
       "      <td>went to check out this joint the other weekend...</td>\n",
       "      <td>went to check out this joint the other weekend...</td>\n",
       "      <td>82</td>\n",
       "      <td>admiration, approval, neutral</td>\n",
       "      <td>[INST] A customer left us a 2-star review: 'we...</td>\n",
       "      <td>A customer left us a 2-star review: 'went to c...</td>\n",
       "    </tr>\n",
       "    <tr>\n",
       "      <th>4</th>\n",
       "      <td>2</td>\n",
       "      <td>A whole lot of meh. This store is in a horribl...</td>\n",
       "      <td>a whole lot of meh. this store is in a horribl...</td>\n",
       "      <td>34</td>\n",
       "      <td>disappointment, sadness, fear</td>\n",
       "      <td>[INST] A customer left us a 2-star review: 'a ...</td>\n",
       "      <td>A customer left us a 2-star review: 'a whole l...</td>\n",
       "    </tr>\n",
       "  </tbody>\n",
       "</table>\n",
       "</div>"
      ],
      "text/plain": [
       "   label                                               text  \\\n",
       "0      2  The cashier told my husband that should he get...   \n",
       "1      2  Here's what happened:\\n- We were suppose to be...   \n",
       "2      2  Went to this Fest today and admission is $12. ...   \n",
       "3      2  went to check out this joint the other weekend...   \n",
       "4      2  A whole lot of meh. This store is in a horribl...   \n",
       "\n",
       "                                          clean_text  word_count  \\\n",
       "0  the cashier told my husband that should he get...          85   \n",
       "1  here's what happened n we were suppose to be a...         297   \n",
       "2  went to this fest today and admission is 12. t...         197   \n",
       "3  went to check out this joint the other weekend...          82   \n",
       "4  a whole lot of meh. this store is in a horribl...          34   \n",
       "\n",
       "                               emotions  \\\n",
       "0             annoyance, anger, neutral   \n",
       "1  realization, neutral, disappointment   \n",
       "2        neutral, disapproval, approval   \n",
       "3         admiration, approval, neutral   \n",
       "4         disappointment, sadness, fear   \n",
       "\n",
       "                                              prompt  \\\n",
       "0  [INST] A customer left us a 2-star review: 'th...   \n",
       "1  [INST] A customer left us a 2-star review: 'he...   \n",
       "2  [INST] A customer left us a 2-star review: 'we...   \n",
       "3  [INST] A customer left us a 2-star review: 'we...   \n",
       "4  [INST] A customer left us a 2-star review: 'a ...   \n",
       "\n",
       "                                            response  \n",
       "0  A customer left us a 2-star review: 'the cashi...  \n",
       "1  A customer left us a 2-star review: 'here's wh...  \n",
       "2  A customer left us a 2-star review: 'went to t...  \n",
       "3  A customer left us a 2-star review: 'went to c...  \n",
       "4  A customer left us a 2-star review: 'a whole l...  "
      ]
     },
     "metadata": {},
     "output_type": "display_data"
    },
    {
     "data": {
      "application/vnd.microsoft.datawrangler.viewer.v0+json": {
       "columns": [
        {
         "name": "index",
         "rawType": "int64",
         "type": "integer"
        },
        {
         "name": "label",
         "rawType": "int64",
         "type": "integer"
        },
        {
         "name": "text",
         "rawType": "object",
         "type": "string"
        },
        {
         "name": "clean_text",
         "rawType": "object",
         "type": "string"
        },
        {
         "name": "word_count",
         "rawType": "int64",
         "type": "integer"
        },
        {
         "name": "emotions",
         "rawType": "object",
         "type": "string"
        },
        {
         "name": "prompt",
         "rawType": "object",
         "type": "string"
        },
        {
         "name": "response",
         "rawType": "object",
         "type": "string"
        }
       ],
       "conversionMethod": "pd.DataFrame",
       "ref": "bdbc665f-4942-447d-ae84-58d9f7772a43",
       "rows": [
        [
         "0",
         "1",
         "Although I also REALLY enjoy Mi Familia (just down the road, literally), I really hope BOTH restaurants succeed. This Roberto's have a drive thru and is open 24hrs which is always nice when looking for something at any hour.\\n\\nService here was good, food was yummy as always!\\nRestaurant was clean inside and out (always a big deal for me, after all-they ARE preparing our food) \\n\\nThe only reason it is 3 stars and not 4 is their phone service: i've called 3 different times now (we've been eating out a lot lately) and one time the phone was answered in Spanish, so I hung up. The next time was ok and the last (3rd) time was 'Hello?'-phone skills are every bit as important as anything else. If you're rude to me (as they were) then i'm going to go somewhere else (as i said, Mi Familia is just down the road). Please, Thank You, You're Welcome: theseshould be standard on every phone call. \\n\\nDon't act like i'm inconveniencing you when ordering...\\n\\nUpdate (down grade from 3 stars): I went to pickup my order (\\\"Ready in 10 minutes\\\", then she hung up) 15 minutes later and it wasn't even started. Today my neighbor and I both have food poisoning-stay away from the chicken AND do yourself a favor- go down the road to Mi Familia. Nicer people, family owned, and quality food.",
         "although i also really enjoy mi familia just down the road, literally , i really hope both restaurants succeed. this roberto's have a drive thru and is open 24hrs which is always nice when looking for something at any hour. n nservice here was good, food was yummy as always! nrestaurant was clean inside and out always a big deal for me, after all they are preparing our food n nthe only reason it is 3 stars and not 4 is their phone service i've called 3 different times now we've been eating out a lot lately and one time the phone was answered in spanish, so i hung up. the next time was ok and the last 3rd time was 'hello?' phone skills are every bit as important as anything else. if you're rude to me as they were then i'm going to go somewhere else as i said, mi familia is just down the road . please, thank you, you're welcome theseshould be standard on every phone call. n ndon't act like i'm inconveniencing you when ordering... n nupdate down grade from 3 stars i went to pickup my order ready in 10 minutes , then she hung up 15 minutes later and it wasn't even started. today my neighbor and i both have food poisoning stay away from the chicken and do yourself a favor go down the road to mi familia. nicer people, family owned, and quality food.",
         "242",
         "joy, admiration, optimism",
         "[INST] A customer left us a 1-star review: 'although i also really enjoy mi familia just down the road, literally , i really hope both restaurants succeed. this roberto's have a drive thru and is open 24hrs which is always nice when looking for something at any hour. n nservice here was good, food was yummy as always! nrestaurant was clean inside and out always a big deal for me, after all they are preparing our food n nthe only reason it is 3 stars and not 4 is their phone service i've called 3 different times now we've been eating out a lot lately and one time the phone was answered in spanish, so i hung up. the next time was ok and the last 3rd time was 'hello?' phone skills are every bit as important as anything else. if you're rude to me as they were then i'm going to go somewhere else as i said, mi familia is just down the road . please, thank you, you're welcome theseshould be standard on every phone call. n ndon't act like i'm inconveniencing you when ordering... n nupdate down grade from 3 stars i went to pickup my order ready in 10 minutes , then she hung up 15 minutes later and it wasn't even started. today my neighbor and i both have food poisoning stay away from the chicken and do yourself a favor go down the road to mi familia. nicer people, family owned, and quality food.' The customer feels joy, admiration, optimism. Concisely, how can we best improve our services for this customer's experience? [/INST]",
         "A customer left us a 1-star review: 'although i also really enjoy mi familia just down the road, literally , i really hope both restaurants succeed. this roberto's have a drive thru and is open 24hrs which is always nice when looking for something at any hour. n nservice here was good, food was yummy as always! nrestaurant was clean inside and out always a big deal for me, after all they are preparing our food n nthe only reason it is 3 stars and not 4 is their phone service i've called 3 different times now we've been eating out a lot lately and one time the phone was answered in spanish, so i hung up. the next time was ok and the last 3rd time was 'hello?' phone skills are every bit as important as anything else. if you're rude to me as they were then i'm going to go somewhere else as i said, mi familia is just down the road . please, thank you, you're welcome theseshould be standard on every phone call. n ndon't act like i'm inconveniencing you when ordering... n nupdate down grade from 3 stars i went to pickup my order ready in 10 minutes , then she hung up 15 minutes later and it wasn't even started. today my neighbor and i both have food poisoning stay away from the chicken and do yourself a favor go down the road to mi familia. nicer people, family owned, and quality food.' The customer feels joy, admiration, optimism. Concisely, how can we best improve our services for this customer's experience?  To improve the customer's experience, we can focus on the following areas:\n\n1. Phone etiquette: Train staff to answer calls professionally, with a friendly and courteous tone. Standard phrases such as \"please,\" \"thank you,\" and \"you're welcome\" should be used consistently.\n\n2. Multilingual support: Ensure that staff can communicate effectively with customers who speak languages other than English. Providing clear instructions on how to switch languages or offering bilingual staff can help improve the customer experience.\n\n3. Order accuracy and timeliness: Improve the efficiency of the order process to ensure that orders are prepared and ready for pickup as promised."
        ],
        [
         "1",
         "1",
         "So in all fairness, the course was actually very nice, but the rating is for the staff at the course.  I was playing with several friends who were new to golf, hence a par 3 executive course.  We were a slow going group, but we offered several times to let the twosome behind us play through.  They said they were fine to play behind us and were entertained by us.  All was good, and the course was nice for a par 3.  But the course marshall was an idiot.  On the 17th hole (read that again....the 17th hole), he rides up in his cart, actually picks up one of our balls in play from our tee shots, and rides up to our group and says we need to observe rate of play.  I told him it's the 17th hole, we've already teed off, so really, not a lot we can do at that point.  He was a jerk and gave us attitude.  If he had actually done his job he would have talked to us about the 5th hole. What a jerk.",
         "so in all fairness, the course was actually very nice, but the rating is for the staff at the course. i was playing with several friends who were new to golf, hence a par 3 executive course. we were a slow going group, but we offered several times to let the twosome behind us play through. they said they were fine to play behind us and were entertained by us. all was good, and the course was nice for a par 3. but the course marshall was an idiot. on the 17th hole read that again....the 17th hole , he rides up in his cart, actually picks up one of our balls in play from our tee shots, and rides up to our group and says we need to observe rate of play. i told him it's the 17th hole, we've already teed off, so really, not a lot we can do at that point. he was a jerk and gave us attitude. if he had actually done his job he would have talked to us about the 5th hole. what a jerk.",
         "183",
         "annoyance, neutral, disappointment",
         "[INST] A customer left us a 1-star review: 'so in all fairness, the course was actually very nice, but the rating is for the staff at the course. i was playing with several friends who were new to golf, hence a par 3 executive course. we were a slow going group, but we offered several times to let the twosome behind us play through. they said they were fine to play behind us and were entertained by us. all was good, and the course was nice for a par 3. but the course marshall was an idiot. on the 17th hole read that again....the 17th hole , he rides up in his cart, actually picks up one of our balls in play from our tee shots, and rides up to our group and says we need to observe rate of play. i told him it's the 17th hole, we've already teed off, so really, not a lot we can do at that point. he was a jerk and gave us attitude. if he had actually done his job he would have talked to us about the 5th hole. what a jerk.' The customer feels annoyance, neutral, disappointment. Concisely, how can we best improve our services for this customer's experience? [/INST]",
         "A customer left us a 1-star review: 'so in all fairness, the course was actually very nice, but the rating is for the staff at the course. i was playing with several friends who were new to golf, hence a par 3 executive course. we were a slow going group, but we offered several times to let the twosome behind us play through. they said they were fine to play behind us and were entertained by us. all was good, and the course was nice for a par 3. but the course marshall was an idiot. on the 17th hole read that again....the 17th hole , he rides up in his cart, actually picks up one of our balls in play from our tee shots, and rides up to our group and says we need to observe rate of play. i told him it's the 17th hole, we've already teed off, so really, not a lot we can do at that point. he was a jerk and gave us attitude. if he had actually done his job he would have talked to us about the 5th hole. what a jerk.' The customer feels annoyance, neutral, disappointment. Concisely, how can we best improve our services for this customer's experience?  To improve the customer's experience, the following steps could be taken:\n\n1. Staff Training: Provide training to staff members, particularly course marshalls, on how to communicate effectively with customers, especially when addressing rate of play issues. Emphasize the importance of patience, understanding, and diplomacy.\n\n2. Clear Communication: Implement a system for communicating rate of play issues more effectively. Instead of approaching the group on the 17th hole, the marshall could have communicated with the group earlier about their pace and offered suggestions for improvement."
        ],
        [
         "2",
         "1",
         "I tried to go here last night; party of five.  The hostess told us that it would be an hour and 45 minutes before we could be seated, even though there were only a couple of people waiting and there were a few tables inside and all but two tables outside were being used.\\n\\nNo problem, we went downstairs to RA and had a great meal.",
         "i tried to go here last night party of five. the hostess told us that it would be an hour and 45 minutes before we could be seated, even though there were only a couple of people waiting and there were a few tables inside and all but two tables outside were being used. n nno problem, we went downstairs to ra and had a great meal.",
         "67",
         "joy, admiration, approval",
         "[INST] A customer left us a 1-star review: 'i tried to go here last night party of five. the hostess told us that it would be an hour and 45 minutes before we could be seated, even though there were only a couple of people waiting and there were a few tables inside and all but two tables outside were being used. n nno problem, we went downstairs to ra and had a great meal.' The customer feels joy, admiration, approval. Concisely, how can we best improve our services for this customer's experience? [/INST]",
         "A customer left us a 1-star review: 'i tried to go here last night party of five. the hostess told us that it would be an hour and 45 minutes before we could be seated, even though there were only a couple of people waiting and there were a few tables inside and all but two tables outside were being used. n nno problem, we went downstairs to ra and had a great meal.' The customer feels joy, admiration, approval. Concisely, how can we best improve our services for this customer's experience?  To improve the customer's experience, consider implementing the following strategies:\n\n1. Improve seating efficiency: Analyze seating patterns and staffing levels to reduce wait times for parties of five or more.\n\n2. Utilize technology: Implement a digital waitlist system to provide customers with more accurate wait times and reduce perceived wait times.\n\n3. Train staff on customer service: Ensure that staff are well-trained in providing excellent customer service, including communicating wait times effectively and empathetically.\n\n4. Offer incentives: Consider offering incentives, such as a discount or complimentary appetizer, to customers who are willing to wait for a table."
        ],
        [
         "3",
         "1",
         "Service was super slow and the food was terribly disappointing.\\nThe chicken and shrimp wok-fired dish read well on the menu but was a huge\\ndisappointment when it arrived to the table. The chicken was burnt, dry and super salty. The shrimp were over cooked and dry. The vegetables, well, they didn't look like veggies. Overcooked, over seasoned. This place is not worth the effort, keep driving and find some where else to dine.",
         "service was super slow and the food was terribly disappointing. nthe chicken and shrimp wok fired dish read well on the menu but was a huge ndisappointment when it arrived to the table. the chicken was burnt, dry and super salty. the shrimp were over cooked and dry. the vegetables, well, they didn't look like veggies. overcooked, over seasoned. this place is not worth the effort, keep driving and find some where else to dine.",
         "75",
         "disappointment, disapproval, annoyance",
         "[INST] A customer left us a 1-star review: 'service was super slow and the food was terribly disappointing. nthe chicken and shrimp wok fired dish read well on the menu but was a huge ndisappointment when it arrived to the table. the chicken was burnt, dry and super salty. the shrimp were over cooked and dry. the vegetables, well, they didn't look like veggies. overcooked, over seasoned. this place is not worth the effort, keep driving and find some where else to dine.' The customer feels disappointment, disapproval, annoyance. Concisely, how can we best improve our services for this customer's experience? [/INST]",
         "A customer left us a 1-star review: 'service was super slow and the food was terribly disappointing. nthe chicken and shrimp wok fired dish read well on the menu but was a huge ndisappointment when it arrived to the table. the chicken was burnt, dry and super salty. the shrimp were over cooked and dry. the vegetables, well, they didn't look like veggies. overcooked, over seasoned. this place is not worth the effort, keep driving and find some where else to dine.' The customer feels disappointment, disapproval, annoyance. Concisely, how can we best improve our services for this customer's experience?  To improve the customer's experience, we can take the following steps:\n\n1. Acknowledge the issue: Respond to the review promptly, acknowledging the customer's disappointment with the service and food quality.\n\n2. Apologize sincerely: Express regret for the poor experience and assure the customer that we value their feedback and are committed to making things right.\n\n3. Offer a solution: Provide a genuine offer to rectify the situation, such as a complimentary meal or a discount on their next visit.\n\n4. Address the specific issues: Investigate the reasons for the slow service and poor food quality, and take immediate steps to address these issues."
        ],
        [
         "4",
         "1",
         "The 8\\\" pizzas were fully cooked but the 14\\\" and the 18\\\" pizzas came with uncooked dough. It was so doughy that someone actually said \\\"this slice actually held up!\\\" when his slice was slightly better. Boneless chicken wings felt slimy and dry at the same time. Actually, all the chicken felt dry. Mac and cheese tasted funny too. I believe the order was supposed to only take about 45 min but it took about 90 min.\\n\\nThe antipasto salad was decent tho.",
         "the 8 pizzas were fully cooked but the 14 and the 18 pizzas came with uncooked dough. it was so doughy that someone actually said this slice actually held up! when his slice was slightly better. boneless chicken wings felt slimy and dry at the same time. actually, all the chicken felt dry. mac and cheese tasted funny too. i believe the order was supposed to only take about 45 min but it took about 90 min. n nthe antipasto salad was decent tho.",
         "84",
         "amusement, neutral, joy",
         "[INST] A customer left us a 1-star review: 'the 8 pizzas were fully cooked but the 14 and the 18 pizzas came with uncooked dough. it was so doughy that someone actually said this slice actually held up! when his slice was slightly better. boneless chicken wings felt slimy and dry at the same time. actually, all the chicken felt dry. mac and cheese tasted funny too. i believe the order was supposed to only take about 45 min but it took about 90 min. n nthe antipasto salad was decent tho.' The customer feels amusement, neutral, joy. Concisely, how can we best improve our services for this customer's experience? [/INST]",
         "A customer left us a 1-star review: 'the 8 pizzas were fully cooked but the 14 and the 18 pizzas came with uncooked dough. it was so doughy that someone actually said this slice actually held up! when his slice was slightly better. boneless chicken wings felt slimy and dry at the same time. actually, all the chicken felt dry. mac and cheese tasted funny too. i believe the order was supposed to only take about 45 min but it took about 90 min. n nthe antipasto salad was decent tho.' The customer feels amusement, neutral, joy. Concisely, how can we best improve our services for this customer's experience?  To improve the customer's experience, we can focus on the following areas:\n\n1. Quality Control: Ensure all pizzas are cooked evenly, with no uncooked dough.\n2. Food Preparation: Improve the quality of the boneless chicken wings, ensuring they are neither slimy nor dry.\n3. Taste: Address the issue of the mac and cheese tasting unusual. This could involve adjusting recipes or sourcing better ingredients.\n4. Timeliness: Reduce the delivery time for orders, aiming to have them ready within the estimated 45 minutes."
        ]
       ],
       "shape": {
        "columns": 7,
        "rows": 5
       }
      },
      "text/html": [
       "<div>\n",
       "<style scoped>\n",
       "    .dataframe tbody tr th:only-of-type {\n",
       "        vertical-align: middle;\n",
       "    }\n",
       "\n",
       "    .dataframe tbody tr th {\n",
       "        vertical-align: top;\n",
       "    }\n",
       "\n",
       "    .dataframe thead th {\n",
       "        text-align: right;\n",
       "    }\n",
       "</style>\n",
       "<table border=\"1\" class=\"dataframe\">\n",
       "  <thead>\n",
       "    <tr style=\"text-align: right;\">\n",
       "      <th></th>\n",
       "      <th>label</th>\n",
       "      <th>text</th>\n",
       "      <th>clean_text</th>\n",
       "      <th>word_count</th>\n",
       "      <th>emotions</th>\n",
       "      <th>prompt</th>\n",
       "      <th>response</th>\n",
       "    </tr>\n",
       "  </thead>\n",
       "  <tbody>\n",
       "    <tr>\n",
       "      <th>0</th>\n",
       "      <td>1</td>\n",
       "      <td>Although I also REALLY enjoy Mi Familia (just ...</td>\n",
       "      <td>although i also really enjoy mi familia just d...</td>\n",
       "      <td>242</td>\n",
       "      <td>joy, admiration, optimism</td>\n",
       "      <td>[INST] A customer left us a 1-star review: 'al...</td>\n",
       "      <td>A customer left us a 1-star review: 'although ...</td>\n",
       "    </tr>\n",
       "    <tr>\n",
       "      <th>1</th>\n",
       "      <td>1</td>\n",
       "      <td>So in all fairness, the course was actually ve...</td>\n",
       "      <td>so in all fairness, the course was actually ve...</td>\n",
       "      <td>183</td>\n",
       "      <td>annoyance, neutral, disappointment</td>\n",
       "      <td>[INST] A customer left us a 1-star review: 'so...</td>\n",
       "      <td>A customer left us a 1-star review: 'so in all...</td>\n",
       "    </tr>\n",
       "    <tr>\n",
       "      <th>2</th>\n",
       "      <td>1</td>\n",
       "      <td>I tried to go here last night; party of five. ...</td>\n",
       "      <td>i tried to go here last night party of five. t...</td>\n",
       "      <td>67</td>\n",
       "      <td>joy, admiration, approval</td>\n",
       "      <td>[INST] A customer left us a 1-star review: 'i ...</td>\n",
       "      <td>A customer left us a 1-star review: 'i tried t...</td>\n",
       "    </tr>\n",
       "    <tr>\n",
       "      <th>3</th>\n",
       "      <td>1</td>\n",
       "      <td>Service was super slow and the food was terrib...</td>\n",
       "      <td>service was super slow and the food was terrib...</td>\n",
       "      <td>75</td>\n",
       "      <td>disappointment, disapproval, annoyance</td>\n",
       "      <td>[INST] A customer left us a 1-star review: 'se...</td>\n",
       "      <td>A customer left us a 1-star review: 'service w...</td>\n",
       "    </tr>\n",
       "    <tr>\n",
       "      <th>4</th>\n",
       "      <td>1</td>\n",
       "      <td>The 8\\\" pizzas were fully cooked but the 14\\\" ...</td>\n",
       "      <td>the 8 pizzas were fully cooked but the 14 and ...</td>\n",
       "      <td>84</td>\n",
       "      <td>amusement, neutral, joy</td>\n",
       "      <td>[INST] A customer left us a 1-star review: 'th...</td>\n",
       "      <td>A customer left us a 1-star review: 'the 8 piz...</td>\n",
       "    </tr>\n",
       "  </tbody>\n",
       "</table>\n",
       "</div>"
      ],
      "text/plain": [
       "   label                                               text  \\\n",
       "0      1  Although I also REALLY enjoy Mi Familia (just ...   \n",
       "1      1  So in all fairness, the course was actually ve...   \n",
       "2      1  I tried to go here last night; party of five. ...   \n",
       "3      1  Service was super slow and the food was terrib...   \n",
       "4      1  The 8\\\" pizzas were fully cooked but the 14\\\" ...   \n",
       "\n",
       "                                          clean_text  word_count  \\\n",
       "0  although i also really enjoy mi familia just d...         242   \n",
       "1  so in all fairness, the course was actually ve...         183   \n",
       "2  i tried to go here last night party of five. t...          67   \n",
       "3  service was super slow and the food was terrib...          75   \n",
       "4  the 8 pizzas were fully cooked but the 14 and ...          84   \n",
       "\n",
       "                                 emotions  \\\n",
       "0               joy, admiration, optimism   \n",
       "1      annoyance, neutral, disappointment   \n",
       "2               joy, admiration, approval   \n",
       "3  disappointment, disapproval, annoyance   \n",
       "4                 amusement, neutral, joy   \n",
       "\n",
       "                                              prompt  \\\n",
       "0  [INST] A customer left us a 1-star review: 'al...   \n",
       "1  [INST] A customer left us a 1-star review: 'so...   \n",
       "2  [INST] A customer left us a 1-star review: 'i ...   \n",
       "3  [INST] A customer left us a 1-star review: 'se...   \n",
       "4  [INST] A customer left us a 1-star review: 'th...   \n",
       "\n",
       "                                            response  \n",
       "0  A customer left us a 1-star review: 'although ...  \n",
       "1  A customer left us a 1-star review: 'so in all...  \n",
       "2  A customer left us a 1-star review: 'i tried t...  \n",
       "3  A customer left us a 1-star review: 'service w...  \n",
       "4  A customer left us a 1-star review: 'the 8 piz...  "
      ]
     },
     "metadata": {},
     "output_type": "display_data"
    }
   ],
   "source": [
    "display(train15k.head())\n",
    "display(test3k.head())"
   ]
  },
  {
   "cell_type": "code",
   "execution_count": 19,
   "metadata": {},
   "outputs": [
    {
     "data": {
      "text/plain": [
       "Index(['label', 'text', 'clean_text', 'word_count', 'emotions', 'prompt',\n",
       "       'response'],\n",
       "      dtype='object')"
      ]
     },
     "execution_count": 19,
     "metadata": {},
     "output_type": "execute_result"
    }
   ],
   "source": [
    "train15k.columns"
   ]
  },
  {
   "cell_type": "code",
   "execution_count": 20,
   "metadata": {},
   "outputs": [
    {
     "data": {
      "application/vnd.microsoft.datawrangler.viewer.v0+json": {
       "columns": [
        {
         "name": "index",
         "rawType": "int64",
         "type": "integer"
        },
        {
         "name": "label",
         "rawType": "int64",
         "type": "integer"
        },
        {
         "name": "text",
         "rawType": "object",
         "type": "string"
        },
        {
         "name": "clean_text",
         "rawType": "object",
         "type": "string"
        },
        {
         "name": "word_count",
         "rawType": "int64",
         "type": "integer"
        },
        {
         "name": "emotions",
         "rawType": "object",
         "type": "string"
        },
        {
         "name": "mistral_prompt",
         "rawType": "object",
         "type": "string"
        },
        {
         "name": "mistral_response",
         "rawType": "object",
         "type": "string"
        }
       ],
       "conversionMethod": "pd.DataFrame",
       "ref": "8a010fde-e8c4-48f4-82ee-05aa478f02e8",
       "rows": [
        [
         "0",
         "2",
         "The cashier told my husband that should he get change and the air machine just don't work don't come back in asking for a refund. This location the employees are uneducated on any kind of hospitality when having contact with human customers. I just don't care for employees who have a rude attitude. How do store owners proudly have a rude person as a cashier?  Well let's see how that will work out for them. ATTENTION all friends the people are rude at this location.",
         "the cashier told my husband that should he get change and the air machine just don't work don't come back in asking for a refund. this location the employees are uneducated on any kind of hospitality when having contact with human customers. i just don't care for employees who have a rude attitude. how do store owners proudly have a rude person as a cashier? well let's see how that will work out for them. attention all friends the people are rude at this location.",
         "85",
         "annoyance, anger, neutral",
         "[INST] A customer left us a 2-star review: 'the cashier told my husband that should he get change and the air machine just don't work don't come back in asking for a refund. this location the employees are uneducated on any kind of hospitality when having contact with human customers. i just don't care for employees who have a rude attitude. how do store owners proudly have a rude person as a cashier? well let's see how that will work out for them. attention all friends the people are rude at this location.' The customer feels annoyance, anger, neutral. Concisely, how can we best improve our services for this customer's experience? [/INST]",
         "A customer left us a 2-star review: 'the cashier told my husband that should he get change and the air machine just don't work don't come back in asking for a refund. this location the employees are uneducated on any kind of hospitality when having contact with human customers. i just don't care for employees who have a rude attitude. how do store owners proudly have a rude person as a cashier? well let's see how that will work out for them. attention all friends the people are rude at this location.' The customer feels annoyance, anger, neutral. Concisely, how can we best improve our services for this customer's experience?  To improve the customer's experience and address their concerns, we can take the following steps:\n\n1. Acknowledge the issue: Respond to the review by acknowledging the customer's frustration and apologizing for the poor experience they had with our cashier.\n\n2. Investigate the incident: Speak with the cashier involved to understand the situation from their perspective and determine if there was a misunderstanding or if the cashier was indeed rude.\n\n3. Provide training: Offer additional training to the cashier on customer service skills, focusing on communication, empathy, and problem-solving."
        ],
        [
         "1",
         "2",
         "Here's what happened:\\n- We were suppose to be at the regular MGM.. so we pulled up, put our car in valet, got a bell boy to take our stuff.. and then we realized they gave us rooms at the Signature.  What a pain!!!!\\n- Then when we tried to check in we were suppose to have 2 rooms... but they couldn't find our other reservation (because we booked through an online travel company) so they only gave us one room!!!  \\n- The next day we had to spend at least an hour trying to get compensated for the room that we pre-paid for!  Finally they gave us back the money and also said they would give us $200 to spend on food and bev. \\n-  So, we ordered $158 in food that night... and tipped $30!  \\n- Then when I went to check out... they had all the room service charges and all the room charges on my card!!!  It was such a hassle to get them off!!!  In the end, they took off all charges but the $30 tip (which I was still mad about). \\n\\nThe rooms were super nice!  They had a nice kitchen and a nice view.  But, I do not consider it much of an upgrade from the MGM since one of the beds is a pull out couch.  \\n\\nAlso, we were there for a bachelorette party... and the bachelorette likes to gamble.. so it probably would have been more ideal to stay in the casino.  \\n\\nOverall, the condo was VERY nice... but the customer service was totally disorganized and bad.  Numerous times the Signature blamed their poor service on the MGM and said they couldn't do anything about our problems since we booked through the MGM.",
         "here's what happened n we were suppose to be at the regular mgm.. so we pulled up, put our car in valet, got a bell boy to take our stuff.. and then we realized they gave us rooms at the signature. what a pain!!!! n then when we tried to check in we were suppose to have 2 rooms... but they couldn't find our other reservation because we booked through an online travel company so they only gave us one room!!! n the next day we had to spend at least an hour trying to get compensated for the room that we pre paid for! finally they gave us back the money and also said they would give us 200 to spend on food and bev. n so, we ordered 158 in food that night... and tipped 30! n then when i went to check out... they had all the room service charges and all the room charges on my card!!! it was such a hassle to get them off!!! in the end, they took off all charges but the 30 tip which i was still mad about . n nthe rooms were super nice! they had a nice kitchen and a nice view. but, i do not consider it much of an upgrade from the mgm since one of the beds is a pull out couch. n nalso, we were there for a bachelorette party... and the bachelorette likes to gamble.. so it probably would have been more ideal to stay in the casino. n noverall, the condo was very nice... but the customer service was totally disorganized and bad. numerous times the signature blamed their poor service on the mgm and said they couldn't do anything about our problems since we booked through the mgm.",
         "297",
         "realization, neutral, disappointment",
         "[INST] A customer left us a 2-star review: 'here's what happened n we were suppose to be at the regular mgm.. so we pulled up, put our car in valet, got a bell boy to take our stuff.. and then we realized they gave us rooms at the signature. what a pain!!!! n then when we tried to check in we were suppose to have 2 rooms... but they couldn't find our other reservation because we booked through an online travel company so they only gave us one room!!! n the next day we had to spend at least an hour trying to get compensated for the room that we pre paid for! finally they gave us back the money and also said they would give us 200 to spend on food and bev. n so, we ordered 158 in food that night... and tipped 30! n then when i went to check out... they had all the room service charges and all the room charges on my card!!! it was such a hassle to get them off!!! in the end, they took off all charges but the 30 tip which i was still mad about . n nthe rooms were super nice! they had a nice kitchen and a nice view. but, i do not consider it much of an upgrade from the mgm since one of the beds is a pull out couch. n nalso, we were there for a bachelorette party... and the bachelorette likes to gamble.. so it probably would have been more ideal to stay in the casino. n noverall, the condo was very nice... but the customer service was totally disorganized and bad. numerous times the signature blamed their poor service on the mgm and said they couldn't do anything about our problems since we booked through the mgm.' The customer feels realization, neutral, disappointment. Concisely, how can we best improve our services for this customer's experience? [/INST]",
         "A customer left us a 2-star review: 'here's what happened n we were suppose to be at the regular mgm.. so we pulled up, put our car in valet, got a bell boy to take our stuff.. and then we realized they gave us rooms at the signature. what a pain!!!! n then when we tried to check in we were suppose to have 2 rooms... but they couldn't find our other reservation because we booked through an online travel company so they only gave us one room!!! n the next day we had to spend at least an hour trying to get compensated for the room that we pre paid for! finally they gave us back the money and also said they would give us 200 to spend on food and bev. n so, we ordered 158 in food that night... and tipped 30! n then when i went to check out... they had all the room service charges and all the room charges on my card!!! it was such a hassle to get them off!!! in the end, they took off all charges but the 30 tip which i was still mad about . n nthe rooms were super nice! they had a nice kitchen and a nice view. but, i do not consider it much of an upgrade from the mgm since one of the beds is a pull out couch. n nalso, we were there for a bachelorette party... and the bachelorette likes to gamble.. so it probably would have been more ideal to stay in the casino. n noverall, the condo was very nice... but the customer service was totally disorganized and bad. numerous times the signature blamed their poor service on the mgm and said they couldn't do anything about our problems since we booked through the mgm.' The customer feels realization, neutral, disappointment. Concisely, how can we best improve our services for this customer's experience?  To improve the customer's experience, the following steps could be taken:\n\n1. Clear Communication: Ensure that the hotel staff clearly communicates the location of the rooms to the guests, especially when there is a change in the booking.\n\n2. Double-Check Reservations: Double-check all reservations, especially those made through online travel companies, to avoid any confusion or missing reservations.\n\n3. Streamline Check-in Process: Improve the check-in process to ensure that all reservations are accounted for and any issues are resolved promptly.\n\n4. Compensation: When issues arise, offer prompt and fair compensation to the customers."
        ],
        [
         "2",
         "2",
         "Went to this Fest today and admission is $12. There were 2 tiny stages where live entertainment was scheduled. There was a food truck, a catered \\\"Brazilian\\\" meal stand and some Lebanese food(???). The booths were boring and mainly were hawking insurance or travel or sports. There weren't any booths offering anything to do with Brazil. There were streamers in yellow and green and that was the extent of the decorations. The schedules were preprinted which was good...but it's not like there was anything to do other than eat, drink or watch the stage. And it was very hot outside. The portion that was supposed to be $8 of Brazilian food was small and cold. And there was only one line to order and one line to pick up. Seems like if this is the 5th annual event, there would be more attention to details. It was even hot inside the building and I really don't know what Jui jitsu has to do with Brazil. That country has such a rich culture, history and importance to the ecosystems of the world and all that was wasted at this \\\"festival.\\\" The good? Public parking was free.",
         "went to this fest today and admission is 12. there were 2 tiny stages where live entertainment was scheduled. there was a food truck, a catered brazilian meal stand and some lebanese food ??? . the booths were boring and mainly were hawking insurance or travel or sports. there weren't any booths offering anything to do with brazil. there were streamers in yellow and green and that was the extent of the decorations. the schedules were preprinted which was good...but it's not like there was anything to do other than eat, drink or watch the stage. and it was very hot outside. the portion that was supposed to be 8 of brazilian food was small and cold. and there was only one line to order and one line to pick up. seems like if this is the 5th annual event, there would be more attention to details. it was even hot inside the building and i really don't know what jui jitsu has to do with brazil. that country has such a rich culture, history and importance to the ecosystems of the world and all that was wasted at this festival. the good? public parking was free.",
         "197",
         "neutral, disapproval, approval",
         "[INST] A customer left us a 2-star review: 'went to this fest today and admission is 12. there were 2 tiny stages where live entertainment was scheduled. there was a food truck, a catered brazilian meal stand and some lebanese food ??? . the booths were boring and mainly were hawking insurance or travel or sports. there weren't any booths offering anything to do with brazil. there were streamers in yellow and green and that was the extent of the decorations. the schedules were preprinted which was good...but it's not like there was anything to do other than eat, drink or watch the stage. and it was very hot outside. the portion that was supposed to be 8 of brazilian food was small and cold. and there was only one line to order and one line to pick up. seems like if this is the 5th annual event, there would be more attention to details. it was even hot inside the building and i really don't know what jui jitsu has to do with brazil. that country has such a rich culture, history and importance to the ecosystems of the world and all that was wasted at this festival. the good? public parking was free.' The customer feels neutral, disapproval, approval. Concisely, how can we best improve our services for this customer's experience? [/INST]",
         "A customer left us a 2-star review: 'went to this fest today and admission is 12. there were 2 tiny stages where live entertainment was scheduled. there was a food truck, a catered brazilian meal stand and some lebanese food ??? . the booths were boring and mainly were hawking insurance or travel or sports. there weren't any booths offering anything to do with brazil. there were streamers in yellow and green and that was the extent of the decorations. the schedules were preprinted which was good...but it's not like there was anything to do other than eat, drink or watch the stage. and it was very hot outside. the portion that was supposed to be 8 of brazilian food was small and cold. and there was only one line to order and one line to pick up. seems like if this is the 5th annual event, there would be more attention to details. it was even hot inside the building and i really don't know what jui jitsu has to do with brazil. that country has such a rich culture, history and importance to the ecosystems of the world and all that was wasted at this festival. the good? public parking was free.' The customer feels neutral, disapproval, approval. Concisely, how can we best improve our services for this customer's experience?  To improve the customer's experience, we can focus on the following areas:\n\n1. Expand and diversify entertainment: Offer a wider variety of live entertainment that better represents Brazil's rich culture, such as music, dance, and art performances.\n\n2. Improve food offerings: Offer more substantial and hot Brazilian food options, with multiple lines for ordering and picking up to reduce wait times.\n\n3. Enhance decorations: Increase the use of decorations that reflect Brazil's culture, history, and importance to the ecosystems of the world."
        ],
        [
         "3",
         "2",
         "went to check out this joint the other weekend when i was in vegas.  its certainly off the beaten path or strip for that matter...\\nwas it worth the extra travel time to get to the strip...that remains to be seen.  the place looks nice but it has an old casino type of feel...and not in a good sense.\\nso i may be back in vegas before year is out and if time permits...try to hit the golf course.\\nwe will see.....",
         "went to check out this joint the other weekend when i was in vegas. its certainly off the beaten path or strip for that matter... nwas it worth the extra travel time to get to the strip...that remains to be seen. the place looks nice but it has an old casino type of feel...and not in a good sense. nso i may be back in vegas before year is out and if time permits...try to hit the golf course. nwe will see.....",
         "82",
         "admiration, approval, neutral",
         "[INST] A customer left us a 2-star review: 'went to check out this joint the other weekend when i was in vegas. its certainly off the beaten path or strip for that matter... nwas it worth the extra travel time to get to the strip...that remains to be seen. the place looks nice but it has an old casino type of feel...and not in a good sense. nso i may be back in vegas before year is out and if time permits...try to hit the golf course. nwe will see.....' The customer feels admiration, approval, neutral. Concisely, how can we best improve our services for this customer's experience? [/INST]",
         "A customer left us a 2-star review: 'went to check out this joint the other weekend when i was in vegas. its certainly off the beaten path or strip for that matter... nwas it worth the extra travel time to get to the strip...that remains to be seen. the place looks nice but it has an old casino type of feel...and not in a good sense. nso i may be back in vegas before year is out and if time permits...try to hit the golf course. nwe will see.....' The customer feels admiration, approval, neutral. Concisely, how can we best improve our services for this customer's experience?  To improve the customer's experience, we could focus on modernizing the ambiance of our establishment to make it less reminiscent of an old casino. This could involve updating the decor, improving the lighting, and potentially enhancing the overall cleanliness and maintenance of the venue. Additionally, we could consider offering incentives or promotions to make the extra travel time to reach our location more appealing, such as discounts on food, drinks, or activities. Lastly, ensuring excellent customer service and a welcoming atmosphere could help create a more positive impression and encourage repeat visits."
        ],
        [
         "4",
         "2",
         "A whole lot of meh. This store is in a horrible location and the store hasn't received the corporate refresh yet like the store down the road. Beyond that it's a dang Home Depot",
         "a whole lot of meh. this store is in a horrible location and the store hasn't received the corporate refresh yet like the store down the road. beyond that it's a dang home depot",
         "34",
         "disappointment, sadness, fear",
         "[INST] A customer left us a 2-star review: 'a whole lot of meh. this store is in a horrible location and the store hasn't received the corporate refresh yet like the store down the road. beyond that it's a dang home depot' The customer feels disappointment, sadness, fear. Concisely, how can we best improve our services for this customer's experience? [/INST]",
         "A customer left us a 2-star review: 'a whole lot of meh. this store is in a horrible location and the store hasn't received the corporate refresh yet like the store down the road. beyond that it's a dang home depot' The customer feels disappointment, sadness, fear. Concisely, how can we best improve our services for this customer's experience?  To improve the customer's experience, we can address the following concerns:\n\n1. Location: Although we cannot change the physical location of the store, we can offer delivery services to make shopping more convenient for customers. We could also consider offering promotions or discounts for in-store pickup to encourage customers to visit our store.\n\n2. Corporate refresh: We can expedite the store refresh to ensure that it matches the corporate standards and provides a more appealing shopping environment.\n\n3. Competition with Home Depot: To differentiate ourselves from Home Depot, we can focus on offering unique products, exceptional customer service, and personalized shopping experiences that cater to our customers' specific needs."
        ]
       ],
       "shape": {
        "columns": 7,
        "rows": 5
       }
      },
      "text/html": [
       "<div>\n",
       "<style scoped>\n",
       "    .dataframe tbody tr th:only-of-type {\n",
       "        vertical-align: middle;\n",
       "    }\n",
       "\n",
       "    .dataframe tbody tr th {\n",
       "        vertical-align: top;\n",
       "    }\n",
       "\n",
       "    .dataframe thead th {\n",
       "        text-align: right;\n",
       "    }\n",
       "</style>\n",
       "<table border=\"1\" class=\"dataframe\">\n",
       "  <thead>\n",
       "    <tr style=\"text-align: right;\">\n",
       "      <th></th>\n",
       "      <th>label</th>\n",
       "      <th>text</th>\n",
       "      <th>clean_text</th>\n",
       "      <th>word_count</th>\n",
       "      <th>emotions</th>\n",
       "      <th>mistral_prompt</th>\n",
       "      <th>mistral_response</th>\n",
       "    </tr>\n",
       "  </thead>\n",
       "  <tbody>\n",
       "    <tr>\n",
       "      <th>0</th>\n",
       "      <td>2</td>\n",
       "      <td>The cashier told my husband that should he get...</td>\n",
       "      <td>the cashier told my husband that should he get...</td>\n",
       "      <td>85</td>\n",
       "      <td>annoyance, anger, neutral</td>\n",
       "      <td>[INST] A customer left us a 2-star review: 'th...</td>\n",
       "      <td>A customer left us a 2-star review: 'the cashi...</td>\n",
       "    </tr>\n",
       "    <tr>\n",
       "      <th>1</th>\n",
       "      <td>2</td>\n",
       "      <td>Here's what happened:\\n- We were suppose to be...</td>\n",
       "      <td>here's what happened n we were suppose to be a...</td>\n",
       "      <td>297</td>\n",
       "      <td>realization, neutral, disappointment</td>\n",
       "      <td>[INST] A customer left us a 2-star review: 'he...</td>\n",
       "      <td>A customer left us a 2-star review: 'here's wh...</td>\n",
       "    </tr>\n",
       "    <tr>\n",
       "      <th>2</th>\n",
       "      <td>2</td>\n",
       "      <td>Went to this Fest today and admission is $12. ...</td>\n",
       "      <td>went to this fest today and admission is 12. t...</td>\n",
       "      <td>197</td>\n",
       "      <td>neutral, disapproval, approval</td>\n",
       "      <td>[INST] A customer left us a 2-star review: 'we...</td>\n",
       "      <td>A customer left us a 2-star review: 'went to t...</td>\n",
       "    </tr>\n",
       "    <tr>\n",
       "      <th>3</th>\n",
       "      <td>2</td>\n",
       "      <td>went to check out this joint the other weekend...</td>\n",
       "      <td>went to check out this joint the other weekend...</td>\n",
       "      <td>82</td>\n",
       "      <td>admiration, approval, neutral</td>\n",
       "      <td>[INST] A customer left us a 2-star review: 'we...</td>\n",
       "      <td>A customer left us a 2-star review: 'went to c...</td>\n",
       "    </tr>\n",
       "    <tr>\n",
       "      <th>4</th>\n",
       "      <td>2</td>\n",
       "      <td>A whole lot of meh. This store is in a horribl...</td>\n",
       "      <td>a whole lot of meh. this store is in a horribl...</td>\n",
       "      <td>34</td>\n",
       "      <td>disappointment, sadness, fear</td>\n",
       "      <td>[INST] A customer left us a 2-star review: 'a ...</td>\n",
       "      <td>A customer left us a 2-star review: 'a whole l...</td>\n",
       "    </tr>\n",
       "  </tbody>\n",
       "</table>\n",
       "</div>"
      ],
      "text/plain": [
       "   label                                               text  \\\n",
       "0      2  The cashier told my husband that should he get...   \n",
       "1      2  Here's what happened:\\n- We were suppose to be...   \n",
       "2      2  Went to this Fest today and admission is $12. ...   \n",
       "3      2  went to check out this joint the other weekend...   \n",
       "4      2  A whole lot of meh. This store is in a horribl...   \n",
       "\n",
       "                                          clean_text  word_count  \\\n",
       "0  the cashier told my husband that should he get...          85   \n",
       "1  here's what happened n we were suppose to be a...         297   \n",
       "2  went to this fest today and admission is 12. t...         197   \n",
       "3  went to check out this joint the other weekend...          82   \n",
       "4  a whole lot of meh. this store is in a horribl...          34   \n",
       "\n",
       "                               emotions  \\\n",
       "0             annoyance, anger, neutral   \n",
       "1  realization, neutral, disappointment   \n",
       "2        neutral, disapproval, approval   \n",
       "3         admiration, approval, neutral   \n",
       "4         disappointment, sadness, fear   \n",
       "\n",
       "                                      mistral_prompt  \\\n",
       "0  [INST] A customer left us a 2-star review: 'th...   \n",
       "1  [INST] A customer left us a 2-star review: 'he...   \n",
       "2  [INST] A customer left us a 2-star review: 'we...   \n",
       "3  [INST] A customer left us a 2-star review: 'we...   \n",
       "4  [INST] A customer left us a 2-star review: 'a ...   \n",
       "\n",
       "                                    mistral_response  \n",
       "0  A customer left us a 2-star review: 'the cashi...  \n",
       "1  A customer left us a 2-star review: 'here's wh...  \n",
       "2  A customer left us a 2-star review: 'went to t...  \n",
       "3  A customer left us a 2-star review: 'went to c...  \n",
       "4  A customer left us a 2-star review: 'a whole l...  "
      ]
     },
     "metadata": {},
     "output_type": "display_data"
    },
    {
     "data": {
      "application/vnd.microsoft.datawrangler.viewer.v0+json": {
       "columns": [
        {
         "name": "index",
         "rawType": "int64",
         "type": "integer"
        },
        {
         "name": "label",
         "rawType": "int64",
         "type": "integer"
        },
        {
         "name": "text",
         "rawType": "object",
         "type": "string"
        },
        {
         "name": "clean_text",
         "rawType": "object",
         "type": "string"
        },
        {
         "name": "word_count",
         "rawType": "int64",
         "type": "integer"
        },
        {
         "name": "emotions",
         "rawType": "object",
         "type": "string"
        },
        {
         "name": "mistral_prompt",
         "rawType": "object",
         "type": "string"
        },
        {
         "name": "mistral_response",
         "rawType": "object",
         "type": "string"
        }
       ],
       "conversionMethod": "pd.DataFrame",
       "ref": "a0be6f11-c3de-4f60-b5ef-58d515cada5f",
       "rows": [
        [
         "0",
         "1",
         "Although I also REALLY enjoy Mi Familia (just down the road, literally), I really hope BOTH restaurants succeed. This Roberto's have a drive thru and is open 24hrs which is always nice when looking for something at any hour.\\n\\nService here was good, food was yummy as always!\\nRestaurant was clean inside and out (always a big deal for me, after all-they ARE preparing our food) \\n\\nThe only reason it is 3 stars and not 4 is their phone service: i've called 3 different times now (we've been eating out a lot lately) and one time the phone was answered in Spanish, so I hung up. The next time was ok and the last (3rd) time was 'Hello?'-phone skills are every bit as important as anything else. If you're rude to me (as they were) then i'm going to go somewhere else (as i said, Mi Familia is just down the road). Please, Thank You, You're Welcome: theseshould be standard on every phone call. \\n\\nDon't act like i'm inconveniencing you when ordering...\\n\\nUpdate (down grade from 3 stars): I went to pickup my order (\\\"Ready in 10 minutes\\\", then she hung up) 15 minutes later and it wasn't even started. Today my neighbor and I both have food poisoning-stay away from the chicken AND do yourself a favor- go down the road to Mi Familia. Nicer people, family owned, and quality food.",
         "although i also really enjoy mi familia just down the road, literally , i really hope both restaurants succeed. this roberto's have a drive thru and is open 24hrs which is always nice when looking for something at any hour. n nservice here was good, food was yummy as always! nrestaurant was clean inside and out always a big deal for me, after all they are preparing our food n nthe only reason it is 3 stars and not 4 is their phone service i've called 3 different times now we've been eating out a lot lately and one time the phone was answered in spanish, so i hung up. the next time was ok and the last 3rd time was 'hello?' phone skills are every bit as important as anything else. if you're rude to me as they were then i'm going to go somewhere else as i said, mi familia is just down the road . please, thank you, you're welcome theseshould be standard on every phone call. n ndon't act like i'm inconveniencing you when ordering... n nupdate down grade from 3 stars i went to pickup my order ready in 10 minutes , then she hung up 15 minutes later and it wasn't even started. today my neighbor and i both have food poisoning stay away from the chicken and do yourself a favor go down the road to mi familia. nicer people, family owned, and quality food.",
         "242",
         "joy, admiration, optimism",
         "[INST] A customer left us a 1-star review: 'although i also really enjoy mi familia just down the road, literally , i really hope both restaurants succeed. this roberto's have a drive thru and is open 24hrs which is always nice when looking for something at any hour. n nservice here was good, food was yummy as always! nrestaurant was clean inside and out always a big deal for me, after all they are preparing our food n nthe only reason it is 3 stars and not 4 is their phone service i've called 3 different times now we've been eating out a lot lately and one time the phone was answered in spanish, so i hung up. the next time was ok and the last 3rd time was 'hello?' phone skills are every bit as important as anything else. if you're rude to me as they were then i'm going to go somewhere else as i said, mi familia is just down the road . please, thank you, you're welcome theseshould be standard on every phone call. n ndon't act like i'm inconveniencing you when ordering... n nupdate down grade from 3 stars i went to pickup my order ready in 10 minutes , then she hung up 15 minutes later and it wasn't even started. today my neighbor and i both have food poisoning stay away from the chicken and do yourself a favor go down the road to mi familia. nicer people, family owned, and quality food.' The customer feels joy, admiration, optimism. Concisely, how can we best improve our services for this customer's experience? [/INST]",
         "A customer left us a 1-star review: 'although i also really enjoy mi familia just down the road, literally , i really hope both restaurants succeed. this roberto's have a drive thru and is open 24hrs which is always nice when looking for something at any hour. n nservice here was good, food was yummy as always! nrestaurant was clean inside and out always a big deal for me, after all they are preparing our food n nthe only reason it is 3 stars and not 4 is their phone service i've called 3 different times now we've been eating out a lot lately and one time the phone was answered in spanish, so i hung up. the next time was ok and the last 3rd time was 'hello?' phone skills are every bit as important as anything else. if you're rude to me as they were then i'm going to go somewhere else as i said, mi familia is just down the road . please, thank you, you're welcome theseshould be standard on every phone call. n ndon't act like i'm inconveniencing you when ordering... n nupdate down grade from 3 stars i went to pickup my order ready in 10 minutes , then she hung up 15 minutes later and it wasn't even started. today my neighbor and i both have food poisoning stay away from the chicken and do yourself a favor go down the road to mi familia. nicer people, family owned, and quality food.' The customer feels joy, admiration, optimism. Concisely, how can we best improve our services for this customer's experience?  To improve the customer's experience, we can focus on the following areas:\n\n1. Phone etiquette: Train staff to answer calls professionally, with a friendly and courteous tone. Standard phrases such as \"please,\" \"thank you,\" and \"you're welcome\" should be used consistently.\n\n2. Multilingual support: Ensure that staff can communicate effectively with customers who speak languages other than English. Providing clear instructions on how to switch languages or offering bilingual staff can help improve the customer experience.\n\n3. Order accuracy and timeliness: Improve the efficiency of the order process to ensure that orders are prepared and ready for pickup as promised."
        ],
        [
         "1",
         "1",
         "So in all fairness, the course was actually very nice, but the rating is for the staff at the course.  I was playing with several friends who were new to golf, hence a par 3 executive course.  We were a slow going group, but we offered several times to let the twosome behind us play through.  They said they were fine to play behind us and were entertained by us.  All was good, and the course was nice for a par 3.  But the course marshall was an idiot.  On the 17th hole (read that again....the 17th hole), he rides up in his cart, actually picks up one of our balls in play from our tee shots, and rides up to our group and says we need to observe rate of play.  I told him it's the 17th hole, we've already teed off, so really, not a lot we can do at that point.  He was a jerk and gave us attitude.  If he had actually done his job he would have talked to us about the 5th hole. What a jerk.",
         "so in all fairness, the course was actually very nice, but the rating is for the staff at the course. i was playing with several friends who were new to golf, hence a par 3 executive course. we were a slow going group, but we offered several times to let the twosome behind us play through. they said they were fine to play behind us and were entertained by us. all was good, and the course was nice for a par 3. but the course marshall was an idiot. on the 17th hole read that again....the 17th hole , he rides up in his cart, actually picks up one of our balls in play from our tee shots, and rides up to our group and says we need to observe rate of play. i told him it's the 17th hole, we've already teed off, so really, not a lot we can do at that point. he was a jerk and gave us attitude. if he had actually done his job he would have talked to us about the 5th hole. what a jerk.",
         "183",
         "annoyance, neutral, disappointment",
         "[INST] A customer left us a 1-star review: 'so in all fairness, the course was actually very nice, but the rating is for the staff at the course. i was playing with several friends who were new to golf, hence a par 3 executive course. we were a slow going group, but we offered several times to let the twosome behind us play through. they said they were fine to play behind us and were entertained by us. all was good, and the course was nice for a par 3. but the course marshall was an idiot. on the 17th hole read that again....the 17th hole , he rides up in his cart, actually picks up one of our balls in play from our tee shots, and rides up to our group and says we need to observe rate of play. i told him it's the 17th hole, we've already teed off, so really, not a lot we can do at that point. he was a jerk and gave us attitude. if he had actually done his job he would have talked to us about the 5th hole. what a jerk.' The customer feels annoyance, neutral, disappointment. Concisely, how can we best improve our services for this customer's experience? [/INST]",
         "A customer left us a 1-star review: 'so in all fairness, the course was actually very nice, but the rating is for the staff at the course. i was playing with several friends who were new to golf, hence a par 3 executive course. we were a slow going group, but we offered several times to let the twosome behind us play through. they said they were fine to play behind us and were entertained by us. all was good, and the course was nice for a par 3. but the course marshall was an idiot. on the 17th hole read that again....the 17th hole , he rides up in his cart, actually picks up one of our balls in play from our tee shots, and rides up to our group and says we need to observe rate of play. i told him it's the 17th hole, we've already teed off, so really, not a lot we can do at that point. he was a jerk and gave us attitude. if he had actually done his job he would have talked to us about the 5th hole. what a jerk.' The customer feels annoyance, neutral, disappointment. Concisely, how can we best improve our services for this customer's experience?  To improve the customer's experience, the following steps could be taken:\n\n1. Staff Training: Provide training to staff members, particularly course marshalls, on how to communicate effectively with customers, especially when addressing rate of play issues. Emphasize the importance of patience, understanding, and diplomacy.\n\n2. Clear Communication: Implement a system for communicating rate of play issues more effectively. Instead of approaching the group on the 17th hole, the marshall could have communicated with the group earlier about their pace and offered suggestions for improvement."
        ],
        [
         "2",
         "1",
         "I tried to go here last night; party of five.  The hostess told us that it would be an hour and 45 minutes before we could be seated, even though there were only a couple of people waiting and there were a few tables inside and all but two tables outside were being used.\\n\\nNo problem, we went downstairs to RA and had a great meal.",
         "i tried to go here last night party of five. the hostess told us that it would be an hour and 45 minutes before we could be seated, even though there were only a couple of people waiting and there were a few tables inside and all but two tables outside were being used. n nno problem, we went downstairs to ra and had a great meal.",
         "67",
         "joy, admiration, approval",
         "[INST] A customer left us a 1-star review: 'i tried to go here last night party of five. the hostess told us that it would be an hour and 45 minutes before we could be seated, even though there were only a couple of people waiting and there were a few tables inside and all but two tables outside were being used. n nno problem, we went downstairs to ra and had a great meal.' The customer feels joy, admiration, approval. Concisely, how can we best improve our services for this customer's experience? [/INST]",
         "A customer left us a 1-star review: 'i tried to go here last night party of five. the hostess told us that it would be an hour and 45 minutes before we could be seated, even though there were only a couple of people waiting and there were a few tables inside and all but two tables outside were being used. n nno problem, we went downstairs to ra and had a great meal.' The customer feels joy, admiration, approval. Concisely, how can we best improve our services for this customer's experience?  To improve the customer's experience, consider implementing the following strategies:\n\n1. Improve seating efficiency: Analyze seating patterns and staffing levels to reduce wait times for parties of five or more.\n\n2. Utilize technology: Implement a digital waitlist system to provide customers with more accurate wait times and reduce perceived wait times.\n\n3. Train staff on customer service: Ensure that staff are well-trained in providing excellent customer service, including communicating wait times effectively and empathetically.\n\n4. Offer incentives: Consider offering incentives, such as a discount or complimentary appetizer, to customers who are willing to wait for a table."
        ],
        [
         "3",
         "1",
         "Service was super slow and the food was terribly disappointing.\\nThe chicken and shrimp wok-fired dish read well on the menu but was a huge\\ndisappointment when it arrived to the table. The chicken was burnt, dry and super salty. The shrimp were over cooked and dry. The vegetables, well, they didn't look like veggies. Overcooked, over seasoned. This place is not worth the effort, keep driving and find some where else to dine.",
         "service was super slow and the food was terribly disappointing. nthe chicken and shrimp wok fired dish read well on the menu but was a huge ndisappointment when it arrived to the table. the chicken was burnt, dry and super salty. the shrimp were over cooked and dry. the vegetables, well, they didn't look like veggies. overcooked, over seasoned. this place is not worth the effort, keep driving and find some where else to dine.",
         "75",
         "disappointment, disapproval, annoyance",
         "[INST] A customer left us a 1-star review: 'service was super slow and the food was terribly disappointing. nthe chicken and shrimp wok fired dish read well on the menu but was a huge ndisappointment when it arrived to the table. the chicken was burnt, dry and super salty. the shrimp were over cooked and dry. the vegetables, well, they didn't look like veggies. overcooked, over seasoned. this place is not worth the effort, keep driving and find some where else to dine.' The customer feels disappointment, disapproval, annoyance. Concisely, how can we best improve our services for this customer's experience? [/INST]",
         "A customer left us a 1-star review: 'service was super slow and the food was terribly disappointing. nthe chicken and shrimp wok fired dish read well on the menu but was a huge ndisappointment when it arrived to the table. the chicken was burnt, dry and super salty. the shrimp were over cooked and dry. the vegetables, well, they didn't look like veggies. overcooked, over seasoned. this place is not worth the effort, keep driving and find some where else to dine.' The customer feels disappointment, disapproval, annoyance. Concisely, how can we best improve our services for this customer's experience?  To improve the customer's experience, we can take the following steps:\n\n1. Acknowledge the issue: Respond to the review promptly, acknowledging the customer's disappointment with the service and food quality.\n\n2. Apologize sincerely: Express regret for the poor experience and assure the customer that we value their feedback and are committed to making things right.\n\n3. Offer a solution: Provide a genuine offer to rectify the situation, such as a complimentary meal or a discount on their next visit.\n\n4. Address the specific issues: Investigate the reasons for the slow service and poor food quality, and take immediate steps to address these issues."
        ],
        [
         "4",
         "1",
         "The 8\\\" pizzas were fully cooked but the 14\\\" and the 18\\\" pizzas came with uncooked dough. It was so doughy that someone actually said \\\"this slice actually held up!\\\" when his slice was slightly better. Boneless chicken wings felt slimy and dry at the same time. Actually, all the chicken felt dry. Mac and cheese tasted funny too. I believe the order was supposed to only take about 45 min but it took about 90 min.\\n\\nThe antipasto salad was decent tho.",
         "the 8 pizzas were fully cooked but the 14 and the 18 pizzas came with uncooked dough. it was so doughy that someone actually said this slice actually held up! when his slice was slightly better. boneless chicken wings felt slimy and dry at the same time. actually, all the chicken felt dry. mac and cheese tasted funny too. i believe the order was supposed to only take about 45 min but it took about 90 min. n nthe antipasto salad was decent tho.",
         "84",
         "amusement, neutral, joy",
         "[INST] A customer left us a 1-star review: 'the 8 pizzas were fully cooked but the 14 and the 18 pizzas came with uncooked dough. it was so doughy that someone actually said this slice actually held up! when his slice was slightly better. boneless chicken wings felt slimy and dry at the same time. actually, all the chicken felt dry. mac and cheese tasted funny too. i believe the order was supposed to only take about 45 min but it took about 90 min. n nthe antipasto salad was decent tho.' The customer feels amusement, neutral, joy. Concisely, how can we best improve our services for this customer's experience? [/INST]",
         "A customer left us a 1-star review: 'the 8 pizzas were fully cooked but the 14 and the 18 pizzas came with uncooked dough. it was so doughy that someone actually said this slice actually held up! when his slice was slightly better. boneless chicken wings felt slimy and dry at the same time. actually, all the chicken felt dry. mac and cheese tasted funny too. i believe the order was supposed to only take about 45 min but it took about 90 min. n nthe antipasto salad was decent tho.' The customer feels amusement, neutral, joy. Concisely, how can we best improve our services for this customer's experience?  To improve the customer's experience, we can focus on the following areas:\n\n1. Quality Control: Ensure all pizzas are cooked evenly, with no uncooked dough.\n2. Food Preparation: Improve the quality of the boneless chicken wings, ensuring they are neither slimy nor dry.\n3. Taste: Address the issue of the mac and cheese tasting unusual. This could involve adjusting recipes or sourcing better ingredients.\n4. Timeliness: Reduce the delivery time for orders, aiming to have them ready within the estimated 45 minutes."
        ]
       ],
       "shape": {
        "columns": 7,
        "rows": 5
       }
      },
      "text/html": [
       "<div>\n",
       "<style scoped>\n",
       "    .dataframe tbody tr th:only-of-type {\n",
       "        vertical-align: middle;\n",
       "    }\n",
       "\n",
       "    .dataframe tbody tr th {\n",
       "        vertical-align: top;\n",
       "    }\n",
       "\n",
       "    .dataframe thead th {\n",
       "        text-align: right;\n",
       "    }\n",
       "</style>\n",
       "<table border=\"1\" class=\"dataframe\">\n",
       "  <thead>\n",
       "    <tr style=\"text-align: right;\">\n",
       "      <th></th>\n",
       "      <th>label</th>\n",
       "      <th>text</th>\n",
       "      <th>clean_text</th>\n",
       "      <th>word_count</th>\n",
       "      <th>emotions</th>\n",
       "      <th>mistral_prompt</th>\n",
       "      <th>mistral_response</th>\n",
       "    </tr>\n",
       "  </thead>\n",
       "  <tbody>\n",
       "    <tr>\n",
       "      <th>0</th>\n",
       "      <td>1</td>\n",
       "      <td>Although I also REALLY enjoy Mi Familia (just ...</td>\n",
       "      <td>although i also really enjoy mi familia just d...</td>\n",
       "      <td>242</td>\n",
       "      <td>joy, admiration, optimism</td>\n",
       "      <td>[INST] A customer left us a 1-star review: 'al...</td>\n",
       "      <td>A customer left us a 1-star review: 'although ...</td>\n",
       "    </tr>\n",
       "    <tr>\n",
       "      <th>1</th>\n",
       "      <td>1</td>\n",
       "      <td>So in all fairness, the course was actually ve...</td>\n",
       "      <td>so in all fairness, the course was actually ve...</td>\n",
       "      <td>183</td>\n",
       "      <td>annoyance, neutral, disappointment</td>\n",
       "      <td>[INST] A customer left us a 1-star review: 'so...</td>\n",
       "      <td>A customer left us a 1-star review: 'so in all...</td>\n",
       "    </tr>\n",
       "    <tr>\n",
       "      <th>2</th>\n",
       "      <td>1</td>\n",
       "      <td>I tried to go here last night; party of five. ...</td>\n",
       "      <td>i tried to go here last night party of five. t...</td>\n",
       "      <td>67</td>\n",
       "      <td>joy, admiration, approval</td>\n",
       "      <td>[INST] A customer left us a 1-star review: 'i ...</td>\n",
       "      <td>A customer left us a 1-star review: 'i tried t...</td>\n",
       "    </tr>\n",
       "    <tr>\n",
       "      <th>3</th>\n",
       "      <td>1</td>\n",
       "      <td>Service was super slow and the food was terrib...</td>\n",
       "      <td>service was super slow and the food was terrib...</td>\n",
       "      <td>75</td>\n",
       "      <td>disappointment, disapproval, annoyance</td>\n",
       "      <td>[INST] A customer left us a 1-star review: 'se...</td>\n",
       "      <td>A customer left us a 1-star review: 'service w...</td>\n",
       "    </tr>\n",
       "    <tr>\n",
       "      <th>4</th>\n",
       "      <td>1</td>\n",
       "      <td>The 8\\\" pizzas were fully cooked but the 14\\\" ...</td>\n",
       "      <td>the 8 pizzas were fully cooked but the 14 and ...</td>\n",
       "      <td>84</td>\n",
       "      <td>amusement, neutral, joy</td>\n",
       "      <td>[INST] A customer left us a 1-star review: 'th...</td>\n",
       "      <td>A customer left us a 1-star review: 'the 8 piz...</td>\n",
       "    </tr>\n",
       "  </tbody>\n",
       "</table>\n",
       "</div>"
      ],
      "text/plain": [
       "   label                                               text  \\\n",
       "0      1  Although I also REALLY enjoy Mi Familia (just ...   \n",
       "1      1  So in all fairness, the course was actually ve...   \n",
       "2      1  I tried to go here last night; party of five. ...   \n",
       "3      1  Service was super slow and the food was terrib...   \n",
       "4      1  The 8\\\" pizzas were fully cooked but the 14\\\" ...   \n",
       "\n",
       "                                          clean_text  word_count  \\\n",
       "0  although i also really enjoy mi familia just d...         242   \n",
       "1  so in all fairness, the course was actually ve...         183   \n",
       "2  i tried to go here last night party of five. t...          67   \n",
       "3  service was super slow and the food was terrib...          75   \n",
       "4  the 8 pizzas were fully cooked but the 14 and ...          84   \n",
       "\n",
       "                                 emotions  \\\n",
       "0               joy, admiration, optimism   \n",
       "1      annoyance, neutral, disappointment   \n",
       "2               joy, admiration, approval   \n",
       "3  disappointment, disapproval, annoyance   \n",
       "4                 amusement, neutral, joy   \n",
       "\n",
       "                                      mistral_prompt  \\\n",
       "0  [INST] A customer left us a 1-star review: 'al...   \n",
       "1  [INST] A customer left us a 1-star review: 'so...   \n",
       "2  [INST] A customer left us a 1-star review: 'i ...   \n",
       "3  [INST] A customer left us a 1-star review: 'se...   \n",
       "4  [INST] A customer left us a 1-star review: 'th...   \n",
       "\n",
       "                                    mistral_response  \n",
       "0  A customer left us a 1-star review: 'although ...  \n",
       "1  A customer left us a 1-star review: 'so in all...  \n",
       "2  A customer left us a 1-star review: 'i tried t...  \n",
       "3  A customer left us a 1-star review: 'service w...  \n",
       "4  A customer left us a 1-star review: 'the 8 piz...  "
      ]
     },
     "metadata": {},
     "output_type": "display_data"
    }
   ],
   "source": [
    "train15k.columns = ['label', 'text', 'clean_text', 'word_count', 'emotions', 'mistral_prompt', 'mistral_response']\n",
    "test3k.columns = ['label', 'text', 'clean_text', 'word_count', 'emotions', 'mistral_prompt', 'mistral_response']\n",
    "\n",
    "display(train15k.head())\n",
    "display(test3k.head())"
   ]
  },
  {
   "cell_type": "code",
   "execution_count": 21,
   "metadata": {},
   "outputs": [],
   "source": [
    "columns_drop = ['word_count']\n",
    "train15k.drop(columns=columns_drop, inplace=True)\n",
    "test3k.drop(columns=columns_drop, inplace=True)"
   ]
  },
  {
   "cell_type": "code",
   "execution_count": 22,
   "metadata": {},
   "outputs": [
    {
     "data": {
      "application/vnd.microsoft.datawrangler.viewer.v0+json": {
       "columns": [
        {
         "name": "index",
         "rawType": "int64",
         "type": "integer"
        },
        {
         "name": "label",
         "rawType": "int64",
         "type": "integer"
        },
        {
         "name": "text",
         "rawType": "object",
         "type": "string"
        },
        {
         "name": "clean_text",
         "rawType": "object",
         "type": "string"
        },
        {
         "name": "emotions",
         "rawType": "object",
         "type": "string"
        },
        {
         "name": "mistral_prompt",
         "rawType": "object",
         "type": "string"
        },
        {
         "name": "mistral_response",
         "rawType": "object",
         "type": "string"
        }
       ],
       "conversionMethod": "pd.DataFrame",
       "ref": "9cfdad22-ed60-4657-9412-1d2713173c7e",
       "rows": [
        [
         "0",
         "2",
         "The cashier told my husband that should he get change and the air machine just don't work don't come back in asking for a refund. This location the employees are uneducated on any kind of hospitality when having contact with human customers. I just don't care for employees who have a rude attitude. How do store owners proudly have a rude person as a cashier?  Well let's see how that will work out for them. ATTENTION all friends the people are rude at this location.",
         "the cashier told my husband that should he get change and the air machine just don't work don't come back in asking for a refund. this location the employees are uneducated on any kind of hospitality when having contact with human customers. i just don't care for employees who have a rude attitude. how do store owners proudly have a rude person as a cashier? well let's see how that will work out for them. attention all friends the people are rude at this location.",
         "annoyance, anger, neutral",
         "[INST] A customer left us a 2-star review: 'the cashier told my husband that should he get change and the air machine just don't work don't come back in asking for a refund. this location the employees are uneducated on any kind of hospitality when having contact with human customers. i just don't care for employees who have a rude attitude. how do store owners proudly have a rude person as a cashier? well let's see how that will work out for them. attention all friends the people are rude at this location.' The customer feels annoyance, anger, neutral. Concisely, how can we best improve our services for this customer's experience? [/INST]",
         "A customer left us a 2-star review: 'the cashier told my husband that should he get change and the air machine just don't work don't come back in asking for a refund. this location the employees are uneducated on any kind of hospitality when having contact with human customers. i just don't care for employees who have a rude attitude. how do store owners proudly have a rude person as a cashier? well let's see how that will work out for them. attention all friends the people are rude at this location.' The customer feels annoyance, anger, neutral. Concisely, how can we best improve our services for this customer's experience?  To improve the customer's experience and address their concerns, we can take the following steps:\n\n1. Acknowledge the issue: Respond to the review by acknowledging the customer's frustration and apologizing for the poor experience they had with our cashier.\n\n2. Investigate the incident: Speak with the cashier involved to understand the situation from their perspective and determine if there was a misunderstanding or if the cashier was indeed rude.\n\n3. Provide training: Offer additional training to the cashier on customer service skills, focusing on communication, empathy, and problem-solving."
        ],
        [
         "1",
         "2",
         "Here's what happened:\\n- We were suppose to be at the regular MGM.. so we pulled up, put our car in valet, got a bell boy to take our stuff.. and then we realized they gave us rooms at the Signature.  What a pain!!!!\\n- Then when we tried to check in we were suppose to have 2 rooms... but they couldn't find our other reservation (because we booked through an online travel company) so they only gave us one room!!!  \\n- The next day we had to spend at least an hour trying to get compensated for the room that we pre-paid for!  Finally they gave us back the money and also said they would give us $200 to spend on food and bev. \\n-  So, we ordered $158 in food that night... and tipped $30!  \\n- Then when I went to check out... they had all the room service charges and all the room charges on my card!!!  It was such a hassle to get them off!!!  In the end, they took off all charges but the $30 tip (which I was still mad about). \\n\\nThe rooms were super nice!  They had a nice kitchen and a nice view.  But, I do not consider it much of an upgrade from the MGM since one of the beds is a pull out couch.  \\n\\nAlso, we were there for a bachelorette party... and the bachelorette likes to gamble.. so it probably would have been more ideal to stay in the casino.  \\n\\nOverall, the condo was VERY nice... but the customer service was totally disorganized and bad.  Numerous times the Signature blamed their poor service on the MGM and said they couldn't do anything about our problems since we booked through the MGM.",
         "here's what happened n we were suppose to be at the regular mgm.. so we pulled up, put our car in valet, got a bell boy to take our stuff.. and then we realized they gave us rooms at the signature. what a pain!!!! n then when we tried to check in we were suppose to have 2 rooms... but they couldn't find our other reservation because we booked through an online travel company so they only gave us one room!!! n the next day we had to spend at least an hour trying to get compensated for the room that we pre paid for! finally they gave us back the money and also said they would give us 200 to spend on food and bev. n so, we ordered 158 in food that night... and tipped 30! n then when i went to check out... they had all the room service charges and all the room charges on my card!!! it was such a hassle to get them off!!! in the end, they took off all charges but the 30 tip which i was still mad about . n nthe rooms were super nice! they had a nice kitchen and a nice view. but, i do not consider it much of an upgrade from the mgm since one of the beds is a pull out couch. n nalso, we were there for a bachelorette party... and the bachelorette likes to gamble.. so it probably would have been more ideal to stay in the casino. n noverall, the condo was very nice... but the customer service was totally disorganized and bad. numerous times the signature blamed their poor service on the mgm and said they couldn't do anything about our problems since we booked through the mgm.",
         "realization, neutral, disappointment",
         "[INST] A customer left us a 2-star review: 'here's what happened n we were suppose to be at the regular mgm.. so we pulled up, put our car in valet, got a bell boy to take our stuff.. and then we realized they gave us rooms at the signature. what a pain!!!! n then when we tried to check in we were suppose to have 2 rooms... but they couldn't find our other reservation because we booked through an online travel company so they only gave us one room!!! n the next day we had to spend at least an hour trying to get compensated for the room that we pre paid for! finally they gave us back the money and also said they would give us 200 to spend on food and bev. n so, we ordered 158 in food that night... and tipped 30! n then when i went to check out... they had all the room service charges and all the room charges on my card!!! it was such a hassle to get them off!!! in the end, they took off all charges but the 30 tip which i was still mad about . n nthe rooms were super nice! they had a nice kitchen and a nice view. but, i do not consider it much of an upgrade from the mgm since one of the beds is a pull out couch. n nalso, we were there for a bachelorette party... and the bachelorette likes to gamble.. so it probably would have been more ideal to stay in the casino. n noverall, the condo was very nice... but the customer service was totally disorganized and bad. numerous times the signature blamed their poor service on the mgm and said they couldn't do anything about our problems since we booked through the mgm.' The customer feels realization, neutral, disappointment. Concisely, how can we best improve our services for this customer's experience? [/INST]",
         "A customer left us a 2-star review: 'here's what happened n we were suppose to be at the regular mgm.. so we pulled up, put our car in valet, got a bell boy to take our stuff.. and then we realized they gave us rooms at the signature. what a pain!!!! n then when we tried to check in we were suppose to have 2 rooms... but they couldn't find our other reservation because we booked through an online travel company so they only gave us one room!!! n the next day we had to spend at least an hour trying to get compensated for the room that we pre paid for! finally they gave us back the money and also said they would give us 200 to spend on food and bev. n so, we ordered 158 in food that night... and tipped 30! n then when i went to check out... they had all the room service charges and all the room charges on my card!!! it was such a hassle to get them off!!! in the end, they took off all charges but the 30 tip which i was still mad about . n nthe rooms were super nice! they had a nice kitchen and a nice view. but, i do not consider it much of an upgrade from the mgm since one of the beds is a pull out couch. n nalso, we were there for a bachelorette party... and the bachelorette likes to gamble.. so it probably would have been more ideal to stay in the casino. n noverall, the condo was very nice... but the customer service was totally disorganized and bad. numerous times the signature blamed their poor service on the mgm and said they couldn't do anything about our problems since we booked through the mgm.' The customer feels realization, neutral, disappointment. Concisely, how can we best improve our services for this customer's experience?  To improve the customer's experience, the following steps could be taken:\n\n1. Clear Communication: Ensure that the hotel staff clearly communicates the location of the rooms to the guests, especially when there is a change in the booking.\n\n2. Double-Check Reservations: Double-check all reservations, especially those made through online travel companies, to avoid any confusion or missing reservations.\n\n3. Streamline Check-in Process: Improve the check-in process to ensure that all reservations are accounted for and any issues are resolved promptly.\n\n4. Compensation: When issues arise, offer prompt and fair compensation to the customers."
        ],
        [
         "2",
         "2",
         "Went to this Fest today and admission is $12. There were 2 tiny stages where live entertainment was scheduled. There was a food truck, a catered \\\"Brazilian\\\" meal stand and some Lebanese food(???). The booths were boring and mainly were hawking insurance or travel or sports. There weren't any booths offering anything to do with Brazil. There were streamers in yellow and green and that was the extent of the decorations. The schedules were preprinted which was good...but it's not like there was anything to do other than eat, drink or watch the stage. And it was very hot outside. The portion that was supposed to be $8 of Brazilian food was small and cold. And there was only one line to order and one line to pick up. Seems like if this is the 5th annual event, there would be more attention to details. It was even hot inside the building and I really don't know what Jui jitsu has to do with Brazil. That country has such a rich culture, history and importance to the ecosystems of the world and all that was wasted at this \\\"festival.\\\" The good? Public parking was free.",
         "went to this fest today and admission is 12. there were 2 tiny stages where live entertainment was scheduled. there was a food truck, a catered brazilian meal stand and some lebanese food ??? . the booths were boring and mainly were hawking insurance or travel or sports. there weren't any booths offering anything to do with brazil. there were streamers in yellow and green and that was the extent of the decorations. the schedules were preprinted which was good...but it's not like there was anything to do other than eat, drink or watch the stage. and it was very hot outside. the portion that was supposed to be 8 of brazilian food was small and cold. and there was only one line to order and one line to pick up. seems like if this is the 5th annual event, there would be more attention to details. it was even hot inside the building and i really don't know what jui jitsu has to do with brazil. that country has such a rich culture, history and importance to the ecosystems of the world and all that was wasted at this festival. the good? public parking was free.",
         "neutral, disapproval, approval",
         "[INST] A customer left us a 2-star review: 'went to this fest today and admission is 12. there were 2 tiny stages where live entertainment was scheduled. there was a food truck, a catered brazilian meal stand and some lebanese food ??? . the booths were boring and mainly were hawking insurance or travel or sports. there weren't any booths offering anything to do with brazil. there were streamers in yellow and green and that was the extent of the decorations. the schedules were preprinted which was good...but it's not like there was anything to do other than eat, drink or watch the stage. and it was very hot outside. the portion that was supposed to be 8 of brazilian food was small and cold. and there was only one line to order and one line to pick up. seems like if this is the 5th annual event, there would be more attention to details. it was even hot inside the building and i really don't know what jui jitsu has to do with brazil. that country has such a rich culture, history and importance to the ecosystems of the world and all that was wasted at this festival. the good? public parking was free.' The customer feels neutral, disapproval, approval. Concisely, how can we best improve our services for this customer's experience? [/INST]",
         "A customer left us a 2-star review: 'went to this fest today and admission is 12. there were 2 tiny stages where live entertainment was scheduled. there was a food truck, a catered brazilian meal stand and some lebanese food ??? . the booths were boring and mainly were hawking insurance or travel or sports. there weren't any booths offering anything to do with brazil. there were streamers in yellow and green and that was the extent of the decorations. the schedules were preprinted which was good...but it's not like there was anything to do other than eat, drink or watch the stage. and it was very hot outside. the portion that was supposed to be 8 of brazilian food was small and cold. and there was only one line to order and one line to pick up. seems like if this is the 5th annual event, there would be more attention to details. it was even hot inside the building and i really don't know what jui jitsu has to do with brazil. that country has such a rich culture, history and importance to the ecosystems of the world and all that was wasted at this festival. the good? public parking was free.' The customer feels neutral, disapproval, approval. Concisely, how can we best improve our services for this customer's experience?  To improve the customer's experience, we can focus on the following areas:\n\n1. Expand and diversify entertainment: Offer a wider variety of live entertainment that better represents Brazil's rich culture, such as music, dance, and art performances.\n\n2. Improve food offerings: Offer more substantial and hot Brazilian food options, with multiple lines for ordering and picking up to reduce wait times.\n\n3. Enhance decorations: Increase the use of decorations that reflect Brazil's culture, history, and importance to the ecosystems of the world."
        ],
        [
         "3",
         "2",
         "went to check out this joint the other weekend when i was in vegas.  its certainly off the beaten path or strip for that matter...\\nwas it worth the extra travel time to get to the strip...that remains to be seen.  the place looks nice but it has an old casino type of feel...and not in a good sense.\\nso i may be back in vegas before year is out and if time permits...try to hit the golf course.\\nwe will see.....",
         "went to check out this joint the other weekend when i was in vegas. its certainly off the beaten path or strip for that matter... nwas it worth the extra travel time to get to the strip...that remains to be seen. the place looks nice but it has an old casino type of feel...and not in a good sense. nso i may be back in vegas before year is out and if time permits...try to hit the golf course. nwe will see.....",
         "admiration, approval, neutral",
         "[INST] A customer left us a 2-star review: 'went to check out this joint the other weekend when i was in vegas. its certainly off the beaten path or strip for that matter... nwas it worth the extra travel time to get to the strip...that remains to be seen. the place looks nice but it has an old casino type of feel...and not in a good sense. nso i may be back in vegas before year is out and if time permits...try to hit the golf course. nwe will see.....' The customer feels admiration, approval, neutral. Concisely, how can we best improve our services for this customer's experience? [/INST]",
         "A customer left us a 2-star review: 'went to check out this joint the other weekend when i was in vegas. its certainly off the beaten path or strip for that matter... nwas it worth the extra travel time to get to the strip...that remains to be seen. the place looks nice but it has an old casino type of feel...and not in a good sense. nso i may be back in vegas before year is out and if time permits...try to hit the golf course. nwe will see.....' The customer feels admiration, approval, neutral. Concisely, how can we best improve our services for this customer's experience?  To improve the customer's experience, we could focus on modernizing the ambiance of our establishment to make it less reminiscent of an old casino. This could involve updating the decor, improving the lighting, and potentially enhancing the overall cleanliness and maintenance of the venue. Additionally, we could consider offering incentives or promotions to make the extra travel time to reach our location more appealing, such as discounts on food, drinks, or activities. Lastly, ensuring excellent customer service and a welcoming atmosphere could help create a more positive impression and encourage repeat visits."
        ],
        [
         "4",
         "2",
         "A whole lot of meh. This store is in a horrible location and the store hasn't received the corporate refresh yet like the store down the road. Beyond that it's a dang Home Depot",
         "a whole lot of meh. this store is in a horrible location and the store hasn't received the corporate refresh yet like the store down the road. beyond that it's a dang home depot",
         "disappointment, sadness, fear",
         "[INST] A customer left us a 2-star review: 'a whole lot of meh. this store is in a horrible location and the store hasn't received the corporate refresh yet like the store down the road. beyond that it's a dang home depot' The customer feels disappointment, sadness, fear. Concisely, how can we best improve our services for this customer's experience? [/INST]",
         "A customer left us a 2-star review: 'a whole lot of meh. this store is in a horrible location and the store hasn't received the corporate refresh yet like the store down the road. beyond that it's a dang home depot' The customer feels disappointment, sadness, fear. Concisely, how can we best improve our services for this customer's experience?  To improve the customer's experience, we can address the following concerns:\n\n1. Location: Although we cannot change the physical location of the store, we can offer delivery services to make shopping more convenient for customers. We could also consider offering promotions or discounts for in-store pickup to encourage customers to visit our store.\n\n2. Corporate refresh: We can expedite the store refresh to ensure that it matches the corporate standards and provides a more appealing shopping environment.\n\n3. Competition with Home Depot: To differentiate ourselves from Home Depot, we can focus on offering unique products, exceptional customer service, and personalized shopping experiences that cater to our customers' specific needs."
        ]
       ],
       "shape": {
        "columns": 6,
        "rows": 5
       }
      },
      "text/html": [
       "<div>\n",
       "<style scoped>\n",
       "    .dataframe tbody tr th:only-of-type {\n",
       "        vertical-align: middle;\n",
       "    }\n",
       "\n",
       "    .dataframe tbody tr th {\n",
       "        vertical-align: top;\n",
       "    }\n",
       "\n",
       "    .dataframe thead th {\n",
       "        text-align: right;\n",
       "    }\n",
       "</style>\n",
       "<table border=\"1\" class=\"dataframe\">\n",
       "  <thead>\n",
       "    <tr style=\"text-align: right;\">\n",
       "      <th></th>\n",
       "      <th>label</th>\n",
       "      <th>text</th>\n",
       "      <th>clean_text</th>\n",
       "      <th>emotions</th>\n",
       "      <th>mistral_prompt</th>\n",
       "      <th>mistral_response</th>\n",
       "    </tr>\n",
       "  </thead>\n",
       "  <tbody>\n",
       "    <tr>\n",
       "      <th>0</th>\n",
       "      <td>2</td>\n",
       "      <td>The cashier told my husband that should he get...</td>\n",
       "      <td>the cashier told my husband that should he get...</td>\n",
       "      <td>annoyance, anger, neutral</td>\n",
       "      <td>[INST] A customer left us a 2-star review: 'th...</td>\n",
       "      <td>A customer left us a 2-star review: 'the cashi...</td>\n",
       "    </tr>\n",
       "    <tr>\n",
       "      <th>1</th>\n",
       "      <td>2</td>\n",
       "      <td>Here's what happened:\\n- We were suppose to be...</td>\n",
       "      <td>here's what happened n we were suppose to be a...</td>\n",
       "      <td>realization, neutral, disappointment</td>\n",
       "      <td>[INST] A customer left us a 2-star review: 'he...</td>\n",
       "      <td>A customer left us a 2-star review: 'here's wh...</td>\n",
       "    </tr>\n",
       "    <tr>\n",
       "      <th>2</th>\n",
       "      <td>2</td>\n",
       "      <td>Went to this Fest today and admission is $12. ...</td>\n",
       "      <td>went to this fest today and admission is 12. t...</td>\n",
       "      <td>neutral, disapproval, approval</td>\n",
       "      <td>[INST] A customer left us a 2-star review: 'we...</td>\n",
       "      <td>A customer left us a 2-star review: 'went to t...</td>\n",
       "    </tr>\n",
       "    <tr>\n",
       "      <th>3</th>\n",
       "      <td>2</td>\n",
       "      <td>went to check out this joint the other weekend...</td>\n",
       "      <td>went to check out this joint the other weekend...</td>\n",
       "      <td>admiration, approval, neutral</td>\n",
       "      <td>[INST] A customer left us a 2-star review: 'we...</td>\n",
       "      <td>A customer left us a 2-star review: 'went to c...</td>\n",
       "    </tr>\n",
       "    <tr>\n",
       "      <th>4</th>\n",
       "      <td>2</td>\n",
       "      <td>A whole lot of meh. This store is in a horribl...</td>\n",
       "      <td>a whole lot of meh. this store is in a horribl...</td>\n",
       "      <td>disappointment, sadness, fear</td>\n",
       "      <td>[INST] A customer left us a 2-star review: 'a ...</td>\n",
       "      <td>A customer left us a 2-star review: 'a whole l...</td>\n",
       "    </tr>\n",
       "  </tbody>\n",
       "</table>\n",
       "</div>"
      ],
      "text/plain": [
       "   label                                               text  \\\n",
       "0      2  The cashier told my husband that should he get...   \n",
       "1      2  Here's what happened:\\n- We were suppose to be...   \n",
       "2      2  Went to this Fest today and admission is $12. ...   \n",
       "3      2  went to check out this joint the other weekend...   \n",
       "4      2  A whole lot of meh. This store is in a horribl...   \n",
       "\n",
       "                                          clean_text  \\\n",
       "0  the cashier told my husband that should he get...   \n",
       "1  here's what happened n we were suppose to be a...   \n",
       "2  went to this fest today and admission is 12. t...   \n",
       "3  went to check out this joint the other weekend...   \n",
       "4  a whole lot of meh. this store is in a horribl...   \n",
       "\n",
       "                               emotions  \\\n",
       "0             annoyance, anger, neutral   \n",
       "1  realization, neutral, disappointment   \n",
       "2        neutral, disapproval, approval   \n",
       "3         admiration, approval, neutral   \n",
       "4         disappointment, sadness, fear   \n",
       "\n",
       "                                      mistral_prompt  \\\n",
       "0  [INST] A customer left us a 2-star review: 'th...   \n",
       "1  [INST] A customer left us a 2-star review: 'he...   \n",
       "2  [INST] A customer left us a 2-star review: 'we...   \n",
       "3  [INST] A customer left us a 2-star review: 'we...   \n",
       "4  [INST] A customer left us a 2-star review: 'a ...   \n",
       "\n",
       "                                    mistral_response  \n",
       "0  A customer left us a 2-star review: 'the cashi...  \n",
       "1  A customer left us a 2-star review: 'here's wh...  \n",
       "2  A customer left us a 2-star review: 'went to t...  \n",
       "3  A customer left us a 2-star review: 'went to c...  \n",
       "4  A customer left us a 2-star review: 'a whole l...  "
      ]
     },
     "metadata": {},
     "output_type": "display_data"
    },
    {
     "data": {
      "application/vnd.microsoft.datawrangler.viewer.v0+json": {
       "columns": [
        {
         "name": "index",
         "rawType": "int64",
         "type": "integer"
        },
        {
         "name": "label",
         "rawType": "int64",
         "type": "integer"
        },
        {
         "name": "text",
         "rawType": "object",
         "type": "string"
        },
        {
         "name": "clean_text",
         "rawType": "object",
         "type": "string"
        },
        {
         "name": "emotions",
         "rawType": "object",
         "type": "string"
        },
        {
         "name": "mistral_prompt",
         "rawType": "object",
         "type": "string"
        },
        {
         "name": "mistral_response",
         "rawType": "object",
         "type": "string"
        }
       ],
       "conversionMethod": "pd.DataFrame",
       "ref": "5807b1f7-cbf1-436f-9084-7a29fcb95e18",
       "rows": [
        [
         "0",
         "1",
         "Although I also REALLY enjoy Mi Familia (just down the road, literally), I really hope BOTH restaurants succeed. This Roberto's have a drive thru and is open 24hrs which is always nice when looking for something at any hour.\\n\\nService here was good, food was yummy as always!\\nRestaurant was clean inside and out (always a big deal for me, after all-they ARE preparing our food) \\n\\nThe only reason it is 3 stars and not 4 is their phone service: i've called 3 different times now (we've been eating out a lot lately) and one time the phone was answered in Spanish, so I hung up. The next time was ok and the last (3rd) time was 'Hello?'-phone skills are every bit as important as anything else. If you're rude to me (as they were) then i'm going to go somewhere else (as i said, Mi Familia is just down the road). Please, Thank You, You're Welcome: theseshould be standard on every phone call. \\n\\nDon't act like i'm inconveniencing you when ordering...\\n\\nUpdate (down grade from 3 stars): I went to pickup my order (\\\"Ready in 10 minutes\\\", then she hung up) 15 minutes later and it wasn't even started. Today my neighbor and I both have food poisoning-stay away from the chicken AND do yourself a favor- go down the road to Mi Familia. Nicer people, family owned, and quality food.",
         "although i also really enjoy mi familia just down the road, literally , i really hope both restaurants succeed. this roberto's have a drive thru and is open 24hrs which is always nice when looking for something at any hour. n nservice here was good, food was yummy as always! nrestaurant was clean inside and out always a big deal for me, after all they are preparing our food n nthe only reason it is 3 stars and not 4 is their phone service i've called 3 different times now we've been eating out a lot lately and one time the phone was answered in spanish, so i hung up. the next time was ok and the last 3rd time was 'hello?' phone skills are every bit as important as anything else. if you're rude to me as they were then i'm going to go somewhere else as i said, mi familia is just down the road . please, thank you, you're welcome theseshould be standard on every phone call. n ndon't act like i'm inconveniencing you when ordering... n nupdate down grade from 3 stars i went to pickup my order ready in 10 minutes , then she hung up 15 minutes later and it wasn't even started. today my neighbor and i both have food poisoning stay away from the chicken and do yourself a favor go down the road to mi familia. nicer people, family owned, and quality food.",
         "joy, admiration, optimism",
         "[INST] A customer left us a 1-star review: 'although i also really enjoy mi familia just down the road, literally , i really hope both restaurants succeed. this roberto's have a drive thru and is open 24hrs which is always nice when looking for something at any hour. n nservice here was good, food was yummy as always! nrestaurant was clean inside and out always a big deal for me, after all they are preparing our food n nthe only reason it is 3 stars and not 4 is their phone service i've called 3 different times now we've been eating out a lot lately and one time the phone was answered in spanish, so i hung up. the next time was ok and the last 3rd time was 'hello?' phone skills are every bit as important as anything else. if you're rude to me as they were then i'm going to go somewhere else as i said, mi familia is just down the road . please, thank you, you're welcome theseshould be standard on every phone call. n ndon't act like i'm inconveniencing you when ordering... n nupdate down grade from 3 stars i went to pickup my order ready in 10 minutes , then she hung up 15 minutes later and it wasn't even started. today my neighbor and i both have food poisoning stay away from the chicken and do yourself a favor go down the road to mi familia. nicer people, family owned, and quality food.' The customer feels joy, admiration, optimism. Concisely, how can we best improve our services for this customer's experience? [/INST]",
         "A customer left us a 1-star review: 'although i also really enjoy mi familia just down the road, literally , i really hope both restaurants succeed. this roberto's have a drive thru and is open 24hrs which is always nice when looking for something at any hour. n nservice here was good, food was yummy as always! nrestaurant was clean inside and out always a big deal for me, after all they are preparing our food n nthe only reason it is 3 stars and not 4 is their phone service i've called 3 different times now we've been eating out a lot lately and one time the phone was answered in spanish, so i hung up. the next time was ok and the last 3rd time was 'hello?' phone skills are every bit as important as anything else. if you're rude to me as they were then i'm going to go somewhere else as i said, mi familia is just down the road . please, thank you, you're welcome theseshould be standard on every phone call. n ndon't act like i'm inconveniencing you when ordering... n nupdate down grade from 3 stars i went to pickup my order ready in 10 minutes , then she hung up 15 minutes later and it wasn't even started. today my neighbor and i both have food poisoning stay away from the chicken and do yourself a favor go down the road to mi familia. nicer people, family owned, and quality food.' The customer feels joy, admiration, optimism. Concisely, how can we best improve our services for this customer's experience?  To improve the customer's experience, we can focus on the following areas:\n\n1. Phone etiquette: Train staff to answer calls professionally, with a friendly and courteous tone. Standard phrases such as \"please,\" \"thank you,\" and \"you're welcome\" should be used consistently.\n\n2. Multilingual support: Ensure that staff can communicate effectively with customers who speak languages other than English. Providing clear instructions on how to switch languages or offering bilingual staff can help improve the customer experience.\n\n3. Order accuracy and timeliness: Improve the efficiency of the order process to ensure that orders are prepared and ready for pickup as promised."
        ],
        [
         "1",
         "1",
         "So in all fairness, the course was actually very nice, but the rating is for the staff at the course.  I was playing with several friends who were new to golf, hence a par 3 executive course.  We were a slow going group, but we offered several times to let the twosome behind us play through.  They said they were fine to play behind us and were entertained by us.  All was good, and the course was nice for a par 3.  But the course marshall was an idiot.  On the 17th hole (read that again....the 17th hole), he rides up in his cart, actually picks up one of our balls in play from our tee shots, and rides up to our group and says we need to observe rate of play.  I told him it's the 17th hole, we've already teed off, so really, not a lot we can do at that point.  He was a jerk and gave us attitude.  If he had actually done his job he would have talked to us about the 5th hole. What a jerk.",
         "so in all fairness, the course was actually very nice, but the rating is for the staff at the course. i was playing with several friends who were new to golf, hence a par 3 executive course. we were a slow going group, but we offered several times to let the twosome behind us play through. they said they were fine to play behind us and were entertained by us. all was good, and the course was nice for a par 3. but the course marshall was an idiot. on the 17th hole read that again....the 17th hole , he rides up in his cart, actually picks up one of our balls in play from our tee shots, and rides up to our group and says we need to observe rate of play. i told him it's the 17th hole, we've already teed off, so really, not a lot we can do at that point. he was a jerk and gave us attitude. if he had actually done his job he would have talked to us about the 5th hole. what a jerk.",
         "annoyance, neutral, disappointment",
         "[INST] A customer left us a 1-star review: 'so in all fairness, the course was actually very nice, but the rating is for the staff at the course. i was playing with several friends who were new to golf, hence a par 3 executive course. we were a slow going group, but we offered several times to let the twosome behind us play through. they said they were fine to play behind us and were entertained by us. all was good, and the course was nice for a par 3. but the course marshall was an idiot. on the 17th hole read that again....the 17th hole , he rides up in his cart, actually picks up one of our balls in play from our tee shots, and rides up to our group and says we need to observe rate of play. i told him it's the 17th hole, we've already teed off, so really, not a lot we can do at that point. he was a jerk and gave us attitude. if he had actually done his job he would have talked to us about the 5th hole. what a jerk.' The customer feels annoyance, neutral, disappointment. Concisely, how can we best improve our services for this customer's experience? [/INST]",
         "A customer left us a 1-star review: 'so in all fairness, the course was actually very nice, but the rating is for the staff at the course. i was playing with several friends who were new to golf, hence a par 3 executive course. we were a slow going group, but we offered several times to let the twosome behind us play through. they said they were fine to play behind us and were entertained by us. all was good, and the course was nice for a par 3. but the course marshall was an idiot. on the 17th hole read that again....the 17th hole , he rides up in his cart, actually picks up one of our balls in play from our tee shots, and rides up to our group and says we need to observe rate of play. i told him it's the 17th hole, we've already teed off, so really, not a lot we can do at that point. he was a jerk and gave us attitude. if he had actually done his job he would have talked to us about the 5th hole. what a jerk.' The customer feels annoyance, neutral, disappointment. Concisely, how can we best improve our services for this customer's experience?  To improve the customer's experience, the following steps could be taken:\n\n1. Staff Training: Provide training to staff members, particularly course marshalls, on how to communicate effectively with customers, especially when addressing rate of play issues. Emphasize the importance of patience, understanding, and diplomacy.\n\n2. Clear Communication: Implement a system for communicating rate of play issues more effectively. Instead of approaching the group on the 17th hole, the marshall could have communicated with the group earlier about their pace and offered suggestions for improvement."
        ],
        [
         "2",
         "1",
         "I tried to go here last night; party of five.  The hostess told us that it would be an hour and 45 minutes before we could be seated, even though there were only a couple of people waiting and there were a few tables inside and all but two tables outside were being used.\\n\\nNo problem, we went downstairs to RA and had a great meal.",
         "i tried to go here last night party of five. the hostess told us that it would be an hour and 45 minutes before we could be seated, even though there were only a couple of people waiting and there were a few tables inside and all but two tables outside were being used. n nno problem, we went downstairs to ra and had a great meal.",
         "joy, admiration, approval",
         "[INST] A customer left us a 1-star review: 'i tried to go here last night party of five. the hostess told us that it would be an hour and 45 minutes before we could be seated, even though there were only a couple of people waiting and there were a few tables inside and all but two tables outside were being used. n nno problem, we went downstairs to ra and had a great meal.' The customer feels joy, admiration, approval. Concisely, how can we best improve our services for this customer's experience? [/INST]",
         "A customer left us a 1-star review: 'i tried to go here last night party of five. the hostess told us that it would be an hour and 45 minutes before we could be seated, even though there were only a couple of people waiting and there were a few tables inside and all but two tables outside were being used. n nno problem, we went downstairs to ra and had a great meal.' The customer feels joy, admiration, approval. Concisely, how can we best improve our services for this customer's experience?  To improve the customer's experience, consider implementing the following strategies:\n\n1. Improve seating efficiency: Analyze seating patterns and staffing levels to reduce wait times for parties of five or more.\n\n2. Utilize technology: Implement a digital waitlist system to provide customers with more accurate wait times and reduce perceived wait times.\n\n3. Train staff on customer service: Ensure that staff are well-trained in providing excellent customer service, including communicating wait times effectively and empathetically.\n\n4. Offer incentives: Consider offering incentives, such as a discount or complimentary appetizer, to customers who are willing to wait for a table."
        ],
        [
         "3",
         "1",
         "Service was super slow and the food was terribly disappointing.\\nThe chicken and shrimp wok-fired dish read well on the menu but was a huge\\ndisappointment when it arrived to the table. The chicken was burnt, dry and super salty. The shrimp were over cooked and dry. The vegetables, well, they didn't look like veggies. Overcooked, over seasoned. This place is not worth the effort, keep driving and find some where else to dine.",
         "service was super slow and the food was terribly disappointing. nthe chicken and shrimp wok fired dish read well on the menu but was a huge ndisappointment when it arrived to the table. the chicken was burnt, dry and super salty. the shrimp were over cooked and dry. the vegetables, well, they didn't look like veggies. overcooked, over seasoned. this place is not worth the effort, keep driving and find some where else to dine.",
         "disappointment, disapproval, annoyance",
         "[INST] A customer left us a 1-star review: 'service was super slow and the food was terribly disappointing. nthe chicken and shrimp wok fired dish read well on the menu but was a huge ndisappointment when it arrived to the table. the chicken was burnt, dry and super salty. the shrimp were over cooked and dry. the vegetables, well, they didn't look like veggies. overcooked, over seasoned. this place is not worth the effort, keep driving and find some where else to dine.' The customer feels disappointment, disapproval, annoyance. Concisely, how can we best improve our services for this customer's experience? [/INST]",
         "A customer left us a 1-star review: 'service was super slow and the food was terribly disappointing. nthe chicken and shrimp wok fired dish read well on the menu but was a huge ndisappointment when it arrived to the table. the chicken was burnt, dry and super salty. the shrimp were over cooked and dry. the vegetables, well, they didn't look like veggies. overcooked, over seasoned. this place is not worth the effort, keep driving and find some where else to dine.' The customer feels disappointment, disapproval, annoyance. Concisely, how can we best improve our services for this customer's experience?  To improve the customer's experience, we can take the following steps:\n\n1. Acknowledge the issue: Respond to the review promptly, acknowledging the customer's disappointment with the service and food quality.\n\n2. Apologize sincerely: Express regret for the poor experience and assure the customer that we value their feedback and are committed to making things right.\n\n3. Offer a solution: Provide a genuine offer to rectify the situation, such as a complimentary meal or a discount on their next visit.\n\n4. Address the specific issues: Investigate the reasons for the slow service and poor food quality, and take immediate steps to address these issues."
        ],
        [
         "4",
         "1",
         "The 8\\\" pizzas were fully cooked but the 14\\\" and the 18\\\" pizzas came with uncooked dough. It was so doughy that someone actually said \\\"this slice actually held up!\\\" when his slice was slightly better. Boneless chicken wings felt slimy and dry at the same time. Actually, all the chicken felt dry. Mac and cheese tasted funny too. I believe the order was supposed to only take about 45 min but it took about 90 min.\\n\\nThe antipasto salad was decent tho.",
         "the 8 pizzas were fully cooked but the 14 and the 18 pizzas came with uncooked dough. it was so doughy that someone actually said this slice actually held up! when his slice was slightly better. boneless chicken wings felt slimy and dry at the same time. actually, all the chicken felt dry. mac and cheese tasted funny too. i believe the order was supposed to only take about 45 min but it took about 90 min. n nthe antipasto salad was decent tho.",
         "amusement, neutral, joy",
         "[INST] A customer left us a 1-star review: 'the 8 pizzas were fully cooked but the 14 and the 18 pizzas came with uncooked dough. it was so doughy that someone actually said this slice actually held up! when his slice was slightly better. boneless chicken wings felt slimy and dry at the same time. actually, all the chicken felt dry. mac and cheese tasted funny too. i believe the order was supposed to only take about 45 min but it took about 90 min. n nthe antipasto salad was decent tho.' The customer feels amusement, neutral, joy. Concisely, how can we best improve our services for this customer's experience? [/INST]",
         "A customer left us a 1-star review: 'the 8 pizzas were fully cooked but the 14 and the 18 pizzas came with uncooked dough. it was so doughy that someone actually said this slice actually held up! when his slice was slightly better. boneless chicken wings felt slimy and dry at the same time. actually, all the chicken felt dry. mac and cheese tasted funny too. i believe the order was supposed to only take about 45 min but it took about 90 min. n nthe antipasto salad was decent tho.' The customer feels amusement, neutral, joy. Concisely, how can we best improve our services for this customer's experience?  To improve the customer's experience, we can focus on the following areas:\n\n1. Quality Control: Ensure all pizzas are cooked evenly, with no uncooked dough.\n2. Food Preparation: Improve the quality of the boneless chicken wings, ensuring they are neither slimy nor dry.\n3. Taste: Address the issue of the mac and cheese tasting unusual. This could involve adjusting recipes or sourcing better ingredients.\n4. Timeliness: Reduce the delivery time for orders, aiming to have them ready within the estimated 45 minutes."
        ]
       ],
       "shape": {
        "columns": 6,
        "rows": 5
       }
      },
      "text/html": [
       "<div>\n",
       "<style scoped>\n",
       "    .dataframe tbody tr th:only-of-type {\n",
       "        vertical-align: middle;\n",
       "    }\n",
       "\n",
       "    .dataframe tbody tr th {\n",
       "        vertical-align: top;\n",
       "    }\n",
       "\n",
       "    .dataframe thead th {\n",
       "        text-align: right;\n",
       "    }\n",
       "</style>\n",
       "<table border=\"1\" class=\"dataframe\">\n",
       "  <thead>\n",
       "    <tr style=\"text-align: right;\">\n",
       "      <th></th>\n",
       "      <th>label</th>\n",
       "      <th>text</th>\n",
       "      <th>clean_text</th>\n",
       "      <th>emotions</th>\n",
       "      <th>mistral_prompt</th>\n",
       "      <th>mistral_response</th>\n",
       "    </tr>\n",
       "  </thead>\n",
       "  <tbody>\n",
       "    <tr>\n",
       "      <th>0</th>\n",
       "      <td>1</td>\n",
       "      <td>Although I also REALLY enjoy Mi Familia (just ...</td>\n",
       "      <td>although i also really enjoy mi familia just d...</td>\n",
       "      <td>joy, admiration, optimism</td>\n",
       "      <td>[INST] A customer left us a 1-star review: 'al...</td>\n",
       "      <td>A customer left us a 1-star review: 'although ...</td>\n",
       "    </tr>\n",
       "    <tr>\n",
       "      <th>1</th>\n",
       "      <td>1</td>\n",
       "      <td>So in all fairness, the course was actually ve...</td>\n",
       "      <td>so in all fairness, the course was actually ve...</td>\n",
       "      <td>annoyance, neutral, disappointment</td>\n",
       "      <td>[INST] A customer left us a 1-star review: 'so...</td>\n",
       "      <td>A customer left us a 1-star review: 'so in all...</td>\n",
       "    </tr>\n",
       "    <tr>\n",
       "      <th>2</th>\n",
       "      <td>1</td>\n",
       "      <td>I tried to go here last night; party of five. ...</td>\n",
       "      <td>i tried to go here last night party of five. t...</td>\n",
       "      <td>joy, admiration, approval</td>\n",
       "      <td>[INST] A customer left us a 1-star review: 'i ...</td>\n",
       "      <td>A customer left us a 1-star review: 'i tried t...</td>\n",
       "    </tr>\n",
       "    <tr>\n",
       "      <th>3</th>\n",
       "      <td>1</td>\n",
       "      <td>Service was super slow and the food was terrib...</td>\n",
       "      <td>service was super slow and the food was terrib...</td>\n",
       "      <td>disappointment, disapproval, annoyance</td>\n",
       "      <td>[INST] A customer left us a 1-star review: 'se...</td>\n",
       "      <td>A customer left us a 1-star review: 'service w...</td>\n",
       "    </tr>\n",
       "    <tr>\n",
       "      <th>4</th>\n",
       "      <td>1</td>\n",
       "      <td>The 8\\\" pizzas were fully cooked but the 14\\\" ...</td>\n",
       "      <td>the 8 pizzas were fully cooked but the 14 and ...</td>\n",
       "      <td>amusement, neutral, joy</td>\n",
       "      <td>[INST] A customer left us a 1-star review: 'th...</td>\n",
       "      <td>A customer left us a 1-star review: 'the 8 piz...</td>\n",
       "    </tr>\n",
       "  </tbody>\n",
       "</table>\n",
       "</div>"
      ],
      "text/plain": [
       "   label                                               text  \\\n",
       "0      1  Although I also REALLY enjoy Mi Familia (just ...   \n",
       "1      1  So in all fairness, the course was actually ve...   \n",
       "2      1  I tried to go here last night; party of five. ...   \n",
       "3      1  Service was super slow and the food was terrib...   \n",
       "4      1  The 8\\\" pizzas were fully cooked but the 14\\\" ...   \n",
       "\n",
       "                                          clean_text  \\\n",
       "0  although i also really enjoy mi familia just d...   \n",
       "1  so in all fairness, the course was actually ve...   \n",
       "2  i tried to go here last night party of five. t...   \n",
       "3  service was super slow and the food was terrib...   \n",
       "4  the 8 pizzas were fully cooked but the 14 and ...   \n",
       "\n",
       "                                 emotions  \\\n",
       "0               joy, admiration, optimism   \n",
       "1      annoyance, neutral, disappointment   \n",
       "2               joy, admiration, approval   \n",
       "3  disappointment, disapproval, annoyance   \n",
       "4                 amusement, neutral, joy   \n",
       "\n",
       "                                      mistral_prompt  \\\n",
       "0  [INST] A customer left us a 1-star review: 'al...   \n",
       "1  [INST] A customer left us a 1-star review: 'so...   \n",
       "2  [INST] A customer left us a 1-star review: 'i ...   \n",
       "3  [INST] A customer left us a 1-star review: 'se...   \n",
       "4  [INST] A customer left us a 1-star review: 'th...   \n",
       "\n",
       "                                    mistral_response  \n",
       "0  A customer left us a 1-star review: 'although ...  \n",
       "1  A customer left us a 1-star review: 'so in all...  \n",
       "2  A customer left us a 1-star review: 'i tried t...  \n",
       "3  A customer left us a 1-star review: 'service w...  \n",
       "4  A customer left us a 1-star review: 'the 8 piz...  "
      ]
     },
     "metadata": {},
     "output_type": "display_data"
    },
    {
     "data": {
      "text/plain": [
       "(None, None)"
      ]
     },
     "execution_count": 22,
     "metadata": {},
     "output_type": "execute_result"
    }
   ],
   "source": [
    "display(train15k.head()), display(test3k.head())"
   ]
  },
  {
   "cell_type": "code",
   "execution_count": null,
   "metadata": {},
   "outputs": [],
   "source": [
    "\"\"\"\n",
    "import datasets\n",
    "from datasets import Dataset\n",
    "\n",
    "train15k_dataset = Dataset.from_pandas(train15k)\n",
    "test3k_dataset = Dataset.from_pandas(test3k)\n",
    "\"\"\""
   ]
  },
  {
   "cell_type": "code",
   "execution_count": 12,
   "metadata": {},
   "outputs": [
    {
     "name": "stdout",
     "output_type": "stream",
     "text": [
      "Directory ../data/training_datasets/ created \n"
     ]
    }
   ],
   "source": [
    "# Create dir if it doesn't exist\n",
    "training_dataset = '../data/training_datasets/'\n",
    "\n",
    "if not os.path.exists(training_dataset):\n",
    "  os.makedirs(training_dataset)\n",
    "  print(f\"Directory {training_dataset} created \")"
   ]
  },
  {
   "cell_type": "code",
   "execution_count": 23,
   "metadata": {},
   "outputs": [
    {
     "name": "stdout",
     "output_type": "stream",
     "text": [
      "Files saved\n"
     ]
    }
   ],
   "source": [
    "train15k.to_csv(training_dataset + 'train15k.csv', index=False)\n",
    "test3k.to_csv(training_dataset + 'test3k.csv', index=False)\n",
    "\n",
    "if os.path.exists(training_dataset + 'train15k.csv') and os.path.exists(training_dataset + 'test3k.csv'):\n",
    "  print(\"Files saved\")"
   ]
  },
  {
   "cell_type": "code",
   "execution_count": null,
   "metadata": {},
   "outputs": [],
   "source": []
  }
 ],
 "metadata": {
  "kernelspec": {
   "display_name": "llmproject",
   "language": "python",
   "name": "python3"
  },
  "language_info": {
   "codemirror_mode": {
    "name": "ipython",
    "version": 3
   },
   "file_extension": ".py",
   "mimetype": "text/x-python",
   "name": "python",
   "nbconvert_exporter": "python",
   "pygments_lexer": "ipython3",
   "version": "3.10.8"
  }
 },
 "nbformat": 4,
 "nbformat_minor": 2
}
