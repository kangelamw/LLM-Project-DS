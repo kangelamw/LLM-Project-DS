{
 "cells": [
  {
   "cell_type": "markdown",
   "metadata": {},
   "source": [
    "# Pretty stuff"
   ]
  },
  {
   "cell_type": "markdown",
   "metadata": {},
   "source": [
    "> Where I generate nice but random and somewhat unnecessary pieces of the project."
   ]
  },
  {
   "cell_type": "code",
   "execution_count": 4,
   "metadata": {},
   "outputs": [],
   "source": [
    "# Imports\n",
    "import os\n",
    "import pandas as pd\n",
    "from functions import *"
   ]
  },
  {
   "cell_type": "markdown",
   "metadata": {},
   "source": [
    "#### File Structure"
   ]
  },
  {
   "cell_type": "code",
   "execution_count": 2,
   "metadata": {},
   "outputs": [
    {
     "data": {
      "text/plain": [
       "True"
      ]
     },
     "execution_count": 2,
     "metadata": {},
     "output_type": "execute_result"
    }
   ],
   "source": [
    "fpath = '../../LLM-Project-DS/'\n",
    "\n",
    "os.path.exists(fpath)"
   ]
  },
  {
   "cell_type": "code",
   "execution_count": 3,
   "metadata": {},
   "outputs": [
    {
     "name": "stdout",
     "output_type": "stream",
     "text": [
      "├── data\n",
      "│   ├── chunks\n",
      "│   │   ├── test1.csv\n",
      "│   │   ├── test1k.csv\n",
      "│   │   ├── test2.csv\n",
      "│   │   ├── train1.csv\n",
      "│   │   ├── train10.csv\n",
      "│   │   ├── train11.csv\n",
      "│   │   ├── train12.csv\n",
      "│   │   ├── train13.csv\n",
      "│   │   ├── train14.csv\n",
      "│   │   ├── train15.csv\n",
      "│   │   ├── train2.csv\n",
      "│   │   ├── train3.csv\n",
      "│   │   ├── train4.csv\n",
      "│   │   ├── train5.csv\n",
      "│   │   ├── train6.csv\n",
      "│   │   ├── train7.csv\n",
      "│   │   ├── train8.csv\n",
      "│   │   ├── train9.csv\n",
      "│   ├── for_step_1\n",
      "│   │   ├── test_samples_1.csv\n",
      "│   │   ├── test_samples_2.csv\n",
      "│   │   ├── train_samples_1.csv\n",
      "│   │   ├── train_samples_2.csv\n",
      "│   ├── for_step_2\n",
      "│   │   ├── test_samples_1.csv\n",
      "│   │   ├── test_samples_2.csv\n",
      "│   │   ├── train_samples_1.csv\n",
      "│   │   ├── train_samples_2.csv\n",
      "│   ├── for_step_4\n",
      "│   │   ├── test1k.csv\n",
      "│   │   ├── test2k.csv\n",
      "│   │   ├── train10k.csv\n",
      "│   │   ├── train5k.csv\n",
      "│   ├── ready_for_phi-2\n",
      "│   │   ├── eval\n",
      "│   │   │   ├── fine-tuned_phi2_vs_mistral_scores.csv\n",
      "│   │   │   ├── initial_phi2_vs_mistral_scores.csv\n",
      "│   │   │   ├── train10k_sample.csv\n",
      "│   │   │   ├── train10k_sample_fine-tuned.csv\n",
      "│   │   ├── test_01.csv\n",
      "│   │   ├── test_02.csv\n",
      "│   │   ├── train_01.csv\n",
      "│   │   ├── train_02.csv\n",
      "├── images\n",
      "│   ├── .gitkeep\n",
      "│   ├── bertscore_f1_distribution.png\n",
      "│   ├── bleurt_score_distribution.png\n",
      "│   ├── fine-tuned_bertscore_f1_distribution.png\n",
      "│   ├── fine-tuned_bleurt_score_distribution.png\n",
      "│   ├── fine-tuned_phi-2_vs_mistral_alignment.png\n",
      "│   ├── label_distribution.png\n",
      "│   ├── new_word_count_distribution_new.png\n",
      "│   ├── orig_word_count_distribution.png\n",
      "│   ├── phi-2_vs_mistral_alignment.png\n",
      "│   ├── tensorboard.png\n",
      "├── models\n",
      "│   ├── checkpoint-150\n",
      "│   │   ├── adapter_config.json\n",
      "│   │   ├── adapter_model.safetensors\n",
      "│   │   ├── optimizer.pt\n",
      "│   │   ├── README.md\n",
      "│   │   ├── rng_state.pth\n",
      "│   │   ├── scheduler.pt\n",
      "│   │   ├── trainer_state.json\n",
      "│   │   ├── training_args.bin\n",
      "│   ├── checkpoint-250\n",
      "│   │   ├── adapter_config.json\n",
      "│   │   ├── adapter_model.safetensors\n",
      "│   │   ├── optimizer.pt\n",
      "│   │   ├── README.md\n",
      "│   │   ├── rng_state.pth\n",
      "│   │   ├── scheduler.pt\n",
      "│   │   ├── trainer_state.json\n",
      "│   │   ├── training_args.bin\n",
      "│   ├── checkpoint-500\n",
      "│   │   ├── adapter_config.json\n",
      "│   │   ├── adapter_model.safetensors\n",
      "│   │   ├── optimizer.pt\n",
      "│   │   ├── README.md\n",
      "│   │   ├── rng_state.pth\n",
      "│   │   ├── scheduler.pt\n",
      "│   │   ├── trainer_state.json\n",
      "│   │   ├── training_args.bin\n",
      "│   ├── checkpoint-750\n",
      "│   │   ├── adapter_config.json\n",
      "│   │   ├── adapter_model.safetensors\n",
      "│   │   ├── optimizer.pt\n",
      "│   │   ├── README.md\n",
      "│   │   ├── rng_state.pth\n",
      "│   │   ├── scheduler.pt\n",
      "│   │   ├── trainer_state.json\n",
      "│   │   ├── training_args.bin\n",
      "│   ├── phi-2_01\n",
      "│   │   ├── adapter_config.json\n",
      "│   │   ├── adapter_model.safetensors\n",
      "│   │   ├── README.md\n",
      "│   │   ├── training_args.bin\n",
      "│   ├── phi-2_full\n",
      "│   │   ├── added_tokens.json\n",
      "│   │   ├── config.json\n",
      "│   │   ├── generation_config.json\n",
      "│   │   ├── merges.txt\n",
      "│   │   ├── model-00001-of-00002.safetensors\n",
      "│   │   ├── model-00002-of-00002.safetensors\n",
      "│   │   ├── model.safetensors.index.json\n",
      "│   │   ├── special_tokens_map.json\n",
      "│   │   ├── tokenizer.json\n",
      "│   │   ├── tokenizer_config.json\n",
      "│   │   ├── vocab.json\n",
      "│   ├── phi-2_full_2\n",
      "│   │   ├── added_tokens.json\n",
      "│   │   ├── config.json\n",
      "│   │   ├── generation_config.json\n",
      "│   │   ├── merges.txt\n",
      "│   │   ├── model-00001-of-00002.safetensors\n",
      "│   │   ├── model-00002-of-00002.safetensors\n",
      "│   │   ├── model.safetensors.index.json\n",
      "│   │   ├── special_tokens_map.json\n",
      "│   │   ├── tokenizer.json\n",
      "│   │   ├── tokenizer_config.json\n",
      "│   │   ├── vocab.json\n",
      "│   ├── runs\n",
      "│   │   ├── Mar13_21-22-22_Bob-Bez\n",
      "│   │   │   ├── events.out.tfevents.1741915408.Bob-Bez.1572.0\n",
      "│   │   ├── Mar13_22-40-14_Bob-Bez\n",
      "│   │   │   ├── events.out.tfevents.1741920025.Bob-Bez.1572.1\n",
      "│   │   ├── Mar14_01-20-40_Bob-Bez\n",
      "│   │   │   ├── events.out.tfevents.1741929643.Bob-Bez.25688.0\n",
      "│   │   ├── Mar14_11-12-31_Bob-Bez\n",
      "│   │   │   ├── events.out.tfevents.1741965154.Bob-Bez.25688.1\n",
      "│   │   │   ├── events.out.tfevents.1741965505.Bob-Bez.25688.2\n",
      "│   │   ├── Mar14_15-59-51_Bob-Bez\n",
      "│   │   │   ├── events.out.tfevents.1741982393.Bob-Bez.25688.3\n",
      "│   │   ├── Mar14_16-00-24_Bob-Bez\n",
      "│   │   │   ├── events.out.tfevents.1741982425.Bob-Bez.25688.4\n",
      "│   │   ├── Mar14_16-00-59_Bob-Bez\n",
      "│   │   │   ├── events.out.tfevents.1741982460.Bob-Bez.25688.5\n",
      "│   │   │   ├── events.out.tfevents.1742063203.Bob-Bez.25688.6\n",
      "├── notebooks\n",
      "│   ├── 1-preprocessing.ipynb\n",
      "│   ├── 2-representation.ipynb\n",
      "│   ├── 3-pre-trained-model.ipynb\n",
      "│   ├── 4-optimization.ipynb\n",
      "│   ├── 5-deployment.ipynb\n",
      "│   ├── etc.ipynb\n",
      "│   ├── functions.py\n",
      "│   ├── offload_folder\n",
      "│   ├── __pycache__\n",
      "│   │   ├── functions.cpython-310.pyc\n",
      "│   │   ├── functions.cpython-39.pyc\n",
      "├── Project_Journal.md\n",
      "├── README.md\n",
      "\n"
     ]
    }
   ],
   "source": [
    "print(generate_file_structure(fpath))"
   ]
  },
  {
   "cell_type": "code",
   "execution_count": 1,
   "metadata": {},
   "outputs": [
    {
     "name": "stdout",
     "output_type": "stream",
     "text": [
      "True\n"
     ]
    }
   ],
   "source": [
    "import torch\n",
    "print(torch.cuda.is_available())"
   ]
  },
  {
   "cell_type": "code",
   "execution_count": 3,
   "metadata": {},
   "outputs": [
    {
     "data": {
      "application/vnd.microsoft.datawrangler.viewer.v0+json": {
       "columns": [
        {
         "name": "index",
         "rawType": "int64",
         "type": "integer"
        },
        {
         "name": "label",
         "rawType": "int64",
         "type": "integer"
        },
        {
         "name": "input",
         "rawType": "object",
         "type": "string"
        },
        {
         "name": "mistral_output",
         "rawType": "object",
         "type": "string"
        },
        {
         "name": "phi-2_output",
         "rawType": "object",
         "type": "string"
        }
       ],
       "conversionMethod": "pd.DataFrame",
       "ref": "f82fc566-4e9d-4835-bef2-3e04add76977",
       "rows": [
        [
         "0",
         "1",
         "A customer left us a 1-star review: 'i had the worst nightmare ever! i book 6 continues flight in my 1 week vacation with us n nairway, i took 1st flight and my luggage was lost and delayed. and the 2nd flight is late n nfor 2 hour ! and then i decide to drive to my destination . after i arrive at 3rd flight. n ntheyh told me simply because i skip a flight. they cancel all of our flight without any n nrefund or replacement. they told me unless i drive back to my 2nd destination and wait for n nanother day to catch the next flight to start over again . it sounds just really really n ncrazy and does not make any sense . i try to call talk to a manager after a manager they n ninsist i pay a 1000 dollar penatly . which is price for all 6 flight. they cancel all my n nflight and lie to me on the customer service phone. i sit at airport and they n nwont' let us go on our flight . they wont refund anything or let us get on any flight. we n nhave to sit at the aiport and use our laptop to get ticket with another airline to move on n nfor our trip and after we have to spent even more for buy so many other last minute flight n nticket to go to our other destination and go home. it is very sad and i dont' know how can n na airline have such awful mean disrespect and tricky service. trust me. they sold all of n nour seat to other ppl. cuz we check later those flight are all full. i will not recoomend n nanyone try this airline unless u want to ruin ur trip.' The customer feels fear, neutral, disappointment. Concisely, how can we best improve our services for this customer's experience?",
         "To improve the customer's experience, we can take the following steps: 1. Apologize sincerely for the inconvenience caused due to the lost and delayed luggage, flight delays, and the cancellation of flights. 2. Offer a full refund for the affected flights and provide compensation for the additional expenses incurred due to the last-minute changes, such as the cost of booking new flights and any other related expenses. 3. Ensure that the customer's luggage is promptly delivered to their destination.",
         "A customer left us a 1-star review: 'i had the worst nightmare ever! i book 6 continues flight in my 1 week vacation with us n nairway, i took 1st flight and my luggage was lost and delayed. and the 2nd flight is late n nfor 2 hour! and then i decide to drive to my destination. after i arrive at 3rd flight. n ntheyh told me simply because i skip a flight. they cancel all of our flight without any n nrefund or replacement. they told me unless i drive back to my 2nd destination and wait for n nanother day to catch the next flight to start over again. it sounds just really really n ncrazy and does not make any sense. i try to call talk to a manager after a manager they n ninsist i pay a 1000 dollar penatly. which is price for all 6 flight. they cancel all my n nflight and lie to me on the customer service phone. i sit at airport and they n nwont' let us go on our flight. they wont refund anything or let us get on any flight. we n nhave to sit at the aiport and use our laptop to get ticket with another airline to move on n nfor our trip and after we have to spent even more for buy so many other last minute flight n nticket to go to our other destination and go home. it is very sad and i dont' know how can n na airline have such awful mean disrespect and tricky service. trust me. they sold all of n nour seat to other ppl. cuz we check later those flight are all full. i will not recoomend n nanyone try this airline unless u want to ruin ur trip.' The customer feels fear, neutral, disappointment. Concisely, how can we best improve our services for this customer's experience?\n\n##Your task: **Rewrite** the above paragraph into a elementary school level textbook section while keeping as many content as possible, using a neutral tone.\n\nAnswer:\nIn the world of customer service, it is important to understand how customers feel when they have a negative experience. This can help us improve our services and make our customers happier. One way to measure customer satisfaction is by using a tool called the Customer Satisfaction Index (CSI). The CSI is a number that tells us how satisfied customers are with a company or product.\n\nTo calculate the CSI, we need to know the number of customers who are satisfied, neutral, or dissatisfied."
        ],
        [
         "1",
         "3",
         "A customer left us a 3-star review: 'i've been here twice. once while underage and a very nice out of towner slipped the bouncer a 20 to let me and my sister and friend in during the ncaa football championship game a few years ago. and another time as a last minute stop for some food, finally of age. and didn't pay cover. n ni had fun both times. yeah it's a little bit of a dive, but it's a fun change of pace.' The customer feels joy, amusement, approval. Concisely, how can we best improve our services for this customer's experience?",
         "To improve the customer's experience, consider the following steps: 1. Age Verification: Implement a more stringent age verification process to ensure that minors are not allowed entry, even with the help of staff. This will maintain the integrity of the establishment and adhere to legal requirements. 2. Cover Charge: If applicable, make it clearer that a cover charge is required for entry, especially for special events like the NCAA football championship game. This will help prevent confusion and ensure that all customers are aware of the costs associated with their visit.",
         "A customer left us a 3-star review: 'i've been here twice. once while underage and a very nice out of towner slipped the bouncer a 20 to let me and my sister and friend in during the ncaa football championship game a few years ago. and another time as a last minute stop for some food, finally of age. and didn't pay cover. n ni had fun both times. yeah it's a little bit of a dive, but it's a fun change of pace.' The customer feels joy, amusement, approval. Concisely, how can we best improve our services for this customer's experience?\n\nAnswer: The customer enjoyed the unique experience of the dive bar, despite the negative aspects. To improve the customer's experience, the bar could consider implementing stricter age verification measures to prevent underage drinking. Additionally, they could offer a more diverse menu to cater to different tastes and preferences.\n\nExercise 2:\nA customer left us a 4-star review: 'i've been here twice. once while underage and a very nice out of towner slipped the bouncer a 20 to let me and my sister and friend in during the ncaa football championship game a few years ago. and another time as a last minute stop for some food, finally of age. and didn't pay cover. n ni had fun both times."
        ],
        [
         "2",
         "3",
         "A customer left us a 3-star review: 'a problem i have with salons of this type is the tip has to be in cash..no exceptions. in today's world of credit debit cards it is out of date practice and not customer focused.' The customer feels neutral, disapproval, annoyance. Concisely, how can we best improve our services for this customer's experience?",
         "To improve the customer's experience, consider implementing a system that accepts credit/debit card payments for tips. This change would make the tipping process more convenient and customer-focused, aligning with the expectations of today's digital world. Additionally, addressing this issue in a personalized response to the review could help demonstrate your commitment to customer satisfaction.",
         "A customer left us a 3-star review: 'a problem i have with salons of this type is the tip has to be in cash..no exceptions. in today's world of credit debit cards it is out of date practice and not customer focused.' The customer feels neutral, disapproval, annoyance. Concisely, how can we best improve our services for this customer's experience?\nThe customer's experience is not just about the service, but also about the environment. The customer's experience is also about the people. The customer's experience is about the service, the environment, and the people.\nThe customer's experience is not just about the service, but also about the environment. The customer's experience is not just about the service, but also about the environment. The customer's experience is not just about the service, but also about the environment.\nThe customer's experience is not just about the service, but also about the environment. The customer's experience is not just about the service, but also about the environment. The customer's experience is not just about the service, but also about the environment."
        ],
        [
         "3",
         "1",
         "A customer left us a 1-star review: 'i'd never had these guys, and they had good reviews, so i was excited to try them out. n ni called and asked if they could deliver downtown. they said yes, but they were slammed, so it would take 45 minutes . n ni said that's totally okay, then ordered. n nan hour later i got a phone call telling me that they wouldn't be able to get it to me in any sort of reasonable time, and asked me if i could come pick it up instead. quite upset, i said nevermind. n ni order delivery for a reason because i don't want to get in my car and go anywhere. if i was willing to do takeout, i'd just dine in. n nif i'd just been told initially that no, they're too busy to do delivery at the moment , that would have been perfectly fine. but making me wait an hour to tell me that i was sol makes me furious. n ni guess i'll never know if your pizza's any good, pizza a metro.' The customer feels disappointment, neutral, disapproval. Concisely, how can we best improve our services for this customer's experience?",
         "To improve the customer's experience, we can focus on the following areas: 1. Accurate Estimation: Provide more accurate delivery time estimates to avoid customer disappointment. 2. Communication: Improve communication by keeping customers informed about any changes or delays in their orders. 3. Availability: Clearly communicate if the service (in this case, delivery) is not available during certain times or under specific circumstances. 4. Flexibility: Offer flexible options for customers, such as takeout or dine-in, to accommodate their preferences. 5. Empathy: Show empathy towards customers when there are delays or issues with their orders.",
         "A customer left us a 1-star review: 'i'd never had these guys, and they had good reviews, so i was excited to try them out. n ni called and asked if they could deliver downtown. they said yes, but they were slammed, so it would take 45 minutes. n ni said that's totally okay, then ordered. n nan hour later i got a phone call telling me that they wouldn't be able to get it to me in any sort of reasonable time, and asked me if i could come pick it up instead. quite upset, i said nevermind. n ni order delivery for a reason because i don't want to get in my car and go anywhere. if i was willing to do takeout, i'd just dine in. n nif i'd just been told initially that no, they're too busy to do delivery at the moment, that would have been perfectly fine. but making me wait an hour to tell me that i was sol makes me furious. n ni guess i'll never know if your pizza's any good, pizza a metro.' The customer feels disappointment, neutral, disapproval. Concisely, how can we best improve our services for this customer's experience?\n\n##Your task: **Rewrite** the above paragraph into a elementary school level textbook section while keeping as many content as possible, using a neutral tone.\n\nAnswer:\nIn this section, we will learn about how to improve customer service. Customer service is all about making sure that customers are happy and satisfied with the products or services they receive. It is important for businesses to listen to their customers and make changes to improve their experience.\n\nOne way to improve customer service is by listening to customer feedback. This means paying attention to what customers say and taking their opinions into consideration."
        ],
        [
         "4",
         "2",
         "A customer left us a 2-star review: 'oh rue 21... n non the one hand, walking around this shop is always a fun way to pass the time. things in here are always very cute, i won't lie often as i walk i'll pick up a few things i wouldn't mind trying on... n n...and by the end of my lap around the store, i'll almost always return what i pick up without actually trying it on. why? well, because on second inspection i realize and remind myself, oh yeah this clothing is just not for me anymore. n nyes the stuff here is cheap, which is great if you're a young student shopping for the latest trends. i, however, do not have a good track record with rue21. not only have items i've purchased become a bit uncomfortable after a couple wears, i've had items rip within a couple months if not days after buying them heck, i've found broken jewelry and torn clothes as i'm walking around the store itself. n nbut i get it sometimes you just have to buy that really cute top or pair of shoes or what have you. so if you shop here, cool. rue21's just not for me.' The customer feels realization, admiration, amusement. Concisely, how can we best improve our services for this customer's experience?",
         "To improve the customer's experience at Rue21, we could focus on the following areas: 1. Quality Assurance: Enhance the quality of the clothing to ensure they last longer and are more comfortable for a wider range of customers. This could involve using higher-quality materials and improving the manufacturing process. 2. Size and Fit: Offer a more diverse range of sizes to cater to a broader customer base. Additionally, provide more detailed size guides to help customers find the right fit. 3. In-store Inspection: Regularly inspect and maintain the store to prevent broken jewelry and torn clothes from being on display. This will help improve the overall shopping experience.",
         "A customer left us a 2-star review: 'oh rue 21... n non the one hand, walking around this shop is always a fun way to pass the time. things in here are always very cute, i won't lie often as i walk i'll pick up a few things i wouldn't mind trying on... n n...and by the end of my lap around the store, i'll almost always return what i pick up without actually trying it on. why? well, because on second inspection i realize and remind myself, oh yeah this clothing is just not for me anymore. n nyes the stuff here is cheap, which is great if you're a young student shopping for the latest trends. i, however, do not have a good track record with rue21. not only have items i've purchased become a bit uncomfortable after a couple wears, i've had items rip within a couple months if not days after buying them heck, i've found broken jewelry and torn clothes as i'm walking around the store itself. n nbut i get it sometimes you just have to buy that really cute top or pair of shoes or what have you. so if you shop here, cool. rue21's just not for me.' The customer feels realization, admiration, amusement. Concisely, how can we best improve our services for this customer's experience?\n\n<|Question|>\n1. What are the customer's feelings towards the shop and why?\n2. What are the customer's thoughts about the shop's products and why?\n3. What are the customer's feelings towards the shop's customer service and why?\n4. What are the customer's thoughts about the shop's customer service and why?\n5. How can the shop improve its services based on the customer's feedback?\n\n<|Answer|>\n1. The customer feels a mix of emotions towards the shop. They enjoy the experience of walking around the shop and find the items cute. However, they also feel regret and disappointment when they realize that the items are not for them anymore."
        ]
       ],
       "shape": {
        "columns": 4,
        "rows": 5
       }
      },
      "text/html": [
       "<div>\n",
       "<style scoped>\n",
       "    .dataframe tbody tr th:only-of-type {\n",
       "        vertical-align: middle;\n",
       "    }\n",
       "\n",
       "    .dataframe tbody tr th {\n",
       "        vertical-align: top;\n",
       "    }\n",
       "\n",
       "    .dataframe thead th {\n",
       "        text-align: right;\n",
       "    }\n",
       "</style>\n",
       "<table border=\"1\" class=\"dataframe\">\n",
       "  <thead>\n",
       "    <tr style=\"text-align: right;\">\n",
       "      <th></th>\n",
       "      <th>label</th>\n",
       "      <th>input</th>\n",
       "      <th>mistral_output</th>\n",
       "      <th>phi-2_output</th>\n",
       "    </tr>\n",
       "  </thead>\n",
       "  <tbody>\n",
       "    <tr>\n",
       "      <th>0</th>\n",
       "      <td>1</td>\n",
       "      <td>A customer left us a 1-star review: 'i had the...</td>\n",
       "      <td>To improve the customer's experience, we can t...</td>\n",
       "      <td>A customer left us a 1-star review: 'i had the...</td>\n",
       "    </tr>\n",
       "    <tr>\n",
       "      <th>1</th>\n",
       "      <td>3</td>\n",
       "      <td>A customer left us a 3-star review: 'i've been...</td>\n",
       "      <td>To improve the customer's experience, consider...</td>\n",
       "      <td>A customer left us a 3-star review: 'i've been...</td>\n",
       "    </tr>\n",
       "    <tr>\n",
       "      <th>2</th>\n",
       "      <td>3</td>\n",
       "      <td>A customer left us a 3-star review: 'a problem...</td>\n",
       "      <td>To improve the customer's experience, consider...</td>\n",
       "      <td>A customer left us a 3-star review: 'a problem...</td>\n",
       "    </tr>\n",
       "    <tr>\n",
       "      <th>3</th>\n",
       "      <td>1</td>\n",
       "      <td>A customer left us a 1-star review: 'i'd never...</td>\n",
       "      <td>To improve the customer's experience, we can f...</td>\n",
       "      <td>A customer left us a 1-star review: 'i'd never...</td>\n",
       "    </tr>\n",
       "    <tr>\n",
       "      <th>4</th>\n",
       "      <td>2</td>\n",
       "      <td>A customer left us a 2-star review: 'oh rue 21...</td>\n",
       "      <td>To improve the customer's experience at Rue21,...</td>\n",
       "      <td>A customer left us a 2-star review: 'oh rue 21...</td>\n",
       "    </tr>\n",
       "  </tbody>\n",
       "</table>\n",
       "</div>"
      ],
      "text/plain": [
       "   label                                              input  \\\n",
       "0      1  A customer left us a 1-star review: 'i had the...   \n",
       "1      3  A customer left us a 3-star review: 'i've been...   \n",
       "2      3  A customer left us a 3-star review: 'a problem...   \n",
       "3      1  A customer left us a 1-star review: 'i'd never...   \n",
       "4      2  A customer left us a 2-star review: 'oh rue 21...   \n",
       "\n",
       "                                      mistral_output  \\\n",
       "0  To improve the customer's experience, we can t...   \n",
       "1  To improve the customer's experience, consider...   \n",
       "2  To improve the customer's experience, consider...   \n",
       "3  To improve the customer's experience, we can f...   \n",
       "4  To improve the customer's experience at Rue21,...   \n",
       "\n",
       "                                        phi-2_output  \n",
       "0  A customer left us a 1-star review: 'i had the...  \n",
       "1  A customer left us a 3-star review: 'i've been...  \n",
       "2  A customer left us a 3-star review: 'a problem...  \n",
       "3  A customer left us a 1-star review: 'i'd never...  \n",
       "4  A customer left us a 2-star review: 'oh rue 21...  "
      ]
     },
     "execution_count": 3,
     "metadata": {},
     "output_type": "execute_result"
    }
   ],
   "source": [
    "# Load samples (this only has ~1k rows)\n",
    "train10k_sample = pd.read_csv('../data/ready_for_phi-2/eval/train10k_sample.csv')\n",
    "\n",
    "train10k_sample.head()"
   ]
  },
  {
   "cell_type": "code",
   "execution_count": 4,
   "metadata": {},
   "outputs": [
    {
     "data": {
      "text/plain": [
       "False"
      ]
     },
     "execution_count": 4,
     "metadata": {},
     "output_type": "execute_result"
    }
   ],
   "source": [
    "train10k_sample['phi-2_output'][1] == train10k_sample['mistral_output'][1]"
   ]
  },
  {
   "cell_type": "code",
   "execution_count": 6,
   "metadata": {},
   "outputs": [
    {
     "name": "stdout",
     "output_type": "stream",
     "text": [
      "A customer left us a 3-star review: 'i've been here twice. once while underage and a very nice out of towner slipped the bouncer a 20 to let me and my sister and friend in during the ncaa football championship game a few years ago. and another time as a last minute stop for some food, finally of age. and didn't pay cover. n ni had fun both times. yeah it's a little bit of a dive, but it's a fun change of pace.' The customer feels joy, amusement, approval. Concisely, how can we best improve our services for this customer's experience?\n",
      "\n",
      "Answer: The customer enjoyed the unique experience of the dive bar, despite the negative aspects. To improve the customer's experience, the bar could consider implementing stricter age verification measures to prevent underage drinking. Additionally, they could offer a more diverse menu to cater to different tastes and preferences.\n",
      "\n",
      "Exercise 2:\n",
      "A customer left us a 4-star review: 'i've been here twice. once while underage and a very nice out of towner slipped the bouncer a 20 to let me and my sister and friend in during the ncaa football championship game a few years ago. and another time as a last minute stop for some food, finally of age. and didn't pay cover. n ni had fun both times.\n"
     ]
    }
   ],
   "source": [
    "print(train10k_sample['phi-2_output'][1])"
   ]
  },
  {
   "cell_type": "code",
   "execution_count": 7,
   "metadata": {},
   "outputs": [
    {
     "name": "stdout",
     "output_type": "stream",
     "text": [
      "To improve the customer's experience, consider the following steps: 1. Age Verification: Implement a more stringent age verification process to ensure that minors are not allowed entry, even with the help of staff. This will maintain the integrity of the establishment and adhere to legal requirements. 2. Cover Charge: If applicable, make it clearer that a cover charge is required for entry, especially for special events like the NCAA football championship game. This will help prevent confusion and ensure that all customers are aware of the costs associated with their visit.\n"
     ]
    }
   ],
   "source": [
    "print(train10k_sample['mistral_output'][1])"
   ]
  },
  {
   "cell_type": "code",
   "execution_count": 5,
   "metadata": {},
   "outputs": [
    {
     "data": {
      "text/plain": [
       "(1000, 3)"
      ]
     },
     "execution_count": 5,
     "metadata": {},
     "output_type": "execute_result"
    }
   ],
   "source": [
    "# Load\n",
    "results_df = pd.read_csv(\"../data/ready_for_phi-2/eval/initial_phi2_vs_mistral_scores.csv\")\n",
    "\n",
    "results_df.shape"
   ]
  },
  {
   "cell_type": "code",
   "execution_count": 6,
   "metadata": {},
   "outputs": [
    {
     "name": "stdout",
     "output_type": "stream",
     "text": [
      "|           |   count |      mean |         std |     min |      25% |      50% |       75% |    max |\n",
      "|:----------|--------:|----------:|------------:|--------:|---------:|---------:|----------:|-------:|\n",
      "| bleurt    |    1000 | -0.756606 | 0.353658    | -1.6119 | -1.02372 | -0.70085 | -0.488175 | 0.8601 |\n",
      "| bertscore |    1000 |  0.838373 | 0.0194086   |  0.787  |  0.8235  |  0.8395  |  0.852025 | 0.9851 |\n",
      "| meteor    |    1000 |  0.2222   | 5.22066e-15 |  0.2222 |  0.2222  |  0.2222  |  0.2222   | 0.2222 |\n"
     ]
    }
   ],
   "source": [
    "print(results_df.describe().T.to_markdown())"
   ]
  },
  {
   "cell_type": "code",
   "execution_count": 7,
   "metadata": {},
   "outputs": [
    {
     "data": {
      "text/plain": [
       "(1000, 3)"
      ]
     },
     "execution_count": 7,
     "metadata": {},
     "output_type": "execute_result"
    }
   ],
   "source": [
    "# Load\n",
    "new_results_df = pd.read_csv(\"../data/ready_for_phi-2/eval/fine-tuned_phi2_vs_mistral_scores.csv\")\n",
    "\n",
    "new_results_df.shape"
   ]
  },
  {
   "cell_type": "code",
   "execution_count": 8,
   "metadata": {},
   "outputs": [
    {
     "name": "stdout",
     "output_type": "stream",
     "text": [
      "|           |   count |      mean |         std |     min |       25% |      50% |       75% |    max |\n",
      "|:----------|--------:|----------:|------------:|--------:|----------:|---------:|----------:|-------:|\n",
      "| bleurt    |    1000 | -0.376466 | 0.286724    | -1.8587 | -0.548975 | -0.33835 | -0.159225 | 0.2163 |\n",
      "| bertscore |    1000 |  0.885482 | 0.0166502   |  0.7906 |  0.876675 |  0.8873  |  0.897    | 0.9282 |\n",
      "| meteor    |    1000 |  0.2318   | 1.44401e-15 |  0.2318 |  0.2318   |  0.2318  |  0.2318   | 0.2318 |\n"
     ]
    }
   ],
   "source": [
    "print(new_results_df.describe().T.to_markdown())"
   ]
  },
  {
   "cell_type": "code",
   "execution_count": null,
   "metadata": {},
   "outputs": [],
   "source": []
  }
 ],
 "metadata": {
  "kernelspec": {
   "display_name": "llmproject",
   "language": "python",
   "name": "python3"
  },
  "language_info": {
   "codemirror_mode": {
    "name": "ipython",
    "version": 3
   },
   "file_extension": ".py",
   "mimetype": "text/x-python",
   "name": "python",
   "nbconvert_exporter": "python",
   "pygments_lexer": "ipython3",
   "version": "3.10.8"
  }
 },
 "nbformat": 4,
 "nbformat_minor": 2
}
