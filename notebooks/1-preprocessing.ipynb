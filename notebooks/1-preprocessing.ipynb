{
  "cells": [
    {
      "cell_type": "markdown",
      "metadata": {
        "id": "mpj4L35mCDwk"
      },
      "source": [
        "## Data Pre-Processing"
      ]
    },
    {
      "cell_type": "code",
      "execution_count": 22,
      "metadata": {
        "id": "oyj6IhmsCDwn"
      },
      "outputs": [],
      "source": [
        "# Imports\n",
        "import os\n",
        "import pandas as pd\n",
        "import datasets\n",
        "from datasets import load_dataset\n",
        "\n",
        "import matplotlib.pyplot as plt\n",
        "import seaborn as sns"
      ]
    },
    {
      "cell_type": "markdown",
      "metadata": {
        "id": "oqIqmAwFCDwp"
      },
      "source": [
        "## YELP Original Dataset"
      ]
    },
    {
      "cell_type": "markdown",
      "metadata": {},
      "source": [
        "### Import Data"
      ]
    },
    {
      "cell_type": "code",
      "execution_count": 23,
      "metadata": {
        "colab": {
          "base_uri": "https://localhost:8080/",
          "height": 475,
          "referenced_widgets": [
            "b6ae727eabf24140878befcbcc6a26ab",
            "51c6791dd91c4a6697df09a3b1d1cff9",
            "1c051a7fd57040bf9fa238ced9e87986",
            "bb52244d81624d80b5cb690d80556970",
            "ca97bb94dd0d46448391960bc4697aaf",
            "7ce87a5adf3648608416a1c8bb166e10",
            "8331d473468f4c64ab00c8c852498db5",
            "e8220cdbaef74d11862fdeb04ffae9ad",
            "62b22f17714540bfa261880e7df36a1f",
            "af2eb94f80fc48be94bb1c29bf92211a",
            "407bf2e084034f13900d657834bfd585",
            "1ec43b2635a24bb1be0a7bef6c3fc005",
            "aaad4c00978d4dc5a3a0fcba2a5a2edf",
            "1ba4f4503014422283efcf36a99b4613",
            "2380e50cad494c729858b4a2a74ff6d4",
            "b5cb0840c7c1460eb9c31356912b05f2",
            "e2e27329994b47cc9e7cd1e5b3e364fd",
            "b7298720961e458ab1a6f7e73a334834",
            "d52baa6fe844451f800ac63f8d02a9b6",
            "560a935f50ef44439e75d537e034bf41",
            "e1e602466f784e6fa3a4144c28da0c1e",
            "9ac289d700654c9ab98bd40ce52c55ce",
            "d492e1577a5f4184bd7a06ac46670167",
            "6ae6a3bc0ea147e993467d612dd71ad8",
            "d7cd0a7e1b4d4f0485e4386878788aca",
            "8b332931e7dc4adeb643efa29ebeb06d",
            "a736562a6a9d4181a837e729addfa5b3",
            "8c135c93f97f4d14bf0d80b269da284c",
            "d53baea3312949ffbc8219815908780c",
            "f06d2c15e5ed48faaffda2535487a15f",
            "60b34e07e9d5497f9c143e09c8632d0f",
            "a6c8165d8b8d49de8dd5a377764531cb",
            "3b9f092de5d1412eaeae64ecd80d581c",
            "9f5d5e8957d849b6ae1c10d950f51f1e",
            "33ecb5a1f8844cdb9c9bbccb4daeac45",
            "a48129c1a04d49e4ad5897a51d01e951",
            "b1ddf244cf41418bb789294f670096a1",
            "32519eeb16474e9f8f4855550bf5fad5",
            "26b8368972214d0a8ba7fc61383aff4f",
            "da4203e4c3cd4a42b533097ef3f9a3c6",
            "51a9fd78405642e5a386f2d5be5af073",
            "fbd763b5234344d6a9bf0d1e63e70d8b",
            "03d9707c749243ef9d683bfd6e734c32",
            "316ffa4171544667ae46987d2172acab",
            "e19e5c4097994f6c8106797adb5abf99",
            "c3c3afe840014133ae4c7f9ae66a2e5f",
            "ed4bcac9019d4595968947d36835cbb9",
            "5dc97ce026f048d3884e934796267cdb",
            "3f1914896b784b789823b43bf279a1f1",
            "dbd705c0e47e441184e1f3c6196a8dcb",
            "c04cef4a9e174b328c6426bc8d723e1f",
            "5cfdeede94314cf89b56bb54e19ff056",
            "94f5cce902c54af5b0457b9b9f64a973",
            "e8e5bb6de2e942388bb9fd3e67f0c9ec",
            "c46e03d1bfe04b919d05dc8ed517a814"
          ]
        },
        "id": "fV14JeZVCDwr",
        "outputId": "ae33053e-e174-4f51-a330-74464b542e35"
      },
      "outputs": [
        {
          "data": {
            "text/plain": [
              "DatasetDict({\n",
              "    train: Dataset({\n",
              "        features: ['label', 'text'],\n",
              "        num_rows: 650000\n",
              "    })\n",
              "    test: Dataset({\n",
              "        features: ['label', 'text'],\n",
              "        num_rows: 50000\n",
              "    })\n",
              "})"
            ]
          },
          "execution_count": 23,
          "metadata": {},
          "output_type": "execute_result"
        }
      ],
      "source": [
        "dataset = load_dataset('yelp_review_full')\n",
        "\n",
        "dataset # View"
      ]
    },
    {
      "cell_type": "code",
      "execution_count": 24,
      "metadata": {
        "colab": {
          "base_uri": "https://localhost:8080/"
        },
        "id": "8ZxUyJ4RCDwr",
        "outputId": "fe1e2a22-dec0-4883-d9fc-ac760ab362f3"
      },
      "outputs": [
        {
          "data": {
            "text/plain": [
              "{'label': 4,\n",
              " 'text': \"dr. goldberg offers everything i look for in a general practitioner.  he's nice and easy to talk to without being patronizing; he's always on time in seeing his patients; he's affiliated with a top-notch hospital (nyu) which my parents have explained to me is very important in case something happens and you need surgery; and you can get referrals to see specialists without having to see him first.  really, what more do you need?  i'm sitting here trying to think of any complaints i have about him, but i'm really drawing a blank.\"}"
            ]
          },
          "execution_count": 24,
          "metadata": {},
          "output_type": "execute_result"
        }
      ],
      "source": [
        "# Inspect\n",
        "dataset['train'][0]"
      ]
    },
    {
      "cell_type": "code",
      "execution_count": 25,
      "metadata": {
        "colab": {
          "base_uri": "https://localhost:8080/"
        },
        "id": "i8FHLDO4E30W",
        "outputId": "f1d82bd7-1cad-416a-ee63-17e9155439f3"
      },
      "outputs": [
        {
          "data": {
            "text/plain": [
              "{'label': ClassLabel(names=['1 star', '2 star', '3 stars', '4 stars', '5 stars'], id=None),\n",
              " 'text': Value(dtype='string', id=None)}"
            ]
          },
          "execution_count": 25,
          "metadata": {},
          "output_type": "execute_result"
        }
      ],
      "source": [
        "# Check Features\n",
        "dataset['train'].features"
      ]
    },
    {
      "cell_type": "code",
      "execution_count": 26,
      "metadata": {
        "colab": {
          "base_uri": "https://localhost:8080/",
          "height": 413
        },
        "id": "ZNGlxeYECDws",
        "outputId": "158e67e9-3556-4a3d-b878-aed4332e12d6"
      },
      "outputs": [
        {
          "data": {
            "application/vnd.microsoft.datawrangler.viewer.v0+json": {
              "columns": [
                {
                  "name": "index",
                  "rawType": "int64",
                  "type": "integer"
                },
                {
                  "name": "label",
                  "rawType": "int64",
                  "type": "integer"
                },
                {
                  "name": "text",
                  "rawType": "object",
                  "type": "string"
                }
              ],
              "conversionMethod": "pd.DataFrame",
              "ref": "824a6ad2-5d55-48c2-be45-d8212b4e51ac",
              "rows": [
                [
                  "0",
                  "4",
                  "dr. goldberg offers everything i look for in a general practitioner.  he's nice and easy to talk to without being patronizing; he's always on time in seeing his patients; he's affiliated with a top-notch hospital (nyu) which my parents have explained to me is very important in case something happens and you need surgery; and you can get referrals to see specialists without having to see him first.  really, what more do you need?  i'm sitting here trying to think of any complaints i have about him, but i'm really drawing a blank."
                ],
                [
                  "1",
                  "1",
                  "Unfortunately, the frustration of being Dr. Goldberg's patient is a repeat of the experience I've had with so many other doctors in NYC -- good doctor, terrible staff.  It seems that his staff simply never answers the phone.  It usually takes 2 hours of repeated calling to get an answer.  Who has time for that or wants to deal with it?  I have run into this problem with many other doctors and I just don't get it.  You have office workers, you have patients with medical needs, why isn't anyone answering the phone?  It's incomprehensible and not work the aggravation.  It's with regret that I feel that I have to give Dr. Goldberg 2 stars."
                ],
                [
                  "2",
                  "3",
                  "Been going to Dr. Goldberg for over 10 years. I think I was one of his 1st patients when he started at MHMG. He's been great over the years and is really all about the big picture. It is because of him, not my now former gyn Dr. Markoff, that I found out I have fibroids. He explores all options with you and is very patient and understanding. He doesn't judge and asks all the right questions. Very thorough and wants to be kept in the loop on every aspect of your medical health and your life."
                ],
                [
                  "3",
                  "3",
                  "Got a letter in the mail last week that said Dr. Goldberg is moving to Arizona to take a new position there in June.  He will be missed very much.  \\n\\nI think finding a new doctor in NYC that you actually like might almost be as awful as trying to find a date!"
                ],
                [
                  "4",
                  "0",
                  "I don't know what Dr. Goldberg was like before  moving to Arizona, but let me tell you, STAY AWAY from this doctor and this office. I was going to Dr. Johnson before he left and Goldberg took over when Johnson left. He is not a caring doctor. He is only interested in the co-pay and having you come in for medication refills every month. He will not give refills and could less about patients's financial situations. Trying to get your 90 days mail away pharmacy prescriptions through this guy is a joke. And to make matters even worse, his office staff is incompetent. 90% of the time when you call the office, they'll put you through to a voice mail, that NO ONE ever answers or returns your call. Both my adult children and husband have decided to leave this practice after experiencing such frustration. The entire office has an attitude like they are doing you a favor. Give me a break! Stay away from this doc and the practice. You deserve better and they will not be there when you really need them. I have never felt compelled to write a bad review about anyone until I met this pathetic excuse for a doctor who is all about the money."
                ]
              ],
              "shape": {
                "columns": 2,
                "rows": 5
              }
            },
            "text/html": [
              "<div>\n",
              "<style scoped>\n",
              "    .dataframe tbody tr th:only-of-type {\n",
              "        vertical-align: middle;\n",
              "    }\n",
              "\n",
              "    .dataframe tbody tr th {\n",
              "        vertical-align: top;\n",
              "    }\n",
              "\n",
              "    .dataframe thead th {\n",
              "        text-align: right;\n",
              "    }\n",
              "</style>\n",
              "<table border=\"1\" class=\"dataframe\">\n",
              "  <thead>\n",
              "    <tr style=\"text-align: right;\">\n",
              "      <th></th>\n",
              "      <th>label</th>\n",
              "      <th>text</th>\n",
              "    </tr>\n",
              "  </thead>\n",
              "  <tbody>\n",
              "    <tr>\n",
              "      <th>0</th>\n",
              "      <td>4</td>\n",
              "      <td>dr. goldberg offers everything i look for in a...</td>\n",
              "    </tr>\n",
              "    <tr>\n",
              "      <th>1</th>\n",
              "      <td>1</td>\n",
              "      <td>Unfortunately, the frustration of being Dr. Go...</td>\n",
              "    </tr>\n",
              "    <tr>\n",
              "      <th>2</th>\n",
              "      <td>3</td>\n",
              "      <td>Been going to Dr. Goldberg for over 10 years. ...</td>\n",
              "    </tr>\n",
              "    <tr>\n",
              "      <th>3</th>\n",
              "      <td>3</td>\n",
              "      <td>Got a letter in the mail last week that said D...</td>\n",
              "    </tr>\n",
              "    <tr>\n",
              "      <th>4</th>\n",
              "      <td>0</td>\n",
              "      <td>I don't know what Dr. Goldberg was like before...</td>\n",
              "    </tr>\n",
              "  </tbody>\n",
              "</table>\n",
              "</div>"
            ],
            "text/plain": [
              "   label                                               text\n",
              "0      4  dr. goldberg offers everything i look for in a...\n",
              "1      1  Unfortunately, the frustration of being Dr. Go...\n",
              "2      3  Been going to Dr. Goldberg for over 10 years. ...\n",
              "3      3  Got a letter in the mail last week that said D...\n",
              "4      0  I don't know what Dr. Goldberg was like before..."
            ]
          },
          "metadata": {},
          "output_type": "display_data"
        },
        {
          "data": {
            "application/vnd.microsoft.datawrangler.viewer.v0+json": {
              "columns": [
                {
                  "name": "index",
                  "rawType": "int64",
                  "type": "integer"
                },
                {
                  "name": "label",
                  "rawType": "int64",
                  "type": "integer"
                },
                {
                  "name": "text",
                  "rawType": "object",
                  "type": "string"
                }
              ],
              "conversionMethod": "pd.DataFrame",
              "ref": "88af08e7-2a32-4ea1-a08c-eac78d95e76b",
              "rows": [
                [
                  "0",
                  "0",
                  "I got 'new' tires from them and within two weeks got a flat. I took my car to a local mechanic to see if i could get the hole patched, but they said the reason I had a flat was because the previous patch had blown - WAIT, WHAT? I just got the tire and never needed to have it patched? This was supposed to be a new tire. \\nI took the tire over to Flynn's and they told me that someone punctured my tire, then tried to patch it. So there are resentful tire slashers? I find that very unlikely. After arguing with the guy and telling him that his logic was far fetched he said he'd give me a new tire \\\"this time\\\". \\nI will never go back to Flynn's b/c of the way this guy treated me and the simple fact that they gave me a used tire!"
                ],
                [
                  "1",
                  "0",
                  "Don't waste your time.  We had two different people come to our house to give us estimates for a deck (one of them the OWNER).  Both times, we never heard from them.  Not a call, not the estimate, nothing."
                ],
                [
                  "2",
                  "0",
                  "All I can say is the worst! We were the only 2 people in the place for lunch, the place was freezing and loaded with kids toys! 2 bicycles, a scooter, and an electronic keyboard graced the dining room. A fish tank with filthy, slimy fingerprints smeared all over it is there for your enjoyment.\\n\\nOur food came... no water to drink, no tea, medium temperature food. Of course its cold, just like the room, I never took my jacket off! The plates are too small, you food spills over onto some semi-clean tables as you sit in your completely worn out booth seat. The fried noodles were out of a box and nasty, the shrimp was mushy, the fried rice was bright yellow.\\n\\nWe asked for water, they brought us 1 in a SOLO cup for 2 people. I asked for hot tea, they said 10 minutes. What Chinese restaurant does not have hot tea available upon request?\\n\\nOver all.... my first and last visit to this place. The only good point was that it was cheap, and deservingly so."
                ],
                [
                  "3",
                  "0",
                  "I have been to this restaurant twice and was disappointed both times. I won't go back. The first time we were there almost 3 hours. It took forever to order and then forever for our food to come and the place was empty. When I complained the manager was very rude and tried to blame us for taking to long to order. It made no sense, how could we order when the waitress wasn't coming to the table? After arguing with me he ended up taking $6 off of our $200+ bill. Ridiculous. If it were up to me I would have never returned. Unfortunately my family decided to go here again tonight. Again it took a long time to get our food. My food was cold and bland, my kids food was cold. My husbands salmon was burnt to a crisp and my sister in law took one bite of her trout and refused to eat any more because she claims it was so disgusting. The wedding soup and bread were good, but that's it! My drink sat empty throughout my meal and never got refilled even when I asked. Bad food, slow service and rude managers. I'll pass on this place if my family decides to go again. Not worth it at all with all the other good Italian options around."
                ],
                [
                  "4",
                  "0",
                  "Food was NOT GOOD at all! My husband & I ate here a couple weeks ago for the first time. I ordered a salad & basil pesto cream pasta & my husband ordered the spinach & feta pasta. The salad was just a huge plate of spring mix (nothing else in it) with WAY to much vinegar dressing. My lettuce was drowning in the vinegar. My pesto pasta had no flavor (did not taste like a cream sauce to me) & the pesto was so runny/watery & way too much sauce not enough noodles. My husband's pasta had even less flavor than mine. We ate about a quarter of the food & couldn't even finish it. We took it home & it was so bad I didn't even eat my leftovers. And I hate wasting food!! Plus the prices are expensive for the amount of food you get & of course the poor quality. Don't waste your time eating here. There are much better Italian restaurants in Pittsburgh."
                ]
              ],
              "shape": {
                "columns": 2,
                "rows": 5
              }
            },
            "text/html": [
              "<div>\n",
              "<style scoped>\n",
              "    .dataframe tbody tr th:only-of-type {\n",
              "        vertical-align: middle;\n",
              "    }\n",
              "\n",
              "    .dataframe tbody tr th {\n",
              "        vertical-align: top;\n",
              "    }\n",
              "\n",
              "    .dataframe thead th {\n",
              "        text-align: right;\n",
              "    }\n",
              "</style>\n",
              "<table border=\"1\" class=\"dataframe\">\n",
              "  <thead>\n",
              "    <tr style=\"text-align: right;\">\n",
              "      <th></th>\n",
              "      <th>label</th>\n",
              "      <th>text</th>\n",
              "    </tr>\n",
              "  </thead>\n",
              "  <tbody>\n",
              "    <tr>\n",
              "      <th>0</th>\n",
              "      <td>0</td>\n",
              "      <td>I got 'new' tires from them and within two wee...</td>\n",
              "    </tr>\n",
              "    <tr>\n",
              "      <th>1</th>\n",
              "      <td>0</td>\n",
              "      <td>Don't waste your time.  We had two different p...</td>\n",
              "    </tr>\n",
              "    <tr>\n",
              "      <th>2</th>\n",
              "      <td>0</td>\n",
              "      <td>All I can say is the worst! We were the only 2...</td>\n",
              "    </tr>\n",
              "    <tr>\n",
              "      <th>3</th>\n",
              "      <td>0</td>\n",
              "      <td>I have been to this restaurant twice and was d...</td>\n",
              "    </tr>\n",
              "    <tr>\n",
              "      <th>4</th>\n",
              "      <td>0</td>\n",
              "      <td>Food was NOT GOOD at all! My husband &amp; I ate h...</td>\n",
              "    </tr>\n",
              "  </tbody>\n",
              "</table>\n",
              "</div>"
            ],
            "text/plain": [
              "   label                                               text\n",
              "0      0  I got 'new' tires from them and within two wee...\n",
              "1      0  Don't waste your time.  We had two different p...\n",
              "2      0  All I can say is the worst! We were the only 2...\n",
              "3      0  I have been to this restaurant twice and was d...\n",
              "4      0  Food was NOT GOOD at all! My husband & I ate h..."
            ]
          },
          "metadata": {},
          "output_type": "display_data"
        },
        {
          "data": {
            "text/plain": [
              "(None, None)"
            ]
          },
          "execution_count": 26,
          "metadata": {},
          "output_type": "execute_result"
        }
      ],
      "source": [
        "train = pd.DataFrame(dataset['train'])\n",
        "test = pd.DataFrame(dataset['test'])\n",
        "\n",
        "display(train.head()), display(test.head())"
      ]
    },
    {
      "cell_type": "markdown",
      "metadata": {
        "id": "phqG8MuvCDwu"
      },
      "source": [
        "### EDA"
      ]
    },
    {
      "cell_type": "code",
      "execution_count": 27,
      "metadata": {
        "colab": {
          "base_uri": "https://localhost:8080/"
        },
        "id": "Qd1dQdd3CDwv",
        "outputId": "b73d2511-ab1a-4550-8ea5-9551024d6b3d"
      },
      "outputs": [
        {
          "data": {
            "text/plain": [
              "((650000, 2), (50000, 2))"
            ]
          },
          "execution_count": 27,
          "metadata": {},
          "output_type": "execute_result"
        }
      ],
      "source": [
        "# Shape\n",
        "train.shape, test.shape"
      ]
    },
    {
      "cell_type": "code",
      "execution_count": 28,
      "metadata": {},
      "outputs": [
        {
          "name": "stdout",
          "output_type": "stream",
          "text": [
            "<class 'pandas.core.frame.DataFrame'>\n",
            "RangeIndex: 650000 entries, 0 to 649999\n",
            "Data columns (total 2 columns):\n",
            " #   Column  Non-Null Count   Dtype \n",
            "---  ------  --------------   ----- \n",
            " 0   label   650000 non-null  int64 \n",
            " 1   text    650000 non-null  object\n",
            "dtypes: int64(1), object(1)\n",
            "memory usage: 9.9+ MB\n"
          ]
        }
      ],
      "source": [
        "train.info()"
      ]
    },
    {
      "cell_type": "code",
      "execution_count": 29,
      "metadata": {
        "colab": {
          "base_uri": "https://localhost:8080/"
        },
        "id": "2nKR1RqxCDwv",
        "outputId": "e251b4a8-dee6-466f-ecb5-bf05b2003579"
      },
      "outputs": [
        {
          "name": "stdout",
          "output_type": "stream",
          "text": [
            "label    0\n",
            "text     0\n",
            "dtype: int64\n"
          ]
        }
      ],
      "source": [
        "# Check for missing values\n",
        "print(train.isnull().sum())"
      ]
    },
    {
      "cell_type": "code",
      "execution_count": 30,
      "metadata": {
        "colab": {
          "base_uri": "https://localhost:8080/"
        },
        "id": "YCHJzLCODKHz",
        "outputId": "8f749aa2-5bd8-484d-e347-081dab48d0ff"
      },
      "outputs": [
        {
          "name": "stdout",
          "output_type": "stream",
          "text": [
            "label\n",
            "4    0.2\n",
            "1    0.2\n",
            "3    0.2\n",
            "0    0.2\n",
            "2    0.2\n",
            "Name: proportion, dtype: float64\n"
          ]
        }
      ],
      "source": [
        "# Check class distribution\n",
        "print(train['label'].value_counts(normalize=True))"
      ]
    },
    {
      "cell_type": "markdown",
      "metadata": {
        "id": "BJNxZSXdCDww"
      },
      "source": [
        "### Text Preprocessing"
      ]
    },
    {
      "cell_type": "code",
      "execution_count": 31,
      "metadata": {
        "colab": {
          "base_uri": "https://localhost:8080/",
          "height": 35
        },
        "id": "S-h6fQ1kCDwq",
        "outputId": "9fe6ca19-b074-40ed-8ef7-282b87e2b61f"
      },
      "outputs": [
        {
          "data": {
            "text/plain": [
              "'!\"#$%&\\'()*+,-./:;<=>?@[\\\\]^_`{|}~'"
            ]
          },
          "execution_count": 31,
          "metadata": {},
          "output_type": "execute_result"
        }
      ],
      "source": [
        "# Imports\n",
        "import re\n",
        "import string\n",
        "import nltk\n",
        "\n",
        "string.punctuation"
      ]
    },
    {
      "cell_type": "code",
      "execution_count": 32,
      "metadata": {
        "colab": {
          "base_uri": "https://localhost:8080/"
        },
        "id": "VBTUN6gvHMGI",
        "outputId": "81a6db8e-f3fc-42ec-9ff9-1b669537441e"
      },
      "outputs": [
        {
          "name": "stderr",
          "output_type": "stream",
          "text": [
            "[nltk_data] Downloading package punkt to\n",
            "[nltk_data]     C:\\Users\\kadm2\\AppData\\Roaming\\nltk_data...\n",
            "[nltk_data]   Package punkt is already up-to-date!\n",
            "[nltk_data] Downloading package punkt_tab to\n",
            "[nltk_data]     C:\\Users\\kadm2\\AppData\\Roaming\\nltk_data...\n",
            "[nltk_data]   Package punkt_tab is already up-to-date!\n"
          ]
        }
      ],
      "source": [
        "# Downloads\n",
        "nltk.download('punkt')\n",
        "nltk.download('punkt_tab')\n",
        "from nltk.tokenize import word_tokenize"
      ]
    },
    {
      "cell_type": "code",
      "execution_count": 33,
      "metadata": {
        "id": "89De7inBG7n9"
      },
      "outputs": [],
      "source": [
        "# Define punctuation to keep\n",
        "keep_punctuation = {\".\", \",\", \"!\", \"?\", \"'\"}\n",
        "\n",
        "# Cleaning function\n",
        "def clean_text(review):\n",
        "    review = review.lower()  # Lowercase\n",
        "\n",
        "    # Remove unwanted characters (keep only letters, numbers, and whitelisted punctuation)\n",
        "    cleaned_text = \"\".join(char if char.isalnum() or char in keep_punctuation or char.isspace() else \" \" for char in review)\n",
        "\n",
        "    # Remove extra spaces (from removed characters)\n",
        "    cleaned_text = re.sub(r'\\s+', ' ', cleaned_text).strip()\n",
        "\n",
        "    return cleaned_text"
      ]
    },
    {
      "cell_type": "markdown",
      "metadata": {
        "id": "Ef3u8X0WLsLR"
      },
      "source": [
        "> I'm not removing punctuations or stop words as it may affect word meanings, and therefore, the sentiment."
      ]
    },
    {
      "cell_type": "code",
      "execution_count": 34,
      "metadata": {
        "colab": {
          "base_uri": "https://localhost:8080/",
          "height": 679
        },
        "id": "JvNDGgXpLehF",
        "outputId": "1547c622-2336-4c98-ace0-222444585cb9"
      },
      "outputs": [
        {
          "data": {
            "application/vnd.microsoft.datawrangler.viewer.v0+json": {
              "columns": [
                {
                  "name": "index",
                  "rawType": "int64",
                  "type": "integer"
                },
                {
                  "name": "label",
                  "rawType": "int64",
                  "type": "integer"
                },
                {
                  "name": "text",
                  "rawType": "object",
                  "type": "string"
                },
                {
                  "name": "clean_text",
                  "rawType": "object",
                  "type": "string"
                }
              ],
              "conversionMethod": "pd.DataFrame",
              "ref": "2dec0b8e-53fc-4b82-9b0c-08f22731f490",
              "rows": [
                [
                  "0",
                  "4",
                  "dr. goldberg offers everything i look for in a general practitioner.  he's nice and easy to talk to without being patronizing; he's always on time in seeing his patients; he's affiliated with a top-notch hospital (nyu) which my parents have explained to me is very important in case something happens and you need surgery; and you can get referrals to see specialists without having to see him first.  really, what more do you need?  i'm sitting here trying to think of any complaints i have about him, but i'm really drawing a blank.",
                  "dr. goldberg offers everything i look for in a general practitioner. he's nice and easy to talk to without being patronizing he's always on time in seeing his patients he's affiliated with a top notch hospital nyu which my parents have explained to me is very important in case something happens and you need surgery and you can get referrals to see specialists without having to see him first. really, what more do you need? i'm sitting here trying to think of any complaints i have about him, but i'm really drawing a blank."
                ],
                [
                  "1",
                  "1",
                  "Unfortunately, the frustration of being Dr. Goldberg's patient is a repeat of the experience I've had with so many other doctors in NYC -- good doctor, terrible staff.  It seems that his staff simply never answers the phone.  It usually takes 2 hours of repeated calling to get an answer.  Who has time for that or wants to deal with it?  I have run into this problem with many other doctors and I just don't get it.  You have office workers, you have patients with medical needs, why isn't anyone answering the phone?  It's incomprehensible and not work the aggravation.  It's with regret that I feel that I have to give Dr. Goldberg 2 stars.",
                  "unfortunately, the frustration of being dr. goldberg's patient is a repeat of the experience i've had with so many other doctors in nyc good doctor, terrible staff. it seems that his staff simply never answers the phone. it usually takes 2 hours of repeated calling to get an answer. who has time for that or wants to deal with it? i have run into this problem with many other doctors and i just don't get it. you have office workers, you have patients with medical needs, why isn't anyone answering the phone? it's incomprehensible and not work the aggravation. it's with regret that i feel that i have to give dr. goldberg 2 stars."
                ],
                [
                  "2",
                  "3",
                  "Been going to Dr. Goldberg for over 10 years. I think I was one of his 1st patients when he started at MHMG. He's been great over the years and is really all about the big picture. It is because of him, not my now former gyn Dr. Markoff, that I found out I have fibroids. He explores all options with you and is very patient and understanding. He doesn't judge and asks all the right questions. Very thorough and wants to be kept in the loop on every aspect of your medical health and your life.",
                  "been going to dr. goldberg for over 10 years. i think i was one of his 1st patients when he started at mhmg. he's been great over the years and is really all about the big picture. it is because of him, not my now former gyn dr. markoff, that i found out i have fibroids. he explores all options with you and is very patient and understanding. he doesn't judge and asks all the right questions. very thorough and wants to be kept in the loop on every aspect of your medical health and your life."
                ],
                [
                  "3",
                  "3",
                  "Got a letter in the mail last week that said Dr. Goldberg is moving to Arizona to take a new position there in June.  He will be missed very much.  \\n\\nI think finding a new doctor in NYC that you actually like might almost be as awful as trying to find a date!",
                  "got a letter in the mail last week that said dr. goldberg is moving to arizona to take a new position there in june. he will be missed very much. n ni think finding a new doctor in nyc that you actually like might almost be as awful as trying to find a date!"
                ],
                [
                  "4",
                  "0",
                  "I don't know what Dr. Goldberg was like before  moving to Arizona, but let me tell you, STAY AWAY from this doctor and this office. I was going to Dr. Johnson before he left and Goldberg took over when Johnson left. He is not a caring doctor. He is only interested in the co-pay and having you come in for medication refills every month. He will not give refills and could less about patients's financial situations. Trying to get your 90 days mail away pharmacy prescriptions through this guy is a joke. And to make matters even worse, his office staff is incompetent. 90% of the time when you call the office, they'll put you through to a voice mail, that NO ONE ever answers or returns your call. Both my adult children and husband have decided to leave this practice after experiencing such frustration. The entire office has an attitude like they are doing you a favor. Give me a break! Stay away from this doc and the practice. You deserve better and they will not be there when you really need them. I have never felt compelled to write a bad review about anyone until I met this pathetic excuse for a doctor who is all about the money.",
                  "i don't know what dr. goldberg was like before moving to arizona, but let me tell you, stay away from this doctor and this office. i was going to dr. johnson before he left and goldberg took over when johnson left. he is not a caring doctor. he is only interested in the co pay and having you come in for medication refills every month. he will not give refills and could less about patients's financial situations. trying to get your 90 days mail away pharmacy prescriptions through this guy is a joke. and to make matters even worse, his office staff is incompetent. 90 of the time when you call the office, they'll put you through to a voice mail, that no one ever answers or returns your call. both my adult children and husband have decided to leave this practice after experiencing such frustration. the entire office has an attitude like they are doing you a favor. give me a break! stay away from this doc and the practice. you deserve better and they will not be there when you really need them. i have never felt compelled to write a bad review about anyone until i met this pathetic excuse for a doctor who is all about the money."
                ]
              ],
              "shape": {
                "columns": 3,
                "rows": 5
              }
            },
            "text/html": [
              "<div>\n",
              "<style scoped>\n",
              "    .dataframe tbody tr th:only-of-type {\n",
              "        vertical-align: middle;\n",
              "    }\n",
              "\n",
              "    .dataframe tbody tr th {\n",
              "        vertical-align: top;\n",
              "    }\n",
              "\n",
              "    .dataframe thead th {\n",
              "        text-align: right;\n",
              "    }\n",
              "</style>\n",
              "<table border=\"1\" class=\"dataframe\">\n",
              "  <thead>\n",
              "    <tr style=\"text-align: right;\">\n",
              "      <th></th>\n",
              "      <th>label</th>\n",
              "      <th>text</th>\n",
              "      <th>clean_text</th>\n",
              "    </tr>\n",
              "  </thead>\n",
              "  <tbody>\n",
              "    <tr>\n",
              "      <th>0</th>\n",
              "      <td>4</td>\n",
              "      <td>dr. goldberg offers everything i look for in a...</td>\n",
              "      <td>dr. goldberg offers everything i look for in a...</td>\n",
              "    </tr>\n",
              "    <tr>\n",
              "      <th>1</th>\n",
              "      <td>1</td>\n",
              "      <td>Unfortunately, the frustration of being Dr. Go...</td>\n",
              "      <td>unfortunately, the frustration of being dr. go...</td>\n",
              "    </tr>\n",
              "    <tr>\n",
              "      <th>2</th>\n",
              "      <td>3</td>\n",
              "      <td>Been going to Dr. Goldberg for over 10 years. ...</td>\n",
              "      <td>been going to dr. goldberg for over 10 years. ...</td>\n",
              "    </tr>\n",
              "    <tr>\n",
              "      <th>3</th>\n",
              "      <td>3</td>\n",
              "      <td>Got a letter in the mail last week that said D...</td>\n",
              "      <td>got a letter in the mail last week that said d...</td>\n",
              "    </tr>\n",
              "    <tr>\n",
              "      <th>4</th>\n",
              "      <td>0</td>\n",
              "      <td>I don't know what Dr. Goldberg was like before...</td>\n",
              "      <td>i don't know what dr. goldberg was like before...</td>\n",
              "    </tr>\n",
              "  </tbody>\n",
              "</table>\n",
              "</div>"
            ],
            "text/plain": [
              "   label                                               text  \\\n",
              "0      4  dr. goldberg offers everything i look for in a...   \n",
              "1      1  Unfortunately, the frustration of being Dr. Go...   \n",
              "2      3  Been going to Dr. Goldberg for over 10 years. ...   \n",
              "3      3  Got a letter in the mail last week that said D...   \n",
              "4      0  I don't know what Dr. Goldberg was like before...   \n",
              "\n",
              "                                          clean_text  \n",
              "0  dr. goldberg offers everything i look for in a...  \n",
              "1  unfortunately, the frustration of being dr. go...  \n",
              "2  been going to dr. goldberg for over 10 years. ...  \n",
              "3  got a letter in the mail last week that said d...  \n",
              "4  i don't know what dr. goldberg was like before...  "
            ]
          },
          "execution_count": 34,
          "metadata": {},
          "output_type": "execute_result"
        }
      ],
      "source": [
        "# Apply to train & test data\n",
        "train['clean_text'] = train['text'].apply(clean_text)\n",
        "test['clean_text'] = test['text'].apply(clean_text)\n",
        "\n",
        "train.head()"
      ]
    },
    {
      "cell_type": "code",
      "execution_count": 35,
      "metadata": {},
      "outputs": [
        {
          "data": {
            "text/plain": [
              "(clean_text\n",
              " <class 'str'>    650000\n",
              " Name: count, dtype: int64,\n",
              " clean_text\n",
              " <class 'str'>    50000\n",
              " Name: count, dtype: int64)"
            ]
          },
          "execution_count": 35,
          "metadata": {},
          "output_type": "execute_result"
        }
      ],
      "source": [
        "train['clean_text'].apply(lambda x: type(x)).value_counts(), test['clean_text'].apply(lambda x: type(x)).value_counts()"
      ]
    },
    {
      "cell_type": "code",
      "execution_count": 36,
      "metadata": {},
      "outputs": [
        {
          "data": {
            "text/plain": [
              "(count    650000.000000\n",
              " mean        725.112495\n",
              " std         656.274757\n",
              " min           0.000000\n",
              " 25%         284.000000\n",
              " 50%         534.000000\n",
              " 75%         948.000000\n",
              " max        5574.000000\n",
              " Name: clean_text, dtype: float64,\n",
              " count    50000.000000\n",
              " mean       726.219180\n",
              " std        656.540319\n",
              " min          1.000000\n",
              " 25%        285.000000\n",
              " 50%        535.000000\n",
              " 75%        948.000000\n",
              " max       5098.000000\n",
              " Name: clean_text, dtype: float64)"
            ]
          },
          "execution_count": 36,
          "metadata": {},
          "output_type": "execute_result"
        }
      ],
      "source": [
        "train['clean_text'].apply(len).describe(), test['clean_text'].apply(len).describe()"
      ]
    },
    {
      "cell_type": "markdown",
      "metadata": {},
      "source": [
        "### Cleaning..."
      ]
    },
    {
      "cell_type": "code",
      "execution_count": 37,
      "metadata": {},
      "outputs": [
        {
          "data": {
            "text/plain": [
              "(0, 0)"
            ]
          },
          "execution_count": 37,
          "metadata": {},
          "output_type": "execute_result"
        }
      ],
      "source": [
        "# Map labels as 1-5\n",
        "train['label'] = train['label'].map({0:1, 1:2, 2:3, 3:4, 4:5})\n",
        "test['label'] = test['label'].map({0:1, 1:2, 2:3, 3:4, 4:5})\n",
        "\n",
        "train['label'].isnull().sum(), test['label'].isnull().sum()"
      ]
    },
    {
      "cell_type": "code",
      "execution_count": 38,
      "metadata": {},
      "outputs": [
        {
          "name": "stdout",
          "output_type": "stream",
          "text": [
            "label\n",
            "5    0.2\n",
            "2    0.2\n",
            "4    0.2\n",
            "1    0.2\n",
            "3    0.2\n",
            "Name: proportion, dtype: float64 \n",
            "\n",
            "label\n",
            "1    0.2\n",
            "3    0.2\n",
            "2    0.2\n",
            "4    0.2\n",
            "5    0.2\n",
            "Name: proportion, dtype: float64\n"
          ]
        }
      ],
      "source": [
        "# Check class distribution\n",
        "print(train['label'].value_counts(normalize=True),'\\n')\n",
        "print(test['label'].value_counts(normalize=True))"
      ]
    },
    {
      "cell_type": "code",
      "execution_count": 39,
      "metadata": {},
      "outputs": [
        {
          "name": "stdout",
          "output_type": "stream",
          "text": [
            "label\n",
            "2    0.333333\n",
            "1    0.333333\n",
            "3    0.333333\n",
            "Name: proportion, dtype: float64 \n",
            "\n",
            "label\n",
            "1    0.333333\n",
            "3    0.333333\n",
            "2    0.333333\n",
            "Name: proportion, dtype: float64\n"
          ]
        }
      ],
      "source": [
        "# Drop labels 4 and 5 to focus on negative reviews\n",
        "train = train[train['label'] < 4]\n",
        "test = test[test['label'] < 4]\n",
        "\n",
        "# Check class distribution\n",
        "print(train['label'].value_counts(normalize=True),'\\n')\n",
        "print(test['label'].value_counts(normalize=True))"
      ]
    },
    {
      "cell_type": "code",
      "execution_count": 40,
      "metadata": {},
      "outputs": [
        {
          "data": {
            "text/plain": [
              "(count    390000.000000\n",
              " mean        150.889726\n",
              " std         133.259165\n",
              " min           0.000000\n",
              " 25%          61.000000\n",
              " 50%         113.000000\n",
              " 75%         197.000000\n",
              " max        1048.000000\n",
              " Name: word_count, dtype: float64,\n",
              " count    30000.000000\n",
              " mean       151.207600\n",
              " std        133.136956\n",
              " min          1.000000\n",
              " 25%         61.000000\n",
              " 50%        113.000000\n",
              " 75%        197.000000\n",
              " max       1015.000000\n",
              " Name: word_count, dtype: float64)"
            ]
          },
          "execution_count": 40,
          "metadata": {},
          "output_type": "execute_result"
        }
      ],
      "source": [
        "# Create column for length of review by word count\n",
        "train['word_count'] = train['clean_text'].apply(lambda x: len(x.split()))\n",
        "test['word_count'] = test['clean_text'].apply(lambda x: len(x.split()))\n",
        "\n",
        "train['word_count'].describe(), test['word_count'].describe()"
      ]
    },
    {
      "cell_type": "markdown",
      "metadata": {},
      "source": [
        "#### Visuals"
      ]
    },
    {
      "cell_type": "code",
      "execution_count": 42,
      "metadata": {},
      "outputs": [
        {
          "data": {
            "image/png": "[encoded data removed]",
            "text/plain": [
              "<Figure size 400x800 with 1 Axes>"
            ]
          },
          "metadata": {},
          "output_type": "display_data"
        }
      ],
      "source": [
        "# Word count outliers - Train and test in one plot\n",
        "plt.figure(figsize=(4, 8))\n",
        "\n",
        "# Create a DataFrame to use with seaborn's boxplot\n",
        "combined_data = pd.DataFrame({\n",
        "    'Word Count': pd.concat([train['word_count'], test['word_count']]),\n",
        "    'Dataset': ['Train'] * len(train) + ['Test'] * len(test)\n",
        "})\n",
        "\n",
        "# Create boxplot with dataset on x-axis\n",
        "sns.boxplot(x='Dataset', \n",
        "            y='Word Count', \n",
        "            hue='Dataset', \n",
        "            data=combined_data, \n",
        "            palette={'Train': 'purple', 'Test': 'blue'}, \n",
        "            legend=False)\n",
        "\n",
        "plt.title('Word Count Distribution')\n",
        "plt.ylabel('Word Count')\n",
        "plt.tight_layout()\n",
        "\n",
        "plt.show()"
      ]
    },
    {
      "cell_type": "code",
      "execution_count": 43,
      "metadata": {},
      "outputs": [
        {
          "data": {
            "text/plain": [
              "(32.0, 315.0)"
            ]
          },
          "execution_count": 43,
          "metadata": {},
          "output_type": "execute_result"
        }
      ],
      "source": [
        "# Max word count is 10th percentile, Min is 90th percentile\n",
        "train['word_count'].quantile(0.1), train['word_count'].quantile(0.9)"
      ]
    },
    {
      "cell_type": "code",
      "execution_count": 44,
      "metadata": {},
      "outputs": [
        {
          "name": "stdout",
          "output_type": "stream",
          "text": [
            "(313592, 4) (24013, 4)\n"
          ]
        }
      ],
      "source": [
        "# Filter out if word count is less than 10th percentile and greater than 90th percentile. Too short to be constructive enough to generate insights from.\n",
        "train = train[(train['word_count'] >= train['word_count'].quantile(0.1)) & (train['word_count'] <= train['word_count'].quantile(0.9))]\n",
        "test = test[(test['word_count'] >= test['word_count'].quantile(0.1)) & (test['word_count'] <= test['word_count'].quantile(0.9))]\n",
        "\n",
        "print(train.shape, test.shape)"
      ]
    },
    {
      "cell_type": "code",
      "execution_count": 45,
      "metadata": {},
      "outputs": [
        {
          "data": {
            "image/png": "[encoded data removed]",
            "text/plain": [
              "<Figure size 400x800 with 1 Axes>"
            ]
          },
          "metadata": {},
          "output_type": "display_data"
        }
      ],
      "source": [
        "# Word count outliers - Train and test in one plot\n",
        "plt.figure(figsize=(4, 8))\n",
        "\n",
        "# Create a DataFrame to use with seaborn's boxplot\n",
        "combined_data = pd.DataFrame({\n",
        "    'Word Count': pd.concat([train['word_count'], test['word_count']]),\n",
        "    'Dataset': ['Train'] * len(train) + ['Test'] * len(test)\n",
        "})\n",
        "\n",
        "# Create boxplot with dataset on x-axis\n",
        "sns.boxplot(x='Dataset', \n",
        "            y='Word Count', \n",
        "            hue='Dataset', \n",
        "            data=combined_data, \n",
        "            palette={'Train': 'purple', 'Test': 'blue'}, \n",
        "            legend=False)\n",
        "\n",
        "plt.title('NEW: Word Count Distribution')\n",
        "plt.ylabel('Word Count')\n",
        "plt.tight_layout()\n",
        "\n",
        "plt.show()"
      ]
    },
    {
      "cell_type": "code",
      "execution_count": 46,
      "metadata": {},
      "outputs": [
        {
          "name": "stdout",
          "output_type": "stream",
          "text": [
            "label\n",
            "3    0.338991\n",
            "2    0.336817\n",
            "1    0.324192\n",
            "Name: proportion, dtype: float64 \n",
            "\n",
            "label\n",
            "3    0.338109\n",
            "2    0.337859\n",
            "1    0.324033\n",
            "Name: proportion, dtype: float64\n"
          ]
        }
      ],
      "source": [
        "# Check class distribution\n",
        "print(train['label'].value_counts(normalize=True),'\\n')\n",
        "print(test['label'].value_counts(normalize=True))"
      ]
    },
    {
      "cell_type": "code",
      "execution_count": 47,
      "metadata": {},
      "outputs": [
        {
          "data": {
            "application/vnd.microsoft.datawrangler.viewer.v0+json": {
              "columns": [
                {
                  "name": "index",
                  "rawType": "int64",
                  "type": "integer"
                },
                {
                  "name": "label",
                  "rawType": "int64",
                  "type": "integer"
                },
                {
                  "name": "text",
                  "rawType": "object",
                  "type": "string"
                },
                {
                  "name": "clean_text",
                  "rawType": "object",
                  "type": "string"
                },
                {
                  "name": "word_count",
                  "rawType": "int64",
                  "type": "integer"
                }
              ],
              "conversionMethod": "pd.DataFrame",
              "ref": "22f63d0d-78bb-4f9a-ab07-a7e1321ed37d",
              "rows": [
                [
                  "1",
                  "2",
                  "Unfortunately, the frustration of being Dr. Goldberg's patient is a repeat of the experience I've had with so many other doctors in NYC -- good doctor, terrible staff.  It seems that his staff simply never answers the phone.  It usually takes 2 hours of repeated calling to get an answer.  Who has time for that or wants to deal with it?  I have run into this problem with many other doctors and I just don't get it.  You have office workers, you have patients with medical needs, why isn't anyone answering the phone?  It's incomprehensible and not work the aggravation.  It's with regret that I feel that I have to give Dr. Goldberg 2 stars.",
                  "unfortunately, the frustration of being dr. goldberg's patient is a repeat of the experience i've had with so many other doctors in nyc good doctor, terrible staff. it seems that his staff simply never answers the phone. it usually takes 2 hours of repeated calling to get an answer. who has time for that or wants to deal with it? i have run into this problem with many other doctors and i just don't get it. you have office workers, you have patients with medical needs, why isn't anyone answering the phone? it's incomprehensible and not work the aggravation. it's with regret that i feel that i have to give dr. goldberg 2 stars.",
                  "114"
                ],
                [
                  "4",
                  "1",
                  "I don't know what Dr. Goldberg was like before  moving to Arizona, but let me tell you, STAY AWAY from this doctor and this office. I was going to Dr. Johnson before he left and Goldberg took over when Johnson left. He is not a caring doctor. He is only interested in the co-pay and having you come in for medication refills every month. He will not give refills and could less about patients's financial situations. Trying to get your 90 days mail away pharmacy prescriptions through this guy is a joke. And to make matters even worse, his office staff is incompetent. 90% of the time when you call the office, they'll put you through to a voice mail, that NO ONE ever answers or returns your call. Both my adult children and husband have decided to leave this practice after experiencing such frustration. The entire office has an attitude like they are doing you a favor. Give me a break! Stay away from this doc and the practice. You deserve better and they will not be there when you really need them. I have never felt compelled to write a bad review about anyone until I met this pathetic excuse for a doctor who is all about the money.",
                  "i don't know what dr. goldberg was like before moving to arizona, but let me tell you, stay away from this doctor and this office. i was going to dr. johnson before he left and goldberg took over when johnson left. he is not a caring doctor. he is only interested in the co pay and having you come in for medication refills every month. he will not give refills and could less about patients's financial situations. trying to get your 90 days mail away pharmacy prescriptions through this guy is a joke. and to make matters even worse, his office staff is incompetent. 90 of the time when you call the office, they'll put you through to a voice mail, that no one ever answers or returns your call. both my adult children and husband have decided to leave this practice after experiencing such frustration. the entire office has an attitude like they are doing you a favor. give me a break! stay away from this doc and the practice. you deserve better and they will not be there when you really need them. i have never felt compelled to write a bad review about anyone until i met this pathetic excuse for a doctor who is all about the money.",
                  "212"
                ],
                [
                  "7",
                  "1",
                  "I'm writing this review to give you a heads up before you see this Doctor. The office staff and administration are very unprofessional. I left a message with multiple people regarding my bill, and no one ever called me back. I had to hound them to get an answer about my bill. \\n\\nSecond, and most important, make sure your insurance is going to cover Dr. Goldberg's visits and blood work. He recommended to me that I get a physical, and he knew I was a student because I told him. I got the physical done. Later, I found out my health insurance doesn't pay for preventative visits. I received an $800.00 bill for the blood work. I can't pay for my bill because I'm a student and don't have any cash flow at this current time. I can't believe the Doctor wouldn't give me a heads up to make sure my insurance would cover work that wasn't necessary and was strictly preventative. The office can't do anything to help me cover the bill. In addition, the office staff said the onus is on me to make sure my insurance covers visits. Frustrating situation!",
                  "i'm writing this review to give you a heads up before you see this doctor. the office staff and administration are very unprofessional. i left a message with multiple people regarding my bill, and no one ever called me back. i had to hound them to get an answer about my bill. n nsecond, and most important, make sure your insurance is going to cover dr. goldberg's visits and blood work. he recommended to me that i get a physical, and he knew i was a student because i told him. i got the physical done. later, i found out my health insurance doesn't pay for preventative visits. i received an 800.00 bill for the blood work. i can't pay for my bill because i'm a student and don't have any cash flow at this current time. i can't believe the doctor wouldn't give me a heads up to make sure my insurance would cover work that wasn't necessary and was strictly preventative. the office can't do anything to help me cover the bill. in addition, the office staff said the onus is on me to make sure my insurance covers visits. frustrating situation!",
                  "194"
                ],
                [
                  "8",
                  "2",
                  "Wing sauce is like water. Pretty much a lot of butter and some hot sauce (franks red hot maybe).  The whole wings are good size and crispy, but for $1 a wing the sauce could be better. The hot and extra hot are about the same flavor/heat.  The fish sandwich is good and is a large portion, sides are decent.",
                  "wing sauce is like water. pretty much a lot of butter and some hot sauce franks red hot maybe . the whole wings are good size and crispy, but for 1 a wing the sauce could be better. the hot and extra hot are about the same flavor heat. the fish sandwich is good and is a large portion, sides are decent.",
                  "62"
                ],
                [
                  "9",
                  "3",
                  "Decent range somewhat close to the city.  The mats are pretty solid; however, the grass range needs to be tended too.  It's like hitting out of US Open type rough...not very amenable to practicing.  Which kind of defeats the purpose of going to a golf range...Still gets 3 stars because the range is lit up at night which is excellent for those of us who are addicted to this amazing game, but are somewhat short on time (having a job kinda sucks sometimes, no?).",
                  "decent range somewhat close to the city. the mats are pretty solid however, the grass range needs to be tended too. it's like hitting out of us open type rough...not very amenable to practicing. which kind of defeats the purpose of going to a golf range...still gets 3 stars because the range is lit up at night which is excellent for those of us who are addicted to this amazing game, but are somewhat short on time having a job kinda sucks sometimes, no? .",
                  "85"
                ]
              ],
              "shape": {
                "columns": 4,
                "rows": 5
              }
            },
            "text/html": [
              "<div>\n",
              "<style scoped>\n",
              "    .dataframe tbody tr th:only-of-type {\n",
              "        vertical-align: middle;\n",
              "    }\n",
              "\n",
              "    .dataframe tbody tr th {\n",
              "        vertical-align: top;\n",
              "    }\n",
              "\n",
              "    .dataframe thead th {\n",
              "        text-align: right;\n",
              "    }\n",
              "</style>\n",
              "<table border=\"1\" class=\"dataframe\">\n",
              "  <thead>\n",
              "    <tr style=\"text-align: right;\">\n",
              "      <th></th>\n",
              "      <th>label</th>\n",
              "      <th>text</th>\n",
              "      <th>clean_text</th>\n",
              "      <th>word_count</th>\n",
              "    </tr>\n",
              "  </thead>\n",
              "  <tbody>\n",
              "    <tr>\n",
              "      <th>1</th>\n",
              "      <td>2</td>\n",
              "      <td>Unfortunately, the frustration of being Dr. Go...</td>\n",
              "      <td>unfortunately, the frustration of being dr. go...</td>\n",
              "      <td>114</td>\n",
              "    </tr>\n",
              "    <tr>\n",
              "      <th>4</th>\n",
              "      <td>1</td>\n",
              "      <td>I don't know what Dr. Goldberg was like before...</td>\n",
              "      <td>i don't know what dr. goldberg was like before...</td>\n",
              "      <td>212</td>\n",
              "    </tr>\n",
              "    <tr>\n",
              "      <th>7</th>\n",
              "      <td>1</td>\n",
              "      <td>I'm writing this review to give you a heads up...</td>\n",
              "      <td>i'm writing this review to give you a heads up...</td>\n",
              "      <td>194</td>\n",
              "    </tr>\n",
              "    <tr>\n",
              "      <th>8</th>\n",
              "      <td>2</td>\n",
              "      <td>Wing sauce is like water. Pretty much a lot of...</td>\n",
              "      <td>wing sauce is like water. pretty much a lot of...</td>\n",
              "      <td>62</td>\n",
              "    </tr>\n",
              "    <tr>\n",
              "      <th>9</th>\n",
              "      <td>3</td>\n",
              "      <td>Decent range somewhat close to the city.  The ...</td>\n",
              "      <td>decent range somewhat close to the city. the m...</td>\n",
              "      <td>85</td>\n",
              "    </tr>\n",
              "  </tbody>\n",
              "</table>\n",
              "</div>"
            ],
            "text/plain": [
              "   label                                               text  \\\n",
              "1      2  Unfortunately, the frustration of being Dr. Go...   \n",
              "4      1  I don't know what Dr. Goldberg was like before...   \n",
              "7      1  I'm writing this review to give you a heads up...   \n",
              "8      2  Wing sauce is like water. Pretty much a lot of...   \n",
              "9      3  Decent range somewhat close to the city.  The ...   \n",
              "\n",
              "                                          clean_text  word_count  \n",
              "1  unfortunately, the frustration of being dr. go...         114  \n",
              "4  i don't know what dr. goldberg was like before...         212  \n",
              "7  i'm writing this review to give you a heads up...         194  \n",
              "8  wing sauce is like water. pretty much a lot of...          62  \n",
              "9  decent range somewhat close to the city. the m...          85  "
            ]
          },
          "metadata": {},
          "output_type": "display_data"
        },
        {
          "data": {
            "application/vnd.microsoft.datawrangler.viewer.v0+json": {
              "columns": [
                {
                  "name": "index",
                  "rawType": "int64",
                  "type": "integer"
                },
                {
                  "name": "label",
                  "rawType": "int64",
                  "type": "integer"
                },
                {
                  "name": "text",
                  "rawType": "object",
                  "type": "string"
                },
                {
                  "name": "clean_text",
                  "rawType": "object",
                  "type": "string"
                },
                {
                  "name": "word_count",
                  "rawType": "int64",
                  "type": "integer"
                }
              ],
              "conversionMethod": "pd.DataFrame",
              "ref": "3c7a5db6-aada-4d49-bcec-f6a3a1201bf4",
              "rows": [
                [
                  "0",
                  "1",
                  "I got 'new' tires from them and within two weeks got a flat. I took my car to a local mechanic to see if i could get the hole patched, but they said the reason I had a flat was because the previous patch had blown - WAIT, WHAT? I just got the tire and never needed to have it patched? This was supposed to be a new tire. \\nI took the tire over to Flynn's and they told me that someone punctured my tire, then tried to patch it. So there are resentful tire slashers? I find that very unlikely. After arguing with the guy and telling him that his logic was far fetched he said he'd give me a new tire \\\"this time\\\". \\nI will never go back to Flynn's b/c of the way this guy treated me and the simple fact that they gave me a used tire!",
                  "i got 'new' tires from them and within two weeks got a flat. i took my car to a local mechanic to see if i could get the hole patched, but they said the reason i had a flat was because the previous patch had blown wait, what? i just got the tire and never needed to have it patched? this was supposed to be a new tire. ni took the tire over to flynn's and they told me that someone punctured my tire, then tried to patch it. so there are resentful tire slashers? i find that very unlikely. after arguing with the guy and telling him that his logic was far fetched he said he'd give me a new tire this time . ni will never go back to flynn's b c of the way this guy treated me and the simple fact that they gave me a used tire!",
                  "152"
                ],
                [
                  "1",
                  "1",
                  "Don't waste your time.  We had two different people come to our house to give us estimates for a deck (one of them the OWNER).  Both times, we never heard from them.  Not a call, not the estimate, nothing.",
                  "don't waste your time. we had two different people come to our house to give us estimates for a deck one of them the owner . both times, we never heard from them. not a call, not the estimate, nothing.",
                  "40"
                ],
                [
                  "2",
                  "1",
                  "All I can say is the worst! We were the only 2 people in the place for lunch, the place was freezing and loaded with kids toys! 2 bicycles, a scooter, and an electronic keyboard graced the dining room. A fish tank with filthy, slimy fingerprints smeared all over it is there for your enjoyment.\\n\\nOur food came... no water to drink, no tea, medium temperature food. Of course its cold, just like the room, I never took my jacket off! The plates are too small, you food spills over onto some semi-clean tables as you sit in your completely worn out booth seat. The fried noodles were out of a box and nasty, the shrimp was mushy, the fried rice was bright yellow.\\n\\nWe asked for water, they brought us 1 in a SOLO cup for 2 people. I asked for hot tea, they said 10 minutes. What Chinese restaurant does not have hot tea available upon request?\\n\\nOver all.... my first and last visit to this place. The only good point was that it was cheap, and deservingly so.",
                  "all i can say is the worst! we were the only 2 people in the place for lunch, the place was freezing and loaded with kids toys! 2 bicycles, a scooter, and an electronic keyboard graced the dining room. a fish tank with filthy, slimy fingerprints smeared all over it is there for your enjoyment. n nour food came... no water to drink, no tea, medium temperature food. of course its cold, just like the room, i never took my jacket off! the plates are too small, you food spills over onto some semi clean tables as you sit in your completely worn out booth seat. the fried noodles were out of a box and nasty, the shrimp was mushy, the fried rice was bright yellow. n nwe asked for water, they brought us 1 in a solo cup for 2 people. i asked for hot tea, they said 10 minutes. what chinese restaurant does not have hot tea available upon request? n nover all.... my first and last visit to this place. the only good point was that it was cheap, and deservingly so.",
                  "185"
                ],
                [
                  "3",
                  "1",
                  "I have been to this restaurant twice and was disappointed both times. I won't go back. The first time we were there almost 3 hours. It took forever to order and then forever for our food to come and the place was empty. When I complained the manager was very rude and tried to blame us for taking to long to order. It made no sense, how could we order when the waitress wasn't coming to the table? After arguing with me he ended up taking $6 off of our $200+ bill. Ridiculous. If it were up to me I would have never returned. Unfortunately my family decided to go here again tonight. Again it took a long time to get our food. My food was cold and bland, my kids food was cold. My husbands salmon was burnt to a crisp and my sister in law took one bite of her trout and refused to eat any more because she claims it was so disgusting. The wedding soup and bread were good, but that's it! My drink sat empty throughout my meal and never got refilled even when I asked. Bad food, slow service and rude managers. I'll pass on this place if my family decides to go again. Not worth it at all with all the other good Italian options around.",
                  "i have been to this restaurant twice and was disappointed both times. i won't go back. the first time we were there almost 3 hours. it took forever to order and then forever for our food to come and the place was empty. when i complained the manager was very rude and tried to blame us for taking to long to order. it made no sense, how could we order when the waitress wasn't coming to the table? after arguing with me he ended up taking 6 off of our 200 bill. ridiculous. if it were up to me i would have never returned. unfortunately my family decided to go here again tonight. again it took a long time to get our food. my food was cold and bland, my kids food was cold. my husbands salmon was burnt to a crisp and my sister in law took one bite of her trout and refused to eat any more because she claims it was so disgusting. the wedding soup and bread were good, but that's it! my drink sat empty throughout my meal and never got refilled even when i asked. bad food, slow service and rude managers. i'll pass on this place if my family decides to go again. not worth it at all with all the other good italian options around.",
                  "223"
                ],
                [
                  "4",
                  "1",
                  "Food was NOT GOOD at all! My husband & I ate here a couple weeks ago for the first time. I ordered a salad & basil pesto cream pasta & my husband ordered the spinach & feta pasta. The salad was just a huge plate of spring mix (nothing else in it) with WAY to much vinegar dressing. My lettuce was drowning in the vinegar. My pesto pasta had no flavor (did not taste like a cream sauce to me) & the pesto was so runny/watery & way too much sauce not enough noodles. My husband's pasta had even less flavor than mine. We ate about a quarter of the food & couldn't even finish it. We took it home & it was so bad I didn't even eat my leftovers. And I hate wasting food!! Plus the prices are expensive for the amount of food you get & of course the poor quality. Don't waste your time eating here. There are much better Italian restaurants in Pittsburgh.",
                  "food was not good at all! my husband i ate here a couple weeks ago for the first time. i ordered a salad basil pesto cream pasta my husband ordered the spinach feta pasta. the salad was just a huge plate of spring mix nothing else in it with way to much vinegar dressing. my lettuce was drowning in the vinegar. my pesto pasta had no flavor did not taste like a cream sauce to me the pesto was so runny watery way too much sauce not enough noodles. my husband's pasta had even less flavor than mine. we ate about a quarter of the food couldn't even finish it. we took it home it was so bad i didn't even eat my leftovers. and i hate wasting food!! plus the prices are expensive for the amount of food you get of course the poor quality. don't waste your time eating here. there are much better italian restaurants in pittsburgh.",
                  "160"
                ]
              ],
              "shape": {
                "columns": 4,
                "rows": 5
              }
            },
            "text/html": [
              "<div>\n",
              "<style scoped>\n",
              "    .dataframe tbody tr th:only-of-type {\n",
              "        vertical-align: middle;\n",
              "    }\n",
              "\n",
              "    .dataframe tbody tr th {\n",
              "        vertical-align: top;\n",
              "    }\n",
              "\n",
              "    .dataframe thead th {\n",
              "        text-align: right;\n",
              "    }\n",
              "</style>\n",
              "<table border=\"1\" class=\"dataframe\">\n",
              "  <thead>\n",
              "    <tr style=\"text-align: right;\">\n",
              "      <th></th>\n",
              "      <th>label</th>\n",
              "      <th>text</th>\n",
              "      <th>clean_text</th>\n",
              "      <th>word_count</th>\n",
              "    </tr>\n",
              "  </thead>\n",
              "  <tbody>\n",
              "    <tr>\n",
              "      <th>0</th>\n",
              "      <td>1</td>\n",
              "      <td>I got 'new' tires from them and within two wee...</td>\n",
              "      <td>i got 'new' tires from them and within two wee...</td>\n",
              "      <td>152</td>\n",
              "    </tr>\n",
              "    <tr>\n",
              "      <th>1</th>\n",
              "      <td>1</td>\n",
              "      <td>Don't waste your time.  We had two different p...</td>\n",
              "      <td>don't waste your time. we had two different pe...</td>\n",
              "      <td>40</td>\n",
              "    </tr>\n",
              "    <tr>\n",
              "      <th>2</th>\n",
              "      <td>1</td>\n",
              "      <td>All I can say is the worst! We were the only 2...</td>\n",
              "      <td>all i can say is the worst! we were the only 2...</td>\n",
              "      <td>185</td>\n",
              "    </tr>\n",
              "    <tr>\n",
              "      <th>3</th>\n",
              "      <td>1</td>\n",
              "      <td>I have been to this restaurant twice and was d...</td>\n",
              "      <td>i have been to this restaurant twice and was d...</td>\n",
              "      <td>223</td>\n",
              "    </tr>\n",
              "    <tr>\n",
              "      <th>4</th>\n",
              "      <td>1</td>\n",
              "      <td>Food was NOT GOOD at all! My husband &amp; I ate h...</td>\n",
              "      <td>food was not good at all! my husband i ate her...</td>\n",
              "      <td>160</td>\n",
              "    </tr>\n",
              "  </tbody>\n",
              "</table>\n",
              "</div>"
            ],
            "text/plain": [
              "   label                                               text  \\\n",
              "0      1  I got 'new' tires from them and within two wee...   \n",
              "1      1  Don't waste your time.  We had two different p...   \n",
              "2      1  All I can say is the worst! We were the only 2...   \n",
              "3      1  I have been to this restaurant twice and was d...   \n",
              "4      1  Food was NOT GOOD at all! My husband & I ate h...   \n",
              "\n",
              "                                          clean_text  word_count  \n",
              "0  i got 'new' tires from them and within two wee...         152  \n",
              "1  don't waste your time. we had two different pe...          40  \n",
              "2  all i can say is the worst! we were the only 2...         185  \n",
              "3  i have been to this restaurant twice and was d...         223  \n",
              "4  food was not good at all! my husband i ate her...         160  "
            ]
          },
          "metadata": {},
          "output_type": "display_data"
        },
        {
          "data": {
            "text/plain": [
              "(None, None)"
            ]
          },
          "execution_count": 47,
          "metadata": {},
          "output_type": "execute_result"
        }
      ],
      "source": [
        "display(train.head()), display(test.head())"
      ]
    },
    {
      "cell_type": "markdown",
      "metadata": {},
      "source": [
        "### Splitting..."
      ]
    },
    {
      "cell_type": "code",
      "execution_count": 52,
      "metadata": {},
      "outputs": [
        {
          "data": {
            "text/plain": [
              "((313592, 4), (24013, 4))"
            ]
          },
          "execution_count": 52,
          "metadata": {},
          "output_type": "execute_result"
        }
      ],
      "source": [
        "train.shape, test.shape # I'm splitting the data into 3 parts, It helps with computing, and this way, I can finetune phi-2 on an as-needed basis. I guess I have to do this for the test set as well."
      ]
    },
    {
      "cell_type": "code",
      "execution_count": 54,
      "metadata": {},
      "outputs": [],
      "source": [
        "from sklearn.model_selection import StratifiedKFold\n",
        "\n",
        "# Multiple stratified samples of specified sizes from train and test datasets.\n",
        "def create_balanced_samples(train_df, test_df, label_column, train_sizes=[10000, 5000], test_sizes=[2000, 1000]):\n",
        "    \"\"\"\n",
        "    Creates multiple perfectly balanced samples from train and test datasets.\n",
        "    Each class/label will have exactly the same number of samples.\n",
        "    \n",
        "    Args:\n",
        "        train_df: Training dataframe\n",
        "        test_df: Testing dataframe\n",
        "        label_column: Column name for stratification\n",
        "        train_sizes: List of sample sizes for training data\n",
        "        test_sizes: List of sample sizes for testing data\n",
        "        \n",
        "    Returns:\n",
        "        List of training samples and list of test samples\n",
        "    \"\"\"\n",
        "    train_samples = []\n",
        "    test_samples = []\n",
        "    \n",
        "    # Get unique labels\n",
        "    train_labels = train_df[label_column].unique()\n",
        "    test_labels = test_df[label_column].unique()\n",
        "    \n",
        "    # Create training samples\n",
        "    for size in train_sizes:\n",
        "        samples_per_class = size // len(train_labels)\n",
        "        balanced_sample = pd.DataFrame()\n",
        "        \n",
        "        for label in train_labels:\n",
        "            class_data = train_df[train_df[label_column] == label]\n",
        "            if len(class_data) < samples_per_class:\n",
        "                print(f\"Warning: Not enough samples for label {label} in training data. Using all {len(class_data)} samples.\")\n",
        "                sampled_class = class_data\n",
        "            else:\n",
        "                sampled_class = class_data.sample(samples_per_class, random_state=12)\n",
        "            \n",
        "            balanced_sample = pd.concat([balanced_sample, sampled_class])\n",
        "        \n",
        "        train_samples.append(balanced_sample)\n",
        "    \n",
        "    # Create test samples\n",
        "    for size in test_sizes:\n",
        "        samples_per_class = size // len(test_labels)\n",
        "        balanced_sample = pd.DataFrame()\n",
        "        \n",
        "        for label in test_labels:\n",
        "            class_data = test_df[test_df[label_column] == label]\n",
        "            if len(class_data) < samples_per_class:\n",
        "                print(f\"Warning: Not enough samples for label {label} in test data. Using all {len(class_data)} samples.\")\n",
        "                sampled_class = class_data\n",
        "            else:\n",
        "                sampled_class = class_data.sample(samples_per_class, random_state=12)\n",
        "            \n",
        "            balanced_sample = pd.concat([balanced_sample, sampled_class])\n",
        "        \n",
        "        test_samples.append(balanced_sample)\n",
        "    \n",
        "    return train_samples, test_samples\n",
        "\n",
        "# Use\n",
        "train_samples, test_samples = create_balanced_samples(\n",
        "    train, \n",
        "    test, \n",
        "    label_column='label', \n",
        "    train_sizes=[10000, 5000], \n",
        "    test_sizes=[2000, 1000]\n",
        ")\n",
        "\n",
        "# Samples\n",
        "train_10k = train_samples[0]\n",
        "train_5k = train_samples[1]\n",
        "test_2k = test_samples[0]\n",
        "test_1k = test_samples[1]"
      ]
    },
    {
      "cell_type": "code",
      "execution_count": 55,
      "metadata": {},
      "outputs": [
        {
          "name": "stdout",
          "output_type": "stream",
          "text": [
            "Train sample 1 shape: (9999, 4)\n",
            "Label distribution: label\n",
            "2    0.333333\n",
            "1    0.333333\n",
            "3    0.333333\n",
            "Name: proportion, dtype: float64\n",
            "Train sample 2 shape: (4998, 4)\n",
            "Label distribution: label\n",
            "2    0.333333\n",
            "1    0.333333\n",
            "3    0.333333\n",
            "Name: proportion, dtype: float64\n",
            "\n",
            "\n",
            "Test sample 1 shape: (1998, 4)\n",
            "Label distribution: label\n",
            "1    0.333333\n",
            "3    0.333333\n",
            "2    0.333333\n",
            "Name: proportion, dtype: float64\n",
            "Test sample 2 shape: (999, 4)\n",
            "Label distribution: label\n",
            "1    0.333333\n",
            "3    0.333333\n",
            "2    0.333333\n",
            "Name: proportion, dtype: float64\n"
          ]
        }
      ],
      "source": [
        "# Verify sizes and distributions\n",
        "for i, sample in enumerate(train_samples):\n",
        "    print(f\"Train sample {i+1} shape: {sample.shape}\")\n",
        "    print(f\"Label distribution: {sample['label'].value_counts(normalize=True)}\")\n",
        "\n",
        "print(\"\\n\")\n",
        "\n",
        "for i, sample in enumerate(test_samples):\n",
        "    print(f\"Test sample {i+1} shape: {sample.shape}\")\n",
        "    print(f\"Label distribution: {sample['label'].value_counts(normalize=True)}\")"
      ]
    },
    {
      "cell_type": "markdown",
      "metadata": {},
      "source": [
        "### Saving"
      ]
    },
    {
      "cell_type": "code",
      "execution_count": 56,
      "metadata": {
        "id": "nkpFz_yZTM0b"
      },
      "outputs": [],
      "source": [
        "# Create the directory if it doesn't exist\n",
        "save_here = \"../data/for_step_1/\"\n",
        "if not os.path.exists(save_here):\n",
        "    os.makedirs(save_here)"
      ]
    },
    {
      "cell_type": "code",
      "execution_count": 57,
      "metadata": {
        "colab": {
          "base_uri": "https://localhost:8080/"
        },
        "id": "z_onb1ipSwqg",
        "outputId": "72650287-7827-426a-8827-30addb705ffa"
      },
      "outputs": [
        {
          "name": "stdout",
          "output_type": "stream",
          "text": [
            "File train_samples_1.csv saved successfully!\n",
            "File train_samples_2.csv saved successfully!\n",
            "\n",
            "\n",
            "\n",
            "File test_samples_1.csv saved successfully!\n",
            "File test_samples_2.csv saved successfully!\n"
          ]
        }
      ],
      "source": [
        "train_dfs = [train_10k, train_5k]\n",
        "test_dfs = [test_2k, test_1k]\n",
        "\n",
        "# Save the splits\n",
        "for i, df in enumerate(train_dfs):\n",
        "    df.to_csv(save_here + f'train_samples_{i+1}.csv', index=False)\n",
        "    if save_here + f'train_samples_{i+1}.csv':\n",
        "        print(f\"File train_samples_{i+1}.csv saved successfully!\")\n",
        "\n",
        "print(\"\\n\\n\")\n",
        "        \n",
        "for i, df in enumerate(test_dfs):\n",
        "    df.to_csv(save_here + f'test_samples_{i+1}.csv', index=False)\n",
        "    if save_here + f'test_samples_{i+1}.csv':\n",
        "        print(f\"File test_samples_{i+1}.csv saved successfully!\")"
      ]
    },
    {
      "cell_type": "markdown",
      "metadata": {},
      "source": [
        "# Step 1"
      ]
    },
    {
      "cell_type": "code",
      "execution_count": 58,
      "metadata": {
        "id": "jfO7R47IUWtI"
      },
      "outputs": [
        {
          "name": "stdout",
          "output_type": "stream",
          "text": [
            "Train: (9999, 4) (4998, 4)\n",
            "Test: (1998, 4) (999, 4)\n"
          ]
        }
      ],
      "source": [
        "# Create the directory if it doesn't exist\n",
        "save_here = \"../data/for_step_1/\"\n",
        "if not os.path.exists(save_here):\n",
        "    os.makedirs(save_here)\n",
        "\n",
        "# Load train and test data\n",
        "train10k = pd.read_csv(save_here + 'train_samples_1.csv')\n",
        "train5k = pd.read_csv(save_here + 'train_samples_2.csv')\n",
        "\n",
        "test2k = pd.read_csv(save_here + 'test_samples_1.csv')\n",
        "test1k = pd.read_csv(save_here + 'test_samples_2.csv')\n",
        "\n",
        "print('Train:', train10k.shape, train5k.shape)\n",
        "print('Test:', test2k.shape, test1k.shape)"
      ]
    },
    {
      "cell_type": "markdown",
      "metadata": {},
      "source": [
        "#### Initializing the Model"
      ]
    },
    {
      "cell_type": "code",
      "execution_count": 59,
      "metadata": {
        "id": "oBZq0ZtpPugW"
      },
      "outputs": [],
      "source": [
        "# Imports\n",
        "import time\n",
        "import torch\n",
        "from transformers import AutoTokenizer, AutoModelForSequenceClassification"
      ]
    },
    {
      "cell_type": "code",
      "execution_count": 60,
      "metadata": {},
      "outputs": [],
      "source": [
        "# Clear CUDA cache\n",
        "torch.cuda.empty_cache()"
      ]
    },
    {
      "cell_type": "code",
      "execution_count": 61,
      "metadata": {
        "id": "S4Vhar_OUcPv"
      },
      "outputs": [],
      "source": [
        "# Load SamLowe's GoEmotions model\n",
        "model_name = \"SamLowe/roberta-base-go_emotions\"\n",
        "tokenizer = AutoTokenizer.from_pretrained(model_name)\n",
        "model = AutoModelForSequenceClassification.from_pretrained(model_name)"
      ]
    },
    {
      "cell_type": "code",
      "execution_count": 62,
      "metadata": {},
      "outputs": [
        {
          "data": {
            "text/plain": [
              "RobertaForSequenceClassification(\n",
              "  (roberta): RobertaModel(\n",
              "    (embeddings): RobertaEmbeddings(\n",
              "      (word_embeddings): Embedding(50265, 768, padding_idx=1)\n",
              "      (position_embeddings): Embedding(514, 768, padding_idx=1)\n",
              "      (token_type_embeddings): Embedding(1, 768)\n",
              "      (LayerNorm): LayerNorm((768,), eps=1e-05, elementwise_affine=True)\n",
              "      (dropout): Dropout(p=0.1, inplace=False)\n",
              "    )\n",
              "    (encoder): RobertaEncoder(\n",
              "      (layer): ModuleList(\n",
              "        (0-11): 12 x RobertaLayer(\n",
              "          (attention): RobertaAttention(\n",
              "            (self): RobertaSdpaSelfAttention(\n",
              "              (query): Linear(in_features=768, out_features=768, bias=True)\n",
              "              (key): Linear(in_features=768, out_features=768, bias=True)\n",
              "              (value): Linear(in_features=768, out_features=768, bias=True)\n",
              "              (dropout): Dropout(p=0.1, inplace=False)\n",
              "            )\n",
              "            (output): RobertaSelfOutput(\n",
              "              (dense): Linear(in_features=768, out_features=768, bias=True)\n",
              "              (LayerNorm): LayerNorm((768,), eps=1e-05, elementwise_affine=True)\n",
              "              (dropout): Dropout(p=0.1, inplace=False)\n",
              "            )\n",
              "          )\n",
              "          (intermediate): RobertaIntermediate(\n",
              "            (dense): Linear(in_features=768, out_features=3072, bias=True)\n",
              "            (intermediate_act_fn): GELUActivation()\n",
              "          )\n",
              "          (output): RobertaOutput(\n",
              "            (dense): Linear(in_features=3072, out_features=768, bias=True)\n",
              "            (LayerNorm): LayerNorm((768,), eps=1e-05, elementwise_affine=True)\n",
              "            (dropout): Dropout(p=0.1, inplace=False)\n",
              "          )\n",
              "        )\n",
              "      )\n",
              "    )\n",
              "  )\n",
              "  (classifier): RobertaClassificationHead(\n",
              "    (dense): Linear(in_features=768, out_features=768, bias=True)\n",
              "    (dropout): Dropout(p=0.1, inplace=False)\n",
              "    (out_proj): Linear(in_features=768, out_features=28, bias=True)\n",
              "  )\n",
              ")"
            ]
          },
          "execution_count": 62,
          "metadata": {},
          "output_type": "execute_result"
        }
      ],
      "source": [
        "# Move the model to GPU\n",
        "device = torch.device(\"cuda\" if torch.cuda.is_available() else \"cpu\") # I did install cuda for this\n",
        "model.to(device) \n",
        "model.eval()  # Set to evaluation mode"
      ]
    },
    {
      "cell_type": "markdown",
      "metadata": {},
      "source": [
        "#### Tokenize"
      ]
    },
    {
      "cell_type": "code",
      "execution_count": 63,
      "metadata": {},
      "outputs": [
        {
          "name": "stdout",
          "output_type": "stream",
          "text": [
            "Using GPU: 0 - NVIDIA GeForce RTX 3060\n",
            "PyTorch version: 2.5.1+cu121\n",
            "CUDA Available: True\n",
            "CUDA device count: 1\n",
            "CUDA device name: NVIDIA GeForce RTX 3060\n",
            "GPU memory allocated: 499.97 MB\n",
            "GPU memory cached: 555.75 MB\n"
          ]
        }
      ],
      "source": [
        "# Print the current GPU being used\n",
        "current_device = torch.cuda.current_device()\n",
        "print(f\"Using GPU: {current_device} - {torch.cuda.get_device_name(current_device)}\")\n",
        "\n",
        "print(f\"PyTorch version: {torch.__version__}\")\n",
        "print(\"CUDA Available:\", torch.cuda.is_available())\n",
        "if torch.cuda.is_available():\n",
        "    print(f\"CUDA device count: {torch.cuda.device_count()}\")\n",
        "    print(f\"CUDA device name: {torch.cuda.get_device_name(0)}\")\n",
        "else:\n",
        "    print(\"CUDA is not available. Check your installation.\")\n",
        "\n",
        "# Print GPU memory usage\n",
        "print(f\"GPU memory allocated: {torch.cuda.memory_allocated()/1e6:.2f} MB\")\n",
        "print(f\"GPU memory cached: {torch.cuda.memory_reserved()/1e6:.2f} MB\")"
      ]
    },
    {
      "cell_type": "code",
      "execution_count": 64,
      "metadata": {},
      "outputs": [
        {
          "name": "stdout",
          "output_type": "stream",
          "text": [
            "Original Text: the cashier told my husband that should he get change and the air machine just don't work don't come back in asking for a refund. this location the employees are uneducated on any kind of hospitality when having contact with human customers. i just don't care for employees who have a rude attitude. how do store owners proudly have a rude person as a cashier? well let's see how that will work out for them. attention all friends the people are rude at this location.\n",
            "Tokenized Output: {'input_ids': tensor([[    0,   627,  1055,   906,   174,   127,  1623,    14,   197,    37,\n",
            "           120,   464,     8,     5,   935,  3563,    95,   218,    75,   173,\n",
            "           218,    75,   283,   124,    11,  1996,    13,    10, 12173,     4,\n",
            "            42,  2259,     5,  1321,    32,   542, 26414,    15,   143,   761,\n",
            "             9, 13779,    77,   519,  1511,    19,  1050,   916,     4,   939,\n",
            "            95,   218,    75,   575,    13,  1321,    54,    33,    10, 21820,\n",
            "          6784,     4,   141,     2]]), 'attention_mask': tensor([[1, 1, 1, 1, 1, 1, 1, 1, 1, 1, 1, 1, 1, 1, 1, 1, 1, 1, 1, 1, 1, 1, 1, 1,\n",
            "         1, 1, 1, 1, 1, 1, 1, 1, 1, 1, 1, 1, 1, 1, 1, 1, 1, 1, 1, 1, 1, 1, 1, 1,\n",
            "         1, 1, 1, 1, 1, 1, 1, 1, 1, 1, 1, 1, 1, 1, 1, 1]])}\n"
          ]
        }
      ],
      "source": [
        "# Tokenize the text\n",
        "def tokenize_text(text):\n",
        "    return tokenizer(text, \n",
        "                     padding=\"max_length\", \n",
        "                     truncation=True, \n",
        "                     max_length=64,\n",
        "                     return_tensors=\"pt\")\n",
        "\n",
        "# Example check\n",
        "example = train10k['clean_text'].iloc[0]\n",
        "tokenized_example = tokenize_text(example)\n",
        "\n",
        "print(\"Original Text:\", example)\n",
        "print(\"Tokenized Output:\", tokenized_example)"
      ]
    },
    {
      "cell_type": "code",
      "execution_count": 65,
      "metadata": {},
      "outputs": [],
      "source": [
        "# Load label names\n",
        "emotion_labels = [\"admiration\", \"amusement\", \"anger\", \"annoyance\",\n",
        "                  \"approval\", \"caring\", \"confusion\", \"curiosity\", \n",
        "                  \"desire\", \"disappointment\", \"disapproval\", \"disgust\",\n",
        "                  \"embarrassment\", \"excitement\", \"fear\", \"gratitude\",\n",
        "                  \"grief\", \"joy\", \"love\", \"nervousness\", \"optimism\",\n",
        "                  \"pride\", \"realization\", \"relief\", \"remorse\",\n",
        "                  \"sadness\", \"surprise\", \"neutral\"]"
      ]
    },
    {
      "cell_type": "code",
      "execution_count": 66,
      "metadata": {},
      "outputs": [],
      "source": [
        "# Function to get top 3 emotions\n",
        "def get_emotion_label(text):\n",
        "    # Tokenize text\n",
        "    tokens = tokenizer(text,\n",
        "                       padding=True,\n",
        "                       truncation=True,\n",
        "                       max_length=128,\n",
        "                       return_tensors=\"pt\").to(model.device)\n",
        "\n",
        "    # Run inference\n",
        "    with torch.no_grad():\n",
        "        outputs = model(**tokens)\n",
        "\n",
        "    # Get top 3 predicted labels\n",
        "    probabilities = torch.nn.functional.softmax(outputs.logits, dim=1)  # Convert logits to probabilities\n",
        "    top3_indices = torch.argsort(probabilities, descending=True)[0][:3]  # Get top 3 indices\n",
        "    \n",
        "    # Convert indices to emotion labels\n",
        "    top3_emotions = [emotion_labels[i] for i in top3_indices]\n",
        "    \n",
        "    # Return as string...\n",
        "    return \", \".join(top3_emotions)"
      ]
    },
    {
      "cell_type": "code",
      "execution_count": 67,
      "metadata": {},
      "outputs": [
        {
          "name": "stdout",
          "output_type": "stream",
          "text": [
            "annoyance, anger, neutral\n",
            "the cashier told my husband that should he get change and the air machine just don't work don't come back in asking for a refund. this location the employees are uneducated on any kind of hospitality when having contact with human customers. i just don't care for employees who have a rude attitude. how do store owners proudly have a rude person as a cashier? well let's see how that will work out for them. attention all friends the people are rude at this location.\n"
          ]
        }
      ],
      "source": [
        "# Testing\n",
        "print(get_emotion_label(train10k['clean_text'][0]))\n",
        "print(train10k['clean_text'][0])"
      ]
    },
    {
      "cell_type": "markdown",
      "metadata": {},
      "source": [
        "### Running the full inference..."
      ]
    },
    {
      "cell_type": "code",
      "execution_count": 68,
      "metadata": {},
      "outputs": [
        {
          "data": {
            "application/vnd.microsoft.datawrangler.viewer.v0+json": {
              "columns": [
                {
                  "name": "index",
                  "rawType": "int64",
                  "type": "integer"
                },
                {
                  "name": "label",
                  "rawType": "int64",
                  "type": "integer"
                },
                {
                  "name": "text",
                  "rawType": "object",
                  "type": "string"
                },
                {
                  "name": "clean_text",
                  "rawType": "object",
                  "type": "string"
                },
                {
                  "name": "word_count",
                  "rawType": "int64",
                  "type": "integer"
                },
                {
                  "name": "emotions",
                  "rawType": "object",
                  "type": "string"
                }
              ],
              "conversionMethod": "pd.DataFrame",
              "ref": "043a916d-b104-4ffa-a0e5-4d54b0cdc52c",
              "rows": [
                [
                  "0",
                  "2",
                  "The cashier told my husband that should he get change and the air machine just don't work don't come back in asking for a refund. This location the employees are uneducated on any kind of hospitality when having contact with human customers. I just don't care for employees who have a rude attitude. How do store owners proudly have a rude person as a cashier?  Well let's see how that will work out for them. ATTENTION all friends the people are rude at this location.",
                  "the cashier told my husband that should he get change and the air machine just don't work don't come back in asking for a refund. this location the employees are uneducated on any kind of hospitality when having contact with human customers. i just don't care for employees who have a rude attitude. how do store owners proudly have a rude person as a cashier? well let's see how that will work out for them. attention all friends the people are rude at this location.",
                  "85",
                  "annoyance, anger, neutral"
                ],
                [
                  "1",
                  "2",
                  "Here's what happened:\\n- We were suppose to be at the regular MGM.. so we pulled up, put our car in valet, got a bell boy to take our stuff.. and then we realized they gave us rooms at the Signature.  What a pain!!!!\\n- Then when we tried to check in we were suppose to have 2 rooms... but they couldn't find our other reservation (because we booked through an online travel company) so they only gave us one room!!!  \\n- The next day we had to spend at least an hour trying to get compensated for the room that we pre-paid for!  Finally they gave us back the money and also said they would give us $200 to spend on food and bev. \\n-  So, we ordered $158 in food that night... and tipped $30!  \\n- Then when I went to check out... they had all the room service charges and all the room charges on my card!!!  It was such a hassle to get them off!!!  In the end, they took off all charges but the $30 tip (which I was still mad about). \\n\\nThe rooms were super nice!  They had a nice kitchen and a nice view.  But, I do not consider it much of an upgrade from the MGM since one of the beds is a pull out couch.  \\n\\nAlso, we were there for a bachelorette party... and the bachelorette likes to gamble.. so it probably would have been more ideal to stay in the casino.  \\n\\nOverall, the condo was VERY nice... but the customer service was totally disorganized and bad.  Numerous times the Signature blamed their poor service on the MGM and said they couldn't do anything about our problems since we booked through the MGM.",
                  "here's what happened n we were suppose to be at the regular mgm.. so we pulled up, put our car in valet, got a bell boy to take our stuff.. and then we realized they gave us rooms at the signature. what a pain!!!! n then when we tried to check in we were suppose to have 2 rooms... but they couldn't find our other reservation because we booked through an online travel company so they only gave us one room!!! n the next day we had to spend at least an hour trying to get compensated for the room that we pre paid for! finally they gave us back the money and also said they would give us 200 to spend on food and bev. n so, we ordered 158 in food that night... and tipped 30! n then when i went to check out... they had all the room service charges and all the room charges on my card!!! it was such a hassle to get them off!!! in the end, they took off all charges but the 30 tip which i was still mad about . n nthe rooms were super nice! they had a nice kitchen and a nice view. but, i do not consider it much of an upgrade from the mgm since one of the beds is a pull out couch. n nalso, we were there for a bachelorette party... and the bachelorette likes to gamble.. so it probably would have been more ideal to stay in the casino. n noverall, the condo was very nice... but the customer service was totally disorganized and bad. numerous times the signature blamed their poor service on the mgm and said they couldn't do anything about our problems since we booked through the mgm.",
                  "297",
                  "realization, neutral, disappointment"
                ],
                [
                  "2",
                  "2",
                  "Went to this Fest today and admission is $12. There were 2 tiny stages where live entertainment was scheduled. There was a food truck, a catered \\\"Brazilian\\\" meal stand and some Lebanese food(???). The booths were boring and mainly were hawking insurance or travel or sports. There weren't any booths offering anything to do with Brazil. There were streamers in yellow and green and that was the extent of the decorations. The schedules were preprinted which was good...but it's not like there was anything to do other than eat, drink or watch the stage. And it was very hot outside. The portion that was supposed to be $8 of Brazilian food was small and cold. And there was only one line to order and one line to pick up. Seems like if this is the 5th annual event, there would be more attention to details. It was even hot inside the building and I really don't know what Jui jitsu has to do with Brazil. That country has such a rich culture, history and importance to the ecosystems of the world and all that was wasted at this \\\"festival.\\\" The good? Public parking was free.",
                  "went to this fest today and admission is 12. there were 2 tiny stages where live entertainment was scheduled. there was a food truck, a catered brazilian meal stand and some lebanese food ??? . the booths were boring and mainly were hawking insurance or travel or sports. there weren't any booths offering anything to do with brazil. there were streamers in yellow and green and that was the extent of the decorations. the schedules were preprinted which was good...but it's not like there was anything to do other than eat, drink or watch the stage. and it was very hot outside. the portion that was supposed to be 8 of brazilian food was small and cold. and there was only one line to order and one line to pick up. seems like if this is the 5th annual event, there would be more attention to details. it was even hot inside the building and i really don't know what jui jitsu has to do with brazil. that country has such a rich culture, history and importance to the ecosystems of the world and all that was wasted at this festival. the good? public parking was free.",
                  "197",
                  "neutral, disapproval, approval"
                ],
                [
                  "3",
                  "2",
                  "went to check out this joint the other weekend when i was in vegas.  its certainly off the beaten path or strip for that matter...\\nwas it worth the extra travel time to get to the strip...that remains to be seen.  the place looks nice but it has an old casino type of feel...and not in a good sense.\\nso i may be back in vegas before year is out and if time permits...try to hit the golf course.\\nwe will see.....",
                  "went to check out this joint the other weekend when i was in vegas. its certainly off the beaten path or strip for that matter... nwas it worth the extra travel time to get to the strip...that remains to be seen. the place looks nice but it has an old casino type of feel...and not in a good sense. nso i may be back in vegas before year is out and if time permits...try to hit the golf course. nwe will see.....",
                  "82",
                  "admiration, approval, neutral"
                ],
                [
                  "4",
                  "2",
                  "A whole lot of meh. This store is in a horrible location and the store hasn't received the corporate refresh yet like the store down the road. Beyond that it's a dang Home Depot",
                  "a whole lot of meh. this store is in a horrible location and the store hasn't received the corporate refresh yet like the store down the road. beyond that it's a dang home depot",
                  "34",
                  "disappointment, sadness, fear"
                ]
              ],
              "shape": {
                "columns": 5,
                "rows": 5
              }
            },
            "text/html": [
              "<div>\n",
              "<style scoped>\n",
              "    .dataframe tbody tr th:only-of-type {\n",
              "        vertical-align: middle;\n",
              "    }\n",
              "\n",
              "    .dataframe tbody tr th {\n",
              "        vertical-align: top;\n",
              "    }\n",
              "\n",
              "    .dataframe thead th {\n",
              "        text-align: right;\n",
              "    }\n",
              "</style>\n",
              "<table border=\"1\" class=\"dataframe\">\n",
              "  <thead>\n",
              "    <tr style=\"text-align: right;\">\n",
              "      <th></th>\n",
              "      <th>label</th>\n",
              "      <th>text</th>\n",
              "      <th>clean_text</th>\n",
              "      <th>word_count</th>\n",
              "      <th>emotions</th>\n",
              "    </tr>\n",
              "  </thead>\n",
              "  <tbody>\n",
              "    <tr>\n",
              "      <th>0</th>\n",
              "      <td>2</td>\n",
              "      <td>The cashier told my husband that should he get...</td>\n",
              "      <td>the cashier told my husband that should he get...</td>\n",
              "      <td>85</td>\n",
              "      <td>annoyance, anger, neutral</td>\n",
              "    </tr>\n",
              "    <tr>\n",
              "      <th>1</th>\n",
              "      <td>2</td>\n",
              "      <td>Here's what happened:\\n- We were suppose to be...</td>\n",
              "      <td>here's what happened n we were suppose to be a...</td>\n",
              "      <td>297</td>\n",
              "      <td>realization, neutral, disappointment</td>\n",
              "    </tr>\n",
              "    <tr>\n",
              "      <th>2</th>\n",
              "      <td>2</td>\n",
              "      <td>Went to this Fest today and admission is $12. ...</td>\n",
              "      <td>went to this fest today and admission is 12. t...</td>\n",
              "      <td>197</td>\n",
              "      <td>neutral, disapproval, approval</td>\n",
              "    </tr>\n",
              "    <tr>\n",
              "      <th>3</th>\n",
              "      <td>2</td>\n",
              "      <td>went to check out this joint the other weekend...</td>\n",
              "      <td>went to check out this joint the other weekend...</td>\n",
              "      <td>82</td>\n",
              "      <td>admiration, approval, neutral</td>\n",
              "    </tr>\n",
              "    <tr>\n",
              "      <th>4</th>\n",
              "      <td>2</td>\n",
              "      <td>A whole lot of meh. This store is in a horribl...</td>\n",
              "      <td>a whole lot of meh. this store is in a horribl...</td>\n",
              "      <td>34</td>\n",
              "      <td>disappointment, sadness, fear</td>\n",
              "    </tr>\n",
              "  </tbody>\n",
              "</table>\n",
              "</div>"
            ],
            "text/plain": [
              "   label                                               text  \\\n",
              "0      2  The cashier told my husband that should he get...   \n",
              "1      2  Here's what happened:\\n- We were suppose to be...   \n",
              "2      2  Went to this Fest today and admission is $12. ...   \n",
              "3      2  went to check out this joint the other weekend...   \n",
              "4      2  A whole lot of meh. This store is in a horribl...   \n",
              "\n",
              "                                          clean_text  word_count  \\\n",
              "0  the cashier told my husband that should he get...          85   \n",
              "1  here's what happened n we were suppose to be a...         297   \n",
              "2  went to this fest today and admission is 12. t...         197   \n",
              "3  went to check out this joint the other weekend...          82   \n",
              "4  a whole lot of meh. this store is in a horribl...          34   \n",
              "\n",
              "                               emotions  \n",
              "0             annoyance, anger, neutral  \n",
              "1  realization, neutral, disappointment  \n",
              "2        neutral, disapproval, approval  \n",
              "3         admiration, approval, neutral  \n",
              "4         disappointment, sadness, fear  "
            ]
          },
          "metadata": {},
          "output_type": "display_data"
        }
      ],
      "source": [
        "# Loop through the train1 data\n",
        "for i, row in train10k.iterrows():\n",
        "  train10k.at[i, \"emotions\"] = get_emotion_label(row[\"clean_text\"])\n",
        "\n",
        "display(train10k.head())"
      ]
    },
    {
      "cell_type": "code",
      "execution_count": 69,
      "metadata": {},
      "outputs": [
        {
          "data": {
            "application/vnd.microsoft.datawrangler.viewer.v0+json": {
              "columns": [
                {
                  "name": "index",
                  "rawType": "int64",
                  "type": "integer"
                },
                {
                  "name": "label",
                  "rawType": "int64",
                  "type": "integer"
                },
                {
                  "name": "text",
                  "rawType": "object",
                  "type": "string"
                },
                {
                  "name": "clean_text",
                  "rawType": "object",
                  "type": "string"
                },
                {
                  "name": "word_count",
                  "rawType": "int64",
                  "type": "integer"
                },
                {
                  "name": "emotions",
                  "rawType": "object",
                  "type": "string"
                }
              ],
              "conversionMethod": "pd.DataFrame",
              "ref": "d5f2a3bd-5eb6-4ca1-995f-f12758a415ea",
              "rows": [
                [
                  "0",
                  "2",
                  "The cashier told my husband that should he get change and the air machine just don't work don't come back in asking for a refund. This location the employees are uneducated on any kind of hospitality when having contact with human customers. I just don't care for employees who have a rude attitude. How do store owners proudly have a rude person as a cashier?  Well let's see how that will work out for them. ATTENTION all friends the people are rude at this location.",
                  "the cashier told my husband that should he get change and the air machine just don't work don't come back in asking for a refund. this location the employees are uneducated on any kind of hospitality when having contact with human customers. i just don't care for employees who have a rude attitude. how do store owners proudly have a rude person as a cashier? well let's see how that will work out for them. attention all friends the people are rude at this location.",
                  "85",
                  "annoyance, anger, neutral"
                ],
                [
                  "1",
                  "2",
                  "Here's what happened:\\n- We were suppose to be at the regular MGM.. so we pulled up, put our car in valet, got a bell boy to take our stuff.. and then we realized they gave us rooms at the Signature.  What a pain!!!!\\n- Then when we tried to check in we were suppose to have 2 rooms... but they couldn't find our other reservation (because we booked through an online travel company) so they only gave us one room!!!  \\n- The next day we had to spend at least an hour trying to get compensated for the room that we pre-paid for!  Finally they gave us back the money and also said they would give us $200 to spend on food and bev. \\n-  So, we ordered $158 in food that night... and tipped $30!  \\n- Then when I went to check out... they had all the room service charges and all the room charges on my card!!!  It was such a hassle to get them off!!!  In the end, they took off all charges but the $30 tip (which I was still mad about). \\n\\nThe rooms were super nice!  They had a nice kitchen and a nice view.  But, I do not consider it much of an upgrade from the MGM since one of the beds is a pull out couch.  \\n\\nAlso, we were there for a bachelorette party... and the bachelorette likes to gamble.. so it probably would have been more ideal to stay in the casino.  \\n\\nOverall, the condo was VERY nice... but the customer service was totally disorganized and bad.  Numerous times the Signature blamed their poor service on the MGM and said they couldn't do anything about our problems since we booked through the MGM.",
                  "here's what happened n we were suppose to be at the regular mgm.. so we pulled up, put our car in valet, got a bell boy to take our stuff.. and then we realized they gave us rooms at the signature. what a pain!!!! n then when we tried to check in we were suppose to have 2 rooms... but they couldn't find our other reservation because we booked through an online travel company so they only gave us one room!!! n the next day we had to spend at least an hour trying to get compensated for the room that we pre paid for! finally they gave us back the money and also said they would give us 200 to spend on food and bev. n so, we ordered 158 in food that night... and tipped 30! n then when i went to check out... they had all the room service charges and all the room charges on my card!!! it was such a hassle to get them off!!! in the end, they took off all charges but the 30 tip which i was still mad about . n nthe rooms were super nice! they had a nice kitchen and a nice view. but, i do not consider it much of an upgrade from the mgm since one of the beds is a pull out couch. n nalso, we were there for a bachelorette party... and the bachelorette likes to gamble.. so it probably would have been more ideal to stay in the casino. n noverall, the condo was very nice... but the customer service was totally disorganized and bad. numerous times the signature blamed their poor service on the mgm and said they couldn't do anything about our problems since we booked through the mgm.",
                  "297",
                  "realization, neutral, disappointment"
                ],
                [
                  "2",
                  "2",
                  "Went to this Fest today and admission is $12. There were 2 tiny stages where live entertainment was scheduled. There was a food truck, a catered \\\"Brazilian\\\" meal stand and some Lebanese food(???). The booths were boring and mainly were hawking insurance or travel or sports. There weren't any booths offering anything to do with Brazil. There were streamers in yellow and green and that was the extent of the decorations. The schedules were preprinted which was good...but it's not like there was anything to do other than eat, drink or watch the stage. And it was very hot outside. The portion that was supposed to be $8 of Brazilian food was small and cold. And there was only one line to order and one line to pick up. Seems like if this is the 5th annual event, there would be more attention to details. It was even hot inside the building and I really don't know what Jui jitsu has to do with Brazil. That country has such a rich culture, history and importance to the ecosystems of the world and all that was wasted at this \\\"festival.\\\" The good? Public parking was free.",
                  "went to this fest today and admission is 12. there were 2 tiny stages where live entertainment was scheduled. there was a food truck, a catered brazilian meal stand and some lebanese food ??? . the booths were boring and mainly were hawking insurance or travel or sports. there weren't any booths offering anything to do with brazil. there were streamers in yellow and green and that was the extent of the decorations. the schedules were preprinted which was good...but it's not like there was anything to do other than eat, drink or watch the stage. and it was very hot outside. the portion that was supposed to be 8 of brazilian food was small and cold. and there was only one line to order and one line to pick up. seems like if this is the 5th annual event, there would be more attention to details. it was even hot inside the building and i really don't know what jui jitsu has to do with brazil. that country has such a rich culture, history and importance to the ecosystems of the world and all that was wasted at this festival. the good? public parking was free.",
                  "197",
                  "neutral, disapproval, approval"
                ],
                [
                  "3",
                  "2",
                  "went to check out this joint the other weekend when i was in vegas.  its certainly off the beaten path or strip for that matter...\\nwas it worth the extra travel time to get to the strip...that remains to be seen.  the place looks nice but it has an old casino type of feel...and not in a good sense.\\nso i may be back in vegas before year is out and if time permits...try to hit the golf course.\\nwe will see.....",
                  "went to check out this joint the other weekend when i was in vegas. its certainly off the beaten path or strip for that matter... nwas it worth the extra travel time to get to the strip...that remains to be seen. the place looks nice but it has an old casino type of feel...and not in a good sense. nso i may be back in vegas before year is out and if time permits...try to hit the golf course. nwe will see.....",
                  "82",
                  "admiration, approval, neutral"
                ],
                [
                  "4",
                  "2",
                  "A whole lot of meh. This store is in a horrible location and the store hasn't received the corporate refresh yet like the store down the road. Beyond that it's a dang Home Depot",
                  "a whole lot of meh. this store is in a horrible location and the store hasn't received the corporate refresh yet like the store down the road. beyond that it's a dang home depot",
                  "34",
                  "disappointment, sadness, fear"
                ]
              ],
              "shape": {
                "columns": 5,
                "rows": 5
              }
            },
            "text/html": [
              "<div>\n",
              "<style scoped>\n",
              "    .dataframe tbody tr th:only-of-type {\n",
              "        vertical-align: middle;\n",
              "    }\n",
              "\n",
              "    .dataframe tbody tr th {\n",
              "        vertical-align: top;\n",
              "    }\n",
              "\n",
              "    .dataframe thead th {\n",
              "        text-align: right;\n",
              "    }\n",
              "</style>\n",
              "<table border=\"1\" class=\"dataframe\">\n",
              "  <thead>\n",
              "    <tr style=\"text-align: right;\">\n",
              "      <th></th>\n",
              "      <th>label</th>\n",
              "      <th>text</th>\n",
              "      <th>clean_text</th>\n",
              "      <th>word_count</th>\n",
              "      <th>emotions</th>\n",
              "    </tr>\n",
              "  </thead>\n",
              "  <tbody>\n",
              "    <tr>\n",
              "      <th>0</th>\n",
              "      <td>2</td>\n",
              "      <td>The cashier told my husband that should he get...</td>\n",
              "      <td>the cashier told my husband that should he get...</td>\n",
              "      <td>85</td>\n",
              "      <td>annoyance, anger, neutral</td>\n",
              "    </tr>\n",
              "    <tr>\n",
              "      <th>1</th>\n",
              "      <td>2</td>\n",
              "      <td>Here's what happened:\\n- We were suppose to be...</td>\n",
              "      <td>here's what happened n we were suppose to be a...</td>\n",
              "      <td>297</td>\n",
              "      <td>realization, neutral, disappointment</td>\n",
              "    </tr>\n",
              "    <tr>\n",
              "      <th>2</th>\n",
              "      <td>2</td>\n",
              "      <td>Went to this Fest today and admission is $12. ...</td>\n",
              "      <td>went to this fest today and admission is 12. t...</td>\n",
              "      <td>197</td>\n",
              "      <td>neutral, disapproval, approval</td>\n",
              "    </tr>\n",
              "    <tr>\n",
              "      <th>3</th>\n",
              "      <td>2</td>\n",
              "      <td>went to check out this joint the other weekend...</td>\n",
              "      <td>went to check out this joint the other weekend...</td>\n",
              "      <td>82</td>\n",
              "      <td>admiration, approval, neutral</td>\n",
              "    </tr>\n",
              "    <tr>\n",
              "      <th>4</th>\n",
              "      <td>2</td>\n",
              "      <td>A whole lot of meh. This store is in a horribl...</td>\n",
              "      <td>a whole lot of meh. this store is in a horribl...</td>\n",
              "      <td>34</td>\n",
              "      <td>disappointment, sadness, fear</td>\n",
              "    </tr>\n",
              "  </tbody>\n",
              "</table>\n",
              "</div>"
            ],
            "text/plain": [
              "   label                                               text  \\\n",
              "0      2  The cashier told my husband that should he get...   \n",
              "1      2  Here's what happened:\\n- We were suppose to be...   \n",
              "2      2  Went to this Fest today and admission is $12. ...   \n",
              "3      2  went to check out this joint the other weekend...   \n",
              "4      2  A whole lot of meh. This store is in a horribl...   \n",
              "\n",
              "                                          clean_text  word_count  \\\n",
              "0  the cashier told my husband that should he get...          85   \n",
              "1  here's what happened n we were suppose to be a...         297   \n",
              "2  went to this fest today and admission is 12. t...         197   \n",
              "3  went to check out this joint the other weekend...          82   \n",
              "4  a whole lot of meh. this store is in a horribl...          34   \n",
              "\n",
              "                               emotions  \n",
              "0             annoyance, anger, neutral  \n",
              "1  realization, neutral, disappointment  \n",
              "2        neutral, disapproval, approval  \n",
              "3         admiration, approval, neutral  \n",
              "4         disappointment, sadness, fear  "
            ]
          },
          "metadata": {},
          "output_type": "display_data"
        }
      ],
      "source": [
        "# Loop through the train2 data\n",
        "for i, row in train5k.iterrows():\n",
        "  train5k.at[i, \"emotions\"] = get_emotion_label(row[\"clean_text\"])\n",
        "\n",
        "display(train5k.head())"
      ]
    },
    {
      "cell_type": "code",
      "execution_count": 70,
      "metadata": {},
      "outputs": [
        {
          "data": {
            "application/vnd.microsoft.datawrangler.viewer.v0+json": {
              "columns": [
                {
                  "name": "index",
                  "rawType": "int64",
                  "type": "integer"
                },
                {
                  "name": "label",
                  "rawType": "int64",
                  "type": "integer"
                },
                {
                  "name": "text",
                  "rawType": "object",
                  "type": "string"
                },
                {
                  "name": "clean_text",
                  "rawType": "object",
                  "type": "string"
                },
                {
                  "name": "word_count",
                  "rawType": "int64",
                  "type": "integer"
                },
                {
                  "name": "emotions",
                  "rawType": "object",
                  "type": "string"
                }
              ],
              "conversionMethod": "pd.DataFrame",
              "ref": "2dc226fb-89a6-4c44-8d13-6337f3e1dc0f",
              "rows": [
                [
                  "0",
                  "1",
                  "Although I also REALLY enjoy Mi Familia (just down the road, literally), I really hope BOTH restaurants succeed. This Roberto's have a drive thru and is open 24hrs which is always nice when looking for something at any hour.\\n\\nService here was good, food was yummy as always!\\nRestaurant was clean inside and out (always a big deal for me, after all-they ARE preparing our food) \\n\\nThe only reason it is 3 stars and not 4 is their phone service: i've called 3 different times now (we've been eating out a lot lately) and one time the phone was answered in Spanish, so I hung up. The next time was ok and the last (3rd) time was 'Hello?'-phone skills are every bit as important as anything else. If you're rude to me (as they were) then i'm going to go somewhere else (as i said, Mi Familia is just down the road). Please, Thank You, You're Welcome: theseshould be standard on every phone call. \\n\\nDon't act like i'm inconveniencing you when ordering...\\n\\nUpdate (down grade from 3 stars): I went to pickup my order (\\\"Ready in 10 minutes\\\", then she hung up) 15 minutes later and it wasn't even started. Today my neighbor and I both have food poisoning-stay away from the chicken AND do yourself a favor- go down the road to Mi Familia. Nicer people, family owned, and quality food.",
                  "although i also really enjoy mi familia just down the road, literally , i really hope both restaurants succeed. this roberto's have a drive thru and is open 24hrs which is always nice when looking for something at any hour. n nservice here was good, food was yummy as always! nrestaurant was clean inside and out always a big deal for me, after all they are preparing our food n nthe only reason it is 3 stars and not 4 is their phone service i've called 3 different times now we've been eating out a lot lately and one time the phone was answered in spanish, so i hung up. the next time was ok and the last 3rd time was 'hello?' phone skills are every bit as important as anything else. if you're rude to me as they were then i'm going to go somewhere else as i said, mi familia is just down the road . please, thank you, you're welcome theseshould be standard on every phone call. n ndon't act like i'm inconveniencing you when ordering... n nupdate down grade from 3 stars i went to pickup my order ready in 10 minutes , then she hung up 15 minutes later and it wasn't even started. today my neighbor and i both have food poisoning stay away from the chicken and do yourself a favor go down the road to mi familia. nicer people, family owned, and quality food.",
                  "242",
                  "joy, admiration, optimism"
                ],
                [
                  "1",
                  "1",
                  "So in all fairness, the course was actually very nice, but the rating is for the staff at the course.  I was playing with several friends who were new to golf, hence a par 3 executive course.  We were a slow going group, but we offered several times to let the twosome behind us play through.  They said they were fine to play behind us and were entertained by us.  All was good, and the course was nice for a par 3.  But the course marshall was an idiot.  On the 17th hole (read that again....the 17th hole), he rides up in his cart, actually picks up one of our balls in play from our tee shots, and rides up to our group and says we need to observe rate of play.  I told him it's the 17th hole, we've already teed off, so really, not a lot we can do at that point.  He was a jerk and gave us attitude.  If he had actually done his job he would have talked to us about the 5th hole. What a jerk.",
                  "so in all fairness, the course was actually very nice, but the rating is for the staff at the course. i was playing with several friends who were new to golf, hence a par 3 executive course. we were a slow going group, but we offered several times to let the twosome behind us play through. they said they were fine to play behind us and were entertained by us. all was good, and the course was nice for a par 3. but the course marshall was an idiot. on the 17th hole read that again....the 17th hole , he rides up in his cart, actually picks up one of our balls in play from our tee shots, and rides up to our group and says we need to observe rate of play. i told him it's the 17th hole, we've already teed off, so really, not a lot we can do at that point. he was a jerk and gave us attitude. if he had actually done his job he would have talked to us about the 5th hole. what a jerk.",
                  "183",
                  "annoyance, neutral, disappointment"
                ],
                [
                  "2",
                  "1",
                  "I tried to go here last night; party of five.  The hostess told us that it would be an hour and 45 minutes before we could be seated, even though there were only a couple of people waiting and there were a few tables inside and all but two tables outside were being used.\\n\\nNo problem, we went downstairs to RA and had a great meal.",
                  "i tried to go here last night party of five. the hostess told us that it would be an hour and 45 minutes before we could be seated, even though there were only a couple of people waiting and there were a few tables inside and all but two tables outside were being used. n nno problem, we went downstairs to ra and had a great meal.",
                  "67",
                  "joy, admiration, approval"
                ],
                [
                  "3",
                  "1",
                  "Service was super slow and the food was terribly disappointing.\\nThe chicken and shrimp wok-fired dish read well on the menu but was a huge\\ndisappointment when it arrived to the table. The chicken was burnt, dry and super salty. The shrimp were over cooked and dry. The vegetables, well, they didn't look like veggies. Overcooked, over seasoned. This place is not worth the effort, keep driving and find some where else to dine.",
                  "service was super slow and the food was terribly disappointing. nthe chicken and shrimp wok fired dish read well on the menu but was a huge ndisappointment when it arrived to the table. the chicken was burnt, dry and super salty. the shrimp were over cooked and dry. the vegetables, well, they didn't look like veggies. overcooked, over seasoned. this place is not worth the effort, keep driving and find some where else to dine.",
                  "75",
                  "disappointment, disapproval, annoyance"
                ],
                [
                  "4",
                  "1",
                  "The 8\\\" pizzas were fully cooked but the 14\\\" and the 18\\\" pizzas came with uncooked dough. It was so doughy that someone actually said \\\"this slice actually held up!\\\" when his slice was slightly better. Boneless chicken wings felt slimy and dry at the same time. Actually, all the chicken felt dry. Mac and cheese tasted funny too. I believe the order was supposed to only take about 45 min but it took about 90 min.\\n\\nThe antipasto salad was decent tho.",
                  "the 8 pizzas were fully cooked but the 14 and the 18 pizzas came with uncooked dough. it was so doughy that someone actually said this slice actually held up! when his slice was slightly better. boneless chicken wings felt slimy and dry at the same time. actually, all the chicken felt dry. mac and cheese tasted funny too. i believe the order was supposed to only take about 45 min but it took about 90 min. n nthe antipasto salad was decent tho.",
                  "84",
                  "amusement, neutral, joy"
                ]
              ],
              "shape": {
                "columns": 5,
                "rows": 5
              }
            },
            "text/html": [
              "<div>\n",
              "<style scoped>\n",
              "    .dataframe tbody tr th:only-of-type {\n",
              "        vertical-align: middle;\n",
              "    }\n",
              "\n",
              "    .dataframe tbody tr th {\n",
              "        vertical-align: top;\n",
              "    }\n",
              "\n",
              "    .dataframe thead th {\n",
              "        text-align: right;\n",
              "    }\n",
              "</style>\n",
              "<table border=\"1\" class=\"dataframe\">\n",
              "  <thead>\n",
              "    <tr style=\"text-align: right;\">\n",
              "      <th></th>\n",
              "      <th>label</th>\n",
              "      <th>text</th>\n",
              "      <th>clean_text</th>\n",
              "      <th>word_count</th>\n",
              "      <th>emotions</th>\n",
              "    </tr>\n",
              "  </thead>\n",
              "  <tbody>\n",
              "    <tr>\n",
              "      <th>0</th>\n",
              "      <td>1</td>\n",
              "      <td>Although I also REALLY enjoy Mi Familia (just ...</td>\n",
              "      <td>although i also really enjoy mi familia just d...</td>\n",
              "      <td>242</td>\n",
              "      <td>joy, admiration, optimism</td>\n",
              "    </tr>\n",
              "    <tr>\n",
              "      <th>1</th>\n",
              "      <td>1</td>\n",
              "      <td>So in all fairness, the course was actually ve...</td>\n",
              "      <td>so in all fairness, the course was actually ve...</td>\n",
              "      <td>183</td>\n",
              "      <td>annoyance, neutral, disappointment</td>\n",
              "    </tr>\n",
              "    <tr>\n",
              "      <th>2</th>\n",
              "      <td>1</td>\n",
              "      <td>I tried to go here last night; party of five. ...</td>\n",
              "      <td>i tried to go here last night party of five. t...</td>\n",
              "      <td>67</td>\n",
              "      <td>joy, admiration, approval</td>\n",
              "    </tr>\n",
              "    <tr>\n",
              "      <th>3</th>\n",
              "      <td>1</td>\n",
              "      <td>Service was super slow and the food was terrib...</td>\n",
              "      <td>service was super slow and the food was terrib...</td>\n",
              "      <td>75</td>\n",
              "      <td>disappointment, disapproval, annoyance</td>\n",
              "    </tr>\n",
              "    <tr>\n",
              "      <th>4</th>\n",
              "      <td>1</td>\n",
              "      <td>The 8\\\" pizzas were fully cooked but the 14\\\" ...</td>\n",
              "      <td>the 8 pizzas were fully cooked but the 14 and ...</td>\n",
              "      <td>84</td>\n",
              "      <td>amusement, neutral, joy</td>\n",
              "    </tr>\n",
              "  </tbody>\n",
              "</table>\n",
              "</div>"
            ],
            "text/plain": [
              "   label                                               text  \\\n",
              "0      1  Although I also REALLY enjoy Mi Familia (just ...   \n",
              "1      1  So in all fairness, the course was actually ve...   \n",
              "2      1  I tried to go here last night; party of five. ...   \n",
              "3      1  Service was super slow and the food was terrib...   \n",
              "4      1  The 8\\\" pizzas were fully cooked but the 14\\\" ...   \n",
              "\n",
              "                                          clean_text  word_count  \\\n",
              "0  although i also really enjoy mi familia just d...         242   \n",
              "1  so in all fairness, the course was actually ve...         183   \n",
              "2  i tried to go here last night party of five. t...          67   \n",
              "3  service was super slow and the food was terrib...          75   \n",
              "4  the 8 pizzas were fully cooked but the 14 and ...          84   \n",
              "\n",
              "                                 emotions  \n",
              "0               joy, admiration, optimism  \n",
              "1      annoyance, neutral, disappointment  \n",
              "2               joy, admiration, approval  \n",
              "3  disappointment, disapproval, annoyance  \n",
              "4                 amusement, neutral, joy  "
            ]
          },
          "metadata": {},
          "output_type": "display_data"
        }
      ],
      "source": [
        "# Loop through the test1 data\n",
        "for i, row in test2k.iterrows():\n",
        "  test2k.at[i, \"emotions\"] = get_emotion_label(row[\"clean_text\"])\n",
        "  \n",
        "display(test2k.head())"
      ]
    },
    {
      "cell_type": "code",
      "execution_count": 71,
      "metadata": {},
      "outputs": [
        {
          "data": {
            "application/vnd.microsoft.datawrangler.viewer.v0+json": {
              "columns": [
                {
                  "name": "index",
                  "rawType": "int64",
                  "type": "integer"
                },
                {
                  "name": "label",
                  "rawType": "int64",
                  "type": "integer"
                },
                {
                  "name": "text",
                  "rawType": "object",
                  "type": "string"
                },
                {
                  "name": "clean_text",
                  "rawType": "object",
                  "type": "string"
                },
                {
                  "name": "word_count",
                  "rawType": "int64",
                  "type": "integer"
                },
                {
                  "name": "emotions",
                  "rawType": "object",
                  "type": "string"
                }
              ],
              "conversionMethod": "pd.DataFrame",
              "ref": "1e8b53b1-1aed-45cf-85c5-e562d20aee70",
              "rows": [
                [
                  "0",
                  "1",
                  "Although I also REALLY enjoy Mi Familia (just down the road, literally), I really hope BOTH restaurants succeed. This Roberto's have a drive thru and is open 24hrs which is always nice when looking for something at any hour.\\n\\nService here was good, food was yummy as always!\\nRestaurant was clean inside and out (always a big deal for me, after all-they ARE preparing our food) \\n\\nThe only reason it is 3 stars and not 4 is their phone service: i've called 3 different times now (we've been eating out a lot lately) and one time the phone was answered in Spanish, so I hung up. The next time was ok and the last (3rd) time was 'Hello?'-phone skills are every bit as important as anything else. If you're rude to me (as they were) then i'm going to go somewhere else (as i said, Mi Familia is just down the road). Please, Thank You, You're Welcome: theseshould be standard on every phone call. \\n\\nDon't act like i'm inconveniencing you when ordering...\\n\\nUpdate (down grade from 3 stars): I went to pickup my order (\\\"Ready in 10 minutes\\\", then she hung up) 15 minutes later and it wasn't even started. Today my neighbor and I both have food poisoning-stay away from the chicken AND do yourself a favor- go down the road to Mi Familia. Nicer people, family owned, and quality food.",
                  "although i also really enjoy mi familia just down the road, literally , i really hope both restaurants succeed. this roberto's have a drive thru and is open 24hrs which is always nice when looking for something at any hour. n nservice here was good, food was yummy as always! nrestaurant was clean inside and out always a big deal for me, after all they are preparing our food n nthe only reason it is 3 stars and not 4 is their phone service i've called 3 different times now we've been eating out a lot lately and one time the phone was answered in spanish, so i hung up. the next time was ok and the last 3rd time was 'hello?' phone skills are every bit as important as anything else. if you're rude to me as they were then i'm going to go somewhere else as i said, mi familia is just down the road . please, thank you, you're welcome theseshould be standard on every phone call. n ndon't act like i'm inconveniencing you when ordering... n nupdate down grade from 3 stars i went to pickup my order ready in 10 minutes , then she hung up 15 minutes later and it wasn't even started. today my neighbor and i both have food poisoning stay away from the chicken and do yourself a favor go down the road to mi familia. nicer people, family owned, and quality food.",
                  "242",
                  "joy, admiration, optimism"
                ],
                [
                  "1",
                  "1",
                  "So in all fairness, the course was actually very nice, but the rating is for the staff at the course.  I was playing with several friends who were new to golf, hence a par 3 executive course.  We were a slow going group, but we offered several times to let the twosome behind us play through.  They said they were fine to play behind us and were entertained by us.  All was good, and the course was nice for a par 3.  But the course marshall was an idiot.  On the 17th hole (read that again....the 17th hole), he rides up in his cart, actually picks up one of our balls in play from our tee shots, and rides up to our group and says we need to observe rate of play.  I told him it's the 17th hole, we've already teed off, so really, not a lot we can do at that point.  He was a jerk and gave us attitude.  If he had actually done his job he would have talked to us about the 5th hole. What a jerk.",
                  "so in all fairness, the course was actually very nice, but the rating is for the staff at the course. i was playing with several friends who were new to golf, hence a par 3 executive course. we were a slow going group, but we offered several times to let the twosome behind us play through. they said they were fine to play behind us and were entertained by us. all was good, and the course was nice for a par 3. but the course marshall was an idiot. on the 17th hole read that again....the 17th hole , he rides up in his cart, actually picks up one of our balls in play from our tee shots, and rides up to our group and says we need to observe rate of play. i told him it's the 17th hole, we've already teed off, so really, not a lot we can do at that point. he was a jerk and gave us attitude. if he had actually done his job he would have talked to us about the 5th hole. what a jerk.",
                  "183",
                  "annoyance, neutral, disappointment"
                ],
                [
                  "2",
                  "1",
                  "I tried to go here last night; party of five.  The hostess told us that it would be an hour and 45 minutes before we could be seated, even though there were only a couple of people waiting and there were a few tables inside and all but two tables outside were being used.\\n\\nNo problem, we went downstairs to RA and had a great meal.",
                  "i tried to go here last night party of five. the hostess told us that it would be an hour and 45 minutes before we could be seated, even though there were only a couple of people waiting and there were a few tables inside and all but two tables outside were being used. n nno problem, we went downstairs to ra and had a great meal.",
                  "67",
                  "joy, admiration, approval"
                ],
                [
                  "3",
                  "1",
                  "Service was super slow and the food was terribly disappointing.\\nThe chicken and shrimp wok-fired dish read well on the menu but was a huge\\ndisappointment when it arrived to the table. The chicken was burnt, dry and super salty. The shrimp were over cooked and dry. The vegetables, well, they didn't look like veggies. Overcooked, over seasoned. This place is not worth the effort, keep driving and find some where else to dine.",
                  "service was super slow and the food was terribly disappointing. nthe chicken and shrimp wok fired dish read well on the menu but was a huge ndisappointment when it arrived to the table. the chicken was burnt, dry and super salty. the shrimp were over cooked and dry. the vegetables, well, they didn't look like veggies. overcooked, over seasoned. this place is not worth the effort, keep driving and find some where else to dine.",
                  "75",
                  "disappointment, disapproval, annoyance"
                ],
                [
                  "4",
                  "1",
                  "The 8\\\" pizzas were fully cooked but the 14\\\" and the 18\\\" pizzas came with uncooked dough. It was so doughy that someone actually said \\\"this slice actually held up!\\\" when his slice was slightly better. Boneless chicken wings felt slimy and dry at the same time. Actually, all the chicken felt dry. Mac and cheese tasted funny too. I believe the order was supposed to only take about 45 min but it took about 90 min.\\n\\nThe antipasto salad was decent tho.",
                  "the 8 pizzas were fully cooked but the 14 and the 18 pizzas came with uncooked dough. it was so doughy that someone actually said this slice actually held up! when his slice was slightly better. boneless chicken wings felt slimy and dry at the same time. actually, all the chicken felt dry. mac and cheese tasted funny too. i believe the order was supposed to only take about 45 min but it took about 90 min. n nthe antipasto salad was decent tho.",
                  "84",
                  "amusement, neutral, joy"
                ]
              ],
              "shape": {
                "columns": 5,
                "rows": 5
              }
            },
            "text/html": [
              "<div>\n",
              "<style scoped>\n",
              "    .dataframe tbody tr th:only-of-type {\n",
              "        vertical-align: middle;\n",
              "    }\n",
              "\n",
              "    .dataframe tbody tr th {\n",
              "        vertical-align: top;\n",
              "    }\n",
              "\n",
              "    .dataframe thead th {\n",
              "        text-align: right;\n",
              "    }\n",
              "</style>\n",
              "<table border=\"1\" class=\"dataframe\">\n",
              "  <thead>\n",
              "    <tr style=\"text-align: right;\">\n",
              "      <th></th>\n",
              "      <th>label</th>\n",
              "      <th>text</th>\n",
              "      <th>clean_text</th>\n",
              "      <th>word_count</th>\n",
              "      <th>emotions</th>\n",
              "    </tr>\n",
              "  </thead>\n",
              "  <tbody>\n",
              "    <tr>\n",
              "      <th>0</th>\n",
              "      <td>1</td>\n",
              "      <td>Although I also REALLY enjoy Mi Familia (just ...</td>\n",
              "      <td>although i also really enjoy mi familia just d...</td>\n",
              "      <td>242</td>\n",
              "      <td>joy, admiration, optimism</td>\n",
              "    </tr>\n",
              "    <tr>\n",
              "      <th>1</th>\n",
              "      <td>1</td>\n",
              "      <td>So in all fairness, the course was actually ve...</td>\n",
              "      <td>so in all fairness, the course was actually ve...</td>\n",
              "      <td>183</td>\n",
              "      <td>annoyance, neutral, disappointment</td>\n",
              "    </tr>\n",
              "    <tr>\n",
              "      <th>2</th>\n",
              "      <td>1</td>\n",
              "      <td>I tried to go here last night; party of five. ...</td>\n",
              "      <td>i tried to go here last night party of five. t...</td>\n",
              "      <td>67</td>\n",
              "      <td>joy, admiration, approval</td>\n",
              "    </tr>\n",
              "    <tr>\n",
              "      <th>3</th>\n",
              "      <td>1</td>\n",
              "      <td>Service was super slow and the food was terrib...</td>\n",
              "      <td>service was super slow and the food was terrib...</td>\n",
              "      <td>75</td>\n",
              "      <td>disappointment, disapproval, annoyance</td>\n",
              "    </tr>\n",
              "    <tr>\n",
              "      <th>4</th>\n",
              "      <td>1</td>\n",
              "      <td>The 8\\\" pizzas were fully cooked but the 14\\\" ...</td>\n",
              "      <td>the 8 pizzas were fully cooked but the 14 and ...</td>\n",
              "      <td>84</td>\n",
              "      <td>amusement, neutral, joy</td>\n",
              "    </tr>\n",
              "  </tbody>\n",
              "</table>\n",
              "</div>"
            ],
            "text/plain": [
              "   label                                               text  \\\n",
              "0      1  Although I also REALLY enjoy Mi Familia (just ...   \n",
              "1      1  So in all fairness, the course was actually ve...   \n",
              "2      1  I tried to go here last night; party of five. ...   \n",
              "3      1  Service was super slow and the food was terrib...   \n",
              "4      1  The 8\\\" pizzas were fully cooked but the 14\\\" ...   \n",
              "\n",
              "                                          clean_text  word_count  \\\n",
              "0  although i also really enjoy mi familia just d...         242   \n",
              "1  so in all fairness, the course was actually ve...         183   \n",
              "2  i tried to go here last night party of five. t...          67   \n",
              "3  service was super slow and the food was terrib...          75   \n",
              "4  the 8 pizzas were fully cooked but the 14 and ...          84   \n",
              "\n",
              "                                 emotions  \n",
              "0               joy, admiration, optimism  \n",
              "1      annoyance, neutral, disappointment  \n",
              "2               joy, admiration, approval  \n",
              "3  disappointment, disapproval, annoyance  \n",
              "4                 amusement, neutral, joy  "
            ]
          },
          "metadata": {},
          "output_type": "display_data"
        }
      ],
      "source": [
        "# Loop through the test2 data\n",
        "for i, row in test1k.iterrows():\n",
        "  test1k.at[i, \"emotions\"] = get_emotion_label(row[\"clean_text\"])\n",
        "  \n",
        "display(test1k.head())"
      ]
    },
    {
      "cell_type": "code",
      "execution_count": 72,
      "metadata": {},
      "outputs": [
        {
          "name": "stdout",
          "output_type": "stream",
          "text": [
            "Train: (9999, 5) (4998, 5)\n",
            "Test: (1998, 5) (999, 5)\n"
          ]
        }
      ],
      "source": [
        "print('Train:', train10k.shape, train5k.shape)\n",
        "print('Test:', test2k.shape, test1k.shape)"
      ]
    },
    {
      "cell_type": "markdown",
      "metadata": {},
      "source": [
        "#### Saving"
      ]
    },
    {
      "cell_type": "code",
      "execution_count": 79,
      "metadata": {},
      "outputs": [],
      "source": [
        "# Create the directory if it doesn't exist\n",
        "save_here = \"../data/for_step_2/\"\n",
        "if not os.path.exists(save_here):\n",
        "    os.makedirs(save_here)"
      ]
    },
    {
      "cell_type": "code",
      "execution_count": 80,
      "metadata": {},
      "outputs": [
        {
          "name": "stdout",
          "output_type": "stream",
          "text": [
            "File train_samples_1.csv saved successfully!\n",
            "File train_samples_2.csv saved successfully!\n",
            "\n",
            "\n",
            "\n",
            "File test_samples_1.csv saved successfully!\n",
            "File test_samples_2.csv saved successfully!\n"
          ]
        }
      ],
      "source": [
        "train_dfs = [train10k, train5k]\n",
        "test_dfs = [test2k, test1k]\n",
        "\n",
        "# Save the splits\n",
        "for i, df in enumerate(train_dfs):\n",
        "    df.to_csv(save_here + f'train_samples_{i+1}.csv', index=False)\n",
        "    if save_here + f'train_samples_{i+1}.csv':\n",
        "        print(f\"File train_samples_{i+1}.csv saved successfully!\")\n",
        "\n",
        "print(\"\\n\\n\")\n",
        "        \n",
        "for i, df in enumerate(test_dfs):\n",
        "    df.to_csv(save_here + f'test_samples_{i+1}.csv', index=False)\n",
        "    if save_here + f'test_samples_{i+1}.csv':\n",
        "        print(f\"File test_samples_{i+1}.csv saved successfully!\")"
      ]
    },
    {
      "cell_type": "code",
      "execution_count": 81,
      "metadata": {},
      "outputs": [
        {
          "name": "stdout",
          "output_type": "stream",
          "text": [
            "PyTorch version: 2.5.1+cu121\n"
          ]
        }
      ],
      "source": [
        "# pytorch version, cuda version, and the GPU being used\n",
        "print(f\"PyTorch version: {torch.__version__}\")"
      ]
    }
  ],
  "metadata": {
    "colab": {
      "provenance": []
    },
    "kernelspec": {
      "display_name": "llmproject",
      "language": "python",
      "name": "python3"
    },
    "language_info": {
      "codemirror_mode": {
        "name": "ipython",
        "version": 3
      },
      "file_extension": ".py",
      "mimetype": "text/x-python",
      "name": "python",
      "nbconvert_exporter": "python",
      "pygments_lexer": "ipython3",
      "version": "3.10.8"
    },
    "orig_nbformat": 4,
    "widgets": {
      "application/vnd.jupyter.widget-state+json": {
        "03d9707c749243ef9d683bfd6e734c32": {
          "model_module": "@jupyter-widgets/base",
          "model_module_version": "1.2.0",
          "model_name": "LayoutModel",
          "state": {
            "_model_module": "@jupyter-widgets/base",
            "_model_module_version": "1.2.0",
            "_model_name": "LayoutModel",
            "_view_count": null,
            "_view_module": "@jupyter-widgets/base",
            "_view_module_version": "1.2.0",
            "_view_name": "LayoutView",
            "align_content": null,
            "align_items": null,
            "align_self": null,
            "border": null,
            "bottom": null,
            "display": null,
            "flex": null,
            "flex_flow": null,
            "grid_area": null,
            "grid_auto_columns": null,
            "grid_auto_flow": null,
            "grid_auto_rows": null,
            "grid_column": null,
            "grid_gap": null,
            "grid_row": null,
            "grid_template_areas": null,
            "grid_template_columns": null,
            "grid_template_rows": null,
            "height": null,
            "justify_content": null,
            "justify_items": null,
            "left": null,
            "margin": null,
            "max_height": null,
            "max_width": null,
            "min_height": null,
            "min_width": null,
            "object_fit": null,
            "object_position": null,
            "order": null,
            "overflow": null,
            "overflow_x": null,
            "overflow_y": null,
            "padding": null,
            "right": null,
            "top": null,
            "visibility": null,
            "width": null
          }
        },
        "1ba4f4503014422283efcf36a99b4613": {
          "model_module": "@jupyter-widgets/controls",
          "model_module_version": "1.5.0",
          "model_name": "FloatProgressModel",
          "state": {
            "_dom_classes": [],
            "_model_module": "@jupyter-widgets/controls",
            "_model_module_version": "1.5.0",
            "_model_name": "FloatProgressModel",
            "_view_count": null,
            "_view_module": "@jupyter-widgets/controls",
            "_view_module_version": "1.5.0",
            "_view_name": "ProgressView",
            "bar_style": "success",
            "description": "",
            "description_tooltip": null,
            "layout": "IPY_MODEL_d52baa6fe844451f800ac63f8d02a9b6",
            "max": 299436850,
            "min": 0,
            "orientation": "horizontal",
            "style": "IPY_MODEL_560a935f50ef44439e75d537e034bf41",
            "value": 299436850
          }
        },
        "1c051a7fd57040bf9fa238ced9e87986": {
          "model_module": "@jupyter-widgets/controls",
          "model_module_version": "1.5.0",
          "model_name": "FloatProgressModel",
          "state": {
            "_dom_classes": [],
            "_model_module": "@jupyter-widgets/controls",
            "_model_module_version": "1.5.0",
            "_model_name": "FloatProgressModel",
            "_view_count": null,
            "_view_module": "@jupyter-widgets/controls",
            "_view_module_version": "1.5.0",
            "_view_name": "ProgressView",
            "bar_style": "success",
            "description": "",
            "description_tooltip": null,
            "layout": "IPY_MODEL_e8220cdbaef74d11862fdeb04ffae9ad",
            "max": 6724,
            "min": 0,
            "orientation": "horizontal",
            "style": "IPY_MODEL_62b22f17714540bfa261880e7df36a1f",
            "value": 6724
          }
        },
        "1ec43b2635a24bb1be0a7bef6c3fc005": {
          "model_module": "@jupyter-widgets/controls",
          "model_module_version": "1.5.0",
          "model_name": "HBoxModel",
          "state": {
            "_dom_classes": [],
            "_model_module": "@jupyter-widgets/controls",
            "_model_module_version": "1.5.0",
            "_model_name": "HBoxModel",
            "_view_count": null,
            "_view_module": "@jupyter-widgets/controls",
            "_view_module_version": "1.5.0",
            "_view_name": "HBoxView",
            "box_style": "",
            "children": [
              "IPY_MODEL_aaad4c00978d4dc5a3a0fcba2a5a2edf",
              "IPY_MODEL_1ba4f4503014422283efcf36a99b4613",
              "IPY_MODEL_2380e50cad494c729858b4a2a74ff6d4"
            ],
            "layout": "IPY_MODEL_b5cb0840c7c1460eb9c31356912b05f2"
          }
        },
        "2380e50cad494c729858b4a2a74ff6d4": {
          "model_module": "@jupyter-widgets/controls",
          "model_module_version": "1.5.0",
          "model_name": "HTMLModel",
          "state": {
            "_dom_classes": [],
            "_model_module": "@jupyter-widgets/controls",
            "_model_module_version": "1.5.0",
            "_model_name": "HTMLModel",
            "_view_count": null,
            "_view_module": "@jupyter-widgets/controls",
            "_view_module_version": "1.5.0",
            "_view_name": "HTMLView",
            "description": "",
            "description_tooltip": null,
            "layout": "IPY_MODEL_e1e602466f784e6fa3a4144c28da0c1e",
            "placeholder": "​",
            "style": "IPY_MODEL_9ac289d700654c9ab98bd40ce52c55ce",
            "value": " 299M/299M [00:02&lt;00:00, 93.3MB/s]"
          }
        },
        "26b8368972214d0a8ba7fc61383aff4f": {
          "model_module": "@jupyter-widgets/base",
          "model_module_version": "1.2.0",
          "model_name": "LayoutModel",
          "state": {
            "_model_module": "@jupyter-widgets/base",
            "_model_module_version": "1.2.0",
            "_model_name": "LayoutModel",
            "_view_count": null,
            "_view_module": "@jupyter-widgets/base",
            "_view_module_version": "1.2.0",
            "_view_name": "LayoutView",
            "align_content": null,
            "align_items": null,
            "align_self": null,
            "border": null,
            "bottom": null,
            "display": null,
            "flex": null,
            "flex_flow": null,
            "grid_area": null,
            "grid_auto_columns": null,
            "grid_auto_flow": null,
            "grid_auto_rows": null,
            "grid_column": null,
            "grid_gap": null,
            "grid_row": null,
            "grid_template_areas": null,
            "grid_template_columns": null,
            "grid_template_rows": null,
            "height": null,
            "justify_content": null,
            "justify_items": null,
            "left": null,
            "margin": null,
            "max_height": null,
            "max_width": null,
            "min_height": null,
            "min_width": null,
            "object_fit": null,
            "object_position": null,
            "order": null,
            "overflow": null,
            "overflow_x": null,
            "overflow_y": null,
            "padding": null,
            "right": null,
            "top": null,
            "visibility": null,
            "width": null
          }
        },
        "316ffa4171544667ae46987d2172acab": {
          "model_module": "@jupyter-widgets/controls",
          "model_module_version": "1.5.0",
          "model_name": "DescriptionStyleModel",
          "state": {
            "_model_module": "@jupyter-widgets/controls",
            "_model_module_version": "1.5.0",
            "_model_name": "DescriptionStyleModel",
            "_view_count": null,
            "_view_module": "@jupyter-widgets/base",
            "_view_module_version": "1.2.0",
            "_view_name": "StyleView",
            "description_width": ""
          }
        },
        "32519eeb16474e9f8f4855550bf5fad5": {
          "model_module": "@jupyter-widgets/base",
          "model_module_version": "1.2.0",
          "model_name": "LayoutModel",
          "state": {
            "_model_module": "@jupyter-widgets/base",
            "_model_module_version": "1.2.0",
            "_model_name": "LayoutModel",
            "_view_count": null,
            "_view_module": "@jupyter-widgets/base",
            "_view_module_version": "1.2.0",
            "_view_name": "LayoutView",
            "align_content": null,
            "align_items": null,
            "align_self": null,
            "border": null,
            "bottom": null,
            "display": null,
            "flex": null,
            "flex_flow": null,
            "grid_area": null,
            "grid_auto_columns": null,
            "grid_auto_flow": null,
            "grid_auto_rows": null,
            "grid_column": null,
            "grid_gap": null,
            "grid_row": null,
            "grid_template_areas": null,
            "grid_template_columns": null,
            "grid_template_rows": null,
            "height": null,
            "justify_content": null,
            "justify_items": null,
            "left": null,
            "margin": null,
            "max_height": null,
            "max_width": null,
            "min_height": null,
            "min_width": null,
            "object_fit": null,
            "object_position": null,
            "order": null,
            "overflow": null,
            "overflow_x": null,
            "overflow_y": null,
            "padding": null,
            "right": null,
            "top": null,
            "visibility": null,
            "width": null
          }
        },
        "33ecb5a1f8844cdb9c9bbccb4daeac45": {
          "model_module": "@jupyter-widgets/controls",
          "model_module_version": "1.5.0",
          "model_name": "HTMLModel",
          "state": {
            "_dom_classes": [],
            "_model_module": "@jupyter-widgets/controls",
            "_model_module_version": "1.5.0",
            "_model_name": "HTMLModel",
            "_view_count": null,
            "_view_module": "@jupyter-widgets/controls",
            "_view_module_version": "1.5.0",
            "_view_name": "HTMLView",
            "description": "",
            "description_tooltip": null,
            "layout": "IPY_MODEL_26b8368972214d0a8ba7fc61383aff4f",
            "placeholder": "​",
            "style": "IPY_MODEL_da4203e4c3cd4a42b533097ef3f9a3c6",
            "value": "Generating train split: 100%"
          }
        },
        "3b9f092de5d1412eaeae64ecd80d581c": {
          "model_module": "@jupyter-widgets/controls",
          "model_module_version": "1.5.0",
          "model_name": "DescriptionStyleModel",
          "state": {
            "_model_module": "@jupyter-widgets/controls",
            "_model_module_version": "1.5.0",
            "_model_name": "DescriptionStyleModel",
            "_view_count": null,
            "_view_module": "@jupyter-widgets/base",
            "_view_module_version": "1.2.0",
            "_view_name": "StyleView",
            "description_width": ""
          }
        },
        "3f1914896b784b789823b43bf279a1f1": {
          "model_module": "@jupyter-widgets/base",
          "model_module_version": "1.2.0",
          "model_name": "LayoutModel",
          "state": {
            "_model_module": "@jupyter-widgets/base",
            "_model_module_version": "1.2.0",
            "_model_name": "LayoutModel",
            "_view_count": null,
            "_view_module": "@jupyter-widgets/base",
            "_view_module_version": "1.2.0",
            "_view_name": "LayoutView",
            "align_content": null,
            "align_items": null,
            "align_self": null,
            "border": null,
            "bottom": null,
            "display": null,
            "flex": null,
            "flex_flow": null,
            "grid_area": null,
            "grid_auto_columns": null,
            "grid_auto_flow": null,
            "grid_auto_rows": null,
            "grid_column": null,
            "grid_gap": null,
            "grid_row": null,
            "grid_template_areas": null,
            "grid_template_columns": null,
            "grid_template_rows": null,
            "height": null,
            "justify_content": null,
            "justify_items": null,
            "left": null,
            "margin": null,
            "max_height": null,
            "max_width": null,
            "min_height": null,
            "min_width": null,
            "object_fit": null,
            "object_position": null,
            "order": null,
            "overflow": null,
            "overflow_x": null,
            "overflow_y": null,
            "padding": null,
            "right": null,
            "top": null,
            "visibility": null,
            "width": null
          }
        },
        "407bf2e084034f13900d657834bfd585": {
          "model_module": "@jupyter-widgets/controls",
          "model_module_version": "1.5.0",
          "model_name": "DescriptionStyleModel",
          "state": {
            "_model_module": "@jupyter-widgets/controls",
            "_model_module_version": "1.5.0",
            "_model_name": "DescriptionStyleModel",
            "_view_count": null,
            "_view_module": "@jupyter-widgets/base",
            "_view_module_version": "1.2.0",
            "_view_name": "StyleView",
            "description_width": ""
          }
        },
        "51a9fd78405642e5a386f2d5be5af073": {
          "model_module": "@jupyter-widgets/base",
          "model_module_version": "1.2.0",
          "model_name": "LayoutModel",
          "state": {
            "_model_module": "@jupyter-widgets/base",
            "_model_module_version": "1.2.0",
            "_model_name": "LayoutModel",
            "_view_count": null,
            "_view_module": "@jupyter-widgets/base",
            "_view_module_version": "1.2.0",
            "_view_name": "LayoutView",
            "align_content": null,
            "align_items": null,
            "align_self": null,
            "border": null,
            "bottom": null,
            "display": null,
            "flex": null,
            "flex_flow": null,
            "grid_area": null,
            "grid_auto_columns": null,
            "grid_auto_flow": null,
            "grid_auto_rows": null,
            "grid_column": null,
            "grid_gap": null,
            "grid_row": null,
            "grid_template_areas": null,
            "grid_template_columns": null,
            "grid_template_rows": null,
            "height": null,
            "justify_content": null,
            "justify_items": null,
            "left": null,
            "margin": null,
            "max_height": null,
            "max_width": null,
            "min_height": null,
            "min_width": null,
            "object_fit": null,
            "object_position": null,
            "order": null,
            "overflow": null,
            "overflow_x": null,
            "overflow_y": null,
            "padding": null,
            "right": null,
            "top": null,
            "visibility": null,
            "width": null
          }
        },
        "51c6791dd91c4a6697df09a3b1d1cff9": {
          "model_module": "@jupyter-widgets/controls",
          "model_module_version": "1.5.0",
          "model_name": "HTMLModel",
          "state": {
            "_dom_classes": [],
            "_model_module": "@jupyter-widgets/controls",
            "_model_module_version": "1.5.0",
            "_model_name": "HTMLModel",
            "_view_count": null,
            "_view_module": "@jupyter-widgets/controls",
            "_view_module_version": "1.5.0",
            "_view_name": "HTMLView",
            "description": "",
            "description_tooltip": null,
            "layout": "IPY_MODEL_7ce87a5adf3648608416a1c8bb166e10",
            "placeholder": "​",
            "style": "IPY_MODEL_8331d473468f4c64ab00c8c852498db5",
            "value": "README.md: 100%"
          }
        },
        "560a935f50ef44439e75d537e034bf41": {
          "model_module": "@jupyter-widgets/controls",
          "model_module_version": "1.5.0",
          "model_name": "ProgressStyleModel",
          "state": {
            "_model_module": "@jupyter-widgets/controls",
            "_model_module_version": "1.5.0",
            "_model_name": "ProgressStyleModel",
            "_view_count": null,
            "_view_module": "@jupyter-widgets/base",
            "_view_module_version": "1.2.0",
            "_view_name": "StyleView",
            "bar_color": null,
            "description_width": ""
          }
        },
        "5cfdeede94314cf89b56bb54e19ff056": {
          "model_module": "@jupyter-widgets/base",
          "model_module_version": "1.2.0",
          "model_name": "LayoutModel",
          "state": {
            "_model_module": "@jupyter-widgets/base",
            "_model_module_version": "1.2.0",
            "_model_name": "LayoutModel",
            "_view_count": null,
            "_view_module": "@jupyter-widgets/base",
            "_view_module_version": "1.2.0",
            "_view_name": "LayoutView",
            "align_content": null,
            "align_items": null,
            "align_self": null,
            "border": null,
            "bottom": null,
            "display": null,
            "flex": null,
            "flex_flow": null,
            "grid_area": null,
            "grid_auto_columns": null,
            "grid_auto_flow": null,
            "grid_auto_rows": null,
            "grid_column": null,
            "grid_gap": null,
            "grid_row": null,
            "grid_template_areas": null,
            "grid_template_columns": null,
            "grid_template_rows": null,
            "height": null,
            "justify_content": null,
            "justify_items": null,
            "left": null,
            "margin": null,
            "max_height": null,
            "max_width": null,
            "min_height": null,
            "min_width": null,
            "object_fit": null,
            "object_position": null,
            "order": null,
            "overflow": null,
            "overflow_x": null,
            "overflow_y": null,
            "padding": null,
            "right": null,
            "top": null,
            "visibility": null,
            "width": null
          }
        },
        "5dc97ce026f048d3884e934796267cdb": {
          "model_module": "@jupyter-widgets/controls",
          "model_module_version": "1.5.0",
          "model_name": "HTMLModel",
          "state": {
            "_dom_classes": [],
            "_model_module": "@jupyter-widgets/controls",
            "_model_module_version": "1.5.0",
            "_model_name": "HTMLModel",
            "_view_count": null,
            "_view_module": "@jupyter-widgets/controls",
            "_view_module_version": "1.5.0",
            "_view_name": "HTMLView",
            "description": "",
            "description_tooltip": null,
            "layout": "IPY_MODEL_e8e5bb6de2e942388bb9fd3e67f0c9ec",
            "placeholder": "​",
            "style": "IPY_MODEL_c46e03d1bfe04b919d05dc8ed517a814",
            "value": " 50000/50000 [00:00&lt;00:00, 265221.32 examples/s]"
          }
        },
        "60b34e07e9d5497f9c143e09c8632d0f": {
          "model_module": "@jupyter-widgets/controls",
          "model_module_version": "1.5.0",
          "model_name": "ProgressStyleModel",
          "state": {
            "_model_module": "@jupyter-widgets/controls",
            "_model_module_version": "1.5.0",
            "_model_name": "ProgressStyleModel",
            "_view_count": null,
            "_view_module": "@jupyter-widgets/base",
            "_view_module_version": "1.2.0",
            "_view_name": "StyleView",
            "bar_color": null,
            "description_width": ""
          }
        },
        "62b22f17714540bfa261880e7df36a1f": {
          "model_module": "@jupyter-widgets/controls",
          "model_module_version": "1.5.0",
          "model_name": "ProgressStyleModel",
          "state": {
            "_model_module": "@jupyter-widgets/controls",
            "_model_module_version": "1.5.0",
            "_model_name": "ProgressStyleModel",
            "_view_count": null,
            "_view_module": "@jupyter-widgets/base",
            "_view_module_version": "1.2.0",
            "_view_name": "StyleView",
            "bar_color": null,
            "description_width": ""
          }
        },
        "6ae6a3bc0ea147e993467d612dd71ad8": {
          "model_module": "@jupyter-widgets/controls",
          "model_module_version": "1.5.0",
          "model_name": "HTMLModel",
          "state": {
            "_dom_classes": [],
            "_model_module": "@jupyter-widgets/controls",
            "_model_module_version": "1.5.0",
            "_model_name": "HTMLModel",
            "_view_count": null,
            "_view_module": "@jupyter-widgets/controls",
            "_view_module_version": "1.5.0",
            "_view_name": "HTMLView",
            "description": "",
            "description_tooltip": null,
            "layout": "IPY_MODEL_8c135c93f97f4d14bf0d80b269da284c",
            "placeholder": "​",
            "style": "IPY_MODEL_d53baea3312949ffbc8219815908780c",
            "value": "test-00000-of-00001.parquet: 100%"
          }
        },
        "7ce87a5adf3648608416a1c8bb166e10": {
          "model_module": "@jupyter-widgets/base",
          "model_module_version": "1.2.0",
          "model_name": "LayoutModel",
          "state": {
            "_model_module": "@jupyter-widgets/base",
            "_model_module_version": "1.2.0",
            "_model_name": "LayoutModel",
            "_view_count": null,
            "_view_module": "@jupyter-widgets/base",
            "_view_module_version": "1.2.0",
            "_view_name": "LayoutView",
            "align_content": null,
            "align_items": null,
            "align_self": null,
            "border": null,
            "bottom": null,
            "display": null,
            "flex": null,
            "flex_flow": null,
            "grid_area": null,
            "grid_auto_columns": null,
            "grid_auto_flow": null,
            "grid_auto_rows": null,
            "grid_column": null,
            "grid_gap": null,
            "grid_row": null,
            "grid_template_areas": null,
            "grid_template_columns": null,
            "grid_template_rows": null,
            "height": null,
            "justify_content": null,
            "justify_items": null,
            "left": null,
            "margin": null,
            "max_height": null,
            "max_width": null,
            "min_height": null,
            "min_width": null,
            "object_fit": null,
            "object_position": null,
            "order": null,
            "overflow": null,
            "overflow_x": null,
            "overflow_y": null,
            "padding": null,
            "right": null,
            "top": null,
            "visibility": null,
            "width": null
          }
        },
        "8331d473468f4c64ab00c8c852498db5": {
          "model_module": "@jupyter-widgets/controls",
          "model_module_version": "1.5.0",
          "model_name": "DescriptionStyleModel",
          "state": {
            "_model_module": "@jupyter-widgets/controls",
            "_model_module_version": "1.5.0",
            "_model_name": "DescriptionStyleModel",
            "_view_count": null,
            "_view_module": "@jupyter-widgets/base",
            "_view_module_version": "1.2.0",
            "_view_name": "StyleView",
            "description_width": ""
          }
        },
        "8b332931e7dc4adeb643efa29ebeb06d": {
          "model_module": "@jupyter-widgets/controls",
          "model_module_version": "1.5.0",
          "model_name": "HTMLModel",
          "state": {
            "_dom_classes": [],
            "_model_module": "@jupyter-widgets/controls",
            "_model_module_version": "1.5.0",
            "_model_name": "HTMLModel",
            "_view_count": null,
            "_view_module": "@jupyter-widgets/controls",
            "_view_module_version": "1.5.0",
            "_view_name": "HTMLView",
            "description": "",
            "description_tooltip": null,
            "layout": "IPY_MODEL_a6c8165d8b8d49de8dd5a377764531cb",
            "placeholder": "​",
            "style": "IPY_MODEL_3b9f092de5d1412eaeae64ecd80d581c",
            "value": " 23.5M/23.5M [00:00&lt;00:00, 123MB/s]"
          }
        },
        "8c135c93f97f4d14bf0d80b269da284c": {
          "model_module": "@jupyter-widgets/base",
          "model_module_version": "1.2.0",
          "model_name": "LayoutModel",
          "state": {
            "_model_module": "@jupyter-widgets/base",
            "_model_module_version": "1.2.0",
            "_model_name": "LayoutModel",
            "_view_count": null,
            "_view_module": "@jupyter-widgets/base",
            "_view_module_version": "1.2.0",
            "_view_name": "LayoutView",
            "align_content": null,
            "align_items": null,
            "align_self": null,
            "border": null,
            "bottom": null,
            "display": null,
            "flex": null,
            "flex_flow": null,
            "grid_area": null,
            "grid_auto_columns": null,
            "grid_auto_flow": null,
            "grid_auto_rows": null,
            "grid_column": null,
            "grid_gap": null,
            "grid_row": null,
            "grid_template_areas": null,
            "grid_template_columns": null,
            "grid_template_rows": null,
            "height": null,
            "justify_content": null,
            "justify_items": null,
            "left": null,
            "margin": null,
            "max_height": null,
            "max_width": null,
            "min_height": null,
            "min_width": null,
            "object_fit": null,
            "object_position": null,
            "order": null,
            "overflow": null,
            "overflow_x": null,
            "overflow_y": null,
            "padding": null,
            "right": null,
            "top": null,
            "visibility": null,
            "width": null
          }
        },
        "94f5cce902c54af5b0457b9b9f64a973": {
          "model_module": "@jupyter-widgets/controls",
          "model_module_version": "1.5.0",
          "model_name": "ProgressStyleModel",
          "state": {
            "_model_module": "@jupyter-widgets/controls",
            "_model_module_version": "1.5.0",
            "_model_name": "ProgressStyleModel",
            "_view_count": null,
            "_view_module": "@jupyter-widgets/base",
            "_view_module_version": "1.2.0",
            "_view_name": "StyleView",
            "bar_color": null,
            "description_width": ""
          }
        },
        "9ac289d700654c9ab98bd40ce52c55ce": {
          "model_module": "@jupyter-widgets/controls",
          "model_module_version": "1.5.0",
          "model_name": "DescriptionStyleModel",
          "state": {
            "_model_module": "@jupyter-widgets/controls",
            "_model_module_version": "1.5.0",
            "_model_name": "DescriptionStyleModel",
            "_view_count": null,
            "_view_module": "@jupyter-widgets/base",
            "_view_module_version": "1.2.0",
            "_view_name": "StyleView",
            "description_width": ""
          }
        },
        "9f5d5e8957d849b6ae1c10d950f51f1e": {
          "model_module": "@jupyter-widgets/controls",
          "model_module_version": "1.5.0",
          "model_name": "HBoxModel",
          "state": {
            "_dom_classes": [],
            "_model_module": "@jupyter-widgets/controls",
            "_model_module_version": "1.5.0",
            "_model_name": "HBoxModel",
            "_view_count": null,
            "_view_module": "@jupyter-widgets/controls",
            "_view_module_version": "1.5.0",
            "_view_name": "HBoxView",
            "box_style": "",
            "children": [
              "IPY_MODEL_33ecb5a1f8844cdb9c9bbccb4daeac45",
              "IPY_MODEL_a48129c1a04d49e4ad5897a51d01e951",
              "IPY_MODEL_b1ddf244cf41418bb789294f670096a1"
            ],
            "layout": "IPY_MODEL_32519eeb16474e9f8f4855550bf5fad5"
          }
        },
        "a48129c1a04d49e4ad5897a51d01e951": {
          "model_module": "@jupyter-widgets/controls",
          "model_module_version": "1.5.0",
          "model_name": "FloatProgressModel",
          "state": {
            "_dom_classes": [],
            "_model_module": "@jupyter-widgets/controls",
            "_model_module_version": "1.5.0",
            "_model_name": "FloatProgressModel",
            "_view_count": null,
            "_view_module": "@jupyter-widgets/controls",
            "_view_module_version": "1.5.0",
            "_view_name": "ProgressView",
            "bar_style": "success",
            "description": "",
            "description_tooltip": null,
            "layout": "IPY_MODEL_51a9fd78405642e5a386f2d5be5af073",
            "max": 650000,
            "min": 0,
            "orientation": "horizontal",
            "style": "IPY_MODEL_fbd763b5234344d6a9bf0d1e63e70d8b",
            "value": 650000
          }
        },
        "a6c8165d8b8d49de8dd5a377764531cb": {
          "model_module": "@jupyter-widgets/base",
          "model_module_version": "1.2.0",
          "model_name": "LayoutModel",
          "state": {
            "_model_module": "@jupyter-widgets/base",
            "_model_module_version": "1.2.0",
            "_model_name": "LayoutModel",
            "_view_count": null,
            "_view_module": "@jupyter-widgets/base",
            "_view_module_version": "1.2.0",
            "_view_name": "LayoutView",
            "align_content": null,
            "align_items": null,
            "align_self": null,
            "border": null,
            "bottom": null,
            "display": null,
            "flex": null,
            "flex_flow": null,
            "grid_area": null,
            "grid_auto_columns": null,
            "grid_auto_flow": null,
            "grid_auto_rows": null,
            "grid_column": null,
            "grid_gap": null,
            "grid_row": null,
            "grid_template_areas": null,
            "grid_template_columns": null,
            "grid_template_rows": null,
            "height": null,
            "justify_content": null,
            "justify_items": null,
            "left": null,
            "margin": null,
            "max_height": null,
            "max_width": null,
            "min_height": null,
            "min_width": null,
            "object_fit": null,
            "object_position": null,
            "order": null,
            "overflow": null,
            "overflow_x": null,
            "overflow_y": null,
            "padding": null,
            "right": null,
            "top": null,
            "visibility": null,
            "width": null
          }
        },
        "a736562a6a9d4181a837e729addfa5b3": {
          "model_module": "@jupyter-widgets/base",
          "model_module_version": "1.2.0",
          "model_name": "LayoutModel",
          "state": {
            "_model_module": "@jupyter-widgets/base",
            "_model_module_version": "1.2.0",
            "_model_name": "LayoutModel",
            "_view_count": null,
            "_view_module": "@jupyter-widgets/base",
            "_view_module_version": "1.2.0",
            "_view_name": "LayoutView",
            "align_content": null,
            "align_items": null,
            "align_self": null,
            "border": null,
            "bottom": null,
            "display": null,
            "flex": null,
            "flex_flow": null,
            "grid_area": null,
            "grid_auto_columns": null,
            "grid_auto_flow": null,
            "grid_auto_rows": null,
            "grid_column": null,
            "grid_gap": null,
            "grid_row": null,
            "grid_template_areas": null,
            "grid_template_columns": null,
            "grid_template_rows": null,
            "height": null,
            "justify_content": null,
            "justify_items": null,
            "left": null,
            "margin": null,
            "max_height": null,
            "max_width": null,
            "min_height": null,
            "min_width": null,
            "object_fit": null,
            "object_position": null,
            "order": null,
            "overflow": null,
            "overflow_x": null,
            "overflow_y": null,
            "padding": null,
            "right": null,
            "top": null,
            "visibility": null,
            "width": null
          }
        },
        "aaad4c00978d4dc5a3a0fcba2a5a2edf": {
          "model_module": "@jupyter-widgets/controls",
          "model_module_version": "1.5.0",
          "model_name": "HTMLModel",
          "state": {
            "_dom_classes": [],
            "_model_module": "@jupyter-widgets/controls",
            "_model_module_version": "1.5.0",
            "_model_name": "HTMLModel",
            "_view_count": null,
            "_view_module": "@jupyter-widgets/controls",
            "_view_module_version": "1.5.0",
            "_view_name": "HTMLView",
            "description": "",
            "description_tooltip": null,
            "layout": "IPY_MODEL_e2e27329994b47cc9e7cd1e5b3e364fd",
            "placeholder": "​",
            "style": "IPY_MODEL_b7298720961e458ab1a6f7e73a334834",
            "value": "train-00000-of-00001.parquet: 100%"
          }
        },
        "af2eb94f80fc48be94bb1c29bf92211a": {
          "model_module": "@jupyter-widgets/base",
          "model_module_version": "1.2.0",
          "model_name": "LayoutModel",
          "state": {
            "_model_module": "@jupyter-widgets/base",
            "_model_module_version": "1.2.0",
            "_model_name": "LayoutModel",
            "_view_count": null,
            "_view_module": "@jupyter-widgets/base",
            "_view_module_version": "1.2.0",
            "_view_name": "LayoutView",
            "align_content": null,
            "align_items": null,
            "align_self": null,
            "border": null,
            "bottom": null,
            "display": null,
            "flex": null,
            "flex_flow": null,
            "grid_area": null,
            "grid_auto_columns": null,
            "grid_auto_flow": null,
            "grid_auto_rows": null,
            "grid_column": null,
            "grid_gap": null,
            "grid_row": null,
            "grid_template_areas": null,
            "grid_template_columns": null,
            "grid_template_rows": null,
            "height": null,
            "justify_content": null,
            "justify_items": null,
            "left": null,
            "margin": null,
            "max_height": null,
            "max_width": null,
            "min_height": null,
            "min_width": null,
            "object_fit": null,
            "object_position": null,
            "order": null,
            "overflow": null,
            "overflow_x": null,
            "overflow_y": null,
            "padding": null,
            "right": null,
            "top": null,
            "visibility": null,
            "width": null
          }
        },
        "b1ddf244cf41418bb789294f670096a1": {
          "model_module": "@jupyter-widgets/controls",
          "model_module_version": "1.5.0",
          "model_name": "HTMLModel",
          "state": {
            "_dom_classes": [],
            "_model_module": "@jupyter-widgets/controls",
            "_model_module_version": "1.5.0",
            "_model_name": "HTMLModel",
            "_view_count": null,
            "_view_module": "@jupyter-widgets/controls",
            "_view_module_version": "1.5.0",
            "_view_name": "HTMLView",
            "description": "",
            "description_tooltip": null,
            "layout": "IPY_MODEL_03d9707c749243ef9d683bfd6e734c32",
            "placeholder": "​",
            "style": "IPY_MODEL_316ffa4171544667ae46987d2172acab",
            "value": " 650000/650000 [00:03&lt;00:00, 333532.38 examples/s]"
          }
        },
        "b5cb0840c7c1460eb9c31356912b05f2": {
          "model_module": "@jupyter-widgets/base",
          "model_module_version": "1.2.0",
          "model_name": "LayoutModel",
          "state": {
            "_model_module": "@jupyter-widgets/base",
            "_model_module_version": "1.2.0",
            "_model_name": "LayoutModel",
            "_view_count": null,
            "_view_module": "@jupyter-widgets/base",
            "_view_module_version": "1.2.0",
            "_view_name": "LayoutView",
            "align_content": null,
            "align_items": null,
            "align_self": null,
            "border": null,
            "bottom": null,
            "display": null,
            "flex": null,
            "flex_flow": null,
            "grid_area": null,
            "grid_auto_columns": null,
            "grid_auto_flow": null,
            "grid_auto_rows": null,
            "grid_column": null,
            "grid_gap": null,
            "grid_row": null,
            "grid_template_areas": null,
            "grid_template_columns": null,
            "grid_template_rows": null,
            "height": null,
            "justify_content": null,
            "justify_items": null,
            "left": null,
            "margin": null,
            "max_height": null,
            "max_width": null,
            "min_height": null,
            "min_width": null,
            "object_fit": null,
            "object_position": null,
            "order": null,
            "overflow": null,
            "overflow_x": null,
            "overflow_y": null,
            "padding": null,
            "right": null,
            "top": null,
            "visibility": null,
            "width": null
          }
        },
        "b6ae727eabf24140878befcbcc6a26ab": {
          "model_module": "@jupyter-widgets/controls",
          "model_module_version": "1.5.0",
          "model_name": "HBoxModel",
          "state": {
            "_dom_classes": [],
            "_model_module": "@jupyter-widgets/controls",
            "_model_module_version": "1.5.0",
            "_model_name": "HBoxModel",
            "_view_count": null,
            "_view_module": "@jupyter-widgets/controls",
            "_view_module_version": "1.5.0",
            "_view_name": "HBoxView",
            "box_style": "",
            "children": [
              "IPY_MODEL_51c6791dd91c4a6697df09a3b1d1cff9",
              "IPY_MODEL_1c051a7fd57040bf9fa238ced9e87986",
              "IPY_MODEL_bb52244d81624d80b5cb690d80556970"
            ],
            "layout": "IPY_MODEL_ca97bb94dd0d46448391960bc4697aaf"
          }
        },
        "b7298720961e458ab1a6f7e73a334834": {
          "model_module": "@jupyter-widgets/controls",
          "model_module_version": "1.5.0",
          "model_name": "DescriptionStyleModel",
          "state": {
            "_model_module": "@jupyter-widgets/controls",
            "_model_module_version": "1.5.0",
            "_model_name": "DescriptionStyleModel",
            "_view_count": null,
            "_view_module": "@jupyter-widgets/base",
            "_view_module_version": "1.2.0",
            "_view_name": "StyleView",
            "description_width": ""
          }
        },
        "bb52244d81624d80b5cb690d80556970": {
          "model_module": "@jupyter-widgets/controls",
          "model_module_version": "1.5.0",
          "model_name": "HTMLModel",
          "state": {
            "_dom_classes": [],
            "_model_module": "@jupyter-widgets/controls",
            "_model_module_version": "1.5.0",
            "_model_name": "HTMLModel",
            "_view_count": null,
            "_view_module": "@jupyter-widgets/controls",
            "_view_module_version": "1.5.0",
            "_view_name": "HTMLView",
            "description": "",
            "description_tooltip": null,
            "layout": "IPY_MODEL_af2eb94f80fc48be94bb1c29bf92211a",
            "placeholder": "​",
            "style": "IPY_MODEL_407bf2e084034f13900d657834bfd585",
            "value": " 6.72k/6.72k [00:00&lt;00:00, 826kB/s]"
          }
        },
        "c04cef4a9e174b328c6426bc8d723e1f": {
          "model_module": "@jupyter-widgets/controls",
          "model_module_version": "1.5.0",
          "model_name": "DescriptionStyleModel",
          "state": {
            "_model_module": "@jupyter-widgets/controls",
            "_model_module_version": "1.5.0",
            "_model_name": "DescriptionStyleModel",
            "_view_count": null,
            "_view_module": "@jupyter-widgets/base",
            "_view_module_version": "1.2.0",
            "_view_name": "StyleView",
            "description_width": ""
          }
        },
        "c3c3afe840014133ae4c7f9ae66a2e5f": {
          "model_module": "@jupyter-widgets/controls",
          "model_module_version": "1.5.0",
          "model_name": "HTMLModel",
          "state": {
            "_dom_classes": [],
            "_model_module": "@jupyter-widgets/controls",
            "_model_module_version": "1.5.0",
            "_model_name": "HTMLModel",
            "_view_count": null,
            "_view_module": "@jupyter-widgets/controls",
            "_view_module_version": "1.5.0",
            "_view_name": "HTMLView",
            "description": "",
            "description_tooltip": null,
            "layout": "IPY_MODEL_dbd705c0e47e441184e1f3c6196a8dcb",
            "placeholder": "​",
            "style": "IPY_MODEL_c04cef4a9e174b328c6426bc8d723e1f",
            "value": "Generating test split: 100%"
          }
        },
        "c46e03d1bfe04b919d05dc8ed517a814": {
          "model_module": "@jupyter-widgets/controls",
          "model_module_version": "1.5.0",
          "model_name": "DescriptionStyleModel",
          "state": {
            "_model_module": "@jupyter-widgets/controls",
            "_model_module_version": "1.5.0",
            "_model_name": "DescriptionStyleModel",
            "_view_count": null,
            "_view_module": "@jupyter-widgets/base",
            "_view_module_version": "1.2.0",
            "_view_name": "StyleView",
            "description_width": ""
          }
        },
        "ca97bb94dd0d46448391960bc4697aaf": {
          "model_module": "@jupyter-widgets/base",
          "model_module_version": "1.2.0",
          "model_name": "LayoutModel",
          "state": {
            "_model_module": "@jupyter-widgets/base",
            "_model_module_version": "1.2.0",
            "_model_name": "LayoutModel",
            "_view_count": null,
            "_view_module": "@jupyter-widgets/base",
            "_view_module_version": "1.2.0",
            "_view_name": "LayoutView",
            "align_content": null,
            "align_items": null,
            "align_self": null,
            "border": null,
            "bottom": null,
            "display": null,
            "flex": null,
            "flex_flow": null,
            "grid_area": null,
            "grid_auto_columns": null,
            "grid_auto_flow": null,
            "grid_auto_rows": null,
            "grid_column": null,
            "grid_gap": null,
            "grid_row": null,
            "grid_template_areas": null,
            "grid_template_columns": null,
            "grid_template_rows": null,
            "height": null,
            "justify_content": null,
            "justify_items": null,
            "left": null,
            "margin": null,
            "max_height": null,
            "max_width": null,
            "min_height": null,
            "min_width": null,
            "object_fit": null,
            "object_position": null,
            "order": null,
            "overflow": null,
            "overflow_x": null,
            "overflow_y": null,
            "padding": null,
            "right": null,
            "top": null,
            "visibility": null,
            "width": null
          }
        },
        "d492e1577a5f4184bd7a06ac46670167": {
          "model_module": "@jupyter-widgets/controls",
          "model_module_version": "1.5.0",
          "model_name": "HBoxModel",
          "state": {
            "_dom_classes": [],
            "_model_module": "@jupyter-widgets/controls",
            "_model_module_version": "1.5.0",
            "_model_name": "HBoxModel",
            "_view_count": null,
            "_view_module": "@jupyter-widgets/controls",
            "_view_module_version": "1.5.0",
            "_view_name": "HBoxView",
            "box_style": "",
            "children": [
              "IPY_MODEL_6ae6a3bc0ea147e993467d612dd71ad8",
              "IPY_MODEL_d7cd0a7e1b4d4f0485e4386878788aca",
              "IPY_MODEL_8b332931e7dc4adeb643efa29ebeb06d"
            ],
            "layout": "IPY_MODEL_a736562a6a9d4181a837e729addfa5b3"
          }
        },
        "d52baa6fe844451f800ac63f8d02a9b6": {
          "model_module": "@jupyter-widgets/base",
          "model_module_version": "1.2.0",
          "model_name": "LayoutModel",
          "state": {
            "_model_module": "@jupyter-widgets/base",
            "_model_module_version": "1.2.0",
            "_model_name": "LayoutModel",
            "_view_count": null,
            "_view_module": "@jupyter-widgets/base",
            "_view_module_version": "1.2.0",
            "_view_name": "LayoutView",
            "align_content": null,
            "align_items": null,
            "align_self": null,
            "border": null,
            "bottom": null,
            "display": null,
            "flex": null,
            "flex_flow": null,
            "grid_area": null,
            "grid_auto_columns": null,
            "grid_auto_flow": null,
            "grid_auto_rows": null,
            "grid_column": null,
            "grid_gap": null,
            "grid_row": null,
            "grid_template_areas": null,
            "grid_template_columns": null,
            "grid_template_rows": null,
            "height": null,
            "justify_content": null,
            "justify_items": null,
            "left": null,
            "margin": null,
            "max_height": null,
            "max_width": null,
            "min_height": null,
            "min_width": null,
            "object_fit": null,
            "object_position": null,
            "order": null,
            "overflow": null,
            "overflow_x": null,
            "overflow_y": null,
            "padding": null,
            "right": null,
            "top": null,
            "visibility": null,
            "width": null
          }
        },
        "d53baea3312949ffbc8219815908780c": {
          "model_module": "@jupyter-widgets/controls",
          "model_module_version": "1.5.0",
          "model_name": "DescriptionStyleModel",
          "state": {
            "_model_module": "@jupyter-widgets/controls",
            "_model_module_version": "1.5.0",
            "_model_name": "DescriptionStyleModel",
            "_view_count": null,
            "_view_module": "@jupyter-widgets/base",
            "_view_module_version": "1.2.0",
            "_view_name": "StyleView",
            "description_width": ""
          }
        },
        "d7cd0a7e1b4d4f0485e4386878788aca": {
          "model_module": "@jupyter-widgets/controls",
          "model_module_version": "1.5.0",
          "model_name": "FloatProgressModel",
          "state": {
            "_dom_classes": [],
            "_model_module": "@jupyter-widgets/controls",
            "_model_module_version": "1.5.0",
            "_model_name": "FloatProgressModel",
            "_view_count": null,
            "_view_module": "@jupyter-widgets/controls",
            "_view_module_version": "1.5.0",
            "_view_name": "ProgressView",
            "bar_style": "success",
            "description": "",
            "description_tooltip": null,
            "layout": "IPY_MODEL_f06d2c15e5ed48faaffda2535487a15f",
            "max": 23515519,
            "min": 0,
            "orientation": "horizontal",
            "style": "IPY_MODEL_60b34e07e9d5497f9c143e09c8632d0f",
            "value": 23515519
          }
        },
        "da4203e4c3cd4a42b533097ef3f9a3c6": {
          "model_module": "@jupyter-widgets/controls",
          "model_module_version": "1.5.0",
          "model_name": "DescriptionStyleModel",
          "state": {
            "_model_module": "@jupyter-widgets/controls",
            "_model_module_version": "1.5.0",
            "_model_name": "DescriptionStyleModel",
            "_view_count": null,
            "_view_module": "@jupyter-widgets/base",
            "_view_module_version": "1.2.0",
            "_view_name": "StyleView",
            "description_width": ""
          }
        },
        "dbd705c0e47e441184e1f3c6196a8dcb": {
          "model_module": "@jupyter-widgets/base",
          "model_module_version": "1.2.0",
          "model_name": "LayoutModel",
          "state": {
            "_model_module": "@jupyter-widgets/base",
            "_model_module_version": "1.2.0",
            "_model_name": "LayoutModel",
            "_view_count": null,
            "_view_module": "@jupyter-widgets/base",
            "_view_module_version": "1.2.0",
            "_view_name": "LayoutView",
            "align_content": null,
            "align_items": null,
            "align_self": null,
            "border": null,
            "bottom": null,
            "display": null,
            "flex": null,
            "flex_flow": null,
            "grid_area": null,
            "grid_auto_columns": null,
            "grid_auto_flow": null,
            "grid_auto_rows": null,
            "grid_column": null,
            "grid_gap": null,
            "grid_row": null,
            "grid_template_areas": null,
            "grid_template_columns": null,
            "grid_template_rows": null,
            "height": null,
            "justify_content": null,
            "justify_items": null,
            "left": null,
            "margin": null,
            "max_height": null,
            "max_width": null,
            "min_height": null,
            "min_width": null,
            "object_fit": null,
            "object_position": null,
            "order": null,
            "overflow": null,
            "overflow_x": null,
            "overflow_y": null,
            "padding": null,
            "right": null,
            "top": null,
            "visibility": null,
            "width": null
          }
        },
        "e19e5c4097994f6c8106797adb5abf99": {
          "model_module": "@jupyter-widgets/controls",
          "model_module_version": "1.5.0",
          "model_name": "HBoxModel",
          "state": {
            "_dom_classes": [],
            "_model_module": "@jupyter-widgets/controls",
            "_model_module_version": "1.5.0",
            "_model_name": "HBoxModel",
            "_view_count": null,
            "_view_module": "@jupyter-widgets/controls",
            "_view_module_version": "1.5.0",
            "_view_name": "HBoxView",
            "box_style": "",
            "children": [
              "IPY_MODEL_c3c3afe840014133ae4c7f9ae66a2e5f",
              "IPY_MODEL_ed4bcac9019d4595968947d36835cbb9",
              "IPY_MODEL_5dc97ce026f048d3884e934796267cdb"
            ],
            "layout": "IPY_MODEL_3f1914896b784b789823b43bf279a1f1"
          }
        },
        "e1e602466f784e6fa3a4144c28da0c1e": {
          "model_module": "@jupyter-widgets/base",
          "model_module_version": "1.2.0",
          "model_name": "LayoutModel",
          "state": {
            "_model_module": "@jupyter-widgets/base",
            "_model_module_version": "1.2.0",
            "_model_name": "LayoutModel",
            "_view_count": null,
            "_view_module": "@jupyter-widgets/base",
            "_view_module_version": "1.2.0",
            "_view_name": "LayoutView",
            "align_content": null,
            "align_items": null,
            "align_self": null,
            "border": null,
            "bottom": null,
            "display": null,
            "flex": null,
            "flex_flow": null,
            "grid_area": null,
            "grid_auto_columns": null,
            "grid_auto_flow": null,
            "grid_auto_rows": null,
            "grid_column": null,
            "grid_gap": null,
            "grid_row": null,
            "grid_template_areas": null,
            "grid_template_columns": null,
            "grid_template_rows": null,
            "height": null,
            "justify_content": null,
            "justify_items": null,
            "left": null,
            "margin": null,
            "max_height": null,
            "max_width": null,
            "min_height": null,
            "min_width": null,
            "object_fit": null,
            "object_position": null,
            "order": null,
            "overflow": null,
            "overflow_x": null,
            "overflow_y": null,
            "padding": null,
            "right": null,
            "top": null,
            "visibility": null,
            "width": null
          }
        },
        "e2e27329994b47cc9e7cd1e5b3e364fd": {
          "model_module": "@jupyter-widgets/base",
          "model_module_version": "1.2.0",
          "model_name": "LayoutModel",
          "state": {
            "_model_module": "@jupyter-widgets/base",
            "_model_module_version": "1.2.0",
            "_model_name": "LayoutModel",
            "_view_count": null,
            "_view_module": "@jupyter-widgets/base",
            "_view_module_version": "1.2.0",
            "_view_name": "LayoutView",
            "align_content": null,
            "align_items": null,
            "align_self": null,
            "border": null,
            "bottom": null,
            "display": null,
            "flex": null,
            "flex_flow": null,
            "grid_area": null,
            "grid_auto_columns": null,
            "grid_auto_flow": null,
            "grid_auto_rows": null,
            "grid_column": null,
            "grid_gap": null,
            "grid_row": null,
            "grid_template_areas": null,
            "grid_template_columns": null,
            "grid_template_rows": null,
            "height": null,
            "justify_content": null,
            "justify_items": null,
            "left": null,
            "margin": null,
            "max_height": null,
            "max_width": null,
            "min_height": null,
            "min_width": null,
            "object_fit": null,
            "object_position": null,
            "order": null,
            "overflow": null,
            "overflow_x": null,
            "overflow_y": null,
            "padding": null,
            "right": null,
            "top": null,
            "visibility": null,
            "width": null
          }
        },
        "e8220cdbaef74d11862fdeb04ffae9ad": {
          "model_module": "@jupyter-widgets/base",
          "model_module_version": "1.2.0",
          "model_name": "LayoutModel",
          "state": {
            "_model_module": "@jupyter-widgets/base",
            "_model_module_version": "1.2.0",
            "_model_name": "LayoutModel",
            "_view_count": null,
            "_view_module": "@jupyter-widgets/base",
            "_view_module_version": "1.2.0",
            "_view_name": "LayoutView",
            "align_content": null,
            "align_items": null,
            "align_self": null,
            "border": null,
            "bottom": null,
            "display": null,
            "flex": null,
            "flex_flow": null,
            "grid_area": null,
            "grid_auto_columns": null,
            "grid_auto_flow": null,
            "grid_auto_rows": null,
            "grid_column": null,
            "grid_gap": null,
            "grid_row": null,
            "grid_template_areas": null,
            "grid_template_columns": null,
            "grid_template_rows": null,
            "height": null,
            "justify_content": null,
            "justify_items": null,
            "left": null,
            "margin": null,
            "max_height": null,
            "max_width": null,
            "min_height": null,
            "min_width": null,
            "object_fit": null,
            "object_position": null,
            "order": null,
            "overflow": null,
            "overflow_x": null,
            "overflow_y": null,
            "padding": null,
            "right": null,
            "top": null,
            "visibility": null,
            "width": null
          }
        },
        "e8e5bb6de2e942388bb9fd3e67f0c9ec": {
          "model_module": "@jupyter-widgets/base",
          "model_module_version": "1.2.0",
          "model_name": "LayoutModel",
          "state": {
            "_model_module": "@jupyter-widgets/base",
            "_model_module_version": "1.2.0",
            "_model_name": "LayoutModel",
            "_view_count": null,
            "_view_module": "@jupyter-widgets/base",
            "_view_module_version": "1.2.0",
            "_view_name": "LayoutView",
            "align_content": null,
            "align_items": null,
            "align_self": null,
            "border": null,
            "bottom": null,
            "display": null,
            "flex": null,
            "flex_flow": null,
            "grid_area": null,
            "grid_auto_columns": null,
            "grid_auto_flow": null,
            "grid_auto_rows": null,
            "grid_column": null,
            "grid_gap": null,
            "grid_row": null,
            "grid_template_areas": null,
            "grid_template_columns": null,
            "grid_template_rows": null,
            "height": null,
            "justify_content": null,
            "justify_items": null,
            "left": null,
            "margin": null,
            "max_height": null,
            "max_width": null,
            "min_height": null,
            "min_width": null,
            "object_fit": null,
            "object_position": null,
            "order": null,
            "overflow": null,
            "overflow_x": null,
            "overflow_y": null,
            "padding": null,
            "right": null,
            "top": null,
            "visibility": null,
            "width": null
          }
        },
        "ed4bcac9019d4595968947d36835cbb9": {
          "model_module": "@jupyter-widgets/controls",
          "model_module_version": "1.5.0",
          "model_name": "FloatProgressModel",
          "state": {
            "_dom_classes": [],
            "_model_module": "@jupyter-widgets/controls",
            "_model_module_version": "1.5.0",
            "_model_name": "FloatProgressModel",
            "_view_count": null,
            "_view_module": "@jupyter-widgets/controls",
            "_view_module_version": "1.5.0",
            "_view_name": "ProgressView",
            "bar_style": "success",
            "description": "",
            "description_tooltip": null,
            "layout": "IPY_MODEL_5cfdeede94314cf89b56bb54e19ff056",
            "max": 50000,
            "min": 0,
            "orientation": "horizontal",
            "style": "IPY_MODEL_94f5cce902c54af5b0457b9b9f64a973",
            "value": 50000
          }
        },
        "f06d2c15e5ed48faaffda2535487a15f": {
          "model_module": "@jupyter-widgets/base",
          "model_module_version": "1.2.0",
          "model_name": "LayoutModel",
          "state": {
            "_model_module": "@jupyter-widgets/base",
            "_model_module_version": "1.2.0",
            "_model_name": "LayoutModel",
            "_view_count": null,
            "_view_module": "@jupyter-widgets/base",
            "_view_module_version": "1.2.0",
            "_view_name": "LayoutView",
            "align_content": null,
            "align_items": null,
            "align_self": null,
            "border": null,
            "bottom": null,
            "display": null,
            "flex": null,
            "flex_flow": null,
            "grid_area": null,
            "grid_auto_columns": null,
            "grid_auto_flow": null,
            "grid_auto_rows": null,
            "grid_column": null,
            "grid_gap": null,
            "grid_row": null,
            "grid_template_areas": null,
            "grid_template_columns": null,
            "grid_template_rows": null,
            "height": null,
            "justify_content": null,
            "justify_items": null,
            "left": null,
            "margin": null,
            "max_height": null,
            "max_width": null,
            "min_height": null,
            "min_width": null,
            "object_fit": null,
            "object_position": null,
            "order": null,
            "overflow": null,
            "overflow_x": null,
            "overflow_y": null,
            "padding": null,
            "right": null,
            "top": null,
            "visibility": null,
            "width": null
          }
        },
        "fbd763b5234344d6a9bf0d1e63e70d8b": {
          "model_module": "@jupyter-widgets/controls",
          "model_module_version": "1.5.0",
          "model_name": "ProgressStyleModel",
          "state": {
            "_model_module": "@jupyter-widgets/controls",
            "_model_module_version": "1.5.0",
            "_model_name": "ProgressStyleModel",
            "_view_count": null,
            "_view_module": "@jupyter-widgets/base",
            "_view_module_version": "1.2.0",
            "_view_name": "StyleView",
            "bar_color": null,
            "description_width": ""
          }
        }
      }
    }
  },
  "nbformat": 4,
  "nbformat_minor": 0
}
