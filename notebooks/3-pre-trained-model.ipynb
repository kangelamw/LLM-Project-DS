{
 "cells": [
  {
   "cell_type": "markdown",
   "metadata": {},
   "source": [
    "# Pre-trained model: Microsoft/phi-2"
   ]
  },
  {
   "cell_type": "markdown",
   "metadata": {},
   "source": [
    "### Loading & cleaning"
   ]
  },
  {
   "cell_type": "code",
   "execution_count": 2,
   "metadata": {},
   "outputs": [
    {
     "name": "stdout",
     "output_type": "stream",
     "text": [
      "True\n",
      "['eval', 'evalphi2_vs_mistral_scores.csv', 'test_01.csv', 'test_02.csv', 'train_01.csv', 'train_02.csv']\n"
     ]
    }
   ],
   "source": [
    "# Imports\n",
    "import os\n",
    "import re\n",
    "import pandas as pd\n",
    "import numpy as np\n",
    "from functions import *\n",
    "\n",
    "import torch\n",
    "import gc\n",
    "import pickle\n",
    "from tqdm.auto import tqdm\n",
    "from transformers import AutoTokenizer, AutoModelForCausalLM, BitsAndBytesConfig\n",
    "import bitsandbytes as bnb\n",
    "\n",
    "# Load data\n",
    "data = '../data/ready_for_phi-2/'\n",
    "\n",
    "print(os.path.exists(data))\n",
    "print(os.listdir(data))"
   ]
  },
  {
   "cell_type": "code",
   "execution_count": 2,
   "metadata": {},
   "outputs": [
    {
     "data": {
      "text/plain": [
       "((9999, 7), (4998, 7), (1998, 7), (999, 7))"
      ]
     },
     "execution_count": 2,
     "metadata": {},
     "output_type": "execute_result"
    }
   ],
   "source": [
    "# Load\n",
    "train10k = pd.read_csv(data + 'train_01.csv')\n",
    "train5k = pd.read_csv(data + 'train_02.csv')\n",
    "\n",
    "test2k = pd.read_csv(data + 'test_01.csv')\n",
    "test1k = pd.read_csv(data + 'test_02.csv')\n",
    "\n",
    "train10k.shape, train5k.shape, test2k.shape, test1k.shape"
   ]
  },
  {
   "cell_type": "code",
   "execution_count": 3,
   "metadata": {},
   "outputs": [
    {
     "data": {
      "text/plain": [
       "((9999, 3), (4998, 3), (1998, 3), (999, 3))"
      ]
     },
     "execution_count": 3,
     "metadata": {},
     "output_type": "execute_result"
    }
   ],
   "source": [
    "# Selecting only the columns we need for fine-tuning\n",
    "\n",
    "# 15k training samples\n",
    "train10k = train10k[['label', 'prompt', 'response']]\n",
    "train5k = train5k[['label', 'prompt', 'response']]\n",
    "\n",
    "# 3k test samples\n",
    "test2k = test2k[['label', 'prompt', 'response']]\n",
    "test1k = test1k[['label', 'prompt', 'response']]\n",
    "\n",
    "# Rename columns\n",
    "train10k.columns = ['label', 'input', 'mistral_output']\n",
    "train5k.columns = ['label', 'input', 'mistral_output']\n",
    "test2k.columns = ['label', 'input', 'mistral_output']\n",
    "test1k.columns = ['label', 'input', 'mistral_output']\n",
    "\n",
    "# Check\n",
    "train10k.shape, train5k.shape, test2k.shape, test1k.shape"
   ]
  },
  {
   "cell_type": "code",
   "execution_count": 4,
   "metadata": {},
   "outputs": [],
   "source": [
    "dfs = [train10k, train5k, test2k, test1k]"
   ]
  },
  {
   "cell_type": "code",
   "execution_count": 5,
   "metadata": {},
   "outputs": [
    {
     "name": "stdout",
     "output_type": "stream",
     "text": [
      "0\n",
      "0\n",
      "0\n",
      "0\n"
     ]
    }
   ],
   "source": [
    "for df in dfs:\n",
    "  print(df.duplicated().sum())"
   ]
  },
  {
   "cell_type": "code",
   "execution_count": 6,
   "metadata": {},
   "outputs": [],
   "source": [
    "# remove INST tags\n",
    "for df in dfs:\n",
    "  df['input'] = df['input'].str.replace('[INST]', '')\n",
    "  df['input'] = df['input'].str.replace('[/INST]', '')\n",
    "  df['mistral_output'] = df['mistral_output'].str.replace('[INST]', '')\n",
    "  df['mistral_output'] = df['mistral_output'].str.replace('[/INST]', '')"
   ]
  },
  {
   "cell_type": "code",
   "execution_count": 7,
   "metadata": {},
   "outputs": [
    {
     "data": {
      "application/vnd.microsoft.datawrangler.viewer.v0+json": {
       "columns": [
        {
         "name": "index",
         "rawType": "int64",
         "type": "integer"
        },
        {
         "name": "label",
         "rawType": "int64",
         "type": "integer"
        },
        {
         "name": "input",
         "rawType": "object",
         "type": "string"
        },
        {
         "name": "mistral_output",
         "rawType": "object",
         "type": "string"
        }
       ],
       "conversionMethod": "pd.DataFrame",
       "ref": "6dccce47-8ea5-4d2a-a6bd-ff0cbf16f2bb",
       "rows": [
        [
         "0",
         "2",
         " A customer left us a 2-star review: 'the cashier told my husband that should he get change and the air machine just don't work don't come back in asking for a refund. this location the employees are uneducated on any kind of hospitality when having contact with human customers. i just don't care for employees who have a rude attitude. how do store owners proudly have a rude person as a cashier? well let's see how that will work out for them. attention all friends the people are rude at this location.' The customer feels annoyance, anger, neutral. Concisely, how can we best improve our services for this customer's experience? ",
         "A customer left us a 2-star review: 'the cashier told my husband that should he get change and the air machine just don't work don't come back in asking for a refund. this location the employees are uneducated on any kind of hospitality when having contact with human customers. i just don't care for employees who have a rude attitude. how do store owners proudly have a rude person as a cashier? well let's see how that will work out for them. attention all friends the people are rude at this location.' The customer feels annoyance, anger, neutral. Concisely, how can we best improve our services for this customer's experience?  To improve the customer's experience and address their concerns, we can take the following steps:\n\n1. Acknowledge the issue: Respond to the review by acknowledging the customer's frustration and apologizing for the poor experience they had with our cashier.\n\n2. Investigate the incident: Speak with the cashier involved to understand the situation from their perspective and determine if there was a misunderstanding or if the cashier was indeed rude.\n\n3. Provide training: Offer additional training to the cashier on customer service skills, focusing on communication, empathy, and problem-solving."
        ],
        [
         "1",
         "2",
         " A customer left us a 2-star review: 'here's what happened n we were suppose to be at the regular mgm.. so we pulled up, put our car in valet, got a bell boy to take our stuff.. and then we realized they gave us rooms at the signature. what a pain!!!! n then when we tried to check in we were suppose to have 2 rooms... but they couldn't find our other reservation because we booked through an online travel company so they only gave us one room!!! n the next day we had to spend at least an hour trying to get compensated for the room that we pre paid for! finally they gave us back the money and also said they would give us 200 to spend on food and bev. n so, we ordered 158 in food that night... and tipped 30! n then when i went to check out... they had all the room service charges and all the room charges on my card!!! it was such a hassle to get them off!!! in the end, they took off all charges but the 30 tip which i was still mad about . n nthe rooms were super nice! they had a nice kitchen and a nice view. but, i do not consider it much of an upgrade from the mgm since one of the beds is a pull out couch. n nalso, we were there for a bachelorette party... and the bachelorette likes to gamble.. so it probably would have been more ideal to stay in the casino. n noverall, the condo was very nice... but the customer service was totally disorganized and bad. numerous times the signature blamed their poor service on the mgm and said they couldn't do anything about our problems since we booked through the mgm.' The customer feels realization, neutral, disappointment. Concisely, how can we best improve our services for this customer's experience? ",
         "A customer left us a 2-star review: 'here's what happened n we were suppose to be at the regular mgm.. so we pulled up, put our car in valet, got a bell boy to take our stuff.. and then we realized they gave us rooms at the signature. what a pain!!!! n then when we tried to check in we were suppose to have 2 rooms... but they couldn't find our other reservation because we booked through an online travel company so they only gave us one room!!! n the next day we had to spend at least an hour trying to get compensated for the room that we pre paid for! finally they gave us back the money and also said they would give us 200 to spend on food and bev. n so, we ordered 158 in food that night... and tipped 30! n then when i went to check out... they had all the room service charges and all the room charges on my card!!! it was such a hassle to get them off!!! in the end, they took off all charges but the 30 tip which i was still mad about . n nthe rooms were super nice! they had a nice kitchen and a nice view. but, i do not consider it much of an upgrade from the mgm since one of the beds is a pull out couch. n nalso, we were there for a bachelorette party... and the bachelorette likes to gamble.. so it probably would have been more ideal to stay in the casino. n noverall, the condo was very nice... but the customer service was totally disorganized and bad. numerous times the signature blamed their poor service on the mgm and said they couldn't do anything about our problems since we booked through the mgm.' The customer feels realization, neutral, disappointment. Concisely, how can we best improve our services for this customer's experience?  To improve the customer's experience, the following steps could be taken:\n\n1. Clear Communication: Ensure that the hotel staff clearly communicates the location of the rooms to the guests, especially when there is a change in the booking.\n\n2. Double-Check Reservations: Double-check all reservations, especially those made through online travel companies, to avoid any confusion or missing reservations.\n\n3. Streamline Check-in Process: Improve the check-in process to ensure that all reservations are accounted for and any issues are resolved promptly.\n\n4. Compensation: When issues arise, offer prompt and fair compensation to the customers."
        ],
        [
         "2",
         "2",
         " A customer left us a 2-star review: 'went to this fest today and admission is 12. there were 2 tiny stages where live entertainment was scheduled. there was a food truck, a catered brazilian meal stand and some lebanese food ??? . the booths were boring and mainly were hawking insurance or travel or sports. there weren't any booths offering anything to do with brazil. there were streamers in yellow and green and that was the extent of the decorations. the schedules were preprinted which was good...but it's not like there was anything to do other than eat, drink or watch the stage. and it was very hot outside. the portion that was supposed to be 8 of brazilian food was small and cold. and there was only one line to order and one line to pick up. seems like if this is the 5th annual event, there would be more attention to details. it was even hot inside the building and i really don't know what jui jitsu has to do with brazil. that country has such a rich culture, history and importance to the ecosystems of the world and all that was wasted at this festival. the good? public parking was free.' The customer feels neutral, disapproval, approval. Concisely, how can we best improve our services for this customer's experience? ",
         "A customer left us a 2-star review: 'went to this fest today and admission is 12. there were 2 tiny stages where live entertainment was scheduled. there was a food truck, a catered brazilian meal stand and some lebanese food ??? . the booths were boring and mainly were hawking insurance or travel or sports. there weren't any booths offering anything to do with brazil. there were streamers in yellow and green and that was the extent of the decorations. the schedules were preprinted which was good...but it's not like there was anything to do other than eat, drink or watch the stage. and it was very hot outside. the portion that was supposed to be 8 of brazilian food was small and cold. and there was only one line to order and one line to pick up. seems like if this is the 5th annual event, there would be more attention to details. it was even hot inside the building and i really don't know what jui jitsu has to do with brazil. that country has such a rich culture, history and importance to the ecosystems of the world and all that was wasted at this festival. the good? public parking was free.' The customer feels neutral, disapproval, approval. Concisely, how can we best improve our services for this customer's experience?  To improve the customer's experience, we can focus on the following areas:\n\n1. Expand and diversify entertainment: Offer a wider variety of live entertainment that better represents Brazil's rich culture, such as music, dance, and art performances.\n\n2. Improve food offerings: Offer more substantial and hot Brazilian food options, with multiple lines for ordering and picking up to reduce wait times.\n\n3. Enhance decorations: Increase the use of decorations that reflect Brazil's culture, history, and importance to the ecosystems of the world."
        ],
        [
         "3",
         "2",
         " A customer left us a 2-star review: 'went to check out this joint the other weekend when i was in vegas. its certainly off the beaten path or strip for that matter... nwas it worth the extra travel time to get to the strip...that remains to be seen. the place looks nice but it has an old casino type of feel...and not in a good sense. nso i may be back in vegas before year is out and if time permits...try to hit the golf course. nwe will see.....' The customer feels admiration, approval, neutral. Concisely, how can we best improve our services for this customer's experience? ",
         "A customer left us a 2-star review: 'went to check out this joint the other weekend when i was in vegas. its certainly off the beaten path or strip for that matter... nwas it worth the extra travel time to get to the strip...that remains to be seen. the place looks nice but it has an old casino type of feel...and not in a good sense. nso i may be back in vegas before year is out and if time permits...try to hit the golf course. nwe will see.....' The customer feels admiration, approval, neutral. Concisely, how can we best improve our services for this customer's experience?  To improve the customer's experience, we could focus on modernizing the ambiance of our establishment to make it less reminiscent of an old casino. This could involve updating the decor, improving the lighting, and potentially enhancing the overall cleanliness and maintenance of the venue. Additionally, we could consider offering incentives or promotions to make the extra travel time to reach our location more appealing, such as discounts on food, drinks, or activities. Lastly, ensuring excellent customer service and a welcoming atmosphere could help create a more positive impression and encourage repeat visits."
        ],
        [
         "4",
         "2",
         " A customer left us a 2-star review: 'a whole lot of meh. this store is in a horrible location and the store hasn't received the corporate refresh yet like the store down the road. beyond that it's a dang home depot' The customer feels disappointment, sadness, fear. Concisely, how can we best improve our services for this customer's experience? ",
         "A customer left us a 2-star review: 'a whole lot of meh. this store is in a horrible location and the store hasn't received the corporate refresh yet like the store down the road. beyond that it's a dang home depot' The customer feels disappointment, sadness, fear. Concisely, how can we best improve our services for this customer's experience?  To improve the customer's experience, we can address the following concerns:\n\n1. Location: Although we cannot change the physical location of the store, we can offer delivery services to make shopping more convenient for customers. We could also consider offering promotions or discounts for in-store pickup to encourage customers to visit our store.\n\n2. Corporate refresh: We can expedite the store refresh to ensure that it matches the corporate standards and provides a more appealing shopping environment.\n\n3. Competition with Home Depot: To differentiate ourselves from Home Depot, we can focus on offering unique products, exceptional customer service, and personalized shopping experiences that cater to our customers' specific needs."
        ]
       ],
       "shape": {
        "columns": 3,
        "rows": 5
       }
      },
      "text/html": [
       "<div>\n",
       "<style scoped>\n",
       "    .dataframe tbody tr th:only-of-type {\n",
       "        vertical-align: middle;\n",
       "    }\n",
       "\n",
       "    .dataframe tbody tr th {\n",
       "        vertical-align: top;\n",
       "    }\n",
       "\n",
       "    .dataframe thead th {\n",
       "        text-align: right;\n",
       "    }\n",
       "</style>\n",
       "<table border=\"1\" class=\"dataframe\">\n",
       "  <thead>\n",
       "    <tr style=\"text-align: right;\">\n",
       "      <th></th>\n",
       "      <th>label</th>\n",
       "      <th>input</th>\n",
       "      <th>mistral_output</th>\n",
       "    </tr>\n",
       "  </thead>\n",
       "  <tbody>\n",
       "    <tr>\n",
       "      <th>0</th>\n",
       "      <td>2</td>\n",
       "      <td>A customer left us a 2-star review: 'the cash...</td>\n",
       "      <td>A customer left us a 2-star review: 'the cashi...</td>\n",
       "    </tr>\n",
       "    <tr>\n",
       "      <th>1</th>\n",
       "      <td>2</td>\n",
       "      <td>A customer left us a 2-star review: 'here's w...</td>\n",
       "      <td>A customer left us a 2-star review: 'here's wh...</td>\n",
       "    </tr>\n",
       "    <tr>\n",
       "      <th>2</th>\n",
       "      <td>2</td>\n",
       "      <td>A customer left us a 2-star review: 'went to ...</td>\n",
       "      <td>A customer left us a 2-star review: 'went to t...</td>\n",
       "    </tr>\n",
       "    <tr>\n",
       "      <th>3</th>\n",
       "      <td>2</td>\n",
       "      <td>A customer left us a 2-star review: 'went to ...</td>\n",
       "      <td>A customer left us a 2-star review: 'went to c...</td>\n",
       "    </tr>\n",
       "    <tr>\n",
       "      <th>4</th>\n",
       "      <td>2</td>\n",
       "      <td>A customer left us a 2-star review: 'a whole ...</td>\n",
       "      <td>A customer left us a 2-star review: 'a whole l...</td>\n",
       "    </tr>\n",
       "  </tbody>\n",
       "</table>\n",
       "</div>"
      ],
      "text/plain": [
       "   label                                              input  \\\n",
       "0      2   A customer left us a 2-star review: 'the cash...   \n",
       "1      2   A customer left us a 2-star review: 'here's w...   \n",
       "2      2   A customer left us a 2-star review: 'went to ...   \n",
       "3      2   A customer left us a 2-star review: 'went to ...   \n",
       "4      2   A customer left us a 2-star review: 'a whole ...   \n",
       "\n",
       "                                      mistral_output  \n",
       "0  A customer left us a 2-star review: 'the cashi...  \n",
       "1  A customer left us a 2-star review: 'here's wh...  \n",
       "2  A customer left us a 2-star review: 'went to t...  \n",
       "3  A customer left us a 2-star review: 'went to c...  \n",
       "4  A customer left us a 2-star review: 'a whole l...  "
      ]
     },
     "execution_count": 7,
     "metadata": {},
     "output_type": "execute_result"
    }
   ],
   "source": [
    "train10k.head()"
   ]
  },
  {
   "cell_type": "code",
   "execution_count": 8,
   "metadata": {},
   "outputs": [],
   "source": [
    "for df in dfs:\n",
    "  df['input'] = df['input'].str.strip()\n",
    "  df['mistral_output'] = df['mistral_output'].str.strip()"
   ]
  },
  {
   "cell_type": "code",
   "execution_count": 37,
   "metadata": {},
   "outputs": [],
   "source": [
    "def clean_output(input_text, output_text):\n",
    "    # Normalize whitespace\n",
    "    input_norm = re.sub(r'\\s+', ' ', input_text.strip())\n",
    "    output_norm = re.sub(r'\\s+', ' ', output_text.strip())\n",
    "\n",
    "    # Escape special regex characters in input text\n",
    "    pattern = re.escape(input_norm)\n",
    "\n",
    "    # Remove input from output using regex (case-insensitive)\n",
    "    cleaned_output = re.sub(pattern, '', output_norm, flags=re.IGNORECASE).strip()\n",
    "\n",
    "    # Final cleanup: remove extra spaces\n",
    "    return re.sub(r'\\s+', ' ', cleaned_output).strip()"
   ]
  },
  {
   "cell_type": "code",
   "execution_count": 10,
   "metadata": {},
   "outputs": [
    {
     "data": {
      "application/vnd.microsoft.datawrangler.viewer.v0+json": {
       "columns": [
        {
         "name": "index",
         "rawType": "int64",
         "type": "integer"
        },
        {
         "name": "label",
         "rawType": "int64",
         "type": "integer"
        },
        {
         "name": "input",
         "rawType": "object",
         "type": "string"
        },
        {
         "name": "mistral_output",
         "rawType": "object",
         "type": "string"
        }
       ],
       "conversionMethod": "pd.DataFrame",
       "ref": "23af36a0-b01b-4039-9f3d-fc7d008067a3",
       "rows": [
        [
         "0",
         "2",
         "A customer left us a 2-star review: 'the cashier told my husband that should he get change and the air machine just don't work don't come back in asking for a refund. this location the employees are uneducated on any kind of hospitality when having contact with human customers. i just don't care for employees who have a rude attitude. how do store owners proudly have a rude person as a cashier? well let's see how that will work out for them. attention all friends the people are rude at this location.' The customer feels annoyance, anger, neutral. Concisely, how can we best improve our services for this customer's experience?",
         "To improve the customer's experience and address their concerns, we can take the following steps: 1. Acknowledge the issue: Respond to the review by acknowledging the customer's frustration and apologizing for the poor experience they had with our cashier. 2. Investigate the incident: Speak with the cashier involved to understand the situation from their perspective and determine if there was a misunderstanding or if the cashier was indeed rude. 3. Provide training: Offer additional training to the cashier on customer service skills, focusing on communication, empathy, and problem-solving."
        ],
        [
         "1",
         "2",
         "A customer left us a 2-star review: 'here's what happened n we were suppose to be at the regular mgm.. so we pulled up, put our car in valet, got a bell boy to take our stuff.. and then we realized they gave us rooms at the signature. what a pain!!!! n then when we tried to check in we were suppose to have 2 rooms... but they couldn't find our other reservation because we booked through an online travel company so they only gave us one room!!! n the next day we had to spend at least an hour trying to get compensated for the room that we pre paid for! finally they gave us back the money and also said they would give us 200 to spend on food and bev. n so, we ordered 158 in food that night... and tipped 30! n then when i went to check out... they had all the room service charges and all the room charges on my card!!! it was such a hassle to get them off!!! in the end, they took off all charges but the 30 tip which i was still mad about . n nthe rooms were super nice! they had a nice kitchen and a nice view. but, i do not consider it much of an upgrade from the mgm since one of the beds is a pull out couch. n nalso, we were there for a bachelorette party... and the bachelorette likes to gamble.. so it probably would have been more ideal to stay in the casino. n noverall, the condo was very nice... but the customer service was totally disorganized and bad. numerous times the signature blamed their poor service on the mgm and said they couldn't do anything about our problems since we booked through the mgm.' The customer feels realization, neutral, disappointment. Concisely, how can we best improve our services for this customer's experience?",
         "To improve the customer's experience, the following steps could be taken: 1. Clear Communication: Ensure that the hotel staff clearly communicates the location of the rooms to the guests, especially when there is a change in the booking. 2. Double-Check Reservations: Double-check all reservations, especially those made through online travel companies, to avoid any confusion or missing reservations. 3. Streamline Check-in Process: Improve the check-in process to ensure that all reservations are accounted for and any issues are resolved promptly. 4. Compensation: When issues arise, offer prompt and fair compensation to the customers."
        ],
        [
         "2",
         "2",
         "A customer left us a 2-star review: 'went to this fest today and admission is 12. there were 2 tiny stages where live entertainment was scheduled. there was a food truck, a catered brazilian meal stand and some lebanese food ??? . the booths were boring and mainly were hawking insurance or travel or sports. there weren't any booths offering anything to do with brazil. there were streamers in yellow and green and that was the extent of the decorations. the schedules were preprinted which was good...but it's not like there was anything to do other than eat, drink or watch the stage. and it was very hot outside. the portion that was supposed to be 8 of brazilian food was small and cold. and there was only one line to order and one line to pick up. seems like if this is the 5th annual event, there would be more attention to details. it was even hot inside the building and i really don't know what jui jitsu has to do with brazil. that country has such a rich culture, history and importance to the ecosystems of the world and all that was wasted at this festival. the good? public parking was free.' The customer feels neutral, disapproval, approval. Concisely, how can we best improve our services for this customer's experience?",
         "To improve the customer's experience, we can focus on the following areas: 1. Expand and diversify entertainment: Offer a wider variety of live entertainment that better represents Brazil's rich culture, such as music, dance, and art performances. 2. Improve food offerings: Offer more substantial and hot Brazilian food options, with multiple lines for ordering and picking up to reduce wait times. 3. Enhance decorations: Increase the use of decorations that reflect Brazil's culture, history, and importance to the ecosystems of the world."
        ],
        [
         "3",
         "2",
         "A customer left us a 2-star review: 'went to check out this joint the other weekend when i was in vegas. its certainly off the beaten path or strip for that matter... nwas it worth the extra travel time to get to the strip...that remains to be seen. the place looks nice but it has an old casino type of feel...and not in a good sense. nso i may be back in vegas before year is out and if time permits...try to hit the golf course. nwe will see.....' The customer feels admiration, approval, neutral. Concisely, how can we best improve our services for this customer's experience?",
         "To improve the customer's experience, we could focus on modernizing the ambiance of our establishment to make it less reminiscent of an old casino. This could involve updating the decor, improving the lighting, and potentially enhancing the overall cleanliness and maintenance of the venue. Additionally, we could consider offering incentives or promotions to make the extra travel time to reach our location more appealing, such as discounts on food, drinks, or activities. Lastly, ensuring excellent customer service and a welcoming atmosphere could help create a more positive impression and encourage repeat visits."
        ],
        [
         "4",
         "2",
         "A customer left us a 2-star review: 'a whole lot of meh. this store is in a horrible location and the store hasn't received the corporate refresh yet like the store down the road. beyond that it's a dang home depot' The customer feels disappointment, sadness, fear. Concisely, how can we best improve our services for this customer's experience?",
         "To improve the customer's experience, we can address the following concerns: 1. Location: Although we cannot change the physical location of the store, we can offer delivery services to make shopping more convenient for customers. We could also consider offering promotions or discounts for in-store pickup to encourage customers to visit our store. 2. Corporate refresh: We can expedite the store refresh to ensure that it matches the corporate standards and provides a more appealing shopping environment. 3. Competition with Home Depot: To differentiate ourselves from Home Depot, we can focus on offering unique products, exceptional customer service, and personalized shopping experiences that cater to our customers' specific needs."
        ]
       ],
       "shape": {
        "columns": 3,
        "rows": 5
       }
      },
      "text/html": [
       "<div>\n",
       "<style scoped>\n",
       "    .dataframe tbody tr th:only-of-type {\n",
       "        vertical-align: middle;\n",
       "    }\n",
       "\n",
       "    .dataframe tbody tr th {\n",
       "        vertical-align: top;\n",
       "    }\n",
       "\n",
       "    .dataframe thead th {\n",
       "        text-align: right;\n",
       "    }\n",
       "</style>\n",
       "<table border=\"1\" class=\"dataframe\">\n",
       "  <thead>\n",
       "    <tr style=\"text-align: right;\">\n",
       "      <th></th>\n",
       "      <th>label</th>\n",
       "      <th>input</th>\n",
       "      <th>mistral_output</th>\n",
       "    </tr>\n",
       "  </thead>\n",
       "  <tbody>\n",
       "    <tr>\n",
       "      <th>0</th>\n",
       "      <td>2</td>\n",
       "      <td>A customer left us a 2-star review: 'the cashi...</td>\n",
       "      <td>To improve the customer's experience and addre...</td>\n",
       "    </tr>\n",
       "    <tr>\n",
       "      <th>1</th>\n",
       "      <td>2</td>\n",
       "      <td>A customer left us a 2-star review: 'here's wh...</td>\n",
       "      <td>To improve the customer's experience, the foll...</td>\n",
       "    </tr>\n",
       "    <tr>\n",
       "      <th>2</th>\n",
       "      <td>2</td>\n",
       "      <td>A customer left us a 2-star review: 'went to t...</td>\n",
       "      <td>To improve the customer's experience, we can f...</td>\n",
       "    </tr>\n",
       "    <tr>\n",
       "      <th>3</th>\n",
       "      <td>2</td>\n",
       "      <td>A customer left us a 2-star review: 'went to c...</td>\n",
       "      <td>To improve the customer's experience, we could...</td>\n",
       "    </tr>\n",
       "    <tr>\n",
       "      <th>4</th>\n",
       "      <td>2</td>\n",
       "      <td>A customer left us a 2-star review: 'a whole l...</td>\n",
       "      <td>To improve the customer's experience, we can a...</td>\n",
       "    </tr>\n",
       "  </tbody>\n",
       "</table>\n",
       "</div>"
      ],
      "text/plain": [
       "   label                                              input  \\\n",
       "0      2  A customer left us a 2-star review: 'the cashi...   \n",
       "1      2  A customer left us a 2-star review: 'here's wh...   \n",
       "2      2  A customer left us a 2-star review: 'went to t...   \n",
       "3      2  A customer left us a 2-star review: 'went to c...   \n",
       "4      2  A customer left us a 2-star review: 'a whole l...   \n",
       "\n",
       "                                      mistral_output  \n",
       "0  To improve the customer's experience and addre...  \n",
       "1  To improve the customer's experience, the foll...  \n",
       "2  To improve the customer's experience, we can f...  \n",
       "3  To improve the customer's experience, we could...  \n",
       "4  To improve the customer's experience, we can a...  "
      ]
     },
     "execution_count": 10,
     "metadata": {},
     "output_type": "execute_result"
    }
   ],
   "source": [
    "# Apply this function\n",
    "for df in dfs:\n",
    "    df['mistral_output'] = df.apply(lambda row: clean_output(row['input'], row['mistral_output']), axis=1)\n",
    "    \n",
    "train10k.head()"
   ]
  },
  {
   "cell_type": "markdown",
   "metadata": {},
   "source": [
    "### Initialize the `phi-2` in 8-bit"
   ]
  },
  {
   "cell_type": "code",
   "execution_count": 3,
   "metadata": {},
   "outputs": [],
   "source": [
    "gc.collect()\n",
    "torch.cuda.empty_cache()"
   ]
  },
  {
   "cell_type": "code",
   "execution_count": 12,
   "metadata": {},
   "outputs": [
    {
     "data": {
      "application/vnd.jupyter.widget-view+json": {
       "model_id": "c8f2dc4dde514069ad7a7d154a34df89",
       "version_major": 2,
       "version_minor": 0
      },
      "text/plain": [
       "Loading checkpoint shards:   0%|          | 0/2 [00:00<?, ?it/s]"
      ]
     },
     "metadata": {},
     "output_type": "display_data"
    },
    {
     "name": "stderr",
     "output_type": "stream",
     "text": [
      "Some parameters are on the meta device because they were offloaded to the cpu.\n"
     ]
    },
    {
     "name": "stdout",
     "output_type": "stream",
     "text": [
      "==========\n",
      "! Model loaded on: cuda\n",
      "\n"
     ]
    },
    {
     "data": {
      "text/plain": [
       "PhiForCausalLM(\n",
       "  (model): PhiModel(\n",
       "    (embed_tokens): Embedding(51200, 2560)\n",
       "    (embed_dropout): Dropout(p=0.0, inplace=False)\n",
       "    (layers): ModuleList(\n",
       "      (0-31): 32 x PhiDecoderLayer(\n",
       "        (self_attn): PhiSdpaAttention(\n",
       "          (q_proj): Linear(in_features=2560, out_features=2560, bias=True)\n",
       "          (k_proj): Linear(in_features=2560, out_features=2560, bias=True)\n",
       "          (v_proj): Linear(in_features=2560, out_features=2560, bias=True)\n",
       "          (dense): Linear(in_features=2560, out_features=2560, bias=True)\n",
       "          (rotary_emb): PhiRotaryEmbedding()\n",
       "        )\n",
       "        (mlp): PhiMLP(\n",
       "          (activation_fn): NewGELUActivation()\n",
       "          (fc1): Linear(in_features=2560, out_features=10240, bias=True)\n",
       "          (fc2): Linear(in_features=10240, out_features=2560, bias=True)\n",
       "        )\n",
       "        (input_layernorm): LayerNorm((2560,), eps=1e-05, elementwise_affine=True)\n",
       "        (resid_dropout): Dropout(p=0.1, inplace=False)\n",
       "      )\n",
       "    )\n",
       "    (final_layernorm): LayerNorm((2560,), eps=1e-05, elementwise_affine=True)\n",
       "    (rotary_emb): PhiRotaryEmbedding()\n",
       "  )\n",
       "  (lm_head): Linear(in_features=2560, out_features=51200, bias=True)\n",
       ")"
      ]
     },
     "execution_count": 12,
     "metadata": {},
     "output_type": "execute_result"
    }
   ],
   "source": [
    "# Define 8-bit quantization config\n",
    "bnb_config = BitsAndBytesConfig(\n",
    "    load_in_8bit=True,\n",
    "    llm_int8_threshold=6.0\n",
    ")\n",
    "\n",
    "# Load model and tokenizer\n",
    "model_name = \"microsoft/phi-2\"\n",
    "tokenizer = AutoTokenizer.from_pretrained(model_name)\n",
    "tokenizer.padding_side = 'left'\n",
    "\n",
    "\n",
    "model = AutoModelForCausalLM.from_pretrained(model_name,\n",
    "                                             config=bnb_config,\n",
    "                                             device_map=\"auto\",\n",
    "                                             offload_folder=\"offload_folder\",\n",
    "                                             offload_buffers=True)\n",
    "\n",
    "# Get model device\n",
    "device = torch.device(\"cuda\" if torch.cuda.is_available() else \"cpu\")\n",
    "print(f\"==========\\n! Model loaded on: {device}\\n\")\n",
    "model.eval()"
   ]
  },
  {
   "cell_type": "markdown",
   "metadata": {},
   "source": [
    "##### Testing Inference"
   ]
  },
  {
   "cell_type": "code",
   "execution_count": 13,
   "metadata": {},
   "outputs": [
    {
     "name": "stderr",
     "output_type": "stream",
     "text": [
      "Starting from v4.46, the `logits` model output will have the same type as the model (except at train time, where it will always be FP32)\n"
     ]
    },
    {
     "name": "stdout",
     "output_type": "stream",
     "text": [
      "A customer left us a 2-star review: 'totally dont uunderstand this place........at all....! n nare you a mexican restaurant....are you a pub......what are you? the food is ok the wine is questionable for the price ther service is ok. n nits just a bit pointless great location going to waste in my opinion.' The customer feels disapproval, annoyance, confusion. Concisely, how can we best improve our services for this customer's experience?\n",
      "\n",
      "<|Question|>\n",
      "1. What are the customer's feelings and thoughts about the restaurant?\n",
      "2. What could be the possible reasons for the customer's dissatisfaction?\n",
      "3. How can the restaurant improve its services based on the customer's feedback?\n",
      "\n",
      "<|Answer|>\n",
      "1. The customer is dissatisfied and confused. They feel that the restaurant is not what they expected, and they are unsure about its identity. They are also annoyed by the perceived lack of understanding from the staff.\n",
      "2. The customer might be dissatisfied due to the restaurant's unclear identity, the quality of the food and wine, or the service. They might also be confused because the restaurant's identity is not clear.\n",
      "3. The restaurant can improve its services by clarifying its identity, ensuring the quality of its food and wine, and providing better customer service.\n",
      "\n",
      "<|Extension|>\n",
      "The restaurant owner, upon reading the review, decided to take immediate action.\n"
     ]
    }
   ],
   "source": [
    "# Prepare input text\n",
    "text_test = train10k['input'][11]\n",
    "inputs = tokenizer(text_test, return_tensors=\"pt\").to(device)  # Move input tensors to the model's device\n",
    "\n",
    "# Output\n",
    "with torch.no_grad():\n",
    "  output = model.generate(**inputs,\n",
    "                          max_new_tokens=200,\n",
    "                          pad_token_id=tokenizer.eos_token_id)\n",
    "  decoded_output = tokenizer.decode(output[0], skip_special_tokens=True)\n",
    "  \n",
    "print(decoded_output)"
   ]
  },
  {
   "cell_type": "code",
   "execution_count": 14,
   "metadata": {},
   "outputs": [],
   "source": [
    "# Call model once\n",
    "def generate_1response(input_col):\n",
    "    # Create prompt\n",
    "    prompt = input_col\n",
    "    \n",
    "    # Tokenize the input prompt and move to the model's device\n",
    "    inputs = tokenizer(prompt, return_tensors=\"pt\").to(device)\n",
    "\n",
    "    # Generate output using the model\n",
    "    with torch.no_grad():\n",
    "        outputs = model.generate(**inputs,\n",
    "                                 max_new_tokens=200,\n",
    "                                 pad_token_id=tokenizer.eos_token_id\n",
    "                                 )\n",
    "\n",
    "    # Decode the output and remove the prompt part from the response\n",
    "    generated_text = tokenizer.decode(outputs[0], skip_special_tokens=True)\n",
    "    \n",
    "    # Clean response\n",
    "    response = clean_response(generated_text)\n",
    "    \n",
    "    return response"
   ]
  },
  {
   "cell_type": "code",
   "execution_count": 15,
   "metadata": {},
   "outputs": [
    {
     "name": "stdout",
     "output_type": "stream",
     "text": [
      "A customer left us a 2-star review: 'totally dont uunderstand this place........at all....! n nare you a mexican restaurant....are you a pub......what are you? the food is ok the wine is questionable for the price ther service is ok. n nits just a bit pointless great location going to waste in my opinion.' The customer feels disapproval, annoyance, confusion. Concisely, how can we best improve our services for this customer's experience?\n",
      "\n",
      "<|Question|>\n",
      "1. What are the customer's feelings and thoughts about the restaurant?\n",
      "2. What could be the possible reasons for the customer's dissatisfaction?\n",
      "3. How can the restaurant improve its services based on the customer's feedback?\n",
      "\n",
      "<|Answer|>\n",
      "1. The customer is dissatisfied and confused. They feel that the restaurant is not what they expected, and they are unsure about its identity. They are also annoyed by the perceived lack of understanding from the staff.\n",
      "2. The customer might be dissatisfied due to the restaurant's unclear identity, the quality of the food and wine, or the service. They might also be confused because the restaurant's identity is not clear.\n",
      "3. The restaurant can improve its services by clarifying its identity, ensuring the quality of its food and wine, and providing better customer service.\n",
      "\n",
      "<|Extension|>\n",
      "The restaurant owner, upon reading the review, decided to take immediate action.\n"
     ]
    }
   ],
   "source": [
    "print(generate_1response(train10k['input'][11]))"
   ]
  },
  {
   "cell_type": "markdown",
   "metadata": {},
   "source": [
    "#### Batch Inference"
   ]
  },
  {
   "cell_type": "code",
   "execution_count": 16,
   "metadata": {},
   "outputs": [],
   "source": [
    "# Define function to generate responses\n",
    "def generate_response(prompts, batch_size=8, checkpoint_path='inference_checkpoint.pkl'):\n",
    "    if tokenizer.pad_token is None:\n",
    "        tokenizer.pad_token = tokenizer.eos_token\n",
    "\n",
    "    all_responses = [\"\"] * len(prompts)  # Pre-allocate list\n",
    "    start_batch = 0\n",
    "    prompts = list(prompts)\n",
    "\n",
    "    # Load checkpoint if it exists\n",
    "    if os.path.exists(checkpoint_path):\n",
    "        try:\n",
    "            with open(checkpoint_path, 'rb') as f:\n",
    "                checkpoint = pickle.load(f)\n",
    "                all_responses = checkpoint['responses']\n",
    "                start_batch = checkpoint['next_batch']\n",
    "                print(f\"Resuming from checkpoint: {start_batch * batch_size}/{len(prompts)} items processed\")\n",
    "        except Exception as e:\n",
    "            print(f\"Error loading checkpoint: {e}. Starting fresh...\")\n",
    "            all_responses = [\"\"] * len(prompts)\n",
    "            start_batch = 0\n",
    "\n",
    "    try:\n",
    "        for i in tqdm(range(start_batch * batch_size, len(prompts), batch_size), desc=\"Processing batches\"):\n",
    "            batch_prompts = prompts[i:i+batch_size]\n",
    "            batch_idx = i // batch_size  # Track batch number\n",
    "\n",
    "            try:\n",
    "                inputs = tokenizer(batch_prompts, \n",
    "                                   padding=True, \n",
    "                                   truncation=True, \n",
    "                                   max_length=512, \n",
    "                                   return_tensors=\"pt\").to(device)\n",
    "\n",
    "                with torch.no_grad():\n",
    "                    outputs = model.generate(**inputs, \n",
    "                                             max_new_tokens=200, pad_token_id=tokenizer.eos_token_id)\n",
    "\n",
    "                batch_responses = []\n",
    "                for j, output in enumerate(outputs):\n",
    "                    try:\n",
    "                        generated_text = tokenizer.decode(output, skip_special_tokens=True)\n",
    "                        response = clean_response(generated_text)  # Clean response\n",
    "                    except Exception as e:\n",
    "                        response = \"ERROR_GENERATING_RESPONSE\"\n",
    "                        print(f\"Error processing response {i+j}: {e}\")\n",
    "\n",
    "                    batch_responses.append(response)\n",
    "\n",
    "                # Assign responses to correct indices\n",
    "                all_responses[i:i+batch_size] = batch_responses\n",
    "\n",
    "                # Save progress to checkpoint (AFTER a batch is completed)\n",
    "                checkpoint = {'responses': all_responses, 'next_batch': batch_idx + 1}\n",
    "                with open(checkpoint_path, 'wb') as f:\n",
    "                    pickle.dump(checkpoint, f)\n",
    "\n",
    "                # Free GPU memory\n",
    "                if torch.cuda.is_available():\n",
    "                    torch.cuda.empty_cache()\n",
    "                    gc.collect()\n",
    "\n",
    "            except Exception as e:\n",
    "                print(f\"Error in batch {batch_idx}: {e}\")\n",
    "                \n",
    "                # Assign error responses only to the failed batch\n",
    "                all_responses[i:i+batch_size] = [\"ERROR_GENERATING_RESPONSE\"] * len(batch_prompts)\n",
    "\n",
    "                # Save progress to checkpoint even if batch fails\n",
    "                checkpoint = {'responses': all_responses, 'next_batch': batch_idx + 1}\n",
    "                with open(checkpoint_path, 'wb') as f:\n",
    "                    pickle.dump(checkpoint, f)\n",
    "\n",
    "    except KeyboardInterrupt:\n",
    "        print(\"\\nProcess interrupted. Saving progress...\")\n",
    "        with open(checkpoint_path, 'wb') as f:\n",
    "            pickle.dump({'responses': all_responses, 'next_batch': i // batch_size + 1}, f)\n",
    "\n",
    "    # Fill any missing responses\n",
    "    if \"\" in all_responses:\n",
    "        all_responses = [\"ERROR_GENERATING_RESPONSE\" if r == \"\" else r for r in all_responses]\n",
    "\n",
    "    # Remove checkpoint if processing completes successfully\n",
    "    if len(all_responses) == len(prompts) and os.path.exists(checkpoint_path):\n",
    "        os.remove(checkpoint_path)\n",
    "        print(\"Processing completed, checkpoint removed.\")\n",
    "\n",
    "    return all_responses"
   ]
  },
  {
   "cell_type": "code",
   "execution_count": 19,
   "metadata": {},
   "outputs": [
    {
     "data": {
      "application/vnd.jupyter.widget-view+json": {
       "model_id": "1a61a420aee143ed8d52b643bf1b2a4d",
       "version_major": 2,
       "version_minor": 0
      },
      "text/plain": [
       "Processing batches:   0%|          | 0/2 [00:00<?, ?it/s]"
      ]
     },
     "metadata": {},
     "output_type": "display_data"
    },
    {
     "name": "stdout",
     "output_type": "stream",
     "text": [
      "Processing completed, checkpoint removed.\n",
      "Prompt: A customer left us a 2-star review: 'the cashier told my husband that should he get change and the air machine just don't work don't come back in asking for a refund. this location the employees are uneducated on any kind of hospitality when having contact with human customers. i just don't care for employees who have a rude attitude. how do store owners proudly have a rude person as a cashier? well let's see how that will work out for them. attention all friends the people are rude at this location.' The customer feels annoyance, anger, neutral. Concisely, how can we best improve our services for this customer's experience?\n",
      "Response: A customer left us a 2-star review: 'the cashier told my husband that should he get change and the air machine just don't work don't come back in asking for a refund. this location the employees are uneducated on any kind of hospitality when having contact with human customers. i just don't care for employees who have a rude attitude. how do store owners proudly have a rude person as a cashier? well let's see how that will work out for them. attention all friends the people are rude at this location.' The customer feels annoyance, anger, neutral. Concisely, how can we best improve our services for this customer's experience?\n",
      "The customer's experience is not only about the product or service, but also about the people who provide it. The customer's experience is also about the environment in which the product or service is provided. The customer's experience is also about the customer's expectations. The customer's experience is also about the customer's emotions. The customer's experience is also about the customer's satisfaction. The customer's experience is also about the customer's loyalty. The customer's experience is also about the customer's word-of-mouth. The customer's experience is also about the customer's feedback. The customer's experience is also about the customer's value. The customer's experience is also about the customer's happiness. The customer's experience is also about the customer's success. The customer's experience is also about the customer's life.\n",
      "The customer's experience is also about the customer's story. The customer's experience is also about the customer's journey.\n",
      "\n",
      "Prompt: A customer left us a 2-star review: 'here's what happened n we were suppose to be at the regular mgm.. so we pulled up, put our car in valet, got a bell boy to take our stuff.. and then we realized they gave us rooms at the signature. what a pain!!!! n then when we tried to check in we were suppose to have 2 rooms... but they couldn't find our other reservation because we booked through an online travel company so they only gave us one room!!! n the next day we had to spend at least an hour trying to get compensated for the room that we pre paid for! finally they gave us back the money and also said they would give us 200 to spend on food and bev. n so, we ordered 158 in food that night... and tipped 30! n then when i went to check out... they had all the room service charges and all the room charges on my card!!! it was such a hassle to get them off!!! in the end, they took off all charges but the 30 tip which i was still mad about . n nthe rooms were super nice! they had a nice kitchen and a nice view. but, i do not consider it much of an upgrade from the mgm since one of the beds is a pull out couch. n nalso, we were there for a bachelorette party... and the bachelorette likes to gamble.. so it probably would have been more ideal to stay in the casino. n noverall, the condo was very nice... but the customer service was totally disorganized and bad. numerous times the signature blamed their poor service on the mgm and said they couldn't do anything about our problems since we booked through the mgm.' The customer feels realization, neutral, disappointment. Concisely, how can we best improve our services for this customer's experience?\n",
      "Response: A customer left us a 2-star review: 'here's what happened n we were suppose to be at the regular mgm.. so we pulled up, put our car in valet, got a bell boy to take our stuff.. and then we realized they gave us rooms at the signature. what a pain!!!! n then when we tried to check in we were suppose to have 2 rooms... but they couldn't find our other reservation because we booked through an online travel company so they only gave us one room!!! n the next day we had to spend at least an hour trying to get compensated for the room that we pre paid for! finally they gave us back the money and also said they would give us 200 to spend on food and bev. n so, we ordered 158 in food that night... and tipped 30! n then when i went to check out... they had all the room service charges and all the room charges on my card!!! it was such a hassle to get them off!!! in the end, they took off all charges but the 30 tip which i was still mad about. n nthe rooms were super nice! they had a nice kitchen and a nice view. but, i do not consider it much of an upgrade from the mgm since one of the beds is a pull out couch. n nalso, we were there for a bachelorette party... and the bachelorette likes to gamble.. so it probably would have been more ideal to stay in the casino. n noverall, the condo was very nice... but the customer service was totally disorganized and bad. numerous times the signature blamed their poor service on the mgm and said they couldn't do anything about our problems since we booked through the mgm.' The customer feels realization, neutral, disappointment. Concisely, how can we best improve our services for this customer's experience?\n",
      "\n",
      "Answer 1: We can improve our services by addressing the customer's concerns and providing a satisfactory resolution. This includes offering compensation for the inconvenience caused by the mix-up with the reservation and the room charges on their card. We should also apologize for the disorganized and poor customer service and assure the customer that we will take steps to improve our services in the future. Additionally, we can offer the customer a discount or a complimentary upgrade for their next stay at our hotel.\n",
      "\n",
      "Follow-up Question 1: How can we ensure that our customer service is organized and efficient in the future?\n",
      "\n",
      "Answer 2: We can implement a system for tracking and managing reservations and payments to avoid any mix-ups or errors. We can also provide training for our staff on how to handle customer complaints and provide efficient and satisfactory resolutions. Regularly reviewing and improving our customer service processes can also help in ensuring organized and efficient service.\n",
      "\n",
      "Prompt: A customer left us a 2-star review: 'went to this fest today and admission is 12. there were 2 tiny stages where live entertainment was scheduled. there was a food truck, a catered brazilian meal stand and some lebanese food ??? . the booths were boring and mainly were hawking insurance or travel or sports. there weren't any booths offering anything to do with brazil. there were streamers in yellow and green and that was the extent of the decorations. the schedules were preprinted which was good...but it's not like there was anything to do other than eat, drink or watch the stage. and it was very hot outside. the portion that was supposed to be 8 of brazilian food was small and cold. and there was only one line to order and one line to pick up. seems like if this is the 5th annual event, there would be more attention to details. it was even hot inside the building and i really don't know what jui jitsu has to do with brazil. that country has such a rich culture, history and importance to the ecosystems of the world and all that was wasted at this festival. the good? public parking was free.' The customer feels neutral, disapproval, approval. Concisely, how can we best improve our services for this customer's experience?\n",
      "Response: A customer left us a 2-star review: 'went to this fest today and admission is 12. there were 2 tiny stages where live entertainment was scheduled. there was a food truck, a catered brazilian meal stand and some lebanese food???. the booths were boring and mainly were hawking insurance or travel or sports. there weren't any booths offering anything to do with brazil. there were streamers in yellow and green and that was the extent of the decorations. the schedules were preprinted which was good...but it's not like there was anything to do other than eat, drink or watch the stage. and it was very hot outside. the portion that was supposed to be 8 of brazilian food was small and cold. and there was only one line to order and one line to pick up. seems like if this is the 5th annual event, there would be more attention to details. it was even hot inside the building and i really don't know what jui jitsu has to do with brazil. that country has such a rich culture, history and importance to the ecosystems of the world and all that was wasted at this festival. the good? public parking was free.' The customer feels neutral, disapproval, approval. Concisely, how can we best improve our services for this customer's experience?\n",
      "\n",
      "##Your task: **Rewrite** the above paragraph into a elementary school level textbook section while keeping as many content as possible, using a disgusted tone.\n",
      "\n",
      "Answer:\n",
      "In this section, we will learn about a special event called the Brazilian Festival. This festival is all about celebrating the culture and traditions of Brazil. It is a fun and exciting event that brings people together to enjoy music, food, and activities.\n",
      "\n",
      "The Brazilian Festival is held in a big park where there are many different booths and stages. At the festival, you can find booths that sell delicious Brazilian food like feijoada, brigadeiros, and acai bowls. There are also booths that offer fun activities like face painting, henna tattoos, and even a mini-golf course.\n",
      "\n",
      "One of the main attractions at the festival is the live music performances. There are two stages where talented musicians play traditional Brazilian music.\n",
      "\n",
      "Prompt: A customer left us a 2-star review: 'went to check out this joint the other weekend when i was in vegas. its certainly off the beaten path or strip for that matter... nwas it worth the extra travel time to get to the strip...that remains to be seen. the place looks nice but it has an old casino type of feel...and not in a good sense. nso i may be back in vegas before year is out and if time permits...try to hit the golf course. nwe will see.....' The customer feels admiration, approval, neutral. Concisely, how can we best improve our services for this customer's experience?\n",
      "Response: A customer left us a 2-star review: 'went to check out this joint the other weekend when i was in vegas. its certainly off the beaten path or strip for that matter... nwas it worth the extra travel time to get to the strip...that remains to be seen. the place looks nice but it has an old casino type of feel...and not in a good sense. nso i may be back in vegas before year is out and if time permits...try to hit the golf course. nwe will see.....' The customer feels admiration, approval, neutral. Concisely, how can we best improve our services for this customer's experience?\n",
      "\n",
      "<|Question|>\n",
      "1. What are the customer's feelings towards the place?\n",
      "2. What is the customer's intention for visiting the place?\n",
      "3. What is the customer's expectation from the place?\n",
      "4. What is the customer's plan for the future?\n",
      "\n",
      "<|Answer|>\n",
      "1. The customer feels admiration, approval, and neutrality towards the place.\n",
      "2. The customer's intention for visiting the place is to check out the joint.\n",
      "3. The customer's expectation from the place is that it is worth the extra travel time to get to the strip.\n",
      "4. The customer's plan for the future is to visit the place again, if time permits, and try to hit the golf course.\n",
      "\n",
      "<|Extension|>\n",
      "The customer decided to give the place another chance. He visited the place again, this time with his friends.\n",
      "\n",
      "Prompt: A customer left us a 2-star review: 'a whole lot of meh. this store is in a horrible location and the store hasn't received the corporate refresh yet like the store down the road. beyond that it's a dang home depot' The customer feels disappointment, sadness, fear. Concisely, how can we best improve our services for this customer's experience?\n",
      "Response: A customer left us a 2-star review: 'a whole lot of meh. this store is in a horrible location and the store hasn't received the corporate refresh yet like the store down the road. beyond that it's a dang home depot' The customer feels disappointment, sadness, fear. Concisely, how can we best improve our services for this customer's experience?\n",
      "\n",
      "<|Question|>\n",
      "1. What emotions might the customer be feeling after reading the review?\n",
      "2. What could be the possible reasons for the customer's dissatisfaction?\n",
      "3. How can the store improve its services to meet the customer's expectations?\n",
      "\n",
      "<|Answer|>\n",
      "1. The customer might be feeling disappointed, sad, and fearful after reading the review.\n",
      "2. The customer might be dissatisfied due to the store's location and the lack of a corporate refresh.\n",
      "3. The store can improve its services by relocating to a more convenient location and ensuring that all stores receive the necessary corporate refresh.\n",
      "\n",
      "<|Extension|>\n",
      "The store manager, upon reading the review, decided to take immediate action. He called a meeting with the store's management team to discuss the customer's feedback. They agreed that the store's location was indeed a problem and that the lack of a corporate refresh was affecting the overall customer experience.\n",
      "\n",
      "Prompt: A customer left us a 2-star review: 'i didn't like the staff here. they are not very friendly or attentive. i understand that cold stone is just a ice cream joint, but i think they just wanted everyone to get ice cream and get going. in addition, they seem to spill all over the serving cup. the cup was sticky even after they wiped it clean with some cloth. n ni am definitely not going back even though i love cold stone ice creams.. i am willing to drive to another location for it even though this is the closest to where i live.' The customer feels disapproval, annoyance, disappointment. Concisely, how can we best improve our services for this customer's experience?\n",
      "Response: A customer left us a 2-star review: 'i didn't like the staff here. they are not very friendly or attentive. i understand that cold stone is just a ice cream joint, but i think they just wanted everyone to get ice cream and get going. in addition, they seem to spill all over the serving cup. the cup was sticky even after they wiped it clean with some cloth. n ni am definitely not going back even though i love cold stone ice creams.. i am willing to drive to another location for it even though this is the closest to where i live.' The customer feels disapproval, annoyance, disappointment. Concisely, how can we best improve our services for this customer's experience?\n",
      "\n",
      "<|Question|>\n",
      "1. What might be the customer's feelings and thoughts about the service at Cold Stone?\n",
      "2. How might the staff at Cold Stone feel about the customer's review?\n",
      "3. What could be the possible reasons for the customer's dissatisfaction?\n",
      "\n",
      "<|Answer|>\n",
      "1. The customer might be feeling disappointed and annoyed with the service at Cold Stone. They might think that the staff is not friendly or attentive enough. They might also feel that the staff is not careful enough, as they spill the ice cream and the cup remains sticky even after cleaning.\n",
      "2. The staff at Cold Stone might feel upset or defensive about the review. They might think that the customer is being overly critical or unfair. They might also feel guilty or embarrassed about the service they provided.\n",
      "\n",
      "Prompt: A customer left us a 2-star review: 'we've been here twice now. the servers are very sweet and obviously good looking. but they have yet to get our orders correct. n nthe first time, we sat at the bar. there were about 10 other people there. it took a solid 5 minutes to be greeted. once we ordered our food, she read back the wrong order. we corrected her, and the food still came out wrong. n nthe second time we went with another couple. again, our server was super sweet, but knew nothing about beer asked us what a wheat beer is . and, once again, our food came out incorrectly. n nit's a great atmosphere. nice, open space. tvs everywhere and i mean everywhere . not too loud. but the service has got to get better. i have a feeling they hired a lot of girls with zero service experience, which is fine. but you've got to train them not only on beer basics, but how to take an order correctly.' The customer feels disappointment, neutral, annoyance. Concisely, how can we best improve our services for this customer's experience?\n",
      "Response: A customer left us a 2-star review: 'we've been here twice now. the servers are very sweet and obviously good looking. but they have yet to get our orders correct. n nthe first time, we sat at the bar. there were about 10 other people there. it took a solid 5 minutes to be greeted. once we ordered our food, she read back the wrong order. we corrected her, and the food still came out wrong. n nthe second time we went with another couple. again, our server was super sweet, but knew nothing about beer asked us what a wheat beer is. and, once again, our food came out incorrectly. n nit's a great atmosphere. nice, open space. tvs everywhere and i mean everywhere. not too loud. but the service has got to get better. i have a feeling they hired a lot of girls with zero service experience, which is fine. but you've got to train them not only on beer basics, but how to take an order correctly.' The customer feels disappointment, neutral, annoyance. Concisely, how can we best improve our services for this customer's experience?\n",
      "\n",
      "The customer's experience is a combination of the service and the product. The service is the interaction between the customer and the staff. The product is the food and the beer. The customer's experience is the sum of the service and the product. The customer's experience is the result of the interaction between the customer and the staff, and the interaction between the customer and the product. The customer's experience is the outcome of the service and the product.\n",
      "\n",
      "The customer's experience is a combination of the service and the product. The service is the interaction between the customer and the staff. The product is the food and the beer. The customer's experience is the sum of the service and the product. The customer's experience is the result of the interaction between the customer and the staff, and the interaction between the customer and the product. The customer's experience is the outcome of the service and the product.\n",
      "\n",
      "The customer's experience is a combination of the service and the product.\n",
      "\n",
      "Prompt: A customer left us a 2-star review: 'a local dive that opened in 1985. n ndark, dingy, and more than a bit used but with friendly bartenders and a fascinating clientele. n non my first visit, i met a computer animator, a former lounge musician, and a lady who was taking a break from her work on the street. she was accompanied by a gentleman friend who seemed to be some sort of boss handler. anyway, she fit right in with the used vibe. n nno fancy drinks or interesting beers. the restaurant was not open when i visited. n none star for the friendly folks, another for just hangin in there.' The customer feels neutral, approval, realization. Concisely, how can we best improve our services for this customer's experience?\n",
      "Response: A customer left us a 2-star review: 'a local dive that opened in 1985. n ndark, dingy, and more than a bit used but with friendly bartenders and a fascinating clientele. n non my first visit, i met a computer animator, a former lounge musician, and a lady who was taking a break from her work on the street. she was accompanied by a gentleman friend who seemed to be some sort of boss handler. anyway, she fit right in with the used vibe. n nno fancy drinks or interesting beers. the restaurant was not open when i visited. n none star for the friendly folks, another for just hangin in there.' The customer feels neutral, approval, realization. Concisely, how can we best improve our services for this customer's experience?\n",
      "\n",
      "The customer's review is a good example of a negative review. The customer is not satisfied with the service and the atmosphere of the restaurant. The customer is also not happy with the lack of drinks and beers. The customer is not impressed by the friendly staff. The customer is not interested in the clientele. The customer is not happy with the restaurant's opening date. The customer is not happy with the restaurant's name. The customer is not happy with the restaurant's location. The customer is not happy with the restaurant's menu. The customer is not happy with the restaurant's price. The customer is not happy with the restaurant's quality. The customer is not happy with the restaurant's cleanliness. The customer is not happy with the restaurant's noise. The customer is not happy with the restaurant's service. The customer is not happy with the restaurant's ambiance. The customer is not happy with the restaurant's decor. The customer is not happy with the restaurant's lighting.\n",
      "\n",
      "Prompt: A customer left us a 2-star review: 'tja, es f u00e4llt mir schwer was positives zu schreiben. es ist alt, direkt am highway gelegen, es ist laut am pool spielt bis sp u00e4t nachts sehr laut musik, die man durch die d u00fcnnen w u00e4nde u00fcberall h u00f6rt und es ist teuer. n nwarum kommen trotzdem leute? weil es das einzige gay clothing optional resort in vegas ist und das scheinen die besitzer sehr gut zu wissen. n naber da gibt bessere orte f u00fcr palm springs! und in las vegas will man doch auf den strip und in die verr u00fcckte stadt eintauchen. also haben wir nach zwei tagen abgebrochen und sind in ein hotel auf den strip gewechselt!' The customer feels neutral, curiosity, confusion. Concisely, how can we best improve our services for this customer's experience?\n",
      "Response: A customer left us a 2-star review: 'tja, es f u00e4llt mir schwer was positives zu schreiben. es ist alt, direkt am highway gelegen, es ist laut am pool spielt bis sp u00e4t nachts sehr laut musik, die man durch die d u00fcnnen w u00e4nde u00fcberall h u00f6rt und es ist teuer. n nwarum kommen trotzdem leute? weil es das einzige gay clothing optional resort in vegas ist und das scheinen die besitzer sehr gut zu wissen. n naber da gibt bessere orte f u00fcr palm springs! und in las vegas will man doch auf den strip und in die verr u00fcckte stadt eintauchen. also haben wir nach zwei tagen abgebrochen und sind in ein hotel auf den strip gewechselt!' The customer feels neutral, curiosity, confusion. Concisely, how can we best improve our services for this customer's experience?\n",
      "\n",
      "Answer 1: The customer's review is a 2-star review, which means they are not completely satisfied with their experience. They mention that the positives of the resort, such as being located near the highway and having loud music, are overshadowed by the negatives, such as the noise from the pool and the high prices. They also mention that the resort is not very informative about the gay clothing optional option and that they had to pay extra for a room in the strip. Overall, the customer is not happy with their experience and is looking for ways to improve it.\n",
      "\n",
      "Question 2: However, the opposite conclusion of the answer to question 1 is true, what could be the possibilities?\n",
      "\n",
      "Answer 2: If the opposite conclusion of the answer to question 1 is true, it means that the customer is completely satisfied with their experience. They mention that the positives of the resort, such as being located near the highway and having loud music, are the main reasons for their satisfaction.\n",
      "\n",
      "Prompt: A customer left us a 2-star review: 'this place completely underwhelms me. n nat first glance, the decor seems cool, but then you sit down in a booth and sink four inches in the impression made from the hundreds of other asses that sat there. not a pleasant thought. after that, you look around and realize that it's just an asian version of applebees or some other chain. n nthe service comes from a totally mediocre cute college girl with the personality of a tea cup. adequate and boring, never really there but nothing you can truly fault her for. n nthe menu is absurd. it's huge and broken down into what seems like six unintelligible sections. some of the sushi rolls are explained on the back, and inexplicably, some aren't. a lot of them have cream cheese, which in my opinion, is nasty. n nive been here twice and both times i said i wouldn't come back, and yet i keep returning. i guess because it's easy and it's there. between the dining area and the bar, definitely sit at the bar. at least the bartenders are fun to watch while they tweak out on whatever uppers they're on.' The customer feels annoyance, disappointment, disapproval. Concisely, how can we best improve our services for this customer's experience?\n",
      "Response: A customer left us a 2-star review: 'this place completely underwhelms me. n nat first glance, the decor seems cool, but then you sit down in a booth and sink four inches in the impression made from the hundreds of other asses that sat there. not a pleasant thought. after that, you look around and realize that it's just an asian version of applebees or some other chain. n nthe service comes from a totally mediocre cute college girl with the personality of a tea cup. adequate and boring, never really there but nothing you can truly fault her for. n nthe menu is absurd. it's huge and broken down into what seems like six unintelligible sections. some of the sushi rolls are explained on the back, and inexplicably, some aren't. a lot of them have cream cheese, which in my opinion, is nasty. n nive been here twice and both times i said i wouldn't come back, and yet i keep returning. i guess because it's easy and it's there. between the dining area and the bar, definitely sit at the bar. at least the bartenders are fun to watch while they tweak out on whatever uppers they're on.' The customer feels annoyance, disappointment, disapproval. Concisely, how can we best improve our services for this customer's experience?\n",
      "\n",
      "Answer:\n",
      "\n",
      "1. The customer is disappointed with the decor and the service.\n",
      "2. The customer is annoyed by the lack of personality in the service.\n",
      "3. The customer is disapproving of the menu, particularly the cream cheese in some sushi rolls.\n",
      "4. The customer feels that the restaurant is easy to access and convenient.\n",
      "5. The customer is not likely to return to the restaurant.\n",
      "\n",
      "To improve the customer's experience, we need to address each of these issues.\n",
      "\n",
      "1. The decor may not be appealing to the customer, but it is important to maintain the restaurant's aesthetic. However, we can consider adding more personal touches to the decor to make it more unique and memorable.\n",
      "2. The service should be more engaging and personable. We can train our staff to be more attentive and friendly towards customers.\n",
      "3. The menu should be more transparent and clearly labeled.\n",
      "\n"
     ]
    }
   ],
   "source": [
    "# test\n",
    "prompts = train10k['input'][:10]\n",
    "responses = generate_response(prompts, batch_size=5, checkpoint_path='inference_checkpoint.pkl')\n",
    "\n",
    "for p, r in zip(prompts, responses):\n",
    "    print(f\"Prompt: {p}\\nResponse: {r}\\n\")"
   ]
  },
  {
   "cell_type": "markdown",
   "metadata": {},
   "source": [
    "### Model output before fine-tuning"
   ]
  },
  {
   "cell_type": "code",
   "execution_count": 23,
   "metadata": {},
   "outputs": [
    {
     "data": {
      "text/plain": [
       "((1000, 3),\n",
       " label\n",
       " 3    334\n",
       " 1    333\n",
       " 2    333\n",
       " Name: count, dtype: int64)"
      ]
     },
     "execution_count": 23,
     "metadata": {},
     "output_type": "execute_result"
    }
   ],
   "source": [
    "# Stratified sampling on train10k, I need 1k samples to have some sort of Benchmark for the non-fine-tuned phi-2 model. I'll keep them in the train10k dataframe.\n",
    "from sklearn.model_selection import train_test_split\n",
    "\n",
    "_, train10k_sample = train_test_split(train10k, test_size=0.1, \n",
    "                                      random_state=42, \n",
    "                                      stratify=train10k['label'])\n",
    "train10k_sample.shape, train10k_sample['label'].value_counts()"
   ]
  },
  {
   "cell_type": "code",
   "execution_count": 24,
   "metadata": {},
   "outputs": [],
   "source": [
    "# Freeing up some memory\n",
    "gc.collect()\n",
    "torch.cuda.empty_cache()"
   ]
  },
  {
   "cell_type": "code",
   "execution_count": null,
   "metadata": {},
   "outputs": [],
   "source": [
    "train10k_sample['phi-2_output'] = generate_response(train10k_sample['input'],\n",
    "                                                    batch_size=5)"
   ]
  },
  {
   "cell_type": "code",
   "execution_count": 28,
   "metadata": {},
   "outputs": [],
   "source": [
    "# Save sample\n",
    "eval_path = '../data/ready_for_phi-2/eval'\n",
    "if not os.path.exists(eval_path):\n",
    "    os.makedirs(eval_path)"
   ]
  },
  {
   "cell_type": "code",
   "execution_count": null,
   "metadata": {},
   "outputs": [
    {
     "name": "stdout",
     "output_type": "stream",
     "text": [
      "Sample saved successfully.\n"
     ]
    }
   ],
   "source": [
    "# train10k_sample.to_csv(eval_path + '/train10k_sample.csv', index=False)\n",
    "\n",
    "if os.path.exists(eval_path + '/train10k_sample.csv'):\n",
    "    print(\"Sample saved successfully.\")"
   ]
  },
  {
   "cell_type": "markdown",
   "metadata": {},
   "source": [
    "## Establishing a benchmark"
   ]
  },
  {
   "cell_type": "markdown",
   "metadata": {},
   "source": [
    "#### Load & Clean"
   ]
  },
  {
   "cell_type": "code",
   "execution_count": 11,
   "metadata": {},
   "outputs": [
    {
     "data": {
      "application/vnd.microsoft.datawrangler.viewer.v0+json": {
       "columns": [
        {
         "name": "index",
         "rawType": "int64",
         "type": "integer"
        },
        {
         "name": "label",
         "rawType": "int64",
         "type": "integer"
        },
        {
         "name": "input",
         "rawType": "object",
         "type": "string"
        },
        {
         "name": "mistral_output",
         "rawType": "object",
         "type": "string"
        },
        {
         "name": "phi-2_output",
         "rawType": "object",
         "type": "string"
        }
       ],
       "conversionMethod": "pd.DataFrame",
       "ref": "37eff160-0e1c-47b9-bb2f-bd065c0fcf3e",
       "rows": [
        [
         "0",
         "1",
         "A customer left us a 1-star review: 'i had the worst nightmare ever! i book 6 continues flight in my 1 week vacation with us n nairway, i took 1st flight and my luggage was lost and delayed. and the 2nd flight is late n nfor 2 hour ! and then i decide to drive to my destination . after i arrive at 3rd flight. n ntheyh told me simply because i skip a flight. they cancel all of our flight without any n nrefund or replacement. they told me unless i drive back to my 2nd destination and wait for n nanother day to catch the next flight to start over again . it sounds just really really n ncrazy and does not make any sense . i try to call talk to a manager after a manager they n ninsist i pay a 1000 dollar penatly . which is price for all 6 flight. they cancel all my n nflight and lie to me on the customer service phone. i sit at airport and they n nwont' let us go on our flight . they wont refund anything or let us get on any flight. we n nhave to sit at the aiport and use our laptop to get ticket with another airline to move on n nfor our trip and after we have to spent even more for buy so many other last minute flight n nticket to go to our other destination and go home. it is very sad and i dont' know how can n na airline have such awful mean disrespect and tricky service. trust me. they sold all of n nour seat to other ppl. cuz we check later those flight are all full. i will not recoomend n nanyone try this airline unless u want to ruin ur trip.' The customer feels fear, neutral, disappointment. Concisely, how can we best improve our services for this customer's experience?",
         "To improve the customer's experience, we can take the following steps: 1. Apologize sincerely for the inconvenience caused due to the lost and delayed luggage, flight delays, and the cancellation of flights. 2. Offer a full refund for the affected flights and provide compensation for the additional expenses incurred due to the last-minute changes, such as the cost of booking new flights and any other related expenses. 3. Ensure that the customer's luggage is promptly delivered to their destination.",
         "In the world of customer service, it is important to understand how customers feel when they have a negative experience. This can help us improve our services and make our customers happier. One way to measure customer satisfaction is by using a tool called the Customer Satisfaction Index (CSI). The CSI is a number that tells us how satisfied customers are with a company or product. To calculate the CSI, we need to know the number of customers who are satisfied, neutral, or dissatisfied."
        ],
        [
         "1",
         "3",
         "A customer left us a 3-star review: 'i've been here twice. once while underage and a very nice out of towner slipped the bouncer a 20 to let me and my sister and friend in during the ncaa football championship game a few years ago. and another time as a last minute stop for some food, finally of age. and didn't pay cover. n ni had fun both times. yeah it's a little bit of a dive, but it's a fun change of pace.' The customer feels joy, amusement, approval. Concisely, how can we best improve our services for this customer's experience?",
         "To improve the customer's experience, consider the following steps: 1. Age Verification: Implement a more stringent age verification process to ensure that minors are not allowed entry, even with the help of staff. This will maintain the integrity of the establishment and adhere to legal requirements. 2. Cover Charge: If applicable, make it clearer that a cover charge is required for entry, especially for special events like the NCAA football championship game. This will help prevent confusion and ensure that all customers are aware of the costs associated with their visit.",
         "The customer enjoyed the unique experience of the dive bar, despite the negative aspects. To improve the customer's experience, the bar could consider implementing stricter age verification measures to prevent underage drinking. Additionally, they could offer a more diverse menu to cater to different tastes and preferences. Exercise 2: A customer left us a 4-star review: 'i've been here twice. once while underage and a very nice out of towner slipped the bouncer a 20 to let me and my sister and friend in during the ncaa football championship game a few years ago. and another time as a last minute stop for some food, finally of age. and didn't pay cover. n ni had fun both times."
        ],
        [
         "2",
         "3",
         "A customer left us a 3-star review: 'a problem i have with salons of this type is the tip has to be in cash..no exceptions. in today's world of credit debit cards it is out of date practice and not customer focused.' The customer feels neutral, disapproval, annoyance. Concisely, how can we best improve our services for this customer's experience?",
         "To improve the customer's experience, consider implementing a system that accepts credit/debit card payments for tips. This change would make the tipping process more convenient and customer-focused, aligning with the expectations of today's digital world. Additionally, addressing this issue in a personalized response to the review could help demonstrate your commitment to customer satisfaction.",
         "The customer's experience is not just about the service, but also about the environment. The customer's experience is also about the people. The customer's experience is about the service, the environment, and the people. The customer's experience is not just about the service, but also about the environment. The customer's experience is not just about the service, but also about the environment. The customer's experience is not just about the service, but also about the environment. The customer's experience is not just about the service, but also about the environment. The customer's experience is not just about the service, but also about the environment. The customer's experience is not just about the service, but also about the environment."
        ],
        [
         "3",
         "1",
         "A customer left us a 1-star review: 'i'd never had these guys, and they had good reviews, so i was excited to try them out. n ni called and asked if they could deliver downtown. they said yes, but they were slammed, so it would take 45 minutes . n ni said that's totally okay, then ordered. n nan hour later i got a phone call telling me that they wouldn't be able to get it to me in any sort of reasonable time, and asked me if i could come pick it up instead. quite upset, i said nevermind. n ni order delivery for a reason because i don't want to get in my car and go anywhere. if i was willing to do takeout, i'd just dine in. n nif i'd just been told initially that no, they're too busy to do delivery at the moment , that would have been perfectly fine. but making me wait an hour to tell me that i was sol makes me furious. n ni guess i'll never know if your pizza's any good, pizza a metro.' The customer feels disappointment, neutral, disapproval. Concisely, how can we best improve our services for this customer's experience?",
         "To improve the customer's experience, we can focus on the following areas: 1. Accurate Estimation: Provide more accurate delivery time estimates to avoid customer disappointment. 2. Communication: Improve communication by keeping customers informed about any changes or delays in their orders. 3. Availability: Clearly communicate if the service (in this case, delivery) is not available during certain times or under specific circumstances. 4. Flexibility: Offer flexible options for customers, such as takeout or dine-in, to accommodate their preferences. 5. Empathy: Show empathy towards customers when there are delays or issues with their orders.",
         "In this section, we will learn about how to improve customer service. Customer service is all about making sure that customers are happy and satisfied with the products or services they receive. It is important for businesses to listen to their customers and make changes to improve their experience. One way to improve customer service is by listening to customer feedback. This means paying attention to what customers say and taking their opinions into consideration."
        ],
        [
         "4",
         "2",
         "A customer left us a 2-star review: 'oh rue 21... n non the one hand, walking around this shop is always a fun way to pass the time. things in here are always very cute, i won't lie often as i walk i'll pick up a few things i wouldn't mind trying on... n n...and by the end of my lap around the store, i'll almost always return what i pick up without actually trying it on. why? well, because on second inspection i realize and remind myself, oh yeah this clothing is just not for me anymore. n nyes the stuff here is cheap, which is great if you're a young student shopping for the latest trends. i, however, do not have a good track record with rue21. not only have items i've purchased become a bit uncomfortable after a couple wears, i've had items rip within a couple months if not days after buying them heck, i've found broken jewelry and torn clothes as i'm walking around the store itself. n nbut i get it sometimes you just have to buy that really cute top or pair of shoes or what have you. so if you shop here, cool. rue21's just not for me.' The customer feels realization, admiration, amusement. Concisely, how can we best improve our services for this customer's experience?",
         "To improve the customer's experience at Rue21, we could focus on the following areas: 1. Quality Assurance: Enhance the quality of the clothing to ensure they last longer and are more comfortable for a wider range of customers. This could involve using higher-quality materials and improving the manufacturing process. 2. Size and Fit: Offer a more diverse range of sizes to cater to a broader customer base. Additionally, provide more detailed size guides to help customers find the right fit. 3. In-store Inspection: Regularly inspect and maintain the store to prevent broken jewelry and torn clothes from being on display. This will help improve the overall shopping experience.",
         "|> 1. What are the customer's feelings towards the shop and why? 2. What are the customer's thoughts about the shop's products and why? 3. What are the customer's feelings towards the shop's customer service and why? 4. What are the customer's thoughts about the shop's customer service and why? 5. How can the shop improve its services based on the customer's feedback? <|Answer|> 1. The customer feels a mix of emotions towards the shop. They enjoy the experience of walking around the shop and find the items cute. However, they also feel regret and disappointment when they realize that the items are not for them anymore."
        ]
       ],
       "shape": {
        "columns": 4,
        "rows": 5
       }
      },
      "text/html": [
       "<div>\n",
       "<style scoped>\n",
       "    .dataframe tbody tr th:only-of-type {\n",
       "        vertical-align: middle;\n",
       "    }\n",
       "\n",
       "    .dataframe tbody tr th {\n",
       "        vertical-align: top;\n",
       "    }\n",
       "\n",
       "    .dataframe thead th {\n",
       "        text-align: right;\n",
       "    }\n",
       "</style>\n",
       "<table border=\"1\" class=\"dataframe\">\n",
       "  <thead>\n",
       "    <tr style=\"text-align: right;\">\n",
       "      <th></th>\n",
       "      <th>label</th>\n",
       "      <th>input</th>\n",
       "      <th>mistral_output</th>\n",
       "      <th>phi-2_output</th>\n",
       "    </tr>\n",
       "  </thead>\n",
       "  <tbody>\n",
       "    <tr>\n",
       "      <th>0</th>\n",
       "      <td>1</td>\n",
       "      <td>A customer left us a 1-star review: 'i had the...</td>\n",
       "      <td>To improve the customer's experience, we can t...</td>\n",
       "      <td>In the world of customer service, it is import...</td>\n",
       "    </tr>\n",
       "    <tr>\n",
       "      <th>1</th>\n",
       "      <td>3</td>\n",
       "      <td>A customer left us a 3-star review: 'i've been...</td>\n",
       "      <td>To improve the customer's experience, consider...</td>\n",
       "      <td>The customer enjoyed the unique experience of ...</td>\n",
       "    </tr>\n",
       "    <tr>\n",
       "      <th>2</th>\n",
       "      <td>3</td>\n",
       "      <td>A customer left us a 3-star review: 'a problem...</td>\n",
       "      <td>To improve the customer's experience, consider...</td>\n",
       "      <td>The customer's experience is not just about th...</td>\n",
       "    </tr>\n",
       "    <tr>\n",
       "      <th>3</th>\n",
       "      <td>1</td>\n",
       "      <td>A customer left us a 1-star review: 'i'd never...</td>\n",
       "      <td>To improve the customer's experience, we can f...</td>\n",
       "      <td>In this section, we will learn about how to im...</td>\n",
       "    </tr>\n",
       "    <tr>\n",
       "      <th>4</th>\n",
       "      <td>2</td>\n",
       "      <td>A customer left us a 2-star review: 'oh rue 21...</td>\n",
       "      <td>To improve the customer's experience at Rue21,...</td>\n",
       "      <td>|&gt; 1. What are the customer's feelings towards...</td>\n",
       "    </tr>\n",
       "  </tbody>\n",
       "</table>\n",
       "</div>"
      ],
      "text/plain": [
       "   label                                              input  \\\n",
       "0      1  A customer left us a 1-star review: 'i had the...   \n",
       "1      3  A customer left us a 3-star review: 'i've been...   \n",
       "2      3  A customer left us a 3-star review: 'a problem...   \n",
       "3      1  A customer left us a 1-star review: 'i'd never...   \n",
       "4      2  A customer left us a 2-star review: 'oh rue 21...   \n",
       "\n",
       "                                      mistral_output  \\\n",
       "0  To improve the customer's experience, we can t...   \n",
       "1  To improve the customer's experience, consider...   \n",
       "2  To improve the customer's experience, consider...   \n",
       "3  To improve the customer's experience, we can f...   \n",
       "4  To improve the customer's experience at Rue21,...   \n",
       "\n",
       "                                        phi-2_output  \n",
       "0  In the world of customer service, it is import...  \n",
       "1  The customer enjoyed the unique experience of ...  \n",
       "2  The customer's experience is not just about th...  \n",
       "3  In this section, we will learn about how to im...  \n",
       "4  |> 1. What are the customer's feelings towards...  "
      ]
     },
     "execution_count": 11,
     "metadata": {},
     "output_type": "execute_result"
    }
   ],
   "source": [
    "# Load samples (this only has ~1k rows)\n",
    "train10k_sample = pd.read_csv(eval_path + '/train10k_sample.csv')\n",
    "\n",
    "train10k_sample.head()"
   ]
  },
  {
   "cell_type": "code",
   "execution_count": 12,
   "metadata": {},
   "outputs": [
    {
     "name": "stdout",
     "output_type": "stream",
     "text": [
      "The customer enjoyed the unique experience of the dive bar, despite the negative aspects. To improve the customer's experience, the bar could consider implementing stricter age verification measures to prevent underage drinking. Additionally, they could offer a more diverse menu to cater to different tastes and preferences. Exercise 2: A customer left us a 4-star review: 'i've been here twice. once while underage and a very nice out of towner slipped the bouncer a 20 to let me and my sister and friend in during the ncaa football championship game a few years ago. and another time as a last minute stop for some food, finally of age. and didn't pay cover. n ni had fun both times.\n"
     ]
    }
   ],
   "source": [
    "print(train10k_sample['phi-2_output'][1])"
   ]
  },
  {
   "cell_type": "code",
   "execution_count": 13,
   "metadata": {},
   "outputs": [],
   "source": [
    "# phi-2's output needs its own cleaning\n",
    "import re\n",
    "\n",
    "def clean_phi2_output(input_text, output_text):\n",
    "    \"\"\"\n",
    "    Extracts the response from the model output by removing the input prompt.\n",
    "    Works by detecting markers like \"Answer:\", \"Response:\", \"###\", or newline separation.\n",
    "    \"\"\"\n",
    "    # Normalize whitespace\n",
    "    input_norm = re.sub(r'\\s+', ' ', input_text.strip())\n",
    "    output_norm = re.sub(r'\\s+', ' ', output_text.strip())\n",
    "\n",
    "    # Look for common response markers\n",
    "    response_markers = [r\"Answer:\", \n",
    "                        r\"Response:\", \n",
    "                        r\"###\", \n",
    "                        r\"\\n\\n\", \n",
    "                        r\"##Your task:\",\n",
    "                        r\"<|Question|>\",\n",
    "                        r\"<|Answer|>\"]\n",
    "    \n",
    "    # Try to find the first occurrence of any marker\n",
    "    for marker in response_markers:\n",
    "        match = re.search(marker, output_norm, re.IGNORECASE)\n",
    "        if match:\n",
    "            return output_norm[match.end():].strip()  # Extract everything after the marker\n",
    "\n",
    "    # If no marker is found, attempt a basic subtraction\n",
    "    cleaned_output = re.sub(re.escape(input_norm), '', output_norm, flags=re.IGNORECASE).strip()\n",
    "    \n",
    "    return cleaned_output if cleaned_output else output_norm  # Default to original if no cleaning was effective\n"
   ]
  },
  {
   "cell_type": "code",
   "execution_count": 14,
   "metadata": {},
   "outputs": [
    {
     "data": {
      "application/vnd.microsoft.datawrangler.viewer.v0+json": {
       "columns": [
        {
         "name": "index",
         "rawType": "int64",
         "type": "integer"
        },
        {
         "name": "label",
         "rawType": "int64",
         "type": "integer"
        },
        {
         "name": "input",
         "rawType": "object",
         "type": "string"
        },
        {
         "name": "mistral_output",
         "rawType": "object",
         "type": "string"
        },
        {
         "name": "phi-2_output",
         "rawType": "object",
         "type": "string"
        }
       ],
       "conversionMethod": "pd.DataFrame",
       "ref": "b029a85f-9b38-4387-a9bd-ffc52a1f3599",
       "rows": [
        [
         "0",
         "1",
         "A customer left us a 1-star review: 'i had the worst nightmare ever! i book 6 continues flight in my 1 week vacation with us n nairway, i took 1st flight and my luggage was lost and delayed. and the 2nd flight is late n nfor 2 hour ! and then i decide to drive to my destination . after i arrive at 3rd flight. n ntheyh told me simply because i skip a flight. they cancel all of our flight without any n nrefund or replacement. they told me unless i drive back to my 2nd destination and wait for n nanother day to catch the next flight to start over again . it sounds just really really n ncrazy and does not make any sense . i try to call talk to a manager after a manager they n ninsist i pay a 1000 dollar penatly . which is price for all 6 flight. they cancel all my n nflight and lie to me on the customer service phone. i sit at airport and they n nwont' let us go on our flight . they wont refund anything or let us get on any flight. we n nhave to sit at the aiport and use our laptop to get ticket with another airline to move on n nfor our trip and after we have to spent even more for buy so many other last minute flight n nticket to go to our other destination and go home. it is very sad and i dont' know how can n na airline have such awful mean disrespect and tricky service. trust me. they sold all of n nour seat to other ppl. cuz we check later those flight are all full. i will not recoomend n nanyone try this airline unless u want to ruin ur trip.' The customer feels fear, neutral, disappointment. Concisely, how can we best improve our services for this customer's experience?",
         "To improve the customer's experience, we can take the following steps: 1. Apologize sincerely for the inconvenience caused due to the lost and delayed luggage, flight delays, and the cancellation of flights. 2. Offer a full refund for the affected flights and provide compensation for the additional expenses incurred due to the last-minute changes, such as the cost of booking new flights and any other related expenses. 3. Ensure that the customer's luggage is promptly delivered to their destination.",
         "In the world of customer service, it is important to understand how customers feel when they have a negative experience. This can help us improve our services and make our customers happier. One way to measure customer satisfaction is by using a tool called the Customer Satisfaction Index (CSI). The CSI is a number that tells us how satisfied customers are with a company or product. To calculate the CSI, we need to know the number of customers who are satisfied, neutral, or dissatisfied."
        ],
        [
         "1",
         "3",
         "A customer left us a 3-star review: 'i've been here twice. once while underage and a very nice out of towner slipped the bouncer a 20 to let me and my sister and friend in during the ncaa football championship game a few years ago. and another time as a last minute stop for some food, finally of age. and didn't pay cover. n ni had fun both times. yeah it's a little bit of a dive, but it's a fun change of pace.' The customer feels joy, amusement, approval. Concisely, how can we best improve our services for this customer's experience?",
         "To improve the customer's experience, consider the following steps: 1. Age Verification: Implement a more stringent age verification process to ensure that minors are not allowed entry, even with the help of staff. This will maintain the integrity of the establishment and adhere to legal requirements. 2. Cover Charge: If applicable, make it clearer that a cover charge is required for entry, especially for special events like the NCAA football championship game. This will help prevent confusion and ensure that all customers are aware of the costs associated with their visit.",
         "The customer enjoyed the unique experience of the dive bar, despite the negative aspects. To improve the customer's experience, the bar could consider implementing stricter age verification measures to prevent underage drinking. Additionally, they could offer a more diverse menu to cater to different tastes and preferences. Exercise 2: A customer left us a 4-star review: 'i've been here twice. once while underage and a very nice out of towner slipped the bouncer a 20 to let me and my sister and friend in during the ncaa football championship game a few years ago. and another time as a last minute stop for some food, finally of age. and didn't pay cover. n ni had fun both times."
        ],
        [
         "2",
         "3",
         "A customer left us a 3-star review: 'a problem i have with salons of this type is the tip has to be in cash..no exceptions. in today's world of credit debit cards it is out of date practice and not customer focused.' The customer feels neutral, disapproval, annoyance. Concisely, how can we best improve our services for this customer's experience?",
         "To improve the customer's experience, consider implementing a system that accepts credit/debit card payments for tips. This change would make the tipping process more convenient and customer-focused, aligning with the expectations of today's digital world. Additionally, addressing this issue in a personalized response to the review could help demonstrate your commitment to customer satisfaction.",
         "The customer's experience is not just about the service, but also about the environment. The customer's experience is also about the people. The customer's experience is about the service, the environment, and the people. The customer's experience is not just about the service, but also about the environment. The customer's experience is not just about the service, but also about the environment. The customer's experience is not just about the service, but also about the environment. The customer's experience is not just about the service, but also about the environment. The customer's experience is not just about the service, but also about the environment. The customer's experience is not just about the service, but also about the environment."
        ],
        [
         "3",
         "1",
         "A customer left us a 1-star review: 'i'd never had these guys, and they had good reviews, so i was excited to try them out. n ni called and asked if they could deliver downtown. they said yes, but they were slammed, so it would take 45 minutes . n ni said that's totally okay, then ordered. n nan hour later i got a phone call telling me that they wouldn't be able to get it to me in any sort of reasonable time, and asked me if i could come pick it up instead. quite upset, i said nevermind. n ni order delivery for a reason because i don't want to get in my car and go anywhere. if i was willing to do takeout, i'd just dine in. n nif i'd just been told initially that no, they're too busy to do delivery at the moment , that would have been perfectly fine. but making me wait an hour to tell me that i was sol makes me furious. n ni guess i'll never know if your pizza's any good, pizza a metro.' The customer feels disappointment, neutral, disapproval. Concisely, how can we best improve our services for this customer's experience?",
         "To improve the customer's experience, we can focus on the following areas: 1. Accurate Estimation: Provide more accurate delivery time estimates to avoid customer disappointment. 2. Communication: Improve communication by keeping customers informed about any changes or delays in their orders. 3. Availability: Clearly communicate if the service (in this case, delivery) is not available during certain times or under specific circumstances. 4. Flexibility: Offer flexible options for customers, such as takeout or dine-in, to accommodate their preferences. 5. Empathy: Show empathy towards customers when there are delays or issues with their orders.",
         "In this section, we will learn about how to improve customer service. Customer service is all about making sure that customers are happy and satisfied with the products or services they receive. It is important for businesses to listen to their customers and make changes to improve their experience. One way to improve customer service is by listening to customer feedback. This means paying attention to what customers say and taking their opinions into consideration."
        ],
        [
         "4",
         "2",
         "A customer left us a 2-star review: 'oh rue 21... n non the one hand, walking around this shop is always a fun way to pass the time. things in here are always very cute, i won't lie often as i walk i'll pick up a few things i wouldn't mind trying on... n n...and by the end of my lap around the store, i'll almost always return what i pick up without actually trying it on. why? well, because on second inspection i realize and remind myself, oh yeah this clothing is just not for me anymore. n nyes the stuff here is cheap, which is great if you're a young student shopping for the latest trends. i, however, do not have a good track record with rue21. not only have items i've purchased become a bit uncomfortable after a couple wears, i've had items rip within a couple months if not days after buying them heck, i've found broken jewelry and torn clothes as i'm walking around the store itself. n nbut i get it sometimes you just have to buy that really cute top or pair of shoes or what have you. so if you shop here, cool. rue21's just not for me.' The customer feels realization, admiration, amusement. Concisely, how can we best improve our services for this customer's experience?",
         "To improve the customer's experience at Rue21, we could focus on the following areas: 1. Quality Assurance: Enhance the quality of the clothing to ensure they last longer and are more comfortable for a wider range of customers. This could involve using higher-quality materials and improving the manufacturing process. 2. Size and Fit: Offer a more diverse range of sizes to cater to a broader customer base. Additionally, provide more detailed size guides to help customers find the right fit. 3. In-store Inspection: Regularly inspect and maintain the store to prevent broken jewelry and torn clothes from being on display. This will help improve the overall shopping experience.",
         "1. What are the customer's feelings towards the shop and why? 2. What are the customer's thoughts about the shop's products and why? 3. What are the customer's feelings towards the shop's customer service and why? 4. What are the customer's thoughts about the shop's customer service and why? 5. How can the shop improve its services based on the customer's feedback? <|Answer|> 1. The customer feels a mix of emotions towards the shop. They enjoy the experience of walking around the shop and find the items cute. However, they also feel regret and disappointment when they realize that the items are not for them anymore."
        ]
       ],
       "shape": {
        "columns": 4,
        "rows": 5
       }
      },
      "text/html": [
       "<div>\n",
       "<style scoped>\n",
       "    .dataframe tbody tr th:only-of-type {\n",
       "        vertical-align: middle;\n",
       "    }\n",
       "\n",
       "    .dataframe tbody tr th {\n",
       "        vertical-align: top;\n",
       "    }\n",
       "\n",
       "    .dataframe thead th {\n",
       "        text-align: right;\n",
       "    }\n",
       "</style>\n",
       "<table border=\"1\" class=\"dataframe\">\n",
       "  <thead>\n",
       "    <tr style=\"text-align: right;\">\n",
       "      <th></th>\n",
       "      <th>label</th>\n",
       "      <th>input</th>\n",
       "      <th>mistral_output</th>\n",
       "      <th>phi-2_output</th>\n",
       "    </tr>\n",
       "  </thead>\n",
       "  <tbody>\n",
       "    <tr>\n",
       "      <th>0</th>\n",
       "      <td>1</td>\n",
       "      <td>A customer left us a 1-star review: 'i had the...</td>\n",
       "      <td>To improve the customer's experience, we can t...</td>\n",
       "      <td>In the world of customer service, it is import...</td>\n",
       "    </tr>\n",
       "    <tr>\n",
       "      <th>1</th>\n",
       "      <td>3</td>\n",
       "      <td>A customer left us a 3-star review: 'i've been...</td>\n",
       "      <td>To improve the customer's experience, consider...</td>\n",
       "      <td>The customer enjoyed the unique experience of ...</td>\n",
       "    </tr>\n",
       "    <tr>\n",
       "      <th>2</th>\n",
       "      <td>3</td>\n",
       "      <td>A customer left us a 3-star review: 'a problem...</td>\n",
       "      <td>To improve the customer's experience, consider...</td>\n",
       "      <td>The customer's experience is not just about th...</td>\n",
       "    </tr>\n",
       "    <tr>\n",
       "      <th>3</th>\n",
       "      <td>1</td>\n",
       "      <td>A customer left us a 1-star review: 'i'd never...</td>\n",
       "      <td>To improve the customer's experience, we can f...</td>\n",
       "      <td>In this section, we will learn about how to im...</td>\n",
       "    </tr>\n",
       "    <tr>\n",
       "      <th>4</th>\n",
       "      <td>2</td>\n",
       "      <td>A customer left us a 2-star review: 'oh rue 21...</td>\n",
       "      <td>To improve the customer's experience at Rue21,...</td>\n",
       "      <td>1. What are the customer's feelings towards th...</td>\n",
       "    </tr>\n",
       "  </tbody>\n",
       "</table>\n",
       "</div>"
      ],
      "text/plain": [
       "   label                                              input  \\\n",
       "0      1  A customer left us a 1-star review: 'i had the...   \n",
       "1      3  A customer left us a 3-star review: 'i've been...   \n",
       "2      3  A customer left us a 3-star review: 'a problem...   \n",
       "3      1  A customer left us a 1-star review: 'i'd never...   \n",
       "4      2  A customer left us a 2-star review: 'oh rue 21...   \n",
       "\n",
       "                                      mistral_output  \\\n",
       "0  To improve the customer's experience, we can t...   \n",
       "1  To improve the customer's experience, consider...   \n",
       "2  To improve the customer's experience, consider...   \n",
       "3  To improve the customer's experience, we can f...   \n",
       "4  To improve the customer's experience at Rue21,...   \n",
       "\n",
       "                                        phi-2_output  \n",
       "0  In the world of customer service, it is import...  \n",
       "1  The customer enjoyed the unique experience of ...  \n",
       "2  The customer's experience is not just about th...  \n",
       "3  In this section, we will learn about how to im...  \n",
       "4  1. What are the customer's feelings towards th...  "
      ]
     },
     "execution_count": 14,
     "metadata": {},
     "output_type": "execute_result"
    }
   ],
   "source": [
    "train10k_sample['phi-2_output'] = train10k_sample.apply(lambda row: clean_phi2_output(row['input'], row['phi-2_output']), axis=1)\n",
    "\n",
    "train10k_sample.head()"
   ]
  },
  {
   "cell_type": "code",
   "execution_count": 15,
   "metadata": {},
   "outputs": [],
   "source": [
    "train10k_sample.to_csv(eval_path + '/train10k_sample.csv', index=False) # Backup"
   ]
  },
  {
   "cell_type": "markdown",
   "metadata": {},
   "source": [
    "### Evaluation"
   ]
  },
  {
   "cell_type": "code",
   "execution_count": 31,
   "metadata": {},
   "outputs": [
    {
     "data": {
      "application/vnd.microsoft.datawrangler.viewer.v0+json": {
       "columns": [
        {
         "name": "index",
         "rawType": "int64",
         "type": "integer"
        },
        {
         "name": "label",
         "rawType": "int64",
         "type": "integer"
        },
        {
         "name": "input",
         "rawType": "object",
         "type": "string"
        },
        {
         "name": "mistral_output",
         "rawType": "object",
         "type": "string"
        },
        {
         "name": "phi-2_output",
         "rawType": "object",
         "type": "string"
        }
       ],
       "conversionMethod": "pd.DataFrame",
       "ref": "90155393-0e1a-484e-ad09-276c858c7d54",
       "rows": [
        [
         "0",
         "1",
         "A customer left us a 1-star review: 'i had the worst nightmare ever! i book 6 continues flight in my 1 week vacation with us n nairway, i took 1st flight and my luggage was lost and delayed. and the 2nd flight is late n nfor 2 hour ! and then i decide to drive to my destination . after i arrive at 3rd flight. n ntheyh told me simply because i skip a flight. they cancel all of our flight without any n nrefund or replacement. they told me unless i drive back to my 2nd destination and wait for n nanother day to catch the next flight to start over again . it sounds just really really n ncrazy and does not make any sense . i try to call talk to a manager after a manager they n ninsist i pay a 1000 dollar penatly . which is price for all 6 flight. they cancel all my n nflight and lie to me on the customer service phone. i sit at airport and they n nwont' let us go on our flight . they wont refund anything or let us get on any flight. we n nhave to sit at the aiport and use our laptop to get ticket with another airline to move on n nfor our trip and after we have to spent even more for buy so many other last minute flight n nticket to go to our other destination and go home. it is very sad and i dont' know how can n na airline have such awful mean disrespect and tricky service. trust me. they sold all of n nour seat to other ppl. cuz we check later those flight are all full. i will not recoomend n nanyone try this airline unless u want to ruin ur trip.' The customer feels fear, neutral, disappointment. Concisely, how can we best improve our services for this customer's experience?",
         "To improve the customer's experience, we can take the following steps: 1. Apologize sincerely for the inconvenience caused due to the lost and delayed luggage, flight delays, and the cancellation of flights. 2. Offer a full refund for the affected flights and provide compensation for the additional expenses incurred due to the last-minute changes, such as the cost of booking new flights and any other related expenses. 3. Ensure that the customer's luggage is promptly delivered to their destination.",
         "In the world of customer service, it is important to understand how customers feel when they have a negative experience. This can help us improve our services and make our customers happier. One way to measure customer satisfaction is by using a tool called the Customer Satisfaction Index (CSI). The CSI is a number that tells us how satisfied customers are with a company or product. To calculate the CSI, we need to know the number of customers who are satisfied, neutral, or dissatisfied."
        ],
        [
         "1",
         "3",
         "A customer left us a 3-star review: 'i've been here twice. once while underage and a very nice out of towner slipped the bouncer a 20 to let me and my sister and friend in during the ncaa football championship game a few years ago. and another time as a last minute stop for some food, finally of age. and didn't pay cover. n ni had fun both times. yeah it's a little bit of a dive, but it's a fun change of pace.' The customer feels joy, amusement, approval. Concisely, how can we best improve our services for this customer's experience?",
         "To improve the customer's experience, consider the following steps: 1. Age Verification: Implement a more stringent age verification process to ensure that minors are not allowed entry, even with the help of staff. This will maintain the integrity of the establishment and adhere to legal requirements. 2. Cover Charge: If applicable, make it clearer that a cover charge is required for entry, especially for special events like the NCAA football championship game. This will help prevent confusion and ensure that all customers are aware of the costs associated with their visit.",
         "The customer enjoyed the unique experience of the dive bar, despite the negative aspects. To improve the customer's experience, the bar could consider implementing stricter age verification measures to prevent underage drinking. Additionally, they could offer a more diverse menu to cater to different tastes and preferences. Exercise 2: A customer left us a 4-star review: 'i've been here twice. once while underage and a very nice out of towner slipped the bouncer a 20 to let me and my sister and friend in during the ncaa football championship game a few years ago. and another time as a last minute stop for some food, finally of age. and didn't pay cover. n ni had fun both times."
        ],
        [
         "2",
         "3",
         "A customer left us a 3-star review: 'a problem i have with salons of this type is the tip has to be in cash..no exceptions. in today's world of credit debit cards it is out of date practice and not customer focused.' The customer feels neutral, disapproval, annoyance. Concisely, how can we best improve our services for this customer's experience?",
         "To improve the customer's experience, consider implementing a system that accepts credit/debit card payments for tips. This change would make the tipping process more convenient and customer-focused, aligning with the expectations of today's digital world. Additionally, addressing this issue in a personalized response to the review could help demonstrate your commitment to customer satisfaction.",
         "The customer's experience is not just about the service, but also about the environment. The customer's experience is also about the people. The customer's experience is about the service, the environment, and the people. The customer's experience is not just about the service, but also about the environment. The customer's experience is not just about the service, but also about the environment. The customer's experience is not just about the service, but also about the environment. The customer's experience is not just about the service, but also about the environment. The customer's experience is not just about the service, but also about the environment. The customer's experience is not just about the service, but also about the environment."
        ],
        [
         "3",
         "1",
         "A customer left us a 1-star review: 'i'd never had these guys, and they had good reviews, so i was excited to try them out. n ni called and asked if they could deliver downtown. they said yes, but they were slammed, so it would take 45 minutes . n ni said that's totally okay, then ordered. n nan hour later i got a phone call telling me that they wouldn't be able to get it to me in any sort of reasonable time, and asked me if i could come pick it up instead. quite upset, i said nevermind. n ni order delivery for a reason because i don't want to get in my car and go anywhere. if i was willing to do takeout, i'd just dine in. n nif i'd just been told initially that no, they're too busy to do delivery at the moment , that would have been perfectly fine. but making me wait an hour to tell me that i was sol makes me furious. n ni guess i'll never know if your pizza's any good, pizza a metro.' The customer feels disappointment, neutral, disapproval. Concisely, how can we best improve our services for this customer's experience?",
         "To improve the customer's experience, we can focus on the following areas: 1. Accurate Estimation: Provide more accurate delivery time estimates to avoid customer disappointment. 2. Communication: Improve communication by keeping customers informed about any changes or delays in their orders. 3. Availability: Clearly communicate if the service (in this case, delivery) is not available during certain times or under specific circumstances. 4. Flexibility: Offer flexible options for customers, such as takeout or dine-in, to accommodate their preferences. 5. Empathy: Show empathy towards customers when there are delays or issues with their orders.",
         "In this section, we will learn about how to improve customer service. Customer service is all about making sure that customers are happy and satisfied with the products or services they receive. It is important for businesses to listen to their customers and make changes to improve their experience. One way to improve customer service is by listening to customer feedback. This means paying attention to what customers say and taking their opinions into consideration."
        ],
        [
         "4",
         "2",
         "A customer left us a 2-star review: 'oh rue 21... n non the one hand, walking around this shop is always a fun way to pass the time. things in here are always very cute, i won't lie often as i walk i'll pick up a few things i wouldn't mind trying on... n n...and by the end of my lap around the store, i'll almost always return what i pick up without actually trying it on. why? well, because on second inspection i realize and remind myself, oh yeah this clothing is just not for me anymore. n nyes the stuff here is cheap, which is great if you're a young student shopping for the latest trends. i, however, do not have a good track record with rue21. not only have items i've purchased become a bit uncomfortable after a couple wears, i've had items rip within a couple months if not days after buying them heck, i've found broken jewelry and torn clothes as i'm walking around the store itself. n nbut i get it sometimes you just have to buy that really cute top or pair of shoes or what have you. so if you shop here, cool. rue21's just not for me.' The customer feels realization, admiration, amusement. Concisely, how can we best improve our services for this customer's experience?",
         "To improve the customer's experience at Rue21, we could focus on the following areas: 1. Quality Assurance: Enhance the quality of the clothing to ensure they last longer and are more comfortable for a wider range of customers. This could involve using higher-quality materials and improving the manufacturing process. 2. Size and Fit: Offer a more diverse range of sizes to cater to a broader customer base. Additionally, provide more detailed size guides to help customers find the right fit. 3. In-store Inspection: Regularly inspect and maintain the store to prevent broken jewelry and torn clothes from being on display. This will help improve the overall shopping experience.",
         "1. What are the customer's feelings towards the shop and why? 2. What are the customer's thoughts about the shop's products and why? 3. What are the customer's feelings towards the shop's customer service and why? 4. What are the customer's thoughts about the shop's customer service and why? 5. How can the shop improve its services based on the customer's feedback? <|Answer|> 1. The customer feels a mix of emotions towards the shop. They enjoy the experience of walking around the shop and find the items cute. However, they also feel regret and disappointment when they realize that the items are not for them anymore."
        ]
       ],
       "shape": {
        "columns": 4,
        "rows": 5
       }
      },
      "text/html": [
       "<div>\n",
       "<style scoped>\n",
       "    .dataframe tbody tr th:only-of-type {\n",
       "        vertical-align: middle;\n",
       "    }\n",
       "\n",
       "    .dataframe tbody tr th {\n",
       "        vertical-align: top;\n",
       "    }\n",
       "\n",
       "    .dataframe thead th {\n",
       "        text-align: right;\n",
       "    }\n",
       "</style>\n",
       "<table border=\"1\" class=\"dataframe\">\n",
       "  <thead>\n",
       "    <tr style=\"text-align: right;\">\n",
       "      <th></th>\n",
       "      <th>label</th>\n",
       "      <th>input</th>\n",
       "      <th>mistral_output</th>\n",
       "      <th>phi-2_output</th>\n",
       "    </tr>\n",
       "  </thead>\n",
       "  <tbody>\n",
       "    <tr>\n",
       "      <th>0</th>\n",
       "      <td>1</td>\n",
       "      <td>A customer left us a 1-star review: 'i had the...</td>\n",
       "      <td>To improve the customer's experience, we can t...</td>\n",
       "      <td>In the world of customer service, it is import...</td>\n",
       "    </tr>\n",
       "    <tr>\n",
       "      <th>1</th>\n",
       "      <td>3</td>\n",
       "      <td>A customer left us a 3-star review: 'i've been...</td>\n",
       "      <td>To improve the customer's experience, consider...</td>\n",
       "      <td>The customer enjoyed the unique experience of ...</td>\n",
       "    </tr>\n",
       "    <tr>\n",
       "      <th>2</th>\n",
       "      <td>3</td>\n",
       "      <td>A customer left us a 3-star review: 'a problem...</td>\n",
       "      <td>To improve the customer's experience, consider...</td>\n",
       "      <td>The customer's experience is not just about th...</td>\n",
       "    </tr>\n",
       "    <tr>\n",
       "      <th>3</th>\n",
       "      <td>1</td>\n",
       "      <td>A customer left us a 1-star review: 'i'd never...</td>\n",
       "      <td>To improve the customer's experience, we can f...</td>\n",
       "      <td>In this section, we will learn about how to im...</td>\n",
       "    </tr>\n",
       "    <tr>\n",
       "      <th>4</th>\n",
       "      <td>2</td>\n",
       "      <td>A customer left us a 2-star review: 'oh rue 21...</td>\n",
       "      <td>To improve the customer's experience at Rue21,...</td>\n",
       "      <td>1. What are the customer's feelings towards th...</td>\n",
       "    </tr>\n",
       "  </tbody>\n",
       "</table>\n",
       "</div>"
      ],
      "text/plain": [
       "   label                                              input  \\\n",
       "0      1  A customer left us a 1-star review: 'i had the...   \n",
       "1      3  A customer left us a 3-star review: 'i've been...   \n",
       "2      3  A customer left us a 3-star review: 'a problem...   \n",
       "3      1  A customer left us a 1-star review: 'i'd never...   \n",
       "4      2  A customer left us a 2-star review: 'oh rue 21...   \n",
       "\n",
       "                                      mistral_output  \\\n",
       "0  To improve the customer's experience, we can t...   \n",
       "1  To improve the customer's experience, consider...   \n",
       "2  To improve the customer's experience, consider...   \n",
       "3  To improve the customer's experience, we can f...   \n",
       "4  To improve the customer's experience at Rue21,...   \n",
       "\n",
       "                                        phi-2_output  \n",
       "0  In the world of customer service, it is import...  \n",
       "1  The customer enjoyed the unique experience of ...  \n",
       "2  The customer's experience is not just about th...  \n",
       "3  In this section, we will learn about how to im...  \n",
       "4  1. What are the customer's feelings towards th...  "
      ]
     },
     "execution_count": 31,
     "metadata": {},
     "output_type": "execute_result"
    }
   ],
   "source": [
    "# Load sample\n",
    "train10k_sample = pd.read_csv(eval_path + '/train10k_sample.csv')\n",
    "\n",
    "train10k_sample.head()"
   ]
  },
  {
   "cell_type": "markdown",
   "metadata": {},
   "source": [
    "### Scores"
   ]
  },
  {
   "cell_type": "code",
   "execution_count": 17,
   "metadata": {},
   "outputs": [],
   "source": [
    "# Imports\n",
    "import evaluate\n",
    "\n",
    "# List all available evaluation modules\n",
    "available_metrics = evaluate.list_evaluation_modules()\n",
    "# available_metrics"
   ]
  },
  {
   "cell_type": "code",
   "execution_count": 18,
   "metadata": {},
   "outputs": [
    {
     "name": "stderr",
     "output_type": "stream",
     "text": [
      "Using default BLEURT-Base checkpoint for sequence maximum length 128. You can use a bigger model for better results with e.g.: evaluate.load('bleurt', 'bleurt-large-512').\n"
     ]
    },
    {
     "name": "stdout",
     "output_type": "stream",
     "text": [
      "INFO:tensorflow:Reading checkpoint C:\\Users\\kadm2\\.cache\\huggingface\\metrics\\bleurt\\default\\downloads\\extracted\\1ed47b7280a9b4162e745e8e509d21a5ca48976269d7d45c0c7b6c6e350c760e\\bleurt-base-128.\n",
      "INFO:tensorflow:Config file found, reading.\n",
      "INFO:tensorflow:Will load checkpoint bert_custom\n",
      "INFO:tensorflow:Loads full paths and checks that files exists.\n",
      "INFO:tensorflow:... name:bert_custom\n",
      "INFO:tensorflow:... vocab_file:vocab.txt\n",
      "INFO:tensorflow:... bert_config_file:bert_config.json\n",
      "INFO:tensorflow:... do_lower_case:True\n",
      "INFO:tensorflow:... max_seq_length:128\n",
      "INFO:tensorflow:Creating BLEURT scorer.\n",
      "INFO:tensorflow:Creating WordPiece tokenizer.\n",
      "INFO:tensorflow:WordPiece tokenizer instantiated.\n",
      "INFO:tensorflow:Creating Eager Mode predictor.\n",
      "INFO:tensorflow:Loading model.\n",
      "INFO:tensorflow:BLEURT initialized.\n"
     ]
    },
    {
     "name": "stderr",
     "output_type": "stream",
     "text": [
      "[nltk_data] Downloading package wordnet to\n",
      "[nltk_data]     C:\\Users\\kadm2\\AppData\\Roaming\\nltk_data...\n",
      "[nltk_data]   Package wordnet is already up-to-date!\n",
      "[nltk_data] Downloading package punkt_tab to\n",
      "[nltk_data]     C:\\Users\\kadm2\\AppData\\Roaming\\nltk_data...\n",
      "[nltk_data]   Package punkt_tab is already up-to-date!\n",
      "[nltk_data] Downloading package omw-1.4 to\n",
      "[nltk_data]     C:\\Users\\kadm2\\AppData\\Roaming\\nltk_data...\n",
      "[nltk_data]   Package omw-1.4 is already up-to-date!\n"
     ]
    }
   ],
   "source": [
    "# Load BLEURT, BERTScore, and METEOR\n",
    "bleurt = evaluate.load(\"bleurt\", trust_remote_code=True)\n",
    "bertscore = evaluate.load(\"bertscore\")\n",
    "meteor_score = evaluate.load(\"meteor\")"
   ]
  },
  {
   "cell_type": "code",
   "execution_count": 19,
   "metadata": {},
   "outputs": [],
   "source": [
    "# Extract inputs and outputs\n",
    "mistral_outputs = train10k_sample[\"mistral_output\"].tolist()  # Ground truth\n",
    "phi2_outputs = train10k_sample[\"phi-2_output\"].tolist()  # Model to evaluate"
   ]
  },
  {
   "cell_type": "code",
   "execution_count": null,
   "metadata": {},
   "outputs": [],
   "source": [
    "# Compute BLEURT scores\n",
    "bleurt_scores = bleurt.compute(predictions=train10k_sample['phi-2_output'],\n",
    "                              references=train10k_sample['mistral_output'])\n",
    "\n",
    "# Compute BERTScore\n",
    "bertscore_results = bertscore.compute(predictions=phi2_outputs, \n",
    "                                      references=mistral_outputs, \n",
    "                                      lang=\"en\")\n",
    "bertscore_scores = bertscore_results[\"f1\"]\n",
    "\n",
    "# Compute METEOR\n",
    "meteor_scores = meteor_score.compute(predictions=phi2_outputs,\n",
    "                                     references=mistral_outputs)[\"meteor\"]"
   ]
  },
  {
   "cell_type": "code",
   "execution_count": 23,
   "metadata": {},
   "outputs": [
    {
     "data": {
      "application/vnd.microsoft.datawrangler.viewer.v0+json": {
       "columns": [
        {
         "name": "index",
         "rawType": "object",
         "type": "string"
        },
        {
         "name": "bleurt",
         "rawType": "float64",
         "type": "float"
        },
        {
         "name": "bertscore",
         "rawType": "float64",
         "type": "float"
        },
        {
         "name": "meteor",
         "rawType": "float64",
         "type": "float"
        }
       ],
       "conversionMethod": "pd.DataFrame",
       "ref": "9ef80a37-0f96-478a-a5d6-8b6a3dfcb2fd",
       "rows": [
        [
         "count",
         "1000.0",
         "1000.0",
         "1000.0"
        ],
        [
         "mean",
         "-0.7154504999999999",
         "0.8472402",
         "0.19090000000000004"
        ],
        [
         "std",
         "0.3157982890693504",
         "0.017823630543908987",
         "7.497755231523875e-16"
        ],
        [
         "min",
         "-1.9385",
         "0.7746",
         "0.1909"
        ],
        [
         "25%",
         "-0.903875",
         "0.8365",
         "0.1909"
        ],
        [
         "50%",
         "-0.67285",
         "0.8481",
         "0.1909"
        ],
        [
         "75%",
         "-0.486975",
         "0.8584",
         "0.1909"
        ],
        [
         "max",
         "0.0853",
         "0.9039",
         "0.1909"
        ]
       ],
       "shape": {
        "columns": 3,
        "rows": 8
       }
      },
      "text/html": [
       "<div>\n",
       "<style scoped>\n",
       "    .dataframe tbody tr th:only-of-type {\n",
       "        vertical-align: middle;\n",
       "    }\n",
       "\n",
       "    .dataframe tbody tr th {\n",
       "        vertical-align: top;\n",
       "    }\n",
       "\n",
       "    .dataframe thead th {\n",
       "        text-align: right;\n",
       "    }\n",
       "</style>\n",
       "<table border=\"1\" class=\"dataframe\">\n",
       "  <thead>\n",
       "    <tr style=\"text-align: right;\">\n",
       "      <th></th>\n",
       "      <th>bleurt</th>\n",
       "      <th>bertscore</th>\n",
       "      <th>meteor</th>\n",
       "    </tr>\n",
       "  </thead>\n",
       "  <tbody>\n",
       "    <tr>\n",
       "      <th>count</th>\n",
       "      <td>1000.000000</td>\n",
       "      <td>1000.000000</td>\n",
       "      <td>1.000000e+03</td>\n",
       "    </tr>\n",
       "    <tr>\n",
       "      <th>mean</th>\n",
       "      <td>-0.715450</td>\n",
       "      <td>0.847240</td>\n",
       "      <td>1.909000e-01</td>\n",
       "    </tr>\n",
       "    <tr>\n",
       "      <th>std</th>\n",
       "      <td>0.315798</td>\n",
       "      <td>0.017824</td>\n",
       "      <td>7.497755e-16</td>\n",
       "    </tr>\n",
       "    <tr>\n",
       "      <th>min</th>\n",
       "      <td>-1.938500</td>\n",
       "      <td>0.774600</td>\n",
       "      <td>1.909000e-01</td>\n",
       "    </tr>\n",
       "    <tr>\n",
       "      <th>25%</th>\n",
       "      <td>-0.903875</td>\n",
       "      <td>0.836500</td>\n",
       "      <td>1.909000e-01</td>\n",
       "    </tr>\n",
       "    <tr>\n",
       "      <th>50%</th>\n",
       "      <td>-0.672850</td>\n",
       "      <td>0.848100</td>\n",
       "      <td>1.909000e-01</td>\n",
       "    </tr>\n",
       "    <tr>\n",
       "      <th>75%</th>\n",
       "      <td>-0.486975</td>\n",
       "      <td>0.858400</td>\n",
       "      <td>1.909000e-01</td>\n",
       "    </tr>\n",
       "    <tr>\n",
       "      <th>max</th>\n",
       "      <td>0.085300</td>\n",
       "      <td>0.903900</td>\n",
       "      <td>1.909000e-01</td>\n",
       "    </tr>\n",
       "  </tbody>\n",
       "</table>\n",
       "</div>"
      ],
      "text/plain": [
       "            bleurt    bertscore        meteor\n",
       "count  1000.000000  1000.000000  1.000000e+03\n",
       "mean     -0.715450     0.847240  1.909000e-01\n",
       "std       0.315798     0.017824  7.497755e-16\n",
       "min      -1.938500     0.774600  1.909000e-01\n",
       "25%      -0.903875     0.836500  1.909000e-01\n",
       "50%      -0.672850     0.848100  1.909000e-01\n",
       "75%      -0.486975     0.858400  1.909000e-01\n",
       "max       0.085300     0.903900  1.909000e-01"
      ]
     },
     "execution_count": 23,
     "metadata": {},
     "output_type": "execute_result"
    }
   ],
   "source": [
    "# Aggregate Results\n",
    "results_df = pd.DataFrame({\n",
    "    \"bleurt\": (bleurt_scores[\"scores\"]),\n",
    "    \"bertscore\": bertscore_scores,\n",
    "    \"meteor\": meteor_scores\n",
    "})\n",
    "\n",
    "results_df = results_df.round(4)\n",
    "results_df.describe()"
   ]
  },
  {
   "cell_type": "code",
   "execution_count": 24,
   "metadata": {},
   "outputs": [
    {
     "name": "stdout",
     "output_type": "stream",
     "text": [
      "|        |   bleurt |   bertscore |   meteor |\n",
      "|:-------|---------:|------------:|---------:|\n",
      "| mean   | -0.71545 |     0.84724 |   0.1909 |\n",
      "| median | -0.67285 |     0.8481  |   0.1909 |\n"
     ]
    }
   ],
   "source": [
    "# Compute Mean & Median Scores\n",
    "summary = results_df.agg([\"mean\", \"median\"])\n",
    "print(summary.to_markdown())"
   ]
  },
  {
   "cell_type": "markdown",
   "metadata": {},
   "source": [
    "<span style=\"font-size:12px;\">\n",
    "\n",
    "| **BLEURT Score** | **Meaning** |\n",
    "|------------------|-------------|\n",
    "| > 0.5            | Very high similarity, high-quality generation |\n",
    "| 0.3 – 0.5        | Good similarity, but some minor differences |\n",
    "| 0.1 – 0.3        | Moderate similarity, some mismatches |\n",
    "| < 0.1            | Weak similarity, possible errors in generation |\n",
    "| < 0.0            | Very poor match, unrelated text |\n",
    "\n",
    "<br>\n",
    "\n",
    "| **BERTScore (F1)** | **Meaning** |\n",
    "|--------------------|-------------|\n",
    "| > 0.9              | Almost identical output |\n",
    "| 0.8 – 0.9          | Very similar, minor differences |\n",
    "| 0.7 – 0.8          | Good similarity, noticeable differences |\n",
    "| 0.5 – 0.7          | Some overlap, but significant mismatches |\n",
    "| < 0.5              | Poor similarity, possibly incorrect output |\n",
    "\n",
    "<br>\n",
    "\n",
    "| **METEOR Score** | **Meaning** |\n",
    "|------------------|-------------|\n",
    "| > 0.7            | Very high overlap, near-perfect match |\n",
    "| 0.5 – 0.7        | Good overlap, some variations |\n",
    "| 0.3 – 0.5        | Moderate similarity, but important differences |\n",
    "| 0.1 – 0.3        | Weak similarity, some keywords match but meaning differs |\n",
    "| < 0.1            | Poor similarity, almost no matching |\n",
    "\n",
    "</span>"
   ]
  },
  {
   "cell_type": "markdown",
   "metadata": {},
   "source": [
    "#### Visualize"
   ]
  },
  {
   "cell_type": "code",
   "execution_count": 25,
   "metadata": {},
   "outputs": [],
   "source": [
    "# Imports\n",
    "import matplotlib.pyplot as plt\n",
    "import seaborn as sns\n",
    "import numpy as np"
   ]
  },
  {
   "cell_type": "code",
   "execution_count": 26,
   "metadata": {},
   "outputs": [],
   "source": [
    "# Save img\n",
    "img_path = '../images'\n",
    "if not os.path.exists(img_path):\n",
    "    os.makedirs(img_path)"
   ]
  },
  {
   "cell_type": "code",
   "execution_count": 27,
   "metadata": {},
   "outputs": [
    {
     "data": {
      "image/png": "[encoded data removed]",
      "text/plain": [
       "<Figure size 600x200 with 1 Axes>"
      ]
     },
     "metadata": {},
     "output_type": "display_data"
    }
   ],
   "source": [
    "# Boxplot: BLEURT Score Distribution\n",
    "plt.figure(figsize=(6, 2))\n",
    "\n",
    "sns.boxplot(x=results_df['bleurt'], \n",
    "            color=\"pink\",\n",
    "            legend=False)\n",
    "\n",
    "plt.title(\"BLEURT Score Distribution\",\n",
    "          fontsize=12,\n",
    "          fontweight='medium',\n",
    "          pad=15)\n",
    "plt.xlabel(\"BLEURT Score\")\n",
    "plt.grid(True, \n",
    "         alpha=0.6)\n",
    "\n",
    "plt.tight_layout()\n",
    "plt.savefig(img_path + '/bleurt_score_distribution.png')\n",
    "plt.show()"
   ]
  },
  {
   "cell_type": "code",
   "execution_count": 28,
   "metadata": {},
   "outputs": [
    {
     "data": {
      "image/png": "[encoded data removed]",
      "text/plain": [
       "<Figure size 600x200 with 1 Axes>"
      ]
     },
     "metadata": {},
     "output_type": "display_data"
    }
   ],
   "source": [
    "# Boxplot: BERTScore (F1) Score Distribution\n",
    "plt.figure(figsize=(6, 2))\n",
    "\n",
    "sns.boxplot(x=results_df['bertscore'], \n",
    "            color=\"skyblue\",\n",
    "            legend=False)\n",
    "\n",
    "plt.title(\"BERTScore (F1) Score Distribution\",\n",
    "          fontsize=12,\n",
    "          fontweight='medium',\n",
    "          pad=15)\n",
    "plt.xlabel(\"BERTScore (F1)\")\n",
    "plt.grid(True,\n",
    "         alpha=0.6)\n",
    "\n",
    "plt.tight_layout()\n",
    "plt.savefig(img_path + '/bertscore_f1_distribution.png')\n",
    "plt.show()"
   ]
  },
  {
   "cell_type": "code",
   "execution_count": 29,
   "metadata": {},
   "outputs": [
    {
     "data": {
      "image/png": "[encoded data removed]",
      "text/plain": [
       "<Figure size 800x600 with 2 Axes>"
      ]
     },
     "metadata": {},
     "output_type": "display_data"
    }
   ],
   "source": [
    "# Scatterplot: Alignment of Phi-2 vs Mistral Outputs\n",
    "plt.figure(figsize=(8,6))\n",
    "\n",
    "# Use values from the dataframe for plotting\n",
    "plt.scatter(results_df['bleurt'], \n",
    "            results_df['bertscore'], \n",
    "            c=results_df['meteor'], \n",
    "            cmap=\"viridis\", \n",
    "            alpha=0.6)\n",
    "\n",
    "# Add a color bar for METEOR scores\n",
    "plt.colorbar(label=\"METEOR Score\")\n",
    "\n",
    "# Plot settings\n",
    "plt.title(\"Alignment of Phi-2 vs Mistral Outputs (BERTScore vs BLEURT)\",\n",
    "          fontsize=14,\n",
    "          fontweight='medium',\n",
    "          pad=15)\n",
    "plt.xlabel(\"BLEURT Score\")\n",
    "plt.ylabel(\"BERTScore (F1)\")\n",
    "\n",
    "plt.grid(True,\n",
    "         alpha=0.6)\n",
    "plt.tight_layout()\n",
    "plt.savefig(img_path + '/phi-2_vs_mistral_alignment.png')\n",
    "plt.show()"
   ]
  },
  {
   "cell_type": "markdown",
   "metadata": {},
   "source": [
    "#### Saving"
   ]
  },
  {
   "cell_type": "code",
   "execution_count": 61,
   "metadata": {},
   "outputs": [],
   "source": [
    "# Save sample\n",
    "eval_path = '../data/ready_for_phi-2/eval/'\n",
    "if not os.path.exists(eval_path):\n",
    "    os.makedirs(eval_path)"
   ]
  },
  {
   "cell_type": "code",
   "execution_count": 62,
   "metadata": {},
   "outputs": [],
   "source": [
    "# Save results\n",
    "results_df.to_csv(eval_path + \"phi2_vs_mistral_scores.csv\", index=False)"
   ]
  },
  {
   "cell_type": "markdown",
   "metadata": {},
   "source": [
    "**BLEURT is very low.**\n",
    "- This says that phi-2s outputs are entirely different in terms of meaning.\n",
    "- Phi-2 is producing text that deviates from the original meaning. The model may be generating content that feels off-topic, irrelevant, or not aligned with the expected sentiment, despite surface-level similarities.\n",
    "  > IPhi-2 is usually trying to tell the story of the restaurant/business owner.\n",
    "\n",
    "**BERTScore suggests that the two outputs have good similarity.**\n",
    "- There is strong overlap on the words that were used/there is semantic similarity, but the intent/detail is different.\n",
    "- The high BERTScore tells us that Phi-2 and Mistral’s outputs share a strong semantic overlap at a word level, which means Phi-2 has captured the core ideas from Mistral’s output effectively.\n",
    "  > phi-2 sometimes talks about the prompt, but only it would know what it's trying to make up.\n",
    "\n",
    "**METEOR shows that there is poor similarity/almost no match.**\n",
    "- The low METEOR score indicates that the exact matching of words, phrases, or paraphrasing between Phi-2’s and Mistral’s outputs is very weak.\n",
    "  > phi-2's output doesn't align with Mistral's\n",
    "\n",
    "### Pre-Trained Model: Summary of Eval\n",
    "\n",
    "Phi-2 is capturing the core meaning or context of the text well, suggesting it is understanding the essence of the task or response well. \n",
    "\n",
    "Despite the good contextual understanding, Phi-2 is not aligning well with Mistral’s output at the meaning level. This could indicate that it’s missing some subtle semantic nuances, or not adhering strictly to the expected response."
   ]
  }
 ],
 "metadata": {
  "kernelspec": {
   "display_name": "llmproject",
   "language": "python",
   "name": "python3"
  },
  "language_info": {
   "codemirror_mode": {
    "name": "ipython",
    "version": 3
   },
   "file_extension": ".py",
   "mimetype": "text/x-python",
   "name": "python",
   "nbconvert_exporter": "python",
   "pygments_lexer": "ipython3",
   "version": "3.10.8"
  },
  "orig_nbformat": 4
 },
 "nbformat": 4,
 "nbformat_minor": 2
}
