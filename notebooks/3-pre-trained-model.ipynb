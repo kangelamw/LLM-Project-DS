{
 "cells": [
  {
   "cell_type": "markdown",
   "metadata": {},
   "source": [
    "# Pre-trained model: Microsoft/phi-2"
   ]
  },
  {
   "cell_type": "markdown",
   "metadata": {},
   "source": [
    "### Loading & cleaning"
   ]
  },
  {
   "cell_type": "code",
   "execution_count": 1,
   "metadata": {},
   "outputs": [
    {
     "name": "stdout",
     "output_type": "stream",
     "text": [
      "True\n",
      "['eval', 'test_01.csv', 'test_02.csv', 'train_01.csv', 'train_02.csv']\n"
     ]
    }
   ],
   "source": [
    "\n",
    "# Imports\n",
    "import os\n",
    "import re\n",
    "import pandas as pd\n",
    "from functions import *\n",
    "\n",
    "# Load data\n",
    "data = '../data/ready_for_phi-2/'\n",
    "\n",
    "print(os.path.exists(data))\n",
    "print(os.listdir(data))"
   ]
  },
  {
   "cell_type": "code",
   "execution_count": 2,
   "metadata": {},
   "outputs": [
    {
     "data": {
      "text/plain": [
       "((9999, 7), (4998, 7), (1998, 7), (999, 7))"
      ]
     },
     "execution_count": 2,
     "metadata": {},
     "output_type": "execute_result"
    }
   ],
   "source": [
    "# Load\n",
    "train10k = pd.read_csv(data + 'train_01.csv')\n",
    "train5k = pd.read_csv(data + 'train_02.csv')\n",
    "\n",
    "test2k = pd.read_csv(data + 'test_01.csv')\n",
    "test1k = pd.read_csv(data + 'test_02.csv')\n",
    "\n",
    "train10k.shape, train5k.shape, test2k.shape, test1k.shape"
   ]
  },
  {
   "cell_type": "code",
   "execution_count": 3,
   "metadata": {},
   "outputs": [
    {
     "data": {
      "text/plain": [
       "((9999, 3), (4998, 3), (1998, 3), (999, 3))"
      ]
     },
     "execution_count": 3,
     "metadata": {},
     "output_type": "execute_result"
    }
   ],
   "source": [
    "# Selecting only the columns we need for fine-tuning\n",
    "\n",
    "# 15k training samples\n",
    "train10k = train10k[['label', 'prompt', 'response']]\n",
    "train5k = train5k[['label', 'prompt', 'response']]\n",
    "\n",
    "# 3k test samples\n",
    "test2k = test2k[['label', 'prompt', 'response']]\n",
    "test1k = test1k[['label', 'prompt', 'response']]\n",
    "\n",
    "# Rename columns\n",
    "train10k.columns = ['label', 'input', 'mistral_output']\n",
    "train5k.columns = ['label', 'input', 'mistral_output']\n",
    "test2k.columns = ['label', 'input', 'mistral_output']\n",
    "test1k.columns = ['label', 'input', 'mistral_output']\n",
    "\n",
    "# Check\n",
    "train10k.shape, train5k.shape, test2k.shape, test1k.shape"
   ]
  },
  {
   "cell_type": "code",
   "execution_count": 4,
   "metadata": {},
   "outputs": [],
   "source": [
    "dfs = [train10k, train5k, test2k, test1k]"
   ]
  },
  {
   "cell_type": "code",
   "execution_count": 5,
   "metadata": {},
   "outputs": [
    {
     "name": "stdout",
     "output_type": "stream",
     "text": [
      "0\n",
      "0\n",
      "0\n",
      "0\n"
     ]
    }
   ],
   "source": [
    "for df in dfs:\n",
    "  print(df.duplicated().sum())"
   ]
  },
  {
   "cell_type": "code",
   "execution_count": 6,
   "metadata": {},
   "outputs": [],
   "source": [
    "# remove INST tags\n",
    "for df in dfs:\n",
    "  df['input'] = df['input'].str.replace('[INST]', '')\n",
    "  df['input'] = df['input'].str.replace('[/INST]', '')\n",
    "  df['mistral_output'] = df['mistral_output'].str.replace('[INST]', '')\n",
    "  df['mistral_output'] = df['mistral_output'].str.replace('[/INST]', '')"
   ]
  },
  {
   "cell_type": "code",
   "execution_count": 7,
   "metadata": {},
   "outputs": [
    {
     "data": {
      "application/vnd.microsoft.datawrangler.viewer.v0+json": {
       "columns": [
        {
         "name": "index",
         "rawType": "int64",
         "type": "integer"
        },
        {
         "name": "label",
         "rawType": "int64",
         "type": "integer"
        },
        {
         "name": "input",
         "rawType": "object",
         "type": "string"
        },
        {
         "name": "mistral_output",
         "rawType": "object",
         "type": "string"
        }
       ],
       "conversionMethod": "pd.DataFrame",
       "ref": "b97654a1-b26a-4ff0-ad90-622320d27ecd",
       "rows": [
        [
         "0",
         "2",
         " A customer left us a 2-star review: 'the cashier told my husband that should he get change and the air machine just don't work don't come back in asking for a refund. this location the employees are uneducated on any kind of hospitality when having contact with human customers. i just don't care for employees who have a rude attitude. how do store owners proudly have a rude person as a cashier? well let's see how that will work out for them. attention all friends the people are rude at this location.' The customer feels annoyance, anger, neutral. Concisely, how can we best improve our services for this customer's experience? ",
         "A customer left us a 2-star review: 'the cashier told my husband that should he get change and the air machine just don't work don't come back in asking for a refund. this location the employees are uneducated on any kind of hospitality when having contact with human customers. i just don't care for employees who have a rude attitude. how do store owners proudly have a rude person as a cashier? well let's see how that will work out for them. attention all friends the people are rude at this location.' The customer feels annoyance, anger, neutral. Concisely, how can we best improve our services for this customer's experience?  To improve the customer's experience and address their concerns, we can take the following steps:\n\n1. Acknowledge the issue: Respond to the review by acknowledging the customer's frustration and apologizing for the poor experience they had with our cashier.\n\n2. Investigate the incident: Speak with the cashier involved to understand the situation from their perspective and determine if there was a misunderstanding or if the cashier was indeed rude.\n\n3. Provide training: Offer additional training to the cashier on customer service skills, focusing on communication, empathy, and problem-solving."
        ],
        [
         "1",
         "2",
         " A customer left us a 2-star review: 'here's what happened n we were suppose to be at the regular mgm.. so we pulled up, put our car in valet, got a bell boy to take our stuff.. and then we realized they gave us rooms at the signature. what a pain!!!! n then when we tried to check in we were suppose to have 2 rooms... but they couldn't find our other reservation because we booked through an online travel company so they only gave us one room!!! n the next day we had to spend at least an hour trying to get compensated for the room that we pre paid for! finally they gave us back the money and also said they would give us 200 to spend on food and bev. n so, we ordered 158 in food that night... and tipped 30! n then when i went to check out... they had all the room service charges and all the room charges on my card!!! it was such a hassle to get them off!!! in the end, they took off all charges but the 30 tip which i was still mad about . n nthe rooms were super nice! they had a nice kitchen and a nice view. but, i do not consider it much of an upgrade from the mgm since one of the beds is a pull out couch. n nalso, we were there for a bachelorette party... and the bachelorette likes to gamble.. so it probably would have been more ideal to stay in the casino. n noverall, the condo was very nice... but the customer service was totally disorganized and bad. numerous times the signature blamed their poor service on the mgm and said they couldn't do anything about our problems since we booked through the mgm.' The customer feels realization, neutral, disappointment. Concisely, how can we best improve our services for this customer's experience? ",
         "A customer left us a 2-star review: 'here's what happened n we were suppose to be at the regular mgm.. so we pulled up, put our car in valet, got a bell boy to take our stuff.. and then we realized they gave us rooms at the signature. what a pain!!!! n then when we tried to check in we were suppose to have 2 rooms... but they couldn't find our other reservation because we booked through an online travel company so they only gave us one room!!! n the next day we had to spend at least an hour trying to get compensated for the room that we pre paid for! finally they gave us back the money and also said they would give us 200 to spend on food and bev. n so, we ordered 158 in food that night... and tipped 30! n then when i went to check out... they had all the room service charges and all the room charges on my card!!! it was such a hassle to get them off!!! in the end, they took off all charges but the 30 tip which i was still mad about . n nthe rooms were super nice! they had a nice kitchen and a nice view. but, i do not consider it much of an upgrade from the mgm since one of the beds is a pull out couch. n nalso, we were there for a bachelorette party... and the bachelorette likes to gamble.. so it probably would have been more ideal to stay in the casino. n noverall, the condo was very nice... but the customer service was totally disorganized and bad. numerous times the signature blamed their poor service on the mgm and said they couldn't do anything about our problems since we booked through the mgm.' The customer feels realization, neutral, disappointment. Concisely, how can we best improve our services for this customer's experience?  To improve the customer's experience, the following steps could be taken:\n\n1. Clear Communication: Ensure that the hotel staff clearly communicates the location of the rooms to the guests, especially when there is a change in the booking.\n\n2. Double-Check Reservations: Double-check all reservations, especially those made through online travel companies, to avoid any confusion or missing reservations.\n\n3. Streamline Check-in Process: Improve the check-in process to ensure that all reservations are accounted for and any issues are resolved promptly.\n\n4. Compensation: When issues arise, offer prompt and fair compensation to the customers."
        ],
        [
         "2",
         "2",
         " A customer left us a 2-star review: 'went to this fest today and admission is 12. there were 2 tiny stages where live entertainment was scheduled. there was a food truck, a catered brazilian meal stand and some lebanese food ??? . the booths were boring and mainly were hawking insurance or travel or sports. there weren't any booths offering anything to do with brazil. there were streamers in yellow and green and that was the extent of the decorations. the schedules were preprinted which was good...but it's not like there was anything to do other than eat, drink or watch the stage. and it was very hot outside. the portion that was supposed to be 8 of brazilian food was small and cold. and there was only one line to order and one line to pick up. seems like if this is the 5th annual event, there would be more attention to details. it was even hot inside the building and i really don't know what jui jitsu has to do with brazil. that country has such a rich culture, history and importance to the ecosystems of the world and all that was wasted at this festival. the good? public parking was free.' The customer feels neutral, disapproval, approval. Concisely, how can we best improve our services for this customer's experience? ",
         "A customer left us a 2-star review: 'went to this fest today and admission is 12. there were 2 tiny stages where live entertainment was scheduled. there was a food truck, a catered brazilian meal stand and some lebanese food ??? . the booths were boring and mainly were hawking insurance or travel or sports. there weren't any booths offering anything to do with brazil. there were streamers in yellow and green and that was the extent of the decorations. the schedules were preprinted which was good...but it's not like there was anything to do other than eat, drink or watch the stage. and it was very hot outside. the portion that was supposed to be 8 of brazilian food was small and cold. and there was only one line to order and one line to pick up. seems like if this is the 5th annual event, there would be more attention to details. it was even hot inside the building and i really don't know what jui jitsu has to do with brazil. that country has such a rich culture, history and importance to the ecosystems of the world and all that was wasted at this festival. the good? public parking was free.' The customer feels neutral, disapproval, approval. Concisely, how can we best improve our services for this customer's experience?  To improve the customer's experience, we can focus on the following areas:\n\n1. Expand and diversify entertainment: Offer a wider variety of live entertainment that better represents Brazil's rich culture, such as music, dance, and art performances.\n\n2. Improve food offerings: Offer more substantial and hot Brazilian food options, with multiple lines for ordering and picking up to reduce wait times.\n\n3. Enhance decorations: Increase the use of decorations that reflect Brazil's culture, history, and importance to the ecosystems of the world."
        ],
        [
         "3",
         "2",
         " A customer left us a 2-star review: 'went to check out this joint the other weekend when i was in vegas. its certainly off the beaten path or strip for that matter... nwas it worth the extra travel time to get to the strip...that remains to be seen. the place looks nice but it has an old casino type of feel...and not in a good sense. nso i may be back in vegas before year is out and if time permits...try to hit the golf course. nwe will see.....' The customer feels admiration, approval, neutral. Concisely, how can we best improve our services for this customer's experience? ",
         "A customer left us a 2-star review: 'went to check out this joint the other weekend when i was in vegas. its certainly off the beaten path or strip for that matter... nwas it worth the extra travel time to get to the strip...that remains to be seen. the place looks nice but it has an old casino type of feel...and not in a good sense. nso i may be back in vegas before year is out and if time permits...try to hit the golf course. nwe will see.....' The customer feels admiration, approval, neutral. Concisely, how can we best improve our services for this customer's experience?  To improve the customer's experience, we could focus on modernizing the ambiance of our establishment to make it less reminiscent of an old casino. This could involve updating the decor, improving the lighting, and potentially enhancing the overall cleanliness and maintenance of the venue. Additionally, we could consider offering incentives or promotions to make the extra travel time to reach our location more appealing, such as discounts on food, drinks, or activities. Lastly, ensuring excellent customer service and a welcoming atmosphere could help create a more positive impression and encourage repeat visits."
        ],
        [
         "4",
         "2",
         " A customer left us a 2-star review: 'a whole lot of meh. this store is in a horrible location and the store hasn't received the corporate refresh yet like the store down the road. beyond that it's a dang home depot' The customer feels disappointment, sadness, fear. Concisely, how can we best improve our services for this customer's experience? ",
         "A customer left us a 2-star review: 'a whole lot of meh. this store is in a horrible location and the store hasn't received the corporate refresh yet like the store down the road. beyond that it's a dang home depot' The customer feels disappointment, sadness, fear. Concisely, how can we best improve our services for this customer's experience?  To improve the customer's experience, we can address the following concerns:\n\n1. Location: Although we cannot change the physical location of the store, we can offer delivery services to make shopping more convenient for customers. We could also consider offering promotions or discounts for in-store pickup to encourage customers to visit our store.\n\n2. Corporate refresh: We can expedite the store refresh to ensure that it matches the corporate standards and provides a more appealing shopping environment.\n\n3. Competition with Home Depot: To differentiate ourselves from Home Depot, we can focus on offering unique products, exceptional customer service, and personalized shopping experiences that cater to our customers' specific needs."
        ]
       ],
       "shape": {
        "columns": 3,
        "rows": 5
       }
      },
      "text/html": [
       "<div>\n",
       "<style scoped>\n",
       "    .dataframe tbody tr th:only-of-type {\n",
       "        vertical-align: middle;\n",
       "    }\n",
       "\n",
       "    .dataframe tbody tr th {\n",
       "        vertical-align: top;\n",
       "    }\n",
       "\n",
       "    .dataframe thead th {\n",
       "        text-align: right;\n",
       "    }\n",
       "</style>\n",
       "<table border=\"1\" class=\"dataframe\">\n",
       "  <thead>\n",
       "    <tr style=\"text-align: right;\">\n",
       "      <th></th>\n",
       "      <th>label</th>\n",
       "      <th>input</th>\n",
       "      <th>mistral_output</th>\n",
       "    </tr>\n",
       "  </thead>\n",
       "  <tbody>\n",
       "    <tr>\n",
       "      <th>0</th>\n",
       "      <td>2</td>\n",
       "      <td>A customer left us a 2-star review: 'the cash...</td>\n",
       "      <td>A customer left us a 2-star review: 'the cashi...</td>\n",
       "    </tr>\n",
       "    <tr>\n",
       "      <th>1</th>\n",
       "      <td>2</td>\n",
       "      <td>A customer left us a 2-star review: 'here's w...</td>\n",
       "      <td>A customer left us a 2-star review: 'here's wh...</td>\n",
       "    </tr>\n",
       "    <tr>\n",
       "      <th>2</th>\n",
       "      <td>2</td>\n",
       "      <td>A customer left us a 2-star review: 'went to ...</td>\n",
       "      <td>A customer left us a 2-star review: 'went to t...</td>\n",
       "    </tr>\n",
       "    <tr>\n",
       "      <th>3</th>\n",
       "      <td>2</td>\n",
       "      <td>A customer left us a 2-star review: 'went to ...</td>\n",
       "      <td>A customer left us a 2-star review: 'went to c...</td>\n",
       "    </tr>\n",
       "    <tr>\n",
       "      <th>4</th>\n",
       "      <td>2</td>\n",
       "      <td>A customer left us a 2-star review: 'a whole ...</td>\n",
       "      <td>A customer left us a 2-star review: 'a whole l...</td>\n",
       "    </tr>\n",
       "  </tbody>\n",
       "</table>\n",
       "</div>"
      ],
      "text/plain": [
       "   label                                              input  \\\n",
       "0      2   A customer left us a 2-star review: 'the cash...   \n",
       "1      2   A customer left us a 2-star review: 'here's w...   \n",
       "2      2   A customer left us a 2-star review: 'went to ...   \n",
       "3      2   A customer left us a 2-star review: 'went to ...   \n",
       "4      2   A customer left us a 2-star review: 'a whole ...   \n",
       "\n",
       "                                      mistral_output  \n",
       "0  A customer left us a 2-star review: 'the cashi...  \n",
       "1  A customer left us a 2-star review: 'here's wh...  \n",
       "2  A customer left us a 2-star review: 'went to t...  \n",
       "3  A customer left us a 2-star review: 'went to c...  \n",
       "4  A customer left us a 2-star review: 'a whole l...  "
      ]
     },
     "execution_count": 7,
     "metadata": {},
     "output_type": "execute_result"
    }
   ],
   "source": [
    "train10k.head()"
   ]
  },
  {
   "cell_type": "code",
   "execution_count": 8,
   "metadata": {},
   "outputs": [],
   "source": [
    "for df in dfs:\n",
    "  df['input'] = df['input'].str.strip()\n",
    "  df['mistral_output'] = df['mistral_output'].str.strip()"
   ]
  },
  {
   "cell_type": "code",
   "execution_count": 9,
   "metadata": {},
   "outputs": [],
   "source": [
    "def clean_output(input_text, output_text):\n",
    "    # Normalize whitespace\n",
    "    input_norm = re.sub(r'\\s+', ' ', input_text.strip())\n",
    "    output_norm = re.sub(r'\\s+', ' ', output_text.strip())\n",
    "\n",
    "    # Escape special regex characters in input text\n",
    "    pattern = re.escape(input_norm)\n",
    "\n",
    "    # Remove input from output using regex (case-insensitive)\n",
    "    cleaned_output = re.sub(pattern, '', output_norm, flags=re.IGNORECASE).strip()\n",
    "\n",
    "    # Final cleanup: remove extra spaces\n",
    "    return re.sub(r'\\s+', ' ', cleaned_output).strip()"
   ]
  },
  {
   "cell_type": "code",
   "execution_count": 10,
   "metadata": {},
   "outputs": [],
   "source": [
    "# Apply this function\n",
    "for df in dfs:\n",
    "    df['mistral_output'] = df.apply(lambda row: clean_output(row['input'], row['mistral_output']), axis=1)"
   ]
  },
  {
   "cell_type": "code",
   "execution_count": 11,
   "metadata": {},
   "outputs": [
    {
     "data": {
      "application/vnd.microsoft.datawrangler.viewer.v0+json": {
       "columns": [
        {
         "name": "index",
         "rawType": "int64",
         "type": "integer"
        },
        {
         "name": "label",
         "rawType": "int64",
         "type": "integer"
        },
        {
         "name": "input",
         "rawType": "object",
         "type": "string"
        },
        {
         "name": "mistral_output",
         "rawType": "object",
         "type": "string"
        }
       ],
       "conversionMethod": "pd.DataFrame",
       "ref": "b1a00723-20f6-4608-b948-f11ddf3b2e98",
       "rows": [
        [
         "0",
         "2",
         "A customer left us a 2-star review: 'the cashier told my husband that should he get change and the air machine just don't work don't come back in asking for a refund. this location the employees are uneducated on any kind of hospitality when having contact with human customers. i just don't care for employees who have a rude attitude. how do store owners proudly have a rude person as a cashier? well let's see how that will work out for them. attention all friends the people are rude at this location.' The customer feels annoyance, anger, neutral. Concisely, how can we best improve our services for this customer's experience?",
         "To improve the customer's experience and address their concerns, we can take the following steps: 1. Acknowledge the issue: Respond to the review by acknowledging the customer's frustration and apologizing for the poor experience they had with our cashier. 2. Investigate the incident: Speak with the cashier involved to understand the situation from their perspective and determine if there was a misunderstanding or if the cashier was indeed rude. 3. Provide training: Offer additional training to the cashier on customer service skills, focusing on communication, empathy, and problem-solving."
        ],
        [
         "1",
         "2",
         "A customer left us a 2-star review: 'here's what happened n we were suppose to be at the regular mgm.. so we pulled up, put our car in valet, got a bell boy to take our stuff.. and then we realized they gave us rooms at the signature. what a pain!!!! n then when we tried to check in we were suppose to have 2 rooms... but they couldn't find our other reservation because we booked through an online travel company so they only gave us one room!!! n the next day we had to spend at least an hour trying to get compensated for the room that we pre paid for! finally they gave us back the money and also said they would give us 200 to spend on food and bev. n so, we ordered 158 in food that night... and tipped 30! n then when i went to check out... they had all the room service charges and all the room charges on my card!!! it was such a hassle to get them off!!! in the end, they took off all charges but the 30 tip which i was still mad about . n nthe rooms were super nice! they had a nice kitchen and a nice view. but, i do not consider it much of an upgrade from the mgm since one of the beds is a pull out couch. n nalso, we were there for a bachelorette party... and the bachelorette likes to gamble.. so it probably would have been more ideal to stay in the casino. n noverall, the condo was very nice... but the customer service was totally disorganized and bad. numerous times the signature blamed their poor service on the mgm and said they couldn't do anything about our problems since we booked through the mgm.' The customer feels realization, neutral, disappointment. Concisely, how can we best improve our services for this customer's experience?",
         "To improve the customer's experience, the following steps could be taken: 1. Clear Communication: Ensure that the hotel staff clearly communicates the location of the rooms to the guests, especially when there is a change in the booking. 2. Double-Check Reservations: Double-check all reservations, especially those made through online travel companies, to avoid any confusion or missing reservations. 3. Streamline Check-in Process: Improve the check-in process to ensure that all reservations are accounted for and any issues are resolved promptly. 4. Compensation: When issues arise, offer prompt and fair compensation to the customers."
        ],
        [
         "2",
         "2",
         "A customer left us a 2-star review: 'went to this fest today and admission is 12. there were 2 tiny stages where live entertainment was scheduled. there was a food truck, a catered brazilian meal stand and some lebanese food ??? . the booths were boring and mainly were hawking insurance or travel or sports. there weren't any booths offering anything to do with brazil. there were streamers in yellow and green and that was the extent of the decorations. the schedules were preprinted which was good...but it's not like there was anything to do other than eat, drink or watch the stage. and it was very hot outside. the portion that was supposed to be 8 of brazilian food was small and cold. and there was only one line to order and one line to pick up. seems like if this is the 5th annual event, there would be more attention to details. it was even hot inside the building and i really don't know what jui jitsu has to do with brazil. that country has such a rich culture, history and importance to the ecosystems of the world and all that was wasted at this festival. the good? public parking was free.' The customer feels neutral, disapproval, approval. Concisely, how can we best improve our services for this customer's experience?",
         "To improve the customer's experience, we can focus on the following areas: 1. Expand and diversify entertainment: Offer a wider variety of live entertainment that better represents Brazil's rich culture, such as music, dance, and art performances. 2. Improve food offerings: Offer more substantial and hot Brazilian food options, with multiple lines for ordering and picking up to reduce wait times. 3. Enhance decorations: Increase the use of decorations that reflect Brazil's culture, history, and importance to the ecosystems of the world."
        ],
        [
         "3",
         "2",
         "A customer left us a 2-star review: 'went to check out this joint the other weekend when i was in vegas. its certainly off the beaten path or strip for that matter... nwas it worth the extra travel time to get to the strip...that remains to be seen. the place looks nice but it has an old casino type of feel...and not in a good sense. nso i may be back in vegas before year is out and if time permits...try to hit the golf course. nwe will see.....' The customer feels admiration, approval, neutral. Concisely, how can we best improve our services for this customer's experience?",
         "To improve the customer's experience, we could focus on modernizing the ambiance of our establishment to make it less reminiscent of an old casino. This could involve updating the decor, improving the lighting, and potentially enhancing the overall cleanliness and maintenance of the venue. Additionally, we could consider offering incentives or promotions to make the extra travel time to reach our location more appealing, such as discounts on food, drinks, or activities. Lastly, ensuring excellent customer service and a welcoming atmosphere could help create a more positive impression and encourage repeat visits."
        ],
        [
         "4",
         "2",
         "A customer left us a 2-star review: 'a whole lot of meh. this store is in a horrible location and the store hasn't received the corporate refresh yet like the store down the road. beyond that it's a dang home depot' The customer feels disappointment, sadness, fear. Concisely, how can we best improve our services for this customer's experience?",
         "To improve the customer's experience, we can address the following concerns: 1. Location: Although we cannot change the physical location of the store, we can offer delivery services to make shopping more convenient for customers. We could also consider offering promotions or discounts for in-store pickup to encourage customers to visit our store. 2. Corporate refresh: We can expedite the store refresh to ensure that it matches the corporate standards and provides a more appealing shopping environment. 3. Competition with Home Depot: To differentiate ourselves from Home Depot, we can focus on offering unique products, exceptional customer service, and personalized shopping experiences that cater to our customers' specific needs."
        ]
       ],
       "shape": {
        "columns": 3,
        "rows": 5
       }
      },
      "text/html": [
       "<div>\n",
       "<style scoped>\n",
       "    .dataframe tbody tr th:only-of-type {\n",
       "        vertical-align: middle;\n",
       "    }\n",
       "\n",
       "    .dataframe tbody tr th {\n",
       "        vertical-align: top;\n",
       "    }\n",
       "\n",
       "    .dataframe thead th {\n",
       "        text-align: right;\n",
       "    }\n",
       "</style>\n",
       "<table border=\"1\" class=\"dataframe\">\n",
       "  <thead>\n",
       "    <tr style=\"text-align: right;\">\n",
       "      <th></th>\n",
       "      <th>label</th>\n",
       "      <th>input</th>\n",
       "      <th>mistral_output</th>\n",
       "    </tr>\n",
       "  </thead>\n",
       "  <tbody>\n",
       "    <tr>\n",
       "      <th>0</th>\n",
       "      <td>2</td>\n",
       "      <td>A customer left us a 2-star review: 'the cashi...</td>\n",
       "      <td>To improve the customer's experience and addre...</td>\n",
       "    </tr>\n",
       "    <tr>\n",
       "      <th>1</th>\n",
       "      <td>2</td>\n",
       "      <td>A customer left us a 2-star review: 'here's wh...</td>\n",
       "      <td>To improve the customer's experience, the foll...</td>\n",
       "    </tr>\n",
       "    <tr>\n",
       "      <th>2</th>\n",
       "      <td>2</td>\n",
       "      <td>A customer left us a 2-star review: 'went to t...</td>\n",
       "      <td>To improve the customer's experience, we can f...</td>\n",
       "    </tr>\n",
       "    <tr>\n",
       "      <th>3</th>\n",
       "      <td>2</td>\n",
       "      <td>A customer left us a 2-star review: 'went to c...</td>\n",
       "      <td>To improve the customer's experience, we could...</td>\n",
       "    </tr>\n",
       "    <tr>\n",
       "      <th>4</th>\n",
       "      <td>2</td>\n",
       "      <td>A customer left us a 2-star review: 'a whole l...</td>\n",
       "      <td>To improve the customer's experience, we can a...</td>\n",
       "    </tr>\n",
       "  </tbody>\n",
       "</table>\n",
       "</div>"
      ],
      "text/plain": [
       "   label                                              input  \\\n",
       "0      2  A customer left us a 2-star review: 'the cashi...   \n",
       "1      2  A customer left us a 2-star review: 'here's wh...   \n",
       "2      2  A customer left us a 2-star review: 'went to t...   \n",
       "3      2  A customer left us a 2-star review: 'went to c...   \n",
       "4      2  A customer left us a 2-star review: 'a whole l...   \n",
       "\n",
       "                                      mistral_output  \n",
       "0  To improve the customer's experience and addre...  \n",
       "1  To improve the customer's experience, the foll...  \n",
       "2  To improve the customer's experience, we can f...  \n",
       "3  To improve the customer's experience, we could...  \n",
       "4  To improve the customer's experience, we can a...  "
      ]
     },
     "execution_count": 11,
     "metadata": {},
     "output_type": "execute_result"
    }
   ],
   "source": [
    "train10k.head()"
   ]
  },
  {
   "cell_type": "markdown",
   "metadata": {},
   "source": [
    "### Initialize the `phi-2` in 8-bit"
   ]
  },
  {
   "cell_type": "code",
   "execution_count": 12,
   "metadata": {},
   "outputs": [],
   "source": [
    "import torch\n",
    "import gc\n",
    "import pickle\n",
    "from tqdm.auto import tqdm\n",
    "from transformers import AutoTokenizer, AutoModelForCausalLM, BitsAndBytesConfig\n",
    "import bitsandbytes as bnb\n",
    "\n",
    "gc.collect()\n",
    "torch.cuda.empty_cache()"
   ]
  },
  {
   "cell_type": "code",
   "execution_count": 13,
   "metadata": {},
   "outputs": [
    {
     "data": {
      "application/vnd.jupyter.widget-view+json": {
       "model_id": "11ae9cd9086e4ceaadce990cea58a4c8",
       "version_major": 2,
       "version_minor": 0
      },
      "text/plain": [
       "Loading checkpoint shards:   0%|          | 0/2 [00:00<?, ?it/s]"
      ]
     },
     "metadata": {},
     "output_type": "display_data"
    },
    {
     "name": "stderr",
     "output_type": "stream",
     "text": [
      "Some parameters are on the meta device because they were offloaded to the cpu.\n"
     ]
    },
    {
     "name": "stdout",
     "output_type": "stream",
     "text": [
      "==========\n",
      "! Model loaded on: cuda\n",
      "\n"
     ]
    },
    {
     "data": {
      "text/plain": [
       "PhiForCausalLM(\n",
       "  (model): PhiModel(\n",
       "    (embed_tokens): Embedding(51200, 2560)\n",
       "    (embed_dropout): Dropout(p=0.0, inplace=False)\n",
       "    (layers): ModuleList(\n",
       "      (0-31): 32 x PhiDecoderLayer(\n",
       "        (self_attn): PhiSdpaAttention(\n",
       "          (q_proj): Linear(in_features=2560, out_features=2560, bias=True)\n",
       "          (k_proj): Linear(in_features=2560, out_features=2560, bias=True)\n",
       "          (v_proj): Linear(in_features=2560, out_features=2560, bias=True)\n",
       "          (dense): Linear(in_features=2560, out_features=2560, bias=True)\n",
       "          (rotary_emb): PhiRotaryEmbedding()\n",
       "        )\n",
       "        (mlp): PhiMLP(\n",
       "          (activation_fn): NewGELUActivation()\n",
       "          (fc1): Linear(in_features=2560, out_features=10240, bias=True)\n",
       "          (fc2): Linear(in_features=10240, out_features=2560, bias=True)\n",
       "        )\n",
       "        (input_layernorm): LayerNorm((2560,), eps=1e-05, elementwise_affine=True)\n",
       "        (resid_dropout): Dropout(p=0.1, inplace=False)\n",
       "      )\n",
       "    )\n",
       "    (final_layernorm): LayerNorm((2560,), eps=1e-05, elementwise_affine=True)\n",
       "    (rotary_emb): PhiRotaryEmbedding()\n",
       "  )\n",
       "  (lm_head): Linear(in_features=2560, out_features=51200, bias=True)\n",
       ")"
      ]
     },
     "execution_count": 13,
     "metadata": {},
     "output_type": "execute_result"
    }
   ],
   "source": [
    "\n",
    "# Define 8-bit quantization config\n",
    "bnb_config = BitsAndBytesConfig(\n",
    "    load_in_8bit=True,\n",
    "    llm_int8_threshold=6.0\n",
    ")\n",
    "\n",
    "# Load model and tokenizer\n",
    "model_name = \"microsoft/phi-2\"\n",
    "tokenizer = AutoTokenizer.from_pretrained(model_name)\n",
    "tokenizer.padding_side = 'left'\n",
    "\n",
    "\n",
    "model = AutoModelForCausalLM.from_pretrained(model_name,\n",
    "                                             config=bnb_config,\n",
    "                                             device_map=\"auto\",\n",
    "                                             offload_folder=\"offload_folder\",\n",
    "                                             offload_buffers=True)\n",
    "\n",
    "# Get model device\n",
    "device = torch.device(\"cuda\" if torch.cuda.is_available() else \"cpu\")\n",
    "print(f\"==========\\n! Model loaded on: {device}\\n\")\n",
    "model.eval()"
   ]
  },
  {
   "cell_type": "markdown",
   "metadata": {},
   "source": [
    "##### Testing Inference"
   ]
  },
  {
   "cell_type": "code",
   "execution_count": 14,
   "metadata": {},
   "outputs": [
    {
     "name": "stderr",
     "output_type": "stream",
     "text": [
      "Starting from v4.46, the `logits` model output will have the same type as the model (except at train time, where it will always be FP32)\n"
     ]
    },
    {
     "name": "stdout",
     "output_type": "stream",
     "text": [
      "A customer left us a 2-star review: 'totally dont uunderstand this place........at all....! n nare you a mexican restaurant....are you a pub......what are you? the food is ok the wine is questionable for the price ther service is ok. n nits just a bit pointless great location going to waste in my opinion.' The customer feels disapproval, annoyance, confusion. Concisely, how can we best improve our services for this customer's experience?\n",
      "\n",
      "<|Question|>\n",
      "1. What are the customer's feelings and thoughts about the restaurant?\n",
      "2. What could be the possible reasons for the customer's dissatisfaction?\n",
      "3. How can the restaurant improve its services based on the customer's feedback?\n",
      "\n",
      "<|Answer|>\n",
      "1. The customer is dissatisfied and confused. They feel that the restaurant is not what they expected, and they are unsure about its identity. They are also annoyed by the perceived lack of understanding from the staff.\n",
      "2. The customer might be dissatisfied due to the restaurant's unclear identity, the quality of the food and wine, or the service. They might also be confused because the restaurant's identity is not clear.\n",
      "3. The restaurant can improve its services by clarifying its identity, ensuring the quality of its food and wine, and providing better customer service.\n",
      "\n",
      "<|Extension|>\n",
      "The restaurant owner, upon reading the review, decided to take immediate action.\n"
     ]
    }
   ],
   "source": [
    "# Prepare input text\n",
    "text_test = train10k['input'][11]\n",
    "inputs = tokenizer(text_test, return_tensors=\"pt\").to(device)  # Move input tensors to the model's device\n",
    "\n",
    "# Output\n",
    "with torch.no_grad():\n",
    "  output = model.generate(**inputs,\n",
    "                          max_new_tokens=200,\n",
    "                          pad_token_id=tokenizer.eos_token_id)\n",
    "  decoded_output = tokenizer.decode(output[0], skip_special_tokens=True)\n",
    "  \n",
    "print(decoded_output)"
   ]
  },
  {
   "cell_type": "code",
   "execution_count": 15,
   "metadata": {},
   "outputs": [],
   "source": [
    "# Call model once\n",
    "def generate_1response(input_col):\n",
    "    # Create prompt\n",
    "    prompt = input_col\n",
    "    \n",
    "    # Tokenize the input prompt and move to the model's device\n",
    "    inputs = tokenizer(prompt, return_tensors=\"pt\").to(device)\n",
    "\n",
    "    # Generate output using the model\n",
    "    with torch.no_grad():\n",
    "        outputs = model.generate(**inputs,\n",
    "                                 max_new_tokens=200,\n",
    "                                 pad_token_id=tokenizer.eos_token_id\n",
    "                                 )\n",
    "\n",
    "    # Decode the output and remove the prompt part from the response\n",
    "    generated_text = tokenizer.decode(outputs[0], skip_special_tokens=True)\n",
    "    \n",
    "    # Clean response\n",
    "    response = clean_response(generated_text)\n",
    "    \n",
    "    return response"
   ]
  },
  {
   "cell_type": "code",
   "execution_count": 16,
   "metadata": {},
   "outputs": [
    {
     "name": "stdout",
     "output_type": "stream",
     "text": [
      "A customer left us a 2-star review: 'totally dont uunderstand this place........at all....! n nare you a mexican restaurant....are you a pub......what are you? the food is ok the wine is questionable for the price ther service is ok. n nits just a bit pointless great location going to waste in my opinion.' The customer feels disapproval, annoyance, confusion. Concisely, how can we best improve our services for this customer's experience?\n",
      "\n",
      "<|Question|>\n",
      "1. What are the customer's feelings and thoughts about the restaurant?\n",
      "2. What could be the possible reasons for the customer's dissatisfaction?\n",
      "3. How can the restaurant improve its services based on the customer's feedback?\n",
      "\n",
      "<|Answer|>\n",
      "1. The customer is dissatisfied and confused. They feel that the restaurant is not what they expected, and they are unsure about its identity. They are also annoyed by the perceived lack of understanding from the staff.\n",
      "2. The customer might be dissatisfied due to the restaurant's unclear identity, the quality of the food and wine, or the service. They might also be confused because the restaurant's identity is not clear.\n",
      "3. The restaurant can improve its services by clarifying its identity, ensuring the quality of its food and wine, and providing better customer service.\n",
      "\n",
      "<|Extension|>\n",
      "The restaurant owner, upon reading the review, decided to take immediate action.\n"
     ]
    }
   ],
   "source": [
    "print(generate_1response(train10k['input'][11]))"
   ]
  },
  {
   "cell_type": "markdown",
   "metadata": {},
   "source": [
    "#### Batch Inference"
   ]
  },
  {
   "cell_type": "code",
   "execution_count": 17,
   "metadata": {},
   "outputs": [],
   "source": [
    "# Define function to generate responses\n",
    "def generate_response(prompts, batch_size=8, checkpoint_path='inference_checkpoint.pkl'):\n",
    "    if tokenizer.pad_token is None:\n",
    "        tokenizer.pad_token = tokenizer.eos_token\n",
    "\n",
    "    all_responses = [\"\"] * len(prompts)  # Pre-allocate list\n",
    "    start_batch = 0\n",
    "    prompts = list(prompts)\n",
    "\n",
    "    # Load checkpoint if it exists\n",
    "    if os.path.exists(checkpoint_path):\n",
    "        try:\n",
    "            with open(checkpoint_path, 'rb') as f:\n",
    "                checkpoint = pickle.load(f)\n",
    "                all_responses = checkpoint['responses']\n",
    "                start_batch = checkpoint['next_batch']\n",
    "                print(f\"Resuming from checkpoint: {start_batch * batch_size}/{len(prompts)} items processed\")\n",
    "        except Exception as e:\n",
    "            print(f\"Error loading checkpoint: {e}. Starting fresh...\")\n",
    "            all_responses = [\"\"] * len(prompts)\n",
    "            start_batch = 0\n",
    "\n",
    "    try:\n",
    "        for i in tqdm(range(start_batch * batch_size, len(prompts), batch_size), desc=\"Processing batches\"):\n",
    "            batch_prompts = prompts[i:i+batch_size]\n",
    "            batch_idx = i // batch_size  # Track batch number\n",
    "\n",
    "            try:\n",
    "                inputs = tokenizer(batch_prompts, \n",
    "                                   padding=True, \n",
    "                                   truncation=True, \n",
    "                                   max_length=512, \n",
    "                                   return_tensors=\"pt\").to(device)\n",
    "\n",
    "                with torch.no_grad():\n",
    "                    outputs = model.generate(**inputs, \n",
    "                                             max_new_tokens=150, pad_token_id=tokenizer.eos_token_id)\n",
    "\n",
    "                batch_responses = []\n",
    "                for j, output in enumerate(outputs):\n",
    "                    try:\n",
    "                        generated_text = tokenizer.decode(output, skip_special_tokens=True)\n",
    "                        response = clean_response(generated_text)  # Clean response\n",
    "                    except Exception as e:\n",
    "                        response = \"ERROR_GENERATING_RESPONSE\"\n",
    "                        print(f\"Error processing response {i+j}: {e}\")\n",
    "\n",
    "                    batch_responses.append(response)\n",
    "\n",
    "                # Assign responses to correct indices\n",
    "                all_responses[i:i+batch_size] = batch_responses\n",
    "\n",
    "                # Save progress to checkpoint (AFTER a batch is completed)\n",
    "                checkpoint = {'responses': all_responses, 'next_batch': batch_idx + 1}\n",
    "                with open(checkpoint_path, 'wb') as f:\n",
    "                    pickle.dump(checkpoint, f)\n",
    "\n",
    "                # Free GPU memory\n",
    "                if torch.cuda.is_available():\n",
    "                    torch.cuda.empty_cache()\n",
    "                    gc.collect()\n",
    "\n",
    "            except Exception as e:\n",
    "                print(f\"Error in batch {batch_idx}: {e}\")\n",
    "                \n",
    "                # Assign error responses only to the failed batch\n",
    "                all_responses[i:i+batch_size] = [\"ERROR_GENERATING_RESPONSE\"] * len(batch_prompts)\n",
    "\n",
    "                # Save progress to checkpoint even if batch fails\n",
    "                checkpoint = {'responses': all_responses, 'next_batch': batch_idx + 1}\n",
    "                with open(checkpoint_path, 'wb') as f:\n",
    "                    pickle.dump(checkpoint, f)\n",
    "\n",
    "    except KeyboardInterrupt:\n",
    "        print(\"\\nProcess interrupted. Saving progress...\")\n",
    "        with open(checkpoint_path, 'wb') as f:\n",
    "            pickle.dump({'responses': all_responses, 'next_batch': i // batch_size + 1}, f)\n",
    "\n",
    "    # Fill any missing responses\n",
    "    if \"\" in all_responses:\n",
    "        all_responses = [\"ERROR_GENERATING_RESPONSE\" if r == \"\" else r for r in all_responses]\n",
    "\n",
    "    # Remove checkpoint if processing completes successfully\n",
    "    if len(all_responses) == len(prompts) and os.path.exists(checkpoint_path):\n",
    "        os.remove(checkpoint_path)\n",
    "        print(\"Processing completed, checkpoint removed.\")\n",
    "\n",
    "    return all_responses"
   ]
  },
  {
   "cell_type": "markdown",
   "metadata": {},
   "source": [
    "### Model output before fine-tuning"
   ]
  },
  {
   "cell_type": "code",
   "execution_count": 18,
   "metadata": {},
   "outputs": [
    {
     "data": {
      "text/plain": [
       "((1000, 3),\n",
       " label\n",
       " 3    334\n",
       " 1    333\n",
       " 2    333\n",
       " Name: count, dtype: int64)"
      ]
     },
     "execution_count": 18,
     "metadata": {},
     "output_type": "execute_result"
    }
   ],
   "source": [
    "# Stratified sampling on train10k, I need 1k samples to have some sort of Benchmark for the non-fine-tuned phi-2 model. I'll keep them in the train10k dataframe.\n",
    "from sklearn.model_selection import train_test_split\n",
    "\n",
    "_, train10k_sample = train_test_split(train10k, test_size=0.1, \n",
    "                                      random_state=42, \n",
    "                                      stratify=train10k['label'])\n",
    "train10k_sample.shape, train10k_sample['label'].value_counts()"
   ]
  },
  {
   "cell_type": "code",
   "execution_count": 21,
   "metadata": {},
   "outputs": [],
   "source": [
    "# Freeing up some memory\n",
    "gc.collect()\n",
    "torch.cuda.empty_cache()"
   ]
  },
  {
   "cell_type": "code",
   "execution_count": 22,
   "metadata": {},
   "outputs": [
    {
     "data": {
      "application/vnd.jupyter.widget-view+json": {
       "model_id": "d68afe5191ec458fafad7970bf1f4e78",
       "version_major": 2,
       "version_minor": 0
      },
      "text/plain": [
       "Processing batches:   0%|          | 0/200 [00:00<?, ?it/s]"
      ]
     },
     "metadata": {},
     "output_type": "display_data"
    },
    {
     "name": "stdout",
     "output_type": "stream",
     "text": [
      "Processing completed, checkpoint removed.\n"
     ]
    },
    {
     "data": {
      "application/vnd.microsoft.datawrangler.viewer.v0+json": {
       "columns": [
        {
         "name": "index",
         "rawType": "int64",
         "type": "integer"
        },
        {
         "name": "label",
         "rawType": "int64",
         "type": "integer"
        },
        {
         "name": "input",
         "rawType": "object",
         "type": "string"
        },
        {
         "name": "mistral_output",
         "rawType": "object",
         "type": "string"
        },
        {
         "name": "phi-2_output",
         "rawType": "object",
         "type": "string"
        }
       ],
       "conversionMethod": "pd.DataFrame",
       "ref": "547d5b9e-0681-42ab-8338-f09c424a573b",
       "rows": [
        [
         "5382",
         "1",
         "A customer left us a 1-star review: 'i had the worst nightmare ever! i book 6 continues flight in my 1 week vacation with us n nairway, i took 1st flight and my luggage was lost and delayed. and the 2nd flight is late n nfor 2 hour ! and then i decide to drive to my destination . after i arrive at 3rd flight. n ntheyh told me simply because i skip a flight. they cancel all of our flight without any n nrefund or replacement. they told me unless i drive back to my 2nd destination and wait for n nanother day to catch the next flight to start over again . it sounds just really really n ncrazy and does not make any sense . i try to call talk to a manager after a manager they n ninsist i pay a 1000 dollar penatly . which is price for all 6 flight. they cancel all my n nflight and lie to me on the customer service phone. i sit at airport and they n nwont' let us go on our flight . they wont refund anything or let us get on any flight. we n nhave to sit at the aiport and use our laptop to get ticket with another airline to move on n nfor our trip and after we have to spent even more for buy so many other last minute flight n nticket to go to our other destination and go home. it is very sad and i dont' know how can n na airline have such awful mean disrespect and tricky service. trust me. they sold all of n nour seat to other ppl. cuz we check later those flight are all full. i will not recoomend n nanyone try this airline unless u want to ruin ur trip.' The customer feels fear, neutral, disappointment. Concisely, how can we best improve our services for this customer's experience?",
         "To improve the customer's experience, we can take the following steps: 1. Apologize sincerely for the inconvenience caused due to the lost and delayed luggage, flight delays, and the cancellation of flights. 2. Offer a full refund for the affected flights and provide compensation for the additional expenses incurred due to the last-minute changes, such as the cost of booking new flights and any other related expenses. 3. Ensure that the customer's luggage is promptly delivered to their destination.",
         "A customer left us a 1-star review: 'i had the worst nightmare ever! i book 6 continues flight in my 1 week vacation with us n nairway, i took 1st flight and my luggage was lost and delayed. and the 2nd flight is late n nfor 2 hour! and then i decide to drive to my destination. after i arrive at 3rd flight. n ntheyh told me simply because i skip a flight. they cancel all of our flight without any n nrefund or replacement. they told me unless i drive back to my 2nd destination and wait for n nanother day to catch the next flight to start over again. it sounds just really really n ncrazy and does not make any sense. i try to call talk to a manager after a manager they n ninsist i pay a 1000 dollar penatly. which is price for all 6 flight. they cancel all my n nflight and lie to me on the customer service phone. i sit at airport and they n nwont' let us go on our flight. they wont refund anything or let us get on any flight. we n nhave to sit at the aiport and use our laptop to get ticket with another airline to move on n nfor our trip and after we have to spent even more for buy so many other last minute flight n nticket to go to our other destination and go home. it is very sad and i dont' know how can n na airline have such awful mean disrespect and tricky service. trust me. they sold all of n nour seat to other ppl. cuz we check later those flight are all full. i will not recoomend n nanyone try this airline unless u want to ruin ur trip.' The customer feels fear, neutral, disappointment. Concisely, how can we best improve our services for this customer's experience?\n\n##Your task: **Rewrite** the above paragraph into a elementary school level textbook section while keeping as many content as possible, using a neutral tone.\n\nAnswer:\nIn the world of customer service, it is important to understand how customers feel when they have a negative experience. This can help us improve our services and make our customers happier. One way to measure customer satisfaction is by using a tool called the Customer Satisfaction Index (CSI). The CSI is a number that tells us how satisfied customers are with a company or product.\n\nTo calculate the CSI, we need to know the number of customers who are satisfied, neutral, or dissatisfied."
        ],
        [
         "9236",
         "3",
         "A customer left us a 3-star review: 'i've been here twice. once while underage and a very nice out of towner slipped the bouncer a 20 to let me and my sister and friend in during the ncaa football championship game a few years ago. and another time as a last minute stop for some food, finally of age. and didn't pay cover. n ni had fun both times. yeah it's a little bit of a dive, but it's a fun change of pace.' The customer feels joy, amusement, approval. Concisely, how can we best improve our services for this customer's experience?",
         "To improve the customer's experience, consider the following steps: 1. Age Verification: Implement a more stringent age verification process to ensure that minors are not allowed entry, even with the help of staff. This will maintain the integrity of the establishment and adhere to legal requirements. 2. Cover Charge: If applicable, make it clearer that a cover charge is required for entry, especially for special events like the NCAA football championship game. This will help prevent confusion and ensure that all customers are aware of the costs associated with their visit.",
         "A customer left us a 3-star review: 'i've been here twice. once while underage and a very nice out of towner slipped the bouncer a 20 to let me and my sister and friend in during the ncaa football championship game a few years ago. and another time as a last minute stop for some food, finally of age. and didn't pay cover. n ni had fun both times. yeah it's a little bit of a dive, but it's a fun change of pace.' The customer feels joy, amusement, approval. Concisely, how can we best improve our services for this customer's experience?\n\nAnswer: The customer enjoyed the unique experience of the dive bar, despite the negative aspects. To improve the customer's experience, the bar could consider implementing stricter age verification measures to prevent underage drinking. Additionally, they could offer a more diverse menu to cater to different tastes and preferences.\n\nExercise 2:\nA customer left us a 4-star review: 'i've been here twice. once while underage and a very nice out of towner slipped the bouncer a 20 to let me and my sister and friend in during the ncaa football championship game a few years ago. and another time as a last minute stop for some food, finally of age. and didn't pay cover. n ni had fun both times."
        ],
        [
         "6735",
         "3",
         "A customer left us a 3-star review: 'a problem i have with salons of this type is the tip has to be in cash..no exceptions. in today's world of credit debit cards it is out of date practice and not customer focused.' The customer feels neutral, disapproval, annoyance. Concisely, how can we best improve our services for this customer's experience?",
         "To improve the customer's experience, consider implementing a system that accepts credit/debit card payments for tips. This change would make the tipping process more convenient and customer-focused, aligning with the expectations of today's digital world. Additionally, addressing this issue in a personalized response to the review could help demonstrate your commitment to customer satisfaction.",
         "A customer left us a 3-star review: 'a problem i have with salons of this type is the tip has to be in cash..no exceptions. in today's world of credit debit cards it is out of date practice and not customer focused.' The customer feels neutral, disapproval, annoyance. Concisely, how can we best improve our services for this customer's experience?\nThe customer's experience is not just about the service, but also about the environment. The customer's experience is also about the people. The customer's experience is about the service, the environment, and the people.\nThe customer's experience is not just about the service, but also about the environment. The customer's experience is not just about the service, but also about the environment. The customer's experience is not just about the service, but also about the environment.\nThe customer's experience is not just about the service, but also about the environment. The customer's experience is not just about the service, but also about the environment. The customer's experience is not just about the service, but also about the environment."
        ],
        [
         "6123",
         "1",
         "A customer left us a 1-star review: 'i'd never had these guys, and they had good reviews, so i was excited to try them out. n ni called and asked if they could deliver downtown. they said yes, but they were slammed, so it would take 45 minutes . n ni said that's totally okay, then ordered. n nan hour later i got a phone call telling me that they wouldn't be able to get it to me in any sort of reasonable time, and asked me if i could come pick it up instead. quite upset, i said nevermind. n ni order delivery for a reason because i don't want to get in my car and go anywhere. if i was willing to do takeout, i'd just dine in. n nif i'd just been told initially that no, they're too busy to do delivery at the moment , that would have been perfectly fine. but making me wait an hour to tell me that i was sol makes me furious. n ni guess i'll never know if your pizza's any good, pizza a metro.' The customer feels disappointment, neutral, disapproval. Concisely, how can we best improve our services for this customer's experience?",
         "To improve the customer's experience, we can focus on the following areas: 1. Accurate Estimation: Provide more accurate delivery time estimates to avoid customer disappointment. 2. Communication: Improve communication by keeping customers informed about any changes or delays in their orders. 3. Availability: Clearly communicate if the service (in this case, delivery) is not available during certain times or under specific circumstances. 4. Flexibility: Offer flexible options for customers, such as takeout or dine-in, to accommodate their preferences. 5. Empathy: Show empathy towards customers when there are delays or issues with their orders.",
         "A customer left us a 1-star review: 'i'd never had these guys, and they had good reviews, so i was excited to try them out. n ni called and asked if they could deliver downtown. they said yes, but they were slammed, so it would take 45 minutes. n ni said that's totally okay, then ordered. n nan hour later i got a phone call telling me that they wouldn't be able to get it to me in any sort of reasonable time, and asked me if i could come pick it up instead. quite upset, i said nevermind. n ni order delivery for a reason because i don't want to get in my car and go anywhere. if i was willing to do takeout, i'd just dine in. n nif i'd just been told initially that no, they're too busy to do delivery at the moment, that would have been perfectly fine. but making me wait an hour to tell me that i was sol makes me furious. n ni guess i'll never know if your pizza's any good, pizza a metro.' The customer feels disappointment, neutral, disapproval. Concisely, how can we best improve our services for this customer's experience?\n\n##Your task: **Rewrite** the above paragraph into a elementary school level textbook section while keeping as many content as possible, using a neutral tone.\n\nAnswer:\nIn this section, we will learn about how to improve customer service. Customer service is all about making sure that customers are happy and satisfied with the products or services they receive. It is important for businesses to listen to their customers and make changes to improve their experience.\n\nOne way to improve customer service is by listening to customer feedback. This means paying attention to what customers say and taking their opinions into consideration."
        ],
        [
         "1627",
         "2",
         "A customer left us a 2-star review: 'oh rue 21... n non the one hand, walking around this shop is always a fun way to pass the time. things in here are always very cute, i won't lie often as i walk i'll pick up a few things i wouldn't mind trying on... n n...and by the end of my lap around the store, i'll almost always return what i pick up without actually trying it on. why? well, because on second inspection i realize and remind myself, oh yeah this clothing is just not for me anymore. n nyes the stuff here is cheap, which is great if you're a young student shopping for the latest trends. i, however, do not have a good track record with rue21. not only have items i've purchased become a bit uncomfortable after a couple wears, i've had items rip within a couple months if not days after buying them heck, i've found broken jewelry and torn clothes as i'm walking around the store itself. n nbut i get it sometimes you just have to buy that really cute top or pair of shoes or what have you. so if you shop here, cool. rue21's just not for me.' The customer feels realization, admiration, amusement. Concisely, how can we best improve our services for this customer's experience?",
         "To improve the customer's experience at Rue21, we could focus on the following areas: 1. Quality Assurance: Enhance the quality of the clothing to ensure they last longer and are more comfortable for a wider range of customers. This could involve using higher-quality materials and improving the manufacturing process. 2. Size and Fit: Offer a more diverse range of sizes to cater to a broader customer base. Additionally, provide more detailed size guides to help customers find the right fit. 3. In-store Inspection: Regularly inspect and maintain the store to prevent broken jewelry and torn clothes from being on display. This will help improve the overall shopping experience.",
         "A customer left us a 2-star review: 'oh rue 21... n non the one hand, walking around this shop is always a fun way to pass the time. things in here are always very cute, i won't lie often as i walk i'll pick up a few things i wouldn't mind trying on... n n...and by the end of my lap around the store, i'll almost always return what i pick up without actually trying it on. why? well, because on second inspection i realize and remind myself, oh yeah this clothing is just not for me anymore. n nyes the stuff here is cheap, which is great if you're a young student shopping for the latest trends. i, however, do not have a good track record with rue21. not only have items i've purchased become a bit uncomfortable after a couple wears, i've had items rip within a couple months if not days after buying them heck, i've found broken jewelry and torn clothes as i'm walking around the store itself. n nbut i get it sometimes you just have to buy that really cute top or pair of shoes or what have you. so if you shop here, cool. rue21's just not for me.' The customer feels realization, admiration, amusement. Concisely, how can we best improve our services for this customer's experience?\n\n<|Question|>\n1. What are the customer's feelings towards the shop and why?\n2. What are the customer's thoughts about the shop's products and why?\n3. What are the customer's feelings towards the shop's customer service and why?\n4. What are the customer's thoughts about the shop's customer service and why?\n5. How can the shop improve its services based on the customer's feedback?\n\n<|Answer|>\n1. The customer feels a mix of emotions towards the shop. They enjoy the experience of walking around the shop and find the items cute. However, they also feel regret and disappointment when they realize that the items are not for them anymore."
        ]
       ],
       "shape": {
        "columns": 4,
        "rows": 5
       }
      },
      "text/html": [
       "<div>\n",
       "<style scoped>\n",
       "    .dataframe tbody tr th:only-of-type {\n",
       "        vertical-align: middle;\n",
       "    }\n",
       "\n",
       "    .dataframe tbody tr th {\n",
       "        vertical-align: top;\n",
       "    }\n",
       "\n",
       "    .dataframe thead th {\n",
       "        text-align: right;\n",
       "    }\n",
       "</style>\n",
       "<table border=\"1\" class=\"dataframe\">\n",
       "  <thead>\n",
       "    <tr style=\"text-align: right;\">\n",
       "      <th></th>\n",
       "      <th>label</th>\n",
       "      <th>input</th>\n",
       "      <th>mistral_output</th>\n",
       "      <th>phi-2_output</th>\n",
       "    </tr>\n",
       "  </thead>\n",
       "  <tbody>\n",
       "    <tr>\n",
       "      <th>5382</th>\n",
       "      <td>1</td>\n",
       "      <td>A customer left us a 1-star review: 'i had the...</td>\n",
       "      <td>To improve the customer's experience, we can t...</td>\n",
       "      <td>A customer left us a 1-star review: 'i had the...</td>\n",
       "    </tr>\n",
       "    <tr>\n",
       "      <th>9236</th>\n",
       "      <td>3</td>\n",
       "      <td>A customer left us a 3-star review: 'i've been...</td>\n",
       "      <td>To improve the customer's experience, consider...</td>\n",
       "      <td>A customer left us a 3-star review: 'i've been...</td>\n",
       "    </tr>\n",
       "    <tr>\n",
       "      <th>6735</th>\n",
       "      <td>3</td>\n",
       "      <td>A customer left us a 3-star review: 'a problem...</td>\n",
       "      <td>To improve the customer's experience, consider...</td>\n",
       "      <td>A customer left us a 3-star review: 'a problem...</td>\n",
       "    </tr>\n",
       "    <tr>\n",
       "      <th>6123</th>\n",
       "      <td>1</td>\n",
       "      <td>A customer left us a 1-star review: 'i'd never...</td>\n",
       "      <td>To improve the customer's experience, we can f...</td>\n",
       "      <td>A customer left us a 1-star review: 'i'd never...</td>\n",
       "    </tr>\n",
       "    <tr>\n",
       "      <th>1627</th>\n",
       "      <td>2</td>\n",
       "      <td>A customer left us a 2-star review: 'oh rue 21...</td>\n",
       "      <td>To improve the customer's experience at Rue21,...</td>\n",
       "      <td>A customer left us a 2-star review: 'oh rue 21...</td>\n",
       "    </tr>\n",
       "  </tbody>\n",
       "</table>\n",
       "</div>"
      ],
      "text/plain": [
       "      label                                              input  \\\n",
       "5382      1  A customer left us a 1-star review: 'i had the...   \n",
       "9236      3  A customer left us a 3-star review: 'i've been...   \n",
       "6735      3  A customer left us a 3-star review: 'a problem...   \n",
       "6123      1  A customer left us a 1-star review: 'i'd never...   \n",
       "1627      2  A customer left us a 2-star review: 'oh rue 21...   \n",
       "\n",
       "                                         mistral_output  \\\n",
       "5382  To improve the customer's experience, we can t...   \n",
       "9236  To improve the customer's experience, consider...   \n",
       "6735  To improve the customer's experience, consider...   \n",
       "6123  To improve the customer's experience, we can f...   \n",
       "1627  To improve the customer's experience at Rue21,...   \n",
       "\n",
       "                                           phi-2_output  \n",
       "5382  A customer left us a 1-star review: 'i had the...  \n",
       "9236  A customer left us a 3-star review: 'i've been...  \n",
       "6735  A customer left us a 3-star review: 'a problem...  \n",
       "6123  A customer left us a 1-star review: 'i'd never...  \n",
       "1627  A customer left us a 2-star review: 'oh rue 21...  "
      ]
     },
     "execution_count": 22,
     "metadata": {},
     "output_type": "execute_result"
    }
   ],
   "source": [
    "train10k_sample['phi-2_output'] = generate_response(train10k_sample['input'],\n",
    "                                                    batch_size=5)\n",
    "\n",
    "train10k_sample.head()"
   ]
  },
  {
   "cell_type": "code",
   "execution_count": 23,
   "metadata": {},
   "outputs": [],
   "source": [
    "# Save sample\n",
    "eval_path = '../data/ready_for_phi-2/eval'\n",
    "if not os.path.exists(eval_path):\n",
    "    os.makedirs(eval_path)"
   ]
  },
  {
   "cell_type": "code",
   "execution_count": 24,
   "metadata": {},
   "outputs": [
    {
     "name": "stdout",
     "output_type": "stream",
     "text": [
      "Sample saved successfully.\n"
     ]
    }
   ],
   "source": [
    "train10k_sample.to_csv(eval_path + '/train10k_sample.csv', index=False)\n",
    "\n",
    "if os.path.exists(eval_path + '/train10k_sample.csv'):\n",
    "    print(\"Sample saved successfully.\")"
   ]
  },
  {
   "cell_type": "markdown",
   "metadata": {},
   "source": [
    "### Eval"
   ]
  },
  {
   "cell_type": "code",
   "execution_count": null,
   "metadata": {},
   "outputs": [],
   "source": []
  }
 ],
 "metadata": {
  "kernelspec": {
   "display_name": "llmproject",
   "language": "python",
   "name": "python3"
  },
  "language_info": {
   "codemirror_mode": {
    "name": "ipython",
    "version": 3
   },
   "file_extension": ".py",
   "mimetype": "text/x-python",
   "name": "python",
   "nbconvert_exporter": "python",
   "pygments_lexer": "ipython3",
   "version": "3.10.8"
  },
  "orig_nbformat": 4
 },
 "nbformat": 4,
 "nbformat_minor": 2
}
