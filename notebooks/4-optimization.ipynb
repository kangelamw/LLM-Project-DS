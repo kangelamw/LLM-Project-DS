{
 "cells": [
  {
   "cell_type": "markdown",
   "metadata": {},
   "source": [
    "## Model Fine-tuning and Optimization"
   ]
  },
  {
   "cell_type": "code",
   "execution_count": null,
   "metadata": {},
   "outputs": [],
   "source": [
    "# Imports\n",
    "import os\n",
    "import re\n",
    "import pandas as pd\n",
    "import numpy as np\n",
    "from functions import *\n",
    "\n",
    "import torch\n",
    "import gc\n",
    "import pickle\n",
    "from tqdm.auto import tqdm\n",
    "from transformers import AutoTokenizer, AutoModelForCausalLM, BitsAndBytesConfig, Trainer, TrainingArguments\n",
    "import bitsandbytes as bnb\n",
    "from datasets import Dataset\n",
    "\n",
    "# Load data\n",
    "data = '../data/ready_for_phi-2/'\n",
    "\n",
    "print(os.path.exists(data))\n",
    "print(os.listdir(data))\n",
    "\n",
    "from peft import prepare_model_for_kbit_training, LoraConfig, get_peft_model\n",
    "import evaluate"
   ]
  },
  {
   "cell_type": "markdown",
   "metadata": {},
   "source": [
    "#### Loading"
   ]
  },
  {
   "cell_type": "code",
   "execution_count": 34,
   "metadata": {},
   "outputs": [
    {
     "data": {
      "text/plain": [
       "((9999, 3), (4998, 3), (1998, 3), (999, 3))"
      ]
     },
     "execution_count": 34,
     "metadata": {},
     "output_type": "execute_result"
    }
   ],
   "source": [
    "# Load\n",
    "train10k = pd.read_csv(data + 'train_01.csv')\n",
    "train5k = pd.read_csv(data + 'train_02.csv')\n",
    "\n",
    "test2k = pd.read_csv(data + 'test_01.csv')\n",
    "test1k = pd.read_csv(data + 'test_02.csv')\n",
    "\n",
    "train10k_benchmark = pd.read_csv(data + 'eval/' + 'train10k_sample.csv')\n",
    "\n",
    "# ===================== #\n",
    "# Selecting only the columns we need for fine-tuning\n",
    "# ===================== #\n",
    "\n",
    "# 15k training samples\n",
    "train10k = train10k[['label', 'prompt', 'response']]\n",
    "train5k = train5k[['label', 'prompt', 'response']]\n",
    "\n",
    "# 3k test samples\n",
    "test2k = test2k[['label', 'prompt', 'response']]\n",
    "test1k = test1k[['label', 'prompt', 'response']]\n",
    "\n",
    "# Rename columns\n",
    "train10k.columns = ['label', 'input', 'mistral_output']\n",
    "train5k.columns = ['label', 'input', 'mistral_output']\n",
    "test2k.columns = ['label', 'input', 'mistral_output']\n",
    "test1k.columns = ['label', 'input', 'mistral_output']\n",
    "\n",
    "train10k.shape, train5k.shape, test2k.shape, test1k.shape"
   ]
  },
  {
   "cell_type": "code",
   "execution_count": 4,
   "metadata": {},
   "outputs": [
    {
     "data": {
      "text/plain": [
       "Index(['label', 'input', 'mistral_output'], dtype='object')"
      ]
     },
     "execution_count": 4,
     "metadata": {},
     "output_type": "execute_result"
    }
   ],
   "source": [
    "train10k.columns"
   ]
  },
  {
   "cell_type": "code",
   "execution_count": 5,
   "metadata": {},
   "outputs": [],
   "source": [
    "dfs = [train10k, train5k, test2k, test1k]\n",
    "\n",
    "for df in dfs:\n",
    "  df['mistral_output'] = df.apply(lambda row: clean_output(row['input'], row['mistral_output']), axis=1)"
   ]
  },
  {
   "cell_type": "code",
   "execution_count": 6,
   "metadata": {},
   "outputs": [],
   "source": [
    "for df in dfs:\n",
    "  df['input'] = df['input'].str.replace('[INST]', '')\n",
    "  df['input'] = df['input'].str.replace('[/INST]', '')"
   ]
  },
  {
   "cell_type": "code",
   "execution_count": 7,
   "metadata": {},
   "outputs": [
    {
     "data": {
      "application/vnd.microsoft.datawrangler.viewer.v0+json": {
       "columns": [
        {
         "name": "index",
         "rawType": "int64",
         "type": "integer"
        },
        {
         "name": "label",
         "rawType": "int64",
         "type": "integer"
        },
        {
         "name": "input",
         "rawType": "object",
         "type": "string"
        },
        {
         "name": "mistral_output",
         "rawType": "object",
         "type": "string"
        }
       ],
       "conversionMethod": "pd.DataFrame",
       "ref": "19e4222e-2afe-4cec-9c5e-320c2a46f29e",
       "rows": [
        [
         "0",
         "2",
         " A customer left us a 2-star review: 'the cashier told my husband that should he get change and the air machine just don't work don't come back in asking for a refund. this location the employees are uneducated on any kind of hospitality when having contact with human customers. i just don't care for employees who have a rude attitude. how do store owners proudly have a rude person as a cashier? well let's see how that will work out for them. attention all friends the people are rude at this location.' The customer feels annoyance, anger, neutral. Concisely, how can we best improve our services for this customer's experience? ",
         "A customer left us a 2-star review: 'the cashier told my husband that should he get change and the air machine just don't work don't come back in asking for a refund. this location the employees are uneducated on any kind of hospitality when having contact with human customers. i just don't care for employees who have a rude attitude. how do store owners proudly have a rude person as a cashier? well let's see how that will work out for them. attention all friends the people are rude at this location.' The customer feels annoyance, anger, neutral. Concisely, how can we best improve our services for this customer's experience? To improve the customer's experience and address their concerns, we can take the following steps: 1. Acknowledge the issue: Respond to the review by acknowledging the customer's frustration and apologizing for the poor experience they had with our cashier. 2. Investigate the incident: Speak with the cashier involved to understand the situation from their perspective and determine if there was a misunderstanding or if the cashier was indeed rude. 3. Provide training: Offer additional training to the cashier on customer service skills, focusing on communication, empathy, and problem-solving."
        ],
        [
         "1",
         "2",
         " A customer left us a 2-star review: 'here's what happened n we were suppose to be at the regular mgm.. so we pulled up, put our car in valet, got a bell boy to take our stuff.. and then we realized they gave us rooms at the signature. what a pain!!!! n then when we tried to check in we were suppose to have 2 rooms... but they couldn't find our other reservation because we booked through an online travel company so they only gave us one room!!! n the next day we had to spend at least an hour trying to get compensated for the room that we pre paid for! finally they gave us back the money and also said they would give us 200 to spend on food and bev. n so, we ordered 158 in food that night... and tipped 30! n then when i went to check out... they had all the room service charges and all the room charges on my card!!! it was such a hassle to get them off!!! in the end, they took off all charges but the 30 tip which i was still mad about . n nthe rooms were super nice! they had a nice kitchen and a nice view. but, i do not consider it much of an upgrade from the mgm since one of the beds is a pull out couch. n nalso, we were there for a bachelorette party... and the bachelorette likes to gamble.. so it probably would have been more ideal to stay in the casino. n noverall, the condo was very nice... but the customer service was totally disorganized and bad. numerous times the signature blamed their poor service on the mgm and said they couldn't do anything about our problems since we booked through the mgm.' The customer feels realization, neutral, disappointment. Concisely, how can we best improve our services for this customer's experience? ",
         "A customer left us a 2-star review: 'here's what happened n we were suppose to be at the regular mgm.. so we pulled up, put our car in valet, got a bell boy to take our stuff.. and then we realized they gave us rooms at the signature. what a pain!!!! n then when we tried to check in we were suppose to have 2 rooms... but they couldn't find our other reservation because we booked through an online travel company so they only gave us one room!!! n the next day we had to spend at least an hour trying to get compensated for the room that we pre paid for! finally they gave us back the money and also said they would give us 200 to spend on food and bev. n so, we ordered 158 in food that night... and tipped 30! n then when i went to check out... they had all the room service charges and all the room charges on my card!!! it was such a hassle to get them off!!! in the end, they took off all charges but the 30 tip which i was still mad about . n nthe rooms were super nice! they had a nice kitchen and a nice view. but, i do not consider it much of an upgrade from the mgm since one of the beds is a pull out couch. n nalso, we were there for a bachelorette party... and the bachelorette likes to gamble.. so it probably would have been more ideal to stay in the casino. n noverall, the condo was very nice... but the customer service was totally disorganized and bad. numerous times the signature blamed their poor service on the mgm and said they couldn't do anything about our problems since we booked through the mgm.' The customer feels realization, neutral, disappointment. Concisely, how can we best improve our services for this customer's experience? To improve the customer's experience, the following steps could be taken: 1. Clear Communication: Ensure that the hotel staff clearly communicates the location of the rooms to the guests, especially when there is a change in the booking. 2. Double-Check Reservations: Double-check all reservations, especially those made through online travel companies, to avoid any confusion or missing reservations. 3. Streamline Check-in Process: Improve the check-in process to ensure that all reservations are accounted for and any issues are resolved promptly. 4. Compensation: When issues arise, offer prompt and fair compensation to the customers."
        ],
        [
         "2",
         "2",
         " A customer left us a 2-star review: 'went to this fest today and admission is 12. there were 2 tiny stages where live entertainment was scheduled. there was a food truck, a catered brazilian meal stand and some lebanese food ??? . the booths were boring and mainly were hawking insurance or travel or sports. there weren't any booths offering anything to do with brazil. there were streamers in yellow and green and that was the extent of the decorations. the schedules were preprinted which was good...but it's not like there was anything to do other than eat, drink or watch the stage. and it was very hot outside. the portion that was supposed to be 8 of brazilian food was small and cold. and there was only one line to order and one line to pick up. seems like if this is the 5th annual event, there would be more attention to details. it was even hot inside the building and i really don't know what jui jitsu has to do with brazil. that country has such a rich culture, history and importance to the ecosystems of the world and all that was wasted at this festival. the good? public parking was free.' The customer feels neutral, disapproval, approval. Concisely, how can we best improve our services for this customer's experience? ",
         "A customer left us a 2-star review: 'went to this fest today and admission is 12. there were 2 tiny stages where live entertainment was scheduled. there was a food truck, a catered brazilian meal stand and some lebanese food ??? . the booths were boring and mainly were hawking insurance or travel or sports. there weren't any booths offering anything to do with brazil. there were streamers in yellow and green and that was the extent of the decorations. the schedules were preprinted which was good...but it's not like there was anything to do other than eat, drink or watch the stage. and it was very hot outside. the portion that was supposed to be 8 of brazilian food was small and cold. and there was only one line to order and one line to pick up. seems like if this is the 5th annual event, there would be more attention to details. it was even hot inside the building and i really don't know what jui jitsu has to do with brazil. that country has such a rich culture, history and importance to the ecosystems of the world and all that was wasted at this festival. the good? public parking was free.' The customer feels neutral, disapproval, approval. Concisely, how can we best improve our services for this customer's experience? To improve the customer's experience, we can focus on the following areas: 1. Expand and diversify entertainment: Offer a wider variety of live entertainment that better represents Brazil's rich culture, such as music, dance, and art performances. 2. Improve food offerings: Offer more substantial and hot Brazilian food options, with multiple lines for ordering and picking up to reduce wait times. 3. Enhance decorations: Increase the use of decorations that reflect Brazil's culture, history, and importance to the ecosystems of the world."
        ],
        [
         "3",
         "2",
         " A customer left us a 2-star review: 'went to check out this joint the other weekend when i was in vegas. its certainly off the beaten path or strip for that matter... nwas it worth the extra travel time to get to the strip...that remains to be seen. the place looks nice but it has an old casino type of feel...and not in a good sense. nso i may be back in vegas before year is out and if time permits...try to hit the golf course. nwe will see.....' The customer feels admiration, approval, neutral. Concisely, how can we best improve our services for this customer's experience? ",
         "A customer left us a 2-star review: 'went to check out this joint the other weekend when i was in vegas. its certainly off the beaten path or strip for that matter... nwas it worth the extra travel time to get to the strip...that remains to be seen. the place looks nice but it has an old casino type of feel...and not in a good sense. nso i may be back in vegas before year is out and if time permits...try to hit the golf course. nwe will see.....' The customer feels admiration, approval, neutral. Concisely, how can we best improve our services for this customer's experience? To improve the customer's experience, we could focus on modernizing the ambiance of our establishment to make it less reminiscent of an old casino. This could involve updating the decor, improving the lighting, and potentially enhancing the overall cleanliness and maintenance of the venue. Additionally, we could consider offering incentives or promotions to make the extra travel time to reach our location more appealing, such as discounts on food, drinks, or activities. Lastly, ensuring excellent customer service and a welcoming atmosphere could help create a more positive impression and encourage repeat visits."
        ],
        [
         "4",
         "2",
         " A customer left us a 2-star review: 'a whole lot of meh. this store is in a horrible location and the store hasn't received the corporate refresh yet like the store down the road. beyond that it's a dang home depot' The customer feels disappointment, sadness, fear. Concisely, how can we best improve our services for this customer's experience? ",
         "A customer left us a 2-star review: 'a whole lot of meh. this store is in a horrible location and the store hasn't received the corporate refresh yet like the store down the road. beyond that it's a dang home depot' The customer feels disappointment, sadness, fear. Concisely, how can we best improve our services for this customer's experience? To improve the customer's experience, we can address the following concerns: 1. Location: Although we cannot change the physical location of the store, we can offer delivery services to make shopping more convenient for customers. We could also consider offering promotions or discounts for in-store pickup to encourage customers to visit our store. 2. Corporate refresh: We can expedite the store refresh to ensure that it matches the corporate standards and provides a more appealing shopping environment. 3. Competition with Home Depot: To differentiate ourselves from Home Depot, we can focus on offering unique products, exceptional customer service, and personalized shopping experiences that cater to our customers' specific needs."
        ]
       ],
       "shape": {
        "columns": 3,
        "rows": 5
       }
      },
      "text/html": [
       "<div>\n",
       "<style scoped>\n",
       "    .dataframe tbody tr th:only-of-type {\n",
       "        vertical-align: middle;\n",
       "    }\n",
       "\n",
       "    .dataframe tbody tr th {\n",
       "        vertical-align: top;\n",
       "    }\n",
       "\n",
       "    .dataframe thead th {\n",
       "        text-align: right;\n",
       "    }\n",
       "</style>\n",
       "<table border=\"1\" class=\"dataframe\">\n",
       "  <thead>\n",
       "    <tr style=\"text-align: right;\">\n",
       "      <th></th>\n",
       "      <th>label</th>\n",
       "      <th>input</th>\n",
       "      <th>mistral_output</th>\n",
       "    </tr>\n",
       "  </thead>\n",
       "  <tbody>\n",
       "    <tr>\n",
       "      <th>0</th>\n",
       "      <td>2</td>\n",
       "      <td>A customer left us a 2-star review: 'the cash...</td>\n",
       "      <td>A customer left us a 2-star review: 'the cashi...</td>\n",
       "    </tr>\n",
       "    <tr>\n",
       "      <th>1</th>\n",
       "      <td>2</td>\n",
       "      <td>A customer left us a 2-star review: 'here's w...</td>\n",
       "      <td>A customer left us a 2-star review: 'here's wh...</td>\n",
       "    </tr>\n",
       "    <tr>\n",
       "      <th>2</th>\n",
       "      <td>2</td>\n",
       "      <td>A customer left us a 2-star review: 'went to ...</td>\n",
       "      <td>A customer left us a 2-star review: 'went to t...</td>\n",
       "    </tr>\n",
       "    <tr>\n",
       "      <th>3</th>\n",
       "      <td>2</td>\n",
       "      <td>A customer left us a 2-star review: 'went to ...</td>\n",
       "      <td>A customer left us a 2-star review: 'went to c...</td>\n",
       "    </tr>\n",
       "    <tr>\n",
       "      <th>4</th>\n",
       "      <td>2</td>\n",
       "      <td>A customer left us a 2-star review: 'a whole ...</td>\n",
       "      <td>A customer left us a 2-star review: 'a whole l...</td>\n",
       "    </tr>\n",
       "  </tbody>\n",
       "</table>\n",
       "</div>"
      ],
      "text/plain": [
       "   label                                              input  \\\n",
       "0      2   A customer left us a 2-star review: 'the cash...   \n",
       "1      2   A customer left us a 2-star review: 'here's w...   \n",
       "2      2   A customer left us a 2-star review: 'went to ...   \n",
       "3      2   A customer left us a 2-star review: 'went to ...   \n",
       "4      2   A customer left us a 2-star review: 'a whole ...   \n",
       "\n",
       "                                      mistral_output  \n",
       "0  A customer left us a 2-star review: 'the cashi...  \n",
       "1  A customer left us a 2-star review: 'here's wh...  \n",
       "2  A customer left us a 2-star review: 'went to t...  \n",
       "3  A customer left us a 2-star review: 'went to c...  \n",
       "4  A customer left us a 2-star review: 'a whole l...  "
      ]
     },
     "execution_count": 7,
     "metadata": {},
     "output_type": "execute_result"
    }
   ],
   "source": [
    "train10k.head()"
   ]
  },
  {
   "cell_type": "code",
   "execution_count": 8,
   "metadata": {},
   "outputs": [],
   "source": [
    "# Saving\n",
    "fine_tuning_data = '../data/for_step_4/'\n",
    "\n",
    "if not os.path.exists(fine_tuning_data):\n",
    "  os.makedirs(fine_tuning_data)"
   ]
  },
  {
   "cell_type": "code",
   "execution_count": 9,
   "metadata": {},
   "outputs": [
    {
     "name": "stdout",
     "output_type": "stream",
     "text": [
      "File 1 saved successfully!\n",
      "File 2 saved successfully!\n",
      "File 3 saved successfully!\n",
      "File 4 saved successfully!\n"
     ]
    }
   ],
   "source": [
    "train10k.to_csv(fine_tuning_data + 'train10k.csv', index=False)\n",
    "train5k.to_csv(fine_tuning_data + 'train5k.csv', index=False)\n",
    "test2k.to_csv(fine_tuning_data + 'test2k.csv', index=False)\n",
    "test1k.to_csv(fine_tuning_data + 'test1k.csv', index=False)\n",
    "\n",
    "if fine_tuning_data + 'train10k.csv':\n",
    "  print('File 1 saved successfully!')\n",
    "if fine_tuning_data + 'train5k.csv':\n",
    "  print('File 2 saved successfully!')\n",
    "if fine_tuning_data + 'test2k.csv':\n",
    "  print('File 3 saved successfully!')\n",
    "if fine_tuning_data + 'test1k.csv':\n",
    "  print('File 4 saved successfully!')"
   ]
  },
  {
   "cell_type": "markdown",
   "metadata": {},
   "source": [
    "### Model"
   ]
  },
  {
   "cell_type": "code",
   "execution_count": null,
   "metadata": {},
   "outputs": [
    {
     "data": {
      "application/vnd.jupyter.widget-view+json": {
       "model_id": "7c0996e6c23343ad8eeffe29f00e905e",
       "version_major": 2,
       "version_minor": 0
      },
      "text/plain": [
       "Loading checkpoint shards:   0%|          | 0/2 [00:00<?, ?it/s]"
      ]
     },
     "metadata": {},
     "output_type": "display_data"
    },
    {
     "name": "stdout",
     "output_type": "stream",
     "text": [
      "==========\n",
      "! Model loaded on: cuda\n",
      "\n"
     ]
    },
    {
     "data": {
      "text/plain": [
       "PeftModelForCausalLM(\n",
       "  (base_model): LoraModel(\n",
       "    (model): PhiForCausalLM(\n",
       "      (model): PhiModel(\n",
       "        (embed_tokens): Embedding(51200, 2560)\n",
       "        (embed_dropout): Dropout(p=0.0, inplace=False)\n",
       "        (layers): ModuleList(\n",
       "          (0-31): 32 x PhiDecoderLayer(\n",
       "            (self_attn): PhiSdpaAttention(\n",
       "              (q_proj): lora.Linear4bit(\n",
       "                (base_layer): Linear4bit(in_features=2560, out_features=2560, bias=True)\n",
       "                (lora_dropout): ModuleDict(\n",
       "                  (default): Dropout(p=0.05, inplace=False)\n",
       "                )\n",
       "                (lora_A): ModuleDict(\n",
       "                  (default): Linear(in_features=2560, out_features=8, bias=False)\n",
       "                )\n",
       "                (lora_B): ModuleDict(\n",
       "                  (default): Linear(in_features=8, out_features=2560, bias=False)\n",
       "                )\n",
       "                (lora_embedding_A): ParameterDict()\n",
       "                (lora_embedding_B): ParameterDict()\n",
       "                (lora_magnitude_vector): ModuleDict()\n",
       "              )\n",
       "              (k_proj): lora.Linear4bit(\n",
       "                (base_layer): Linear4bit(in_features=2560, out_features=2560, bias=True)\n",
       "                (lora_dropout): ModuleDict(\n",
       "                  (default): Dropout(p=0.05, inplace=False)\n",
       "                )\n",
       "                (lora_A): ModuleDict(\n",
       "                  (default): Linear(in_features=2560, out_features=8, bias=False)\n",
       "                )\n",
       "                (lora_B): ModuleDict(\n",
       "                  (default): Linear(in_features=8, out_features=2560, bias=False)\n",
       "                )\n",
       "                (lora_embedding_A): ParameterDict()\n",
       "                (lora_embedding_B): ParameterDict()\n",
       "                (lora_magnitude_vector): ModuleDict()\n",
       "              )\n",
       "              (v_proj): lora.Linear4bit(\n",
       "                (base_layer): Linear4bit(in_features=2560, out_features=2560, bias=True)\n",
       "                (lora_dropout): ModuleDict(\n",
       "                  (default): Dropout(p=0.05, inplace=False)\n",
       "                )\n",
       "                (lora_A): ModuleDict(\n",
       "                  (default): Linear(in_features=2560, out_features=8, bias=False)\n",
       "                )\n",
       "                (lora_B): ModuleDict(\n",
       "                  (default): Linear(in_features=8, out_features=2560, bias=False)\n",
       "                )\n",
       "                (lora_embedding_A): ParameterDict()\n",
       "                (lora_embedding_B): ParameterDict()\n",
       "                (lora_magnitude_vector): ModuleDict()\n",
       "              )\n",
       "              (dense): Linear4bit(in_features=2560, out_features=2560, bias=True)\n",
       "              (rotary_emb): PhiRotaryEmbedding()\n",
       "            )\n",
       "            (mlp): PhiMLP(\n",
       "              (activation_fn): NewGELUActivation()\n",
       "              (fc1): lora.Linear4bit(\n",
       "                (base_layer): Linear4bit(in_features=2560, out_features=10240, bias=True)\n",
       "                (lora_dropout): ModuleDict(\n",
       "                  (default): Dropout(p=0.05, inplace=False)\n",
       "                )\n",
       "                (lora_A): ModuleDict(\n",
       "                  (default): Linear(in_features=2560, out_features=8, bias=False)\n",
       "                )\n",
       "                (lora_B): ModuleDict(\n",
       "                  (default): Linear(in_features=8, out_features=10240, bias=False)\n",
       "                )\n",
       "                (lora_embedding_A): ParameterDict()\n",
       "                (lora_embedding_B): ParameterDict()\n",
       "                (lora_magnitude_vector): ModuleDict()\n",
       "              )\n",
       "              (fc2): lora.Linear4bit(\n",
       "                (base_layer): Linear4bit(in_features=10240, out_features=2560, bias=True)\n",
       "                (lora_dropout): ModuleDict(\n",
       "                  (default): Dropout(p=0.05, inplace=False)\n",
       "                )\n",
       "                (lora_A): ModuleDict(\n",
       "                  (default): Linear(in_features=10240, out_features=8, bias=False)\n",
       "                )\n",
       "                (lora_B): ModuleDict(\n",
       "                  (default): Linear(in_features=8, out_features=2560, bias=False)\n",
       "                )\n",
       "                (lora_embedding_A): ParameterDict()\n",
       "                (lora_embedding_B): ParameterDict()\n",
       "                (lora_magnitude_vector): ModuleDict()\n",
       "              )\n",
       "            )\n",
       "            (input_layernorm): LayerNorm((2560,), eps=1e-05, elementwise_affine=True)\n",
       "            (resid_dropout): Dropout(p=0.1, inplace=False)\n",
       "          )\n",
       "        )\n",
       "        (final_layernorm): LayerNorm((2560,), eps=1e-05, elementwise_affine=True)\n",
       "        (rotary_emb): PhiRotaryEmbedding()\n",
       "      )\n",
       "      (lm_head): Linear(in_features=2560, out_features=51200, bias=True)\n",
       "    )\n",
       "  )\n",
       ")"
      ]
     },
     "execution_count": 2,
     "metadata": {},
     "output_type": "execute_result"
    }
   ],
   "source": [
    "# Define 4-bit quantization config\n",
    "bnb_config = BitsAndBytesConfig(\n",
    "    load_in_4bit=True,\n",
    "    bnb_4bit_quant_type=\"nf4\",\n",
    "    bnb_4bit_compute_dtype=torch.float16,\n",
    "    bnb_4bit_use_double_quant=True\n",
    ")\n",
    "\n",
    "# Load model and tokenizer\n",
    "model_name = \"microsoft/phi-2\"\n",
    "tokenizer = AutoTokenizer.from_pretrained(model_name)\n",
    "tokenizer.padding_side = 'right'\n",
    "\n",
    "model = AutoModelForCausalLM.from_pretrained(model_name,\n",
    "                                             quantization_config=bnb_config,\n",
    "                                             device_map={\"\": 0})\n",
    "\n",
    "# Prepare model for kbit training\n",
    "model = prepare_model_for_kbit_training(model)\n",
    "\n",
    "# Define LoRA configuration\n",
    "lora_config = LoraConfig(\n",
    "    r=8,\n",
    "    lora_alpha=16,\n",
    "    # Target the attention modules in Phi-2\n",
    "    target_modules=[\"q_proj\", \n",
    "                    \"k_proj\", \n",
    "                    \"v_proj\", \n",
    "                    \"out_proj\",\n",
    "                    \"fc1\",\n",
    "                    \"fc2\"],\n",
    "    lora_dropout=0.05,\n",
    "    bias=\"none\",\n",
    "    task_type=\"CAUSAL_LM\"\n",
    ")\n",
    "\n",
    "# Apply LoRA\n",
    "model = get_peft_model(model, lora_config)\n",
    "\n",
    "# Get model device\n",
    "device = torch.device(\"cuda\" if torch.cuda.is_available() else \"cpu\")\n",
    "print(f\"==========\\n! Model loaded on: {device}\\n\")\n",
    "# print(model.quantization_method)\n",
    "# print(model.config)\n",
    "\n",
    "model.config.use_cache = False\n",
    "model.gradient_checkpointing_enable()\n",
    "model.enable_input_require_grads()\n",
    "\n",
    "model.train()"
   ]
  },
  {
   "cell_type": "code",
   "execution_count": 3,
   "metadata": {},
   "outputs": [
    {
     "name": "stdout",
     "output_type": "stream",
     "text": [
      "GPU memory allocated: 2392.86 MB\n",
      "GPU memory cached: 2472.54 MB\n"
     ]
    }
   ],
   "source": [
    "gc.collect()\n",
    "torch.cuda.empty_cache()\n",
    "\n",
    "# Print GPU memory usage\n",
    "print(f\"GPU memory allocated: {torch.cuda.memory_allocated()/1e6:.2f} MB\")\n",
    "print(f\"GPU memory cached: {torch.cuda.memory_reserved()/1e6:.2f} MB\")"
   ]
  },
  {
   "cell_type": "code",
   "execution_count": 4,
   "metadata": {},
   "outputs": [],
   "source": [
    "# for name, _ in model.named_modules():\n",
    "#   print(name)"
   ]
  },
  {
   "cell_type": "code",
   "execution_count": 5,
   "metadata": {},
   "outputs": [],
   "source": [
    "if tokenizer.pad_token is None:\n",
    "  tokenizer.pad_token = tokenizer.eos_token"
   ]
  },
  {
   "cell_type": "code",
   "execution_count": 6,
   "metadata": {},
   "outputs": [],
   "source": [
    "def train_tokenize_function(df):\n",
    "    combined = []\n",
    "    for i in range(len(df[\"input\"])):\n",
    "        combined.append(\n",
    "            \"Instruction: \" + df[\"input\"][i] + \"\\nResponse: \" + df[\"mistral_output\"][i]\n",
    "        )\n",
    "    \n",
    "    # Tokenize sequences\n",
    "    tokenized = tokenizer(\n",
    "        combined,\n",
    "        max_length=2048,\n",
    "        truncation=True,\n",
    "        padding=\"max_length\",\n",
    "        return_tensors=\"pt\"\n",
    "    )\n",
    "    \n",
    "    labels = tokenized[\"input_ids\"].clone()\n",
    "   \n",
    "    # Mask out the loss for the instruction part\n",
    "    for i in range(len(combined)):\n",
    "        instruction = \"Instruction: \" + df[\"input\"][i] + \"\\nResponse: \"\n",
    "        instruction_tokens = tokenizer(instruction, return_tensors=\"pt\")[\"input_ids\"][0]\n",
    "        instruction_length = len(instruction_tokens)\n",
    "       \n",
    "        # Set labels to -100 for the instruction part (no loss computed)\n",
    "        labels[i, :instruction_length] = -100\n",
    "   \n",
    "    return {\n",
    "        \"input_ids\": tokenized[\"input_ids\"],\n",
    "        \"attention_mask\": tokenized[\"attention_mask\"],\n",
    "        \"labels\": labels\n",
    "    }"
   ]
  },
  {
   "cell_type": "code",
   "execution_count": 7,
   "metadata": {},
   "outputs": [],
   "source": [
    "def test_tokenize_function(df):\n",
    "    # Tokenize the prompt (input)\n",
    "    tokenized_inputs = tokenizer(\n",
    "        df[\"input\"],\n",
    "        max_length=2048,\n",
    "        truncation=True,\n",
    "        padding=\"max_length\",\n",
    "        return_tensors=\"pt\"\n",
    "    )\n",
    "    \n",
    "    # Tokenize the gold responses (mistral_output)\n",
    "    tokenized_gold = tokenizer(\n",
    "        df[\"mistral_output\"],\n",
    "        max_length=2048,\n",
    "        truncation=True,\n",
    "        padding=\"max_length\",\n",
    "        return_tensors=\"pt\"\n",
    "    )\n",
    "    \n",
    "    # Use the gold tokenized outputs as labels for metric computation\n",
    "    tokenized_inputs[\"labels\"] = tokenized_gold[\"input_ids\"]\n",
    "    \n",
    "    return tokenized_inputs"
   ]
  },
  {
   "cell_type": "code",
   "execution_count": null,
   "metadata": {},
   "outputs": [
    {
     "data": {
      "text/plain": [
       "\"# Convert to HuggingFace Datasets\\ntrain_dataset = Dataset.from_pandas(train)\\ntrain_dataset = train_dataset.remove_columns(['__index_level_0__'])\\n\\ntest_dataset = Dataset.from_pandas(test)\\ntest_dataset = test_dataset.remove_columns(['__index_level_0__'])\\n\\n# Tokenize\\ntokenized_train_dataset = train_dataset.map(train_tokenize_function,\\n                                            batched=True)\\ntokenized_test_dataset = test_dataset.map(test_tokenize_function,\\n                                          batched=True)\""
      ]
     },
     "execution_count": 3,
     "metadata": {},
     "output_type": "execute_result"
    }
   ],
   "source": [
    "# Saving\n",
    "fine_tuning_data = '../data/for_step_4/'\n",
    "\n",
    "# Load\n",
    "train10k = pd.read_csv(fine_tuning_data + 'train10k.csv')\n",
    "#train5k = pd.read_csv(fine_tuning_data + 'train5k.csv')\n",
    "test2k = pd.read_csv(fine_tuning_data + 'test2k.csv')\n",
    "#test1k = pd.read_csv(fine_tuning_data + 'test1k.csv')\n",
    "\n",
    "\n",
    "# Time constraints. I'll just use 999 train, 333 test samples\n",
    "from sklearn.model_selection import train_test_split\n",
    "train_left, train = train_test_split(train10k, \n",
    "                         test_size=999, \n",
    "                         random_state=42,\n",
    "                         stratify=train10k['label'])\n",
    "train_left, test = train_test_split(test2k, \n",
    "                        test_size=333, \n",
    "                        random_state=42,\n",
    "                        stratify=test2k['label'])\n",
    "\n",
    "# train.shape, test.shape, train['label'].value_counts(), test['label'].value_counts()\n",
    "\n",
    "# Selecting only the columns we need for fine-tuning, I was splitting by label.\n",
    "train = train[['input', 'mistral_output']]\n",
    "test = test[['input', 'mistral_output']]\n",
    "\n",
    "# Convert to HuggingFace Datasets\n",
    "train_dataset = Dataset.from_pandas(train)\n",
    "train_dataset = train_dataset.remove_columns(['__index_level_0__'])\n",
    "\n",
    "test_dataset = Dataset.from_pandas(test)\n",
    "test_dataset = test_dataset.remove_columns(['__index_level_0__'])\n",
    "\n",
    "# Tokenize\n",
    "tokenized_train_dataset = train_dataset.map(train_tokenize_function,\n",
    "                                            batched=True)\n",
    "tokenized_test_dataset = test_dataset.map(test_tokenize_function,\n",
    "                                          batched=True)"
   ]
  },
  {
   "cell_type": "code",
   "execution_count": 9,
   "metadata": {},
   "outputs": [
    {
     "data": {
      "text/plain": [
       "\"\\n# Selecting only the columns we need for fine-tuning, I was splitting by label.\\ntrain10k = train10k[['input', 'mistral_output']]\\ntrain5k = train5k[['input', 'mistral_output']]\\ntest2k = test2k[['input']]\\ntest1k = test1k[['input']]\\n\\n# Convert to HuggingFace Datasets\\nfrom datasets import Dataset\\n\\ntrain = Dataset.from_pandas(train)\\ntest = Dataset.from_pandas(test)\\n\\ntrain10k_dataset = Dataset.from_pandas(train10k)\\ntrain5k_dataset = Dataset.from_pandas(train5k)\\ntest2k_dataset = Dataset.from_pandas(test2k)\\ntest1k_dataset = Dataset.from_pandas(test1k)\\n\\n# Tokenize\\ntrain = train.map(train_tokenize_function,\\n                  batched=True)\\ntest = test.map(test_tokenize_function, \\n                  batched=True)\\n\""
      ]
     },
     "execution_count": 9,
     "metadata": {},
     "output_type": "execute_result"
    }
   ],
   "source": [
    "\"\"\"\n",
    "# Selecting only the columns we need for fine-tuning, I was splitting by label.\n",
    "train10k = train10k[['input', 'mistral_output']]\n",
    "train5k = train5k[['input', 'mistral_output']]\n",
    "test2k = test2k[['input']]\n",
    "test1k = test1k[['input']]\n",
    "\n",
    "# Convert to HuggingFace Datasets\n",
    "from datasets import Dataset\n",
    "\n",
    "train = Dataset.from_pandas(train)\n",
    "test = Dataset.from_pandas(test)\n",
    "\n",
    "train10k_dataset = Dataset.from_pandas(train10k)\n",
    "train5k_dataset = Dataset.from_pandas(train5k)\n",
    "test2k_dataset = Dataset.from_pandas(test2k)\n",
    "test1k_dataset = Dataset.from_pandas(test1k)\n",
    "\n",
    "# Tokenize\n",
    "train = train.map(train_tokenize_function,\n",
    "                  batched=True)\n",
    "test = test.map(test_tokenize_function, \n",
    "                  batched=True)\n",
    "\"\"\""
   ]
  },
  {
   "cell_type": "code",
   "execution_count": 10,
   "metadata": {},
   "outputs": [],
   "source": [
    "# train_dataset, test_dataset"
   ]
  },
  {
   "cell_type": "code",
   "execution_count": 11,
   "metadata": {},
   "outputs": [],
   "source": [
    "# tokenized_train_dataset, tokenized_test_dataset"
   ]
  },
  {
   "cell_type": "code",
   "execution_count": 12,
   "metadata": {},
   "outputs": [],
   "source": [
    "#print(tokenizer.decode(tokenized_train_dataset['input_ids'][0]))\n",
    "#print('\\n\\n')\n",
    "\n",
    "#print(tokenizer.decode(tokenized_test_dataset['input_ids'][0]))\n",
    "#print(tokenizer.decode(tokenized_test_dataset['labels'][0]))"
   ]
  },
  {
   "cell_type": "code",
   "execution_count": 13,
   "metadata": {},
   "outputs": [],
   "source": [
    "# Model output\n",
    "model_path = '../models/'\n",
    "\n",
    "if not os.path.exists(model_path):\n",
    "  os.makedirs(model_path)"
   ]
  },
  {
   "cell_type": "markdown",
   "metadata": {},
   "source": [
    "#### Evaluate"
   ]
  },
  {
   "cell_type": "code",
   "execution_count": 14,
   "metadata": {},
   "outputs": [
    {
     "name": "stderr",
     "output_type": "stream",
     "text": [
      "Using default BLEURT-Base checkpoint for sequence maximum length 128. You can use a bigger model for better results with e.g.: evaluate.load('bleurt', 'bleurt-large-512').\n"
     ]
    },
    {
     "name": "stdout",
     "output_type": "stream",
     "text": [
      "INFO:tensorflow:Reading checkpoint C:\\Users\\kadm2\\.cache\\huggingface\\metrics\\bleurt\\default\\downloads\\extracted\\1ed47b7280a9b4162e745e8e509d21a5ca48976269d7d45c0c7b6c6e350c760e\\bleurt-base-128.\n",
      "INFO:tensorflow:Config file found, reading.\n",
      "INFO:tensorflow:Will load checkpoint bert_custom\n",
      "INFO:tensorflow:Loads full paths and checks that files exists.\n",
      "INFO:tensorflow:... name:bert_custom\n",
      "INFO:tensorflow:... vocab_file:vocab.txt\n",
      "INFO:tensorflow:... bert_config_file:bert_config.json\n",
      "INFO:tensorflow:... do_lower_case:True\n",
      "INFO:tensorflow:... max_seq_length:128\n",
      "INFO:tensorflow:Creating BLEURT scorer.\n",
      "INFO:tensorflow:Creating WordPiece tokenizer.\n",
      "INFO:tensorflow:WordPiece tokenizer instantiated.\n",
      "INFO:tensorflow:Creating Eager Mode predictor.\n",
      "INFO:tensorflow:Loading model.\n",
      "INFO:tensorflow:BLEURT initialized.\n"
     ]
    },
    {
     "name": "stderr",
     "output_type": "stream",
     "text": [
      "[nltk_data] Downloading package wordnet to\n",
      "[nltk_data]     C:\\Users\\kadm2\\AppData\\Roaming\\nltk_data...\n",
      "[nltk_data]   Package wordnet is already up-to-date!\n",
      "[nltk_data] Downloading package punkt_tab to\n",
      "[nltk_data]     C:\\Users\\kadm2\\AppData\\Roaming\\nltk_data...\n",
      "[nltk_data]   Package punkt_tab is already up-to-date!\n",
      "[nltk_data] Downloading package omw-1.4 to\n",
      "[nltk_data]     C:\\Users\\kadm2\\AppData\\Roaming\\nltk_data...\n",
      "[nltk_data]   Package omw-1.4 is already up-to-date!\n"
     ]
    }
   ],
   "source": [
    "import logging\n",
    "import evaluate\n",
    "\n",
    "# Load evaluation metrics\n",
    "bleurt = evaluate.load(\"bleurt\", trust_remote_code=True)\n",
    "bertscore = evaluate.load(\"bertscore\")\n",
    "meteor = evaluate.load(\"meteor\")\n",
    "\n",
    "def compute_metrics(eval_preds):\n",
    "    \"\"\"\n",
    "    Computes BLEURT, BERTScore (F1), and METEOR for evaluating generated feedback.\n",
    "\n",
    "    Args:\n",
    "        eval_preds (tuple): A tuple containing (predictions, references).\n",
    "\n",
    "    Returns:\n",
    "        dict: A dictionary with metric scores.\n",
    "    \"\"\"\n",
    "    predictions, references = eval_preds\n",
    "\n",
    "    # Ensure string format\n",
    "    predictions = [str(pred).strip() for pred in predictions]\n",
    "    references = [str(ref).strip() for ref in references]\n",
    "\n",
    "    # Compute BLEURT\n",
    "    bleurt_scores = bleurt.compute(predictions=predictions, references=references)[\"scores\"]\n",
    "\n",
    "    # Compute BERTScore(F1)\n",
    "    bertscore_f1 = bertscore.compute(predictions=predictions, references=references, lang=\"en\")[\"f1\"]\n",
    "\n",
    "    # Compute METEOR\n",
    "    meteor_score = meteor.compute(predictions=predictions, references=references)[\"meteor\"]\n",
    "\n",
    "    metrics = {\n",
    "        \"bleurt\": np.mean(bleurt_scores),\n",
    "        \"bertscore_f1\": np.mean(bertscore_f1),\n",
    "        \"meteor\": meteor_score\n",
    "    }\n",
    "\n",
    "    logger.info(f\"Eval Metrics: {metrics}\")  # Force logging\n",
    "\n",
    "    return metrics"
   ]
  },
  {
   "cell_type": "markdown",
   "metadata": {},
   "source": [
    "## Training"
   ]
  },
  {
   "cell_type": "code",
   "execution_count": 18,
   "metadata": {},
   "outputs": [],
   "source": [
    "gc.collect()\n",
    "torch.cuda.empty_cache()\n",
    "from transformers import EarlyStoppingCallback"
   ]
  },
  {
   "cell_type": "code",
   "execution_count": 29,
   "metadata": {},
   "outputs": [],
   "source": [
    "training_args = TrainingArguments(\n",
    "  output_dir=model_path,\n",
    "  do_train=True,\n",
    "  do_eval=True,\n",
    "  do_predict=True,\n",
    "  \n",
    "  eval_strategy=\"steps\",\\\n",
    "  eval_steps=150,\n",
    "  save_strategy=\"steps\",\n",
    "  save_steps=150,\n",
    "  eval_accumulation_steps=8,\n",
    "  logging_strategy=\"epoch\",\n",
    "  num_train_epochs=3,\n",
    "  \n",
    "  learning_rate=2e-5,\n",
    "  lr_scheduler_type=\"cosine\",\n",
    "  warmup_ratio=0.1,\n",
    "  weight_decay=0.01,\n",
    "  \n",
    "  fp16=True,\n",
    "  dataloader_num_workers=4,\n",
    "  \n",
    "  optim=\"adamw_torch_fused\",\n",
    "  load_best_model_at_end=True,\n",
    "  metric_for_best_model=\"loss\", # It was meteor, but GPU can't handle the custom eval.\n",
    "  greater_is_better=False,\n",
    "  \n",
    "  report_to=\"tensorboard\",\n",
    "  resume_from_checkpoint=True,\n",
    "  \n",
    "  per_device_eval_batch_size=4,\n",
    "  per_device_train_batch_size=4,\n",
    "  gradient_accumulation_steps=4,\n",
    "  gradient_checkpointing=True,\n",
    "  save_total_limit=4\n",
    ")"
   ]
  },
  {
   "cell_type": "code",
   "execution_count": 30,
   "metadata": {},
   "outputs": [
    {
     "data": {
      "application/vnd.jupyter.widget-view+json": {
       "model_id": "7579f41ac17c4a648fe8ef31249a044c",
       "version_major": 2,
       "version_minor": 0
      },
      "text/plain": [
       "  0%|          | 0/186 [00:00<?, ?it/s]"
      ]
     },
     "metadata": {},
     "output_type": "display_data"
    },
    {
     "name": "stdout",
     "output_type": "stream",
     "text": [
      "{'loss': 0.0565, 'grad_norm': 0.09207917749881744, 'learning_rate': 1.6902852688348866e-05, 'epoch': 0.99}\n",
      "{'loss': 0.0539, 'grad_norm': 0.09972906112670898, 'learning_rate': 5.892573252966926e-06, 'epoch': 2.0}\n"
     ]
    },
    {
     "data": {
      "application/vnd.jupyter.widget-view+json": {
       "model_id": "b58241394ad34a5f828b9058f6b8ff56",
       "version_major": 2,
       "version_minor": 0
      },
      "text/plain": [
       "  0%|          | 0/84 [00:00<?, ?it/s]"
      ]
     },
     "metadata": {},
     "output_type": "display_data"
    },
    {
     "name": "stdout",
     "output_type": "stream",
     "text": [
      "{'eval_loss': 2.874305009841919, 'eval_runtime': 359.5017, 'eval_samples_per_second': 0.926, 'eval_steps_per_second': 0.234, 'epoch': 2.4}\n",
      "{'loss': 0.0535, 'grad_norm': 0.08853914588689804, 'learning_rate': 0.0, 'epoch': 2.98}\n",
      "{'train_runtime': 11880.4382, 'train_samples_per_second': 0.252, 'train_steps_per_second': 0.016, 'train_loss': 0.054654449544927125, 'epoch': 2.98}\n"
     ]
    }
   ],
   "source": [
    "trainer = Trainer(\n",
    "    model=model,\n",
    "    args=training_args,\n",
    "    train_dataset=tokenized_train_dataset,\n",
    "    eval_dataset=tokenized_test_dataset,\n",
    "    callbacks=[EarlyStoppingCallback(early_stopping_patience=2)] \n",
    "    # compute_metrics=compute_metrics, # OOMs\n",
    ")\n",
    "\n",
    "trainer.train()\n",
    "trainer.save_model(os.path.join(model_path, 'phi-2_01'))"
   ]
  },
  {
   "cell_type": "code",
   "execution_count": 17,
   "metadata": {},
   "outputs": [],
   "source": [
    "gc.collect()\n",
    "torch.cuda.empty_cache()"
   ]
  },
  {
   "cell_type": "markdown",
   "metadata": {},
   "source": [
    "## Fine-tuned Model"
   ]
  },
  {
   "cell_type": "code",
   "execution_count": null,
   "metadata": {},
   "outputs": [
    {
     "data": {
      "application/vnd.jupyter.widget-view+json": {
       "model_id": "6112f434a7714e34af7161c8a72a34d3",
       "version_major": 2,
       "version_minor": 0
      },
      "text/plain": [
       "Loading checkpoint shards:   0%|          | 0/2 [00:00<?, ?it/s]"
      ]
     },
     "metadata": {},
     "output_type": "display_data"
    },
    {
     "data": {
      "text/plain": [
       "PhiForCausalLM(\n",
       "  (model): PhiModel(\n",
       "    (embed_tokens): Embedding(51200, 2560)\n",
       "    (embed_dropout): Dropout(p=0.0, inplace=False)\n",
       "    (layers): ModuleList(\n",
       "      (0-31): 32 x PhiDecoderLayer(\n",
       "        (self_attn): PhiSdpaAttention(\n",
       "          (q_proj): Linear(in_features=2560, out_features=2560, bias=True)\n",
       "          (k_proj): Linear(in_features=2560, out_features=2560, bias=True)\n",
       "          (v_proj): Linear(in_features=2560, out_features=2560, bias=True)\n",
       "          (dense): Linear(in_features=2560, out_features=2560, bias=True)\n",
       "          (rotary_emb): PhiRotaryEmbedding()\n",
       "        )\n",
       "        (mlp): PhiMLP(\n",
       "          (activation_fn): NewGELUActivation()\n",
       "          (fc1): Linear(in_features=2560, out_features=10240, bias=True)\n",
       "          (fc2): Linear(in_features=10240, out_features=2560, bias=True)\n",
       "        )\n",
       "        (input_layernorm): LayerNorm((2560,), eps=1e-05, elementwise_affine=True)\n",
       "        (resid_dropout): Dropout(p=0.1, inplace=False)\n",
       "      )\n",
       "    )\n",
       "    (final_layernorm): LayerNorm((2560,), eps=1e-05, elementwise_affine=True)\n",
       "    (rotary_emb): PhiRotaryEmbedding()\n",
       "  )\n",
       "  (lm_head): Linear(in_features=2560, out_features=51200, bias=True)\n",
       ")"
      ]
     },
     "execution_count": 2,
     "metadata": {},
     "output_type": "execute_result"
    }
   ],
   "source": [
    "from transformers import AutoModelForCausalLM, AutoTokenizer\n",
    "from peft import PeftModel\n",
    "import torch\n",
    "\n",
    "base_model_name = \"microsoft/phi-2\"  # Your original model\n",
    "adapter_path = \"../models/phi-2_01\"\n",
    "\n",
    "# Load base model\n",
    "base_model = AutoModelForCausalLM.from_pretrained(base_model_name, torch_dtype=torch.float16)\n",
    "tokenizer = AutoTokenizer.from_pretrained(base_model_name)\n",
    "\n",
    "# Load LoRA adapter and merge\n",
    "model = PeftModel.from_pretrained(base_model, adapter_path)\n",
    "model = model.merge_and_unload()  # Merge LoRA with base model\n",
    "\n",
    "# Move to GPU if available\n",
    "model.to(\"cuda\" if torch.cuda.is_available() else \"cpu\")\n",
    "model.eval()"
   ]
  },
  {
   "cell_type": "code",
   "execution_count": null,
   "metadata": {},
   "outputs": [],
   "source": [
    "merged_model_path = \"../models/phi-2_full_2\"\n",
    "model.save_pretrained(merged_model_path)\n",
    "tokenizer.save_pretrained(merged_model_path)"
   ]
  },
  {
   "cell_type": "code",
   "execution_count": 225,
   "metadata": {},
   "outputs": [],
   "source": [
    "gc.collect()\n",
    "torch.cuda.empty_cache()"
   ]
  },
  {
   "cell_type": "markdown",
   "metadata": {},
   "source": [
    "### Loading merged version"
   ]
  },
  {
   "cell_type": "code",
   "execution_count": null,
   "metadata": {},
   "outputs": [
    {
     "data": {
      "application/vnd.jupyter.widget-view+json": {
       "model_id": "ed079337a21d45b6aedd7867e03f564f",
       "version_major": 2,
       "version_minor": 0
      },
      "text/plain": [
       "Loading checkpoint shards:   0%|          | 0/2 [00:00<?, ?it/s]"
      ]
     },
     "metadata": {},
     "output_type": "display_data"
    },
    {
     "name": "stderr",
     "output_type": "stream",
     "text": [
      "Some parameters are on the meta device because they were offloaded to the cpu.\n"
     ]
    },
    {
     "name": "stdout",
     "output_type": "stream",
     "text": [
      "==========\n",
      "! Model loaded on: cuda\n",
      "\n"
     ]
    },
    {
     "data": {
      "text/plain": [
       "PhiForCausalLM(\n",
       "  (model): PhiModel(\n",
       "    (embed_tokens): Embedding(51200, 2560)\n",
       "    (embed_dropout): Dropout(p=0.0, inplace=False)\n",
       "    (layers): ModuleList(\n",
       "      (0-31): 32 x PhiDecoderLayer(\n",
       "        (self_attn): PhiSdpaAttention(\n",
       "          (q_proj): Linear(in_features=2560, out_features=2560, bias=True)\n",
       "          (k_proj): Linear(in_features=2560, out_features=2560, bias=True)\n",
       "          (v_proj): Linear(in_features=2560, out_features=2560, bias=True)\n",
       "          (dense): Linear(in_features=2560, out_features=2560, bias=True)\n",
       "          (rotary_emb): PhiRotaryEmbedding()\n",
       "        )\n",
       "        (mlp): PhiMLP(\n",
       "          (activation_fn): NewGELUActivation()\n",
       "          (fc1): Linear(in_features=2560, out_features=10240, bias=True)\n",
       "          (fc2): Linear(in_features=10240, out_features=2560, bias=True)\n",
       "        )\n",
       "        (input_layernorm): LayerNorm((2560,), eps=1e-05, elementwise_affine=True)\n",
       "        (resid_dropout): Dropout(p=0.1, inplace=False)\n",
       "      )\n",
       "    )\n",
       "    (final_layernorm): LayerNorm((2560,), eps=1e-05, elementwise_affine=True)\n",
       "    (rotary_emb): PhiRotaryEmbedding()\n",
       "  )\n",
       "  (lm_head): Linear(in_features=2560, out_features=51200, bias=True)\n",
       ")"
      ]
     },
     "execution_count": 41,
     "metadata": {},
     "output_type": "execute_result"
    }
   ],
   "source": [
    "from transformers import AutoModelForCausalLM, AutoTokenizer\n",
    "import torch\n",
    "\n",
    "merged_model_path = \"../models/phi-2_full_2\"\n",
    "\n",
    "# Load tokenizer\n",
    "tokenizer = AutoTokenizer.from_pretrained(merged_model_path)\n",
    "tokenizer.padding_side = 'left'\n",
    "\n",
    "# Load the model\n",
    "model = AutoModelForCausalLM.from_pretrained(\n",
    "    merged_model_path,\n",
    "    torch_dtype=torch.float16,\n",
    "    device_map=\"auto\",\n",
    "    offload_buffers=True\n",
    ")\n",
    "\n",
    "# Get model device\n",
    "device = torch.device(\"cuda\" if torch.cuda.is_available() else \"cpu\")\n",
    "print(f\"==========\\n! Model loaded on: {device}\\n\")\n",
    "model.eval()"
   ]
  },
  {
   "cell_type": "code",
   "execution_count": null,
   "metadata": {},
   "outputs": [
    {
     "name": "stdout",
     "output_type": "stream",
     "text": [
      "1. Improve Communication: Ensure that all staff members are well-trained in communicating with customers, especially when it comes to explaining the booking process and any potential issues that may arise. This will help prevent misunderstandings and frustration.\n"
     ]
    }
   ],
   "source": [
    "prompt = \"A customer left us a 2-star review: 'here's what happened n we were suppose to be at the regular mgm.. so we pulled up, put our car in valet, got a bell boy to take our stuff.. and then we realized they gave us rooms at the signature. what a pain!!!! n then when we tried to check in we were suppose to have 2 rooms... but they couldn't find our other reservation because we booked through an online travel company so they only gave us one room!!! n the next day we had to spend at least an hour trying to get compensated for the room that we pre paid for! finally they gave us back the money and also said they would give us 200 to spend on food and bev. n so, we ordered 158 in food that night... and tipped 30! n then when i went to check out... they had all the room service charges and all the room charges on my card!!! it was such a hassle to get them off!!! in the end, they took off all charges but the 30 tip which i was still mad about. n nthe rooms were super nice! they had a nice kitchen and a nice view. but, i do not consider it much of an upgrade from the mgm since one of the beds is a pull out couch. n nalso, we were there for a bachelorette party... and the bachelorette likes to gamble.. so it probably would have been more ideal to stay in the casino. n noverall, the condo was very nice... but the customer service was totally disorganized and bad. numerous times the signature blamed their poor service on the mgm and said they couldn't do anything about our problems since we booked through the mgm.' The customer feels realization, neutral, disappointment. Concisely, how can we best improve our services for this customer's experience? \\n\\nResponse: \"\n",
    "inputs = tokenizer(prompt, return_tensors=\"pt\").to(\"cuda\")\n",
    "\n",
    "with torch.no_grad():\n",
    "    output = model.generate(**inputs, \n",
    "                            max_new_tokens=1000,\n",
    "                            no_repeat_ngram_size=3,\n",
    "                            do_sample=True,\n",
    "                            pad_token_id=tokenizer.eos_token_id,\n",
    "                            temperature=0.2,\n",
    "                            top_p=0.9,\n",
    "                            top_k=50) \n",
    "\n",
    "output = tokenizer.decode(output[0], skip_special_tokens=True)\n",
    "print(clean_phi2_output(prompt, output))"
   ]
  },
  {
   "cell_type": "markdown",
   "metadata": {},
   "source": [
    "> Close enough to mistral's output."
   ]
  },
  {
   "cell_type": "code",
   "execution_count": null,
   "metadata": {},
   "outputs": [
    {
     "name": "stdout",
     "output_type": "stream",
     "text": [
      "[317, 6491, 1364, 514, 257, 362, 12, 7364, 2423, 25, 705, 1456, 338, 644, 3022, 299, 356, 547, 11691, 284, 307, 379, 262, 3218, 10527, 76, 492, 523, 356, 5954, 510, 11, 1234, 674, 1097, 287, 1188, 316, 11, 1392, 257, 8966, 2933, 284, 1011, 674, 3404, 492, 290, 788, 356, 6939, 484, 2921, 514, 9519, 379, 262, 9877, 13, 644, 257, 2356, 13896, 299, 788, 618, 356, 3088, 284, 2198, 287, 356, 547, 11691, 284, 423, 362, 9519, 986, 475, 484, 3521, 470, 1064, 674, 584, 24048, 780, 356, 21765, 832, 281, 2691, 3067, 1664, 523, 484, 691, 2921, 514, 530, 2119, 10185, 299, 262, 1306, 1110, 356, 550, 284, 4341, 379, 1551, 281, 1711, 2111, 284, 651, 34304, 329, 262, 2119, 326, 356, 662, 3432, 329, 0, 3443, 484, 2921, 514, 736, 262, 1637, 290, 635, 531, 484, 561, 1577, 514, 939, 284, 4341, 319, 2057, 290, 307, 85, 13, 299, 523, 11, 356, 6149, 24063, 287, 2057, 326, 1755, 986, 290, 28395, 1542, 0, 299, 788, 618, 1312, 1816, 284, 2198, 503, 986, 484, 550, 477, 262, 2119, 2139, 4530, 290, 477, 262, 2119, 4530, 319, 616, 2657, 10185, 340, 373, 884, 257, 32721, 284, 651, 606, 572, 10185, 287, 262, 886, 11, 484, 1718, 572, 477, 4530, 475, 262, 1542, 8171, 543, 1312, 373, 991, 8805, 546, 764, 299, 299, 1169, 9519, 547, 2208, 3621, 0, 484, 550, 257, 3621, 9592, 290, 257, 3621, 1570, 13, 475, 11, 1312, 466, 407, 2074, 340, 881, 286, 281, 8515, 422, 262, 10527, 76, 1201, 530, 286, 262, 20237, 318, 257, 2834, 503, 18507, 13, 299, 299, 14508, 11, 356, 547, 612, 329, 257, 275, 9636, 9997, 660, 2151, 986, 290, 262, 275, 9636, 9997, 660, 7832, 284, 32385, 492, 523, 340, 2192, 561, 423, 587, 517, 7306, 284, 2652, 287, 262, 21507, 13, 299, 645, 332, 439, 11, 262, 32119, 373, 845, 3621, 986, 475, 262, 6491, 2139, 373, 6635, 595, 30280, 290, 2089, 13, 6409, 1661, 262, 9877, 13772, 511, 3595, 2139, 319, 262, 10527, 76, 290, 531, 484, 3521, 470, 466, 1997, 546, 674, 2761, 1201, 356, 21765, 832, 262, 10527, 76, 2637, 383, 6491, 5300, 23258, 11, 8500, 11, 18641, 13, 13223, 786, 306, 11, 703, 460, 356, 1266, 2987, 674, 2594, 329, 428, 6491, 338, 1998, 30, 220]\n",
      " A customer left us a 2-star review: 'here's what happened n we were suppose to be at the regular mgm.. so we pulled up, put our car in valet, got a bell boy to take our stuff.. and then we realized they gave us rooms at the signature. what a pain!!!! n then when we tried to check in we were suppose to have 2 rooms... but they couldn't find our other reservation because we booked through an online travel company so they only gave us one room!!! n the next day we had to spend at least an hour trying to get compensated for the room that we pre paid for! finally they gave us back the money and also said they would give us 200 to spend on food and bev. n so, we ordered 158 in food that night... and tipped 30! n then when i went to check out... they had all the room service charges and all the room charges on my card!!! it was such a hassle to get them off!!! in the end, they took off all charges but the 30 tip which i was still mad about. n nthe rooms were super nice! they had a nice kitchen and a nice view. but, i do not consider it much of an upgrade from the mgm since one of the beds is a pull out couch. n nalso, we were there for a bachelorette party... and the bachelorette likes to gamble.. so it probably would have been more ideal to stay in the casino. n noverall, the condo was very nice... but the customer service was totally disorganized and bad. numerous times the signature blamed their poor service on the mgm and said they couldn't do anything about our problems since we booked through the mgm.' The customer feels realization, neutral, disappointment. Concisely, how can we best improve our services for this customer's experience? \n"
     ]
    }
   ],
   "source": [
    "print(tokenizer.encode(prompt))\n",
    "print(tokenizer.decode(tokenizer.encode(prompt)))"
   ]
  },
  {
   "cell_type": "markdown",
   "metadata": {},
   "source": [
    "### Generate"
   ]
  },
  {
   "cell_type": "code",
   "execution_count": 3,
   "metadata": {},
   "outputs": [],
   "source": [
    "gc.collect()\n",
    "torch.cuda.empty_cache()"
   ]
  },
  {
   "cell_type": "code",
   "execution_count": 4,
   "metadata": {},
   "outputs": [
    {
     "data": {
      "text/plain": [
       "((1000, 4),\n",
       " Index(['label', 'input', 'mistral_output', 'phi-2_output'], dtype='object'))"
      ]
     },
     "execution_count": 4,
     "metadata": {},
     "output_type": "execute_result"
    }
   ],
   "source": [
    "# Load benchmark, model *may* have seen parts of this benchmark during training. It's a sample of the training data. It's ok for now.\n",
    "train10k_benchmark = pd.read_csv('../data/ready_for_phi-2/eval/train10k_sample.csv')\n",
    "\n",
    "train10k_benchmark.shape, train10k_benchmark.columns"
   ]
  },
  {
   "cell_type": "code",
   "execution_count": 26,
   "metadata": {},
   "outputs": [
    {
     "data": {
      "application/vnd.microsoft.datawrangler.viewer.v0+json": {
       "columns": [
        {
         "name": "index",
         "rawType": "int64",
         "type": "integer"
        },
        {
         "name": "label",
         "rawType": "int64",
         "type": "integer"
        },
        {
         "name": "input",
         "rawType": "object",
         "type": "string"
        },
        {
         "name": "mistral_output",
         "rawType": "object",
         "type": "string"
        },
        {
         "name": "phi-2_output",
         "rawType": "object",
         "type": "string"
        }
       ],
       "conversionMethod": "pd.DataFrame",
       "ref": "6350301b-98b3-4249-bd16-eeb0966a58b9",
       "rows": [
        [
         "0",
         "1",
         "A customer left us a 1-star review: 'i had the worst nightmare ever! i book 6 continues flight in my 1 week vacation with us n nairway, i took 1st flight and my luggage was lost and delayed. and the 2nd flight is late n nfor 2 hour ! and then i decide to drive to my destination . after i arrive at 3rd flight. n ntheyh told me simply because i skip a flight. they cancel all of our flight without any n nrefund or replacement. they told me unless i drive back to my 2nd destination and wait for n nanother day to catch the next flight to start over again . it sounds just really really n ncrazy and does not make any sense . i try to call talk to a manager after a manager they n ninsist i pay a 1000 dollar penatly . which is price for all 6 flight. they cancel all my n nflight and lie to me on the customer service phone. i sit at airport and they n nwont' let us go on our flight . they wont refund anything or let us get on any flight. we n nhave to sit at the aiport and use our laptop to get ticket with another airline to move on n nfor our trip and after we have to spent even more for buy so many other last minute flight n nticket to go to our other destination and go home. it is very sad and i dont' know how can n na airline have such awful mean disrespect and tricky service. trust me. they sold all of n nour seat to other ppl. cuz we check later those flight are all full. i will not recoomend n nanyone try this airline unless u want to ruin ur trip.' The customer feels fear, neutral, disappointment. Concisely, how can we best improve our services for this customer's experience?",
         "To improve the customer's experience, we can take the following steps: 1. Apologize sincerely for the inconvenience caused due to the lost and delayed luggage, flight delays, and the cancellation of flights. 2. Offer a full refund for the affected flights and provide compensation for the additional expenses incurred due to the last-minute changes, such as the cost of booking new flights and any other related expenses. 3. Ensure that the customer's luggage is promptly delivered to their destination.",
         "A customer left us a 1-star review: 'i had the worst nightmare ever! i book 6 continues flight in my 1 week vacation with us n nairway, i took 1st flight and my luggage was lost and delayed. and the 2nd flight is late n nfor 2 hour! and then i decide to drive to my destination. after i arrive at 3rd flight. n ntheyh told me simply because i skip a flight. they cancel all of our flight without any n nrefund or replacement. they told me unless i drive back to my 2nd destination and wait for n nanother day to catch the next flight to start over again. it sounds just really really n ncrazy and does not make any sense. i try to call talk to a manager after a manager they n ninsist i pay a 1000 dollar penatly. which is price for all 6 flight. they cancel all my n nflight and lie to me on the customer service phone. i sit at airport and they n nwont' let us go on our flight. they wont refund anything or let us get on any flight. we n nhave to sit at the aiport and use our laptop to get ticket with another airline to move on n nfor our trip and after we have to spent even more for buy so many other last minute flight n nticket to go to our other destination and go home. it is very sad and i dont' know how can n na airline have such awful mean disrespect and tricky service. trust me. they sold all of n nour seat to other ppl. cuz we check later those flight are all full. i will not recoomend n nanyone try this airline unless u want to ruin ur trip.' The customer feels fear, neutral, disappointment. Concisely, how can we best improve our services for this customer's experience? The customer's experience is a nightmare. The airline has lost the customer's luggage and delayed the flight. The customer is forced to drive to their destination and then has to wait for the next flight. The airline cancels the customer's flight and refuses to refund or replace it. The airline also demands a 1000 dollar penalty fee. The customer feels fear, neutral, disappointment."
        ],
        [
         "1",
         "3",
         "A customer left us a 3-star review: 'i've been here twice. once while underage and a very nice out of towner slipped the bouncer a 20 to let me and my sister and friend in during the ncaa football championship game a few years ago. and another time as a last minute stop for some food, finally of age. and didn't pay cover. n ni had fun both times. yeah it's a little bit of a dive, but it's a fun change of pace.' The customer feels joy, amusement, approval. Concisely, how can we best improve our services for this customer's experience?",
         "To improve the customer's experience, consider the following steps: 1. Age Verification: Implement a more stringent age verification process to ensure that minors are not allowed entry, even with the help of staff. This will maintain the integrity of the establishment and adhere to legal requirements. 2. Cover Charge: If applicable, make it clearer that a cover charge is required for entry, especially for special events like the NCAA football championship game. This will help prevent confusion and ensure that all customers are aware of the costs associated with their visit.",
         "The customer's experience is a combination of the service and the environment. The service is the interaction with the staff and the food. The environment is the atmosphere of the restaurant. The customer's experience is a combination of the service and the environment. The service is the interaction with the staff and the food. The environment is the atmosphere of the restaurant. The customer's experience is a combination of the service and the environment. The service is the interaction with the staff and the food. The environment is the atmosphere of the restaurant. The customer's experience is a combination of the service and the environment. The service is the interaction with the staff and the food. The environment is the atmosphere of the restaurant. The customer's experience is a combination of the service and the environment. The service is the interaction with the staff and the food. The environment is the atmosphere of the restaurant. The customer's experience is a combination of the service and the environment."
        ],
        [
         "2",
         "3",
         "A customer left us a 3-star review: 'a problem i have with salons of this type is the tip has to be in cash..no exceptions. in today's world of credit debit cards it is out of date practice and not customer focused.' The customer feels neutral, disapproval, annoyance. Concisely, how can we best improve our services for this customer's experience?",
         "To improve the customer's experience, consider implementing a system that accepts credit/debit card payments for tips. This change would make the tipping process more convenient and customer-focused, aligning with the expectations of today's digital world. Additionally, addressing this issue in a personalized response to the review could help demonstrate your commitment to customer satisfaction.",
         "The customer's experience is a complex and dynamic process. It is a process that is influenced by the customer's expectations, the service provided, the service received, and the customer's perception of the service. The customer's experience is also influenced by the customer's emotions, attitudes, and behaviors. The customer's experience is a complex and dynamic process. It is a process that is influenced by the customer's expectations, the service provided, the service received, and the customer's perception of the service. The customer's experience is also influenced by the customer's emotions, attitudes, and behaviors. The customer's experience is a complex and dynamic process. It is a process that is influenced by the customer's expectations, the service provided, the service received, and the customer's perception of the service. The customer's experience is also influenced by the customer's emotions, attitudes, and behaviors. The customer's experience is a complex and dynamic process."
        ],
        [
         "3",
         "1",
         "A customer left us a 1-star review: 'i'd never had these guys, and they had good reviews, so i was excited to try them out. n ni called and asked if they could deliver downtown. they said yes, but they were slammed, so it would take 45 minutes . n ni said that's totally okay, then ordered. n nan hour later i got a phone call telling me that they wouldn't be able to get it to me in any sort of reasonable time, and asked me if i could come pick it up instead. quite upset, i said nevermind. n ni order delivery for a reason because i don't want to get in my car and go anywhere. if i was willing to do takeout, i'd just dine in. n nif i'd just been told initially that no, they're too busy to do delivery at the moment , that would have been perfectly fine. but making me wait an hour to tell me that i was sol makes me furious. n ni guess i'll never know if your pizza's any good, pizza a metro.' The customer feels disappointment, neutral, disapproval. Concisely, how can we best improve our services for this customer's experience?",
         "To improve the customer's experience, we can focus on the following areas: 1. Accurate Estimation: Provide more accurate delivery time estimates to avoid customer disappointment. 2. Communication: Improve communication by keeping customers informed about any changes or delays in their orders. 3. Availability: Clearly communicate if the service (in this case, delivery) is not available during certain times or under specific circumstances. 4. Flexibility: Offer flexible options for customers, such as takeout or dine-in, to accommodate their preferences. 5. Empathy: Show empathy towards customers when there are delays or issues with their orders.",
         "In the world of customer service, it is important to understand how customers feel about the products and services they receive. One way to measure this is by using a tool called the Net Promoter Score (NPS). The NPS is a simple question that asks customers to rate their likelihood of recommending a product or service to others on a scale of 0 to 10. The NPS is based on the idea that customers who are promoters are more likely to recommend a product or service, while customers who are detractors are less likely to do so. By calculating the percentage of promoters minus the percentage of detractors, we can determine the overall NPS score."
        ],
        [
         "4",
         "2",
         "A customer left us a 2-star review: 'oh rue 21... n non the one hand, walking around this shop is always a fun way to pass the time. things in here are always very cute, i won't lie often as i walk i'll pick up a few things i wouldn't mind trying on... n n...and by the end of my lap around the store, i'll almost always return what i pick up without actually trying it on. why? well, because on second inspection i realize and remind myself, oh yeah this clothing is just not for me anymore. n nyes the stuff here is cheap, which is great if you're a young student shopping for the latest trends. i, however, do not have a good track record with rue21. not only have items i've purchased become a bit uncomfortable after a couple wears, i've had items rip within a couple months if not days after buying them heck, i've found broken jewelry and torn clothes as i'm walking around the store itself. n nbut i get it sometimes you just have to buy that really cute top or pair of shoes or what have you. so if you shop here, cool. rue21's just not for me.' The customer feels realization, admiration, amusement. Concisely, how can we best improve our services for this customer's experience?",
         "To improve the customer's experience at Rue21, we could focus on the following areas: 1. Quality Assurance: Enhance the quality of the clothing to ensure they last longer and are more comfortable for a wider range of customers. This could involve using higher-quality materials and improving the manufacturing process. 2. Size and Fit: Offer a more diverse range of sizes to cater to a broader customer base. Additionally, provide more detailed size guides to help customers find the right fit. 3. In-store Inspection: Regularly inspect and maintain the store to prevent broken jewelry and torn clothes from being on display. This will help improve the overall shopping experience.",
         "A: I think you can use this: $str = ''' a customer left us a 2-star review: 'oh rue 21... n non the one hand, walking around this shop is always a fun way to pass the time. things in here are always very cute, i won't lie often as i walk i'll pick up a few things i wouldn't mind trying on... n n...and by the end of my lap around the store, i'll almost always return what i pick up without actually trying it on. why? well, because on second inspection i realize and remind myself, oh yeah this clothing is just not for me anymore. n nyes the stuff here is cheap, which is great if you're a young student shopping for the latest trends. i, however, do not have a good track record with rue21."
        ]
       ],
       "shape": {
        "columns": 4,
        "rows": 5
       }
      },
      "text/html": [
       "<div>\n",
       "<style scoped>\n",
       "    .dataframe tbody tr th:only-of-type {\n",
       "        vertical-align: middle;\n",
       "    }\n",
       "\n",
       "    .dataframe tbody tr th {\n",
       "        vertical-align: top;\n",
       "    }\n",
       "\n",
       "    .dataframe thead th {\n",
       "        text-align: right;\n",
       "    }\n",
       "</style>\n",
       "<table border=\"1\" class=\"dataframe\">\n",
       "  <thead>\n",
       "    <tr style=\"text-align: right;\">\n",
       "      <th></th>\n",
       "      <th>label</th>\n",
       "      <th>input</th>\n",
       "      <th>mistral_output</th>\n",
       "      <th>phi-2_output</th>\n",
       "    </tr>\n",
       "  </thead>\n",
       "  <tbody>\n",
       "    <tr>\n",
       "      <th>0</th>\n",
       "      <td>1</td>\n",
       "      <td>A customer left us a 1-star review: 'i had the...</td>\n",
       "      <td>To improve the customer's experience, we can t...</td>\n",
       "      <td>A customer left us a 1-star review: 'i had the...</td>\n",
       "    </tr>\n",
       "    <tr>\n",
       "      <th>1</th>\n",
       "      <td>3</td>\n",
       "      <td>A customer left us a 3-star review: 'i've been...</td>\n",
       "      <td>To improve the customer's experience, consider...</td>\n",
       "      <td>The customer's experience is a combination of ...</td>\n",
       "    </tr>\n",
       "    <tr>\n",
       "      <th>2</th>\n",
       "      <td>3</td>\n",
       "      <td>A customer left us a 3-star review: 'a problem...</td>\n",
       "      <td>To improve the customer's experience, consider...</td>\n",
       "      <td>The customer's experience is a complex and dyn...</td>\n",
       "    </tr>\n",
       "    <tr>\n",
       "      <th>3</th>\n",
       "      <td>1</td>\n",
       "      <td>A customer left us a 1-star review: 'i'd never...</td>\n",
       "      <td>To improve the customer's experience, we can f...</td>\n",
       "      <td>In the world of customer service, it is import...</td>\n",
       "    </tr>\n",
       "    <tr>\n",
       "      <th>4</th>\n",
       "      <td>2</td>\n",
       "      <td>A customer left us a 2-star review: 'oh rue 21...</td>\n",
       "      <td>To improve the customer's experience at Rue21,...</td>\n",
       "      <td>A: I think you can use this: $str = ''' a cust...</td>\n",
       "    </tr>\n",
       "  </tbody>\n",
       "</table>\n",
       "</div>"
      ],
      "text/plain": [
       "   label                                              input  \\\n",
       "0      1  A customer left us a 1-star review: 'i had the...   \n",
       "1      3  A customer left us a 3-star review: 'i've been...   \n",
       "2      3  A customer left us a 3-star review: 'a problem...   \n",
       "3      1  A customer left us a 1-star review: 'i'd never...   \n",
       "4      2  A customer left us a 2-star review: 'oh rue 21...   \n",
       "\n",
       "                                      mistral_output  \\\n",
       "0  To improve the customer's experience, we can t...   \n",
       "1  To improve the customer's experience, consider...   \n",
       "2  To improve the customer's experience, consider...   \n",
       "3  To improve the customer's experience, we can f...   \n",
       "4  To improve the customer's experience at Rue21,...   \n",
       "\n",
       "                                        phi-2_output  \n",
       "0  A customer left us a 1-star review: 'i had the...  \n",
       "1  The customer's experience is a combination of ...  \n",
       "2  The customer's experience is a complex and dyn...  \n",
       "3  In the world of customer service, it is import...  \n",
       "4  A: I think you can use this: $str = ''' a cust...  "
      ]
     },
     "execution_count": 26,
     "metadata": {},
     "output_type": "execute_result"
    }
   ],
   "source": [
    "train10k_benchmark.head()"
   ]
  },
  {
   "cell_type": "code",
   "execution_count": null,
   "metadata": {},
   "outputs": [],
   "source": [
    "# Function to generate feedback\n",
    "if tokenizer.pad_token is None:\n",
    "    tokenizer.pad_token = tokenizer.eos_token\n",
    "    \n",
    "# Define function to generate responses\n",
    "def generate_response(prompts, batch_size=8, checkpoint_path='inference_checkpoint.pkl'):\n",
    "    all_responses = [\"\"] * len(prompts)  # Pre-allocate list\n",
    "    start_batch = 0\n",
    "    prompts = list(prompts)\n",
    "\n",
    "    # Load checkpoint if it exists\n",
    "    if os.path.exists(checkpoint_path):\n",
    "        try:\n",
    "            with open(checkpoint_path, 'rb') as f:\n",
    "                checkpoint = pickle.load(f)\n",
    "                all_responses = checkpoint['responses']\n",
    "                start_batch = checkpoint['next_batch']\n",
    "                print(f\"Resuming from checkpoint: {start_batch * batch_size}/{len(prompts)} items processed\")\n",
    "        except Exception as e:\n",
    "            print(f\"Error loading checkpoint: {e}. Starting fresh...\")\n",
    "            all_responses = [\"\"] * len(prompts)\n",
    "            start_batch = 0\n",
    "\n",
    "    try:\n",
    "        for i in tqdm(range(start_batch * batch_size, len(prompts), batch_size), desc=\"Processing batches\"):\n",
    "            batch_prompts = prompts[i:i+batch_size]\n",
    "            batch_idx = i // batch_size  # Track batch number\n",
    "\n",
    "            try:\n",
    "                inputs = tokenizer(batch_prompts, \n",
    "                                   padding=True, \n",
    "                                   truncation=True, \n",
    "                                   max_length=512, \n",
    "                                   return_tensors=\"pt\").to(device)\n",
    "\n",
    "                with torch.no_grad():\n",
    "                    outputs = model.generate(**inputs, \n",
    "                                             max_new_tokens=500,\n",
    "                                             no_repeat_ngram_size=3,\n",
    "                                             do_sample=True,\n",
    "                                             pad_token_id=tokenizer.eos_token_id,\n",
    "                                             temperature=0.5,\n",
    "                                             top_p=0.9,\n",
    "                                             top_k=50\n",
    "                                             )\n",
    "\n",
    "                batch_responses = []\n",
    "                for j in range(len(outputs)):\n",
    "                    try:\n",
    "                        full_text = tokenizer.decode(outputs[j], skip_special_tokens=True)\n",
    "                        prompt_text = tokenizer.decode(inputs['input_ids'][j], skip_special_tokens=True)\n",
    "                        \n",
    "                        response = full_text.replace(prompt_text, \"\", 1).strip()\n",
    "                        response = clean_response(response)\n",
    "                    except Exception as e:\n",
    "                        response = \"ERROR_GENERATING_RESPONSE\"\n",
    "                        print(f\"Error: {e}\")\n",
    "                        \n",
    "                    batch_responses.append(response)\n",
    "\n",
    "                # Assign responses to correct indices\n",
    "                all_responses[i:i+batch_size] = batch_responses\n",
    "\n",
    "                # Save progress to checkpoint (AFTER a batch is completed)\n",
    "                checkpoint = {'responses': all_responses, 'next_batch': batch_idx + 1}\n",
    "                with open(checkpoint_path, 'wb') as f:\n",
    "                    pickle.dump(checkpoint, f)\n",
    "\n",
    "                # Free GPU memory\n",
    "                if torch.cuda.is_available():\n",
    "                    torch.cuda.empty_cache()\n",
    "                    gc.collect()\n",
    "\n",
    "            except Exception as e:\n",
    "                print(f\"Error in batch {batch_idx}: {e}\")\n",
    "                \n",
    "                # Assign error responses only to the failed batch\n",
    "                all_responses[i:i+batch_size] = [\"ERROR_GENERATING_RESPONSE\"] * len(batch_prompts)\n",
    "\n",
    "                # Save progress to checkpoint even if batch fails\n",
    "                checkpoint = {'responses': all_responses, 'next_batch': batch_idx + 1}\n",
    "                with open(checkpoint_path, 'wb') as f:\n",
    "                    pickle.dump(checkpoint, f)\n",
    "\n",
    "    except KeyboardInterrupt:\n",
    "        print(\"\\nProcess interrupted. Saving progress...\")\n",
    "        with open(checkpoint_path, 'wb') as f:\n",
    "            pickle.dump({'responses': all_responses, 'next_batch': i // batch_size + 1}, f)\n",
    "\n",
    "    # Fill any missing responses\n",
    "    if \"\" in all_responses:\n",
    "        all_responses = [\"ERROR_GENERATING_RESPONSE\" if r == \"\" else r for r in all_responses]\n",
    "\n",
    "    # Remove checkpoint if processing completes successfully\n",
    "    if len(all_responses) == len(prompts) and os.path.exists(checkpoint_path):\n",
    "        os.remove(checkpoint_path)\n",
    "        print(\"Processing completed, checkpoint removed.\")\n",
    "\n",
    "    return all_responses"
   ]
  },
  {
   "cell_type": "code",
   "execution_count": 7,
   "metadata": {},
   "outputs": [
    {
     "data": {
      "application/vnd.microsoft.datawrangler.viewer.v0+json": {
       "columns": [
        {
         "name": "index",
         "rawType": "int64",
         "type": "integer"
        },
        {
         "name": "label",
         "rawType": "int64",
         "type": "integer"
        },
        {
         "name": "input",
         "rawType": "object",
         "type": "string"
        },
        {
         "name": "mistral_output",
         "rawType": "object",
         "type": "string"
        },
        {
         "name": "phi-2_output",
         "rawType": "object",
         "type": "string"
        },
        {
         "name": "phi_input",
         "rawType": "object",
         "type": "string"
        }
       ],
       "conversionMethod": "pd.DataFrame",
       "ref": "ec3f54a4-7a95-41a8-9898-d9f36ae59133",
       "rows": [
        [
         "0",
         "1",
         "A customer left us a 1-star review: 'i had the worst nightmare ever! i book 6 continues flight in my 1 week vacation with us n nairway, i took 1st flight and my luggage was lost and delayed. and the 2nd flight is late n nfor 2 hour ! and then i decide to drive to my destination . after i arrive at 3rd flight. n ntheyh told me simply because i skip a flight. they cancel all of our flight without any n nrefund or replacement. they told me unless i drive back to my 2nd destination and wait for n nanother day to catch the next flight to start over again . it sounds just really really n ncrazy and does not make any sense . i try to call talk to a manager after a manager they n ninsist i pay a 1000 dollar penatly . which is price for all 6 flight. they cancel all my n nflight and lie to me on the customer service phone. i sit at airport and they n nwont' let us go on our flight . they wont refund anything or let us get on any flight. we n nhave to sit at the aiport and use our laptop to get ticket with another airline to move on n nfor our trip and after we have to spent even more for buy so many other last minute flight n nticket to go to our other destination and go home. it is very sad and i dont' know how can n na airline have such awful mean disrespect and tricky service. trust me. they sold all of n nour seat to other ppl. cuz we check later those flight are all full. i will not recoomend n nanyone try this airline unless u want to ruin ur trip.' The customer feels fear, neutral, disappointment. Concisely, how can we best improve our services for this customer's experience?",
         "To improve the customer's experience, we can take the following steps: 1. Apologize sincerely for the inconvenience caused due to the lost and delayed luggage, flight delays, and the cancellation of flights. 2. Offer a full refund for the affected flights and provide compensation for the additional expenses incurred due to the last-minute changes, such as the cost of booking new flights and any other related expenses. 3. Ensure that the customer's luggage is promptly delivered to their destination.",
         "A customer left us a 1-star review: 'i had the worst nightmare ever! i book 6 continues flight in my 1 week vacation with us n nairway, i took 1st flight and my luggage was lost and delayed. and the 2nd flight is late n nfor 2 hour! and then i decide to drive to my destination. after i arrive at 3rd flight. n ntheyh told me simply because i skip a flight. they cancel all of our flight without any n nrefund or replacement. they told me unless i drive back to my 2nd destination and wait for n nanother day to catch the next flight to start over again. it sounds just really really n ncrazy and does not make any sense. i try to call talk to a manager after a manager they n ninsist i pay a 1000 dollar penatly. which is price for all 6 flight. they cancel all my n nflight and lie to me on the customer service phone. i sit at airport and they n nwont' let us go on our flight. they wont refund anything or let us get on any flight. we n nhave to sit at the aiport and use our laptop to get ticket with another airline to move on n nfor our trip and after we have to spent even more for buy so many other last minute flight n nticket to go to our other destination and go home. it is very sad and i dont' know how can n na airline have such awful mean disrespect and tricky service. trust me. they sold all of n nour seat to other ppl. cuz we check later those flight are all full. i will not recoomend n nanyone try this airline unless u want to ruin ur trip.' The customer feels fear, neutral, disappointment. Concisely, how can we best improve our services for this customer's experience? The customer's experience is a nightmare. The airline has lost the customer's luggage and delayed the flight. The customer is forced to drive to their destination and then has to wait for the next flight. The airline cancels the customer's flight and refuses to refund or replace it. The airline also demands a 1000 dollar penalty fee. The customer feels fear, neutral, disappointment.",
         "Instruction: A customer left us a 1-star review: 'i had the worst nightmare ever! i book 6 continues flight in my 1 week vacation with us n nairway, i took 1st flight and my luggage was lost and delayed. and the 2nd flight is late n nfor 2 hour ! and then i decide to drive to my destination . after i arrive at 3rd flight. n ntheyh told me simply because i skip a flight. they cancel all of our flight without any n nrefund or replacement. they told me unless i drive back to my 2nd destination and wait for n nanother day to catch the next flight to start over again . it sounds just really really n ncrazy and does not make any sense . i try to call talk to a manager after a manager they n ninsist i pay a 1000 dollar penatly . which is price for all 6 flight. they cancel all my n nflight and lie to me on the customer service phone. i sit at airport and they n nwont' let us go on our flight . they wont refund anything or let us get on any flight. we n nhave to sit at the aiport and use our laptop to get ticket with another airline to move on n nfor our trip and after we have to spent even more for buy so many other last minute flight n nticket to go to our other destination and go home. it is very sad and i dont' know how can n na airline have such awful mean disrespect and tricky service. trust me. they sold all of n nour seat to other ppl. cuz we check later those flight are all full. i will not recoomend n nanyone try this airline unless u want to ruin ur trip.' The customer feels fear, neutral, disappointment. Concisely, how can we best improve our services for this customer's experience?\nResponse: "
        ],
        [
         "1",
         "3",
         "A customer left us a 3-star review: 'i've been here twice. once while underage and a very nice out of towner slipped the bouncer a 20 to let me and my sister and friend in during the ncaa football championship game a few years ago. and another time as a last minute stop for some food, finally of age. and didn't pay cover. n ni had fun both times. yeah it's a little bit of a dive, but it's a fun change of pace.' The customer feels joy, amusement, approval. Concisely, how can we best improve our services for this customer's experience?",
         "To improve the customer's experience, consider the following steps: 1. Age Verification: Implement a more stringent age verification process to ensure that minors are not allowed entry, even with the help of staff. This will maintain the integrity of the establishment and adhere to legal requirements. 2. Cover Charge: If applicable, make it clearer that a cover charge is required for entry, especially for special events like the NCAA football championship game. This will help prevent confusion and ensure that all customers are aware of the costs associated with their visit.",
         "The customer's experience is a combination of the service and the environment. The service is the interaction with the staff and the food. The environment is the atmosphere of the restaurant. The customer's experience is a combination of the service and the environment. The service is the interaction with the staff and the food. The environment is the atmosphere of the restaurant. The customer's experience is a combination of the service and the environment. The service is the interaction with the staff and the food. The environment is the atmosphere of the restaurant. The customer's experience is a combination of the service and the environment. The service is the interaction with the staff and the food. The environment is the atmosphere of the restaurant. The customer's experience is a combination of the service and the environment. The service is the interaction with the staff and the food. The environment is the atmosphere of the restaurant. The customer's experience is a combination of the service and the environment.",
         "Instruction: A customer left us a 3-star review: 'i've been here twice. once while underage and a very nice out of towner slipped the bouncer a 20 to let me and my sister and friend in during the ncaa football championship game a few years ago. and another time as a last minute stop for some food, finally of age. and didn't pay cover. n ni had fun both times. yeah it's a little bit of a dive, but it's a fun change of pace.' The customer feels joy, amusement, approval. Concisely, how can we best improve our services for this customer's experience?\nResponse: "
        ],
        [
         "2",
         "3",
         "A customer left us a 3-star review: 'a problem i have with salons of this type is the tip has to be in cash..no exceptions. in today's world of credit debit cards it is out of date practice and not customer focused.' The customer feels neutral, disapproval, annoyance. Concisely, how can we best improve our services for this customer's experience?",
         "To improve the customer's experience, consider implementing a system that accepts credit/debit card payments for tips. This change would make the tipping process more convenient and customer-focused, aligning with the expectations of today's digital world. Additionally, addressing this issue in a personalized response to the review could help demonstrate your commitment to customer satisfaction.",
         "The customer's experience is a complex and dynamic process. It is a process that is influenced by the customer's expectations, the service provided, the service received, and the customer's perception of the service. The customer's experience is also influenced by the customer's emotions, attitudes, and behaviors. The customer's experience is a complex and dynamic process. It is a process that is influenced by the customer's expectations, the service provided, the service received, and the customer's perception of the service. The customer's experience is also influenced by the customer's emotions, attitudes, and behaviors. The customer's experience is a complex and dynamic process. It is a process that is influenced by the customer's expectations, the service provided, the service received, and the customer's perception of the service. The customer's experience is also influenced by the customer's emotions, attitudes, and behaviors. The customer's experience is a complex and dynamic process.",
         "Instruction: A customer left us a 3-star review: 'a problem i have with salons of this type is the tip has to be in cash..no exceptions. in today's world of credit debit cards it is out of date practice and not customer focused.' The customer feels neutral, disapproval, annoyance. Concisely, how can we best improve our services for this customer's experience?\nResponse: "
        ],
        [
         "3",
         "1",
         "A customer left us a 1-star review: 'i'd never had these guys, and they had good reviews, so i was excited to try them out. n ni called and asked if they could deliver downtown. they said yes, but they were slammed, so it would take 45 minutes . n ni said that's totally okay, then ordered. n nan hour later i got a phone call telling me that they wouldn't be able to get it to me in any sort of reasonable time, and asked me if i could come pick it up instead. quite upset, i said nevermind. n ni order delivery for a reason because i don't want to get in my car and go anywhere. if i was willing to do takeout, i'd just dine in. n nif i'd just been told initially that no, they're too busy to do delivery at the moment , that would have been perfectly fine. but making me wait an hour to tell me that i was sol makes me furious. n ni guess i'll never know if your pizza's any good, pizza a metro.' The customer feels disappointment, neutral, disapproval. Concisely, how can we best improve our services for this customer's experience?",
         "To improve the customer's experience, we can focus on the following areas: 1. Accurate Estimation: Provide more accurate delivery time estimates to avoid customer disappointment. 2. Communication: Improve communication by keeping customers informed about any changes or delays in their orders. 3. Availability: Clearly communicate if the service (in this case, delivery) is not available during certain times or under specific circumstances. 4. Flexibility: Offer flexible options for customers, such as takeout or dine-in, to accommodate their preferences. 5. Empathy: Show empathy towards customers when there are delays or issues with their orders.",
         "In the world of customer service, it is important to understand how customers feel about the products and services they receive. One way to measure this is by using a tool called the Net Promoter Score (NPS). The NPS is a simple question that asks customers to rate their likelihood of recommending a product or service to others on a scale of 0 to 10. The NPS is based on the idea that customers who are promoters are more likely to recommend a product or service, while customers who are detractors are less likely to do so. By calculating the percentage of promoters minus the percentage of detractors, we can determine the overall NPS score.",
         "Instruction: A customer left us a 1-star review: 'i'd never had these guys, and they had good reviews, so i was excited to try them out. n ni called and asked if they could deliver downtown. they said yes, but they were slammed, so it would take 45 minutes . n ni said that's totally okay, then ordered. n nan hour later i got a phone call telling me that they wouldn't be able to get it to me in any sort of reasonable time, and asked me if i could come pick it up instead. quite upset, i said nevermind. n ni order delivery for a reason because i don't want to get in my car and go anywhere. if i was willing to do takeout, i'd just dine in. n nif i'd just been told initially that no, they're too busy to do delivery at the moment , that would have been perfectly fine. but making me wait an hour to tell me that i was sol makes me furious. n ni guess i'll never know if your pizza's any good, pizza a metro.' The customer feels disappointment, neutral, disapproval. Concisely, how can we best improve our services for this customer's experience?\nResponse: "
        ],
        [
         "4",
         "2",
         "A customer left us a 2-star review: 'oh rue 21... n non the one hand, walking around this shop is always a fun way to pass the time. things in here are always very cute, i won't lie often as i walk i'll pick up a few things i wouldn't mind trying on... n n...and by the end of my lap around the store, i'll almost always return what i pick up without actually trying it on. why? well, because on second inspection i realize and remind myself, oh yeah this clothing is just not for me anymore. n nyes the stuff here is cheap, which is great if you're a young student shopping for the latest trends. i, however, do not have a good track record with rue21. not only have items i've purchased become a bit uncomfortable after a couple wears, i've had items rip within a couple months if not days after buying them heck, i've found broken jewelry and torn clothes as i'm walking around the store itself. n nbut i get it sometimes you just have to buy that really cute top or pair of shoes or what have you. so if you shop here, cool. rue21's just not for me.' The customer feels realization, admiration, amusement. Concisely, how can we best improve our services for this customer's experience?",
         "To improve the customer's experience at Rue21, we could focus on the following areas: 1. Quality Assurance: Enhance the quality of the clothing to ensure they last longer and are more comfortable for a wider range of customers. This could involve using higher-quality materials and improving the manufacturing process. 2. Size and Fit: Offer a more diverse range of sizes to cater to a broader customer base. Additionally, provide more detailed size guides to help customers find the right fit. 3. In-store Inspection: Regularly inspect and maintain the store to prevent broken jewelry and torn clothes from being on display. This will help improve the overall shopping experience.",
         "A: I think you can use this: $str = ''' a customer left us a 2-star review: 'oh rue 21... n non the one hand, walking around this shop is always a fun way to pass the time. things in here are always very cute, i won't lie often as i walk i'll pick up a few things i wouldn't mind trying on... n n...and by the end of my lap around the store, i'll almost always return what i pick up without actually trying it on. why? well, because on second inspection i realize and remind myself, oh yeah this clothing is just not for me anymore. n nyes the stuff here is cheap, which is great if you're a young student shopping for the latest trends. i, however, do not have a good track record with rue21.",
         "Instruction: A customer left us a 2-star review: 'oh rue 21... n non the one hand, walking around this shop is always a fun way to pass the time. things in here are always very cute, i won't lie often as i walk i'll pick up a few things i wouldn't mind trying on... n n...and by the end of my lap around the store, i'll almost always return what i pick up without actually trying it on. why? well, because on second inspection i realize and remind myself, oh yeah this clothing is just not for me anymore. n nyes the stuff here is cheap, which is great if you're a young student shopping for the latest trends. i, however, do not have a good track record with rue21. not only have items i've purchased become a bit uncomfortable after a couple wears, i've had items rip within a couple months if not days after buying them heck, i've found broken jewelry and torn clothes as i'm walking around the store itself. n nbut i get it sometimes you just have to buy that really cute top or pair of shoes or what have you. so if you shop here, cool. rue21's just not for me.' The customer feels realization, admiration, amusement. Concisely, how can we best improve our services for this customer's experience?\nResponse: "
        ]
       ],
       "shape": {
        "columns": 5,
        "rows": 5
       }
      },
      "text/html": [
       "<div>\n",
       "<style scoped>\n",
       "    .dataframe tbody tr th:only-of-type {\n",
       "        vertical-align: middle;\n",
       "    }\n",
       "\n",
       "    .dataframe tbody tr th {\n",
       "        vertical-align: top;\n",
       "    }\n",
       "\n",
       "    .dataframe thead th {\n",
       "        text-align: right;\n",
       "    }\n",
       "</style>\n",
       "<table border=\"1\" class=\"dataframe\">\n",
       "  <thead>\n",
       "    <tr style=\"text-align: right;\">\n",
       "      <th></th>\n",
       "      <th>label</th>\n",
       "      <th>input</th>\n",
       "      <th>mistral_output</th>\n",
       "      <th>phi-2_output</th>\n",
       "      <th>phi_input</th>\n",
       "    </tr>\n",
       "  </thead>\n",
       "  <tbody>\n",
       "    <tr>\n",
       "      <th>0</th>\n",
       "      <td>1</td>\n",
       "      <td>A customer left us a 1-star review: 'i had the...</td>\n",
       "      <td>To improve the customer's experience, we can t...</td>\n",
       "      <td>A customer left us a 1-star review: 'i had the...</td>\n",
       "      <td>Instruction: A customer left us a 1-star revie...</td>\n",
       "    </tr>\n",
       "    <tr>\n",
       "      <th>1</th>\n",
       "      <td>3</td>\n",
       "      <td>A customer left us a 3-star review: 'i've been...</td>\n",
       "      <td>To improve the customer's experience, consider...</td>\n",
       "      <td>The customer's experience is a combination of ...</td>\n",
       "      <td>Instruction: A customer left us a 3-star revie...</td>\n",
       "    </tr>\n",
       "    <tr>\n",
       "      <th>2</th>\n",
       "      <td>3</td>\n",
       "      <td>A customer left us a 3-star review: 'a problem...</td>\n",
       "      <td>To improve the customer's experience, consider...</td>\n",
       "      <td>The customer's experience is a complex and dyn...</td>\n",
       "      <td>Instruction: A customer left us a 3-star revie...</td>\n",
       "    </tr>\n",
       "    <tr>\n",
       "      <th>3</th>\n",
       "      <td>1</td>\n",
       "      <td>A customer left us a 1-star review: 'i'd never...</td>\n",
       "      <td>To improve the customer's experience, we can f...</td>\n",
       "      <td>In the world of customer service, it is import...</td>\n",
       "      <td>Instruction: A customer left us a 1-star revie...</td>\n",
       "    </tr>\n",
       "    <tr>\n",
       "      <th>4</th>\n",
       "      <td>2</td>\n",
       "      <td>A customer left us a 2-star review: 'oh rue 21...</td>\n",
       "      <td>To improve the customer's experience at Rue21,...</td>\n",
       "      <td>A: I think you can use this: $str = ''' a cust...</td>\n",
       "      <td>Instruction: A customer left us a 2-star revie...</td>\n",
       "    </tr>\n",
       "  </tbody>\n",
       "</table>\n",
       "</div>"
      ],
      "text/plain": [
       "   label                                              input  \\\n",
       "0      1  A customer left us a 1-star review: 'i had the...   \n",
       "1      3  A customer left us a 3-star review: 'i've been...   \n",
       "2      3  A customer left us a 3-star review: 'a problem...   \n",
       "3      1  A customer left us a 1-star review: 'i'd never...   \n",
       "4      2  A customer left us a 2-star review: 'oh rue 21...   \n",
       "\n",
       "                                      mistral_output  \\\n",
       "0  To improve the customer's experience, we can t...   \n",
       "1  To improve the customer's experience, consider...   \n",
       "2  To improve the customer's experience, consider...   \n",
       "3  To improve the customer's experience, we can f...   \n",
       "4  To improve the customer's experience at Rue21,...   \n",
       "\n",
       "                                        phi-2_output  \\\n",
       "0  A customer left us a 1-star review: 'i had the...   \n",
       "1  The customer's experience is a combination of ...   \n",
       "2  The customer's experience is a complex and dyn...   \n",
       "3  In the world of customer service, it is import...   \n",
       "4  A: I think you can use this: $str = ''' a cust...   \n",
       "\n",
       "                                           phi_input  \n",
       "0  Instruction: A customer left us a 1-star revie...  \n",
       "1  Instruction: A customer left us a 3-star revie...  \n",
       "2  Instruction: A customer left us a 3-star revie...  \n",
       "3  Instruction: A customer left us a 1-star revie...  \n",
       "4  Instruction: A customer left us a 2-star revie...  "
      ]
     },
     "execution_count": 7,
     "metadata": {},
     "output_type": "execute_result"
    }
   ],
   "source": [
    "# The instructions are differently stuctured during training:\n",
    "train10k_benchmark['phi_input'] = train10k_benchmark.apply(lambda row: row['input'] + '\\nResponse: ', axis=1)\n",
    "\n",
    "train10k_benchmark.head()"
   ]
  },
  {
   "cell_type": "code",
   "execution_count": null,
   "metadata": {},
   "outputs": [],
   "source": [
    "train10k_benchmark.drop(columns=['phi-2_output_fine-tuned'], inplace=True)"
   ]
  },
  {
   "cell_type": "code",
   "execution_count": 9,
   "metadata": {},
   "outputs": [
    {
     "data": {
      "application/vnd.jupyter.widget-view+json": {
       "model_id": "daf777d51ddc4e139ac7af2dddcf0412",
       "version_major": 2,
       "version_minor": 0
      },
      "text/plain": [
       "Processing batches:   0%|          | 0/200 [00:00<?, ?it/s]"
      ]
     },
     "metadata": {},
     "output_type": "display_data"
    },
    {
     "name": "stderr",
     "output_type": "stream",
     "text": [
      "Starting from v4.46, the `logits` model output will have the same type as the model (except at train time, where it will always be FP32)\n"
     ]
    },
    {
     "name": "stdout",
     "output_type": "stream",
     "text": [
      "Processing completed, checkpoint removed.\n"
     ]
    }
   ],
   "source": [
    "train10k_benchmark['phi-2_output_fine-tuned'] = generate_response(train10k_benchmark['phi_input'], batch_size=5)"
   ]
  },
  {
   "cell_type": "code",
   "execution_count": 58,
   "metadata": {},
   "outputs": [
    {
     "data": {
      "application/vnd.microsoft.datawrangler.viewer.v0+json": {
       "columns": [
        {
         "name": "index",
         "rawType": "int64",
         "type": "integer"
        },
        {
         "name": "input",
         "rawType": "object",
         "type": "string"
        },
        {
         "name": "phi-2_output_final",
         "rawType": "object",
         "type": "string"
        }
       ],
       "conversionMethod": "pd.DataFrame",
       "ref": "04796f92-26f5-446e-b725-530d69e3f6ed",
       "rows": [
        [
         "0",
         "A customer left us a 1-star review: 'i had the worst nightmare ever! i book 6 continues flight in my 1 week vacation with us n nairway, i took 1st flight and my luggage was lost and delayed. and the 2nd flight is late n nfor 2 hour ! and then i decide to drive to my destination . after i arrive at 3rd flight. n ntheyh told me simply because i skip a flight. they cancel all of our flight without any n nrefund or replacement. they told me unless i drive back to my 2nd destination and wait for n nanother day to catch the next flight to start over again . it sounds just really really n ncrazy and does not make any sense . i try to call talk to a manager after a manager they n ninsist i pay a 1000 dollar penatly . which is price for all 6 flight. they cancel all my n nflight and lie to me on the customer service phone. i sit at airport and they n nwont' let us go on our flight . they wont refund anything or let us get on any flight. we n nhave to sit at the aiport and use our laptop to get ticket with another airline to move on n nfor our trip and after we have to spent even more for buy so many other last minute flight n nticket to go to our other destination and go home. it is very sad and i dont' know how can n na airline have such awful mean disrespect and tricky service. trust me. they sold all of n nour seat to other ppl. cuz we check later those flight are all full. i will not recoomend n nanyone try this airline unless u want to ruin ur trip.' The customer feels fear, neutral, disappointment. Concisely, how can we best improve our services for this customer's experience?",
         "1. Apologize for the poor experience: Acknowledge the customer's frustration and express regret for the inconvenience they have experienced."
        ],
        [
         "1",
         "A customer left us a 3-star review: 'i've been here twice. once while underage and a very nice out of towner slipped the bouncer a 20 to let me and my sister and friend in during the ncaa football championship game a few years ago. and another time as a last minute stop for some food, finally of age. and didn't pay cover. n ni had fun both times. yeah it's a little bit of a dive, but it's a fun change of pace.' The customer feels joy, amusement, approval. Concisely, how can we best improve our services for this customer's experience?",
         "1. Verify Age: Implement a more stringent age verification process, especially during special events like the NCAA Football Championship Game, to prevent underage customers from entering without proper identification."
        ],
        [
         "2",
         "A customer left us a 3-star review: 'a problem i have with salons of this type is the tip has to be in cash..no exceptions. in today's world of credit debit cards it is out of date practice and not customer focused.' The customer feels neutral, disapproval, annoyance. Concisely, how can we best improve our services for this customer's experience?",
         "1. Emphasize the importance of cash tips: Highlight the benefits of cash tips, such as immediate recognition for excellent service, flexibility, and the ability to donate directly to a cause of choice."
        ],
        [
         "3",
         "A customer left us a 1-star review: 'i'd never had these guys, and they had good reviews, so i was excited to try them out. n ni called and asked if they could deliver downtown. they said yes, but they were slammed, so it would take 45 minutes . n ni said that's totally okay, then ordered. n nan hour later i got a phone call telling me that they wouldn't be able to get it to me in any sort of reasonable time, and asked me if i could come pick it up instead. quite upset, i said nevermind. n ni order delivery for a reason because i don't want to get in my car and go anywhere. if i was willing to do takeout, i'd just dine in. n nif i'd just been told initially that no, they're too busy to do delivery at the moment , that would have been perfectly fine. but making me wait an hour to tell me that i was sol makes me furious. n ni guess i'll never know if your pizza's any good, pizza a metro.' The customer feels disappointment, neutral, disapproval. Concisely, how can we best improve our services for this customer's experience?",
         "1. Improve Communication: Ensure that the delivery team is more transparent about their schedule and any potential delays. This will help manage customer expectations and reduce frustration."
        ],
        [
         "4",
         "A customer left us a 2-star review: 'oh rue 21... n non the one hand, walking around this shop is always a fun way to pass the time. things in here are always very cute, i won't lie often as i walk i'll pick up a few things i wouldn't mind trying on... n n...and by the end of my lap around the store, i'll almost always return what i pick up without actually trying it on. why? well, because on second inspection i realize and remind myself, oh yeah this clothing is just not for me anymore. n nyes the stuff here is cheap, which is great if you're a young student shopping for the latest trends. i, however, do not have a good track record with rue21. not only have items i've purchased become a bit uncomfortable after a couple wears, i've had items rip within a couple months if not days after buying them heck, i've found broken jewelry and torn clothes as i'm walking around the store itself. n nbut i get it sometimes you just have to buy that really cute top or pair of shoes or what have you. so if you shop here, cool. rue21's just not for me.' The customer feels realization, admiration, amusement. Concisely, how can we best improve our services for this customer's experience?",
         "1. Improve product quality: Ensure that the clothing and accessories sold in your store are of high quality and durable. This will help address the issue of items becoming uncomfortable or breaking quickly.\n2. Enhance customer service: Train staff to provide better assistance to customers, helping them make informed decisions about their purchases. This may involve offering size guidance, explaining care instructions, and providing recommendations based on the customer's preferences.\n3. Offer a trial period: Implement a trial period for certain items, allowing customers to try them on before making a purchase. This can help prevent customers from returning items they realize are not a good fit."
        ]
       ],
       "shape": {
        "columns": 2,
        "rows": 5
       }
      },
      "text/html": [
       "<div>\n",
       "<style scoped>\n",
       "    .dataframe tbody tr th:only-of-type {\n",
       "        vertical-align: middle;\n",
       "    }\n",
       "\n",
       "    .dataframe tbody tr th {\n",
       "        vertical-align: top;\n",
       "    }\n",
       "\n",
       "    .dataframe thead th {\n",
       "        text-align: right;\n",
       "    }\n",
       "</style>\n",
       "<table border=\"1\" class=\"dataframe\">\n",
       "  <thead>\n",
       "    <tr style=\"text-align: right;\">\n",
       "      <th></th>\n",
       "      <th>input</th>\n",
       "      <th>phi-2_output_final</th>\n",
       "    </tr>\n",
       "  </thead>\n",
       "  <tbody>\n",
       "    <tr>\n",
       "      <th>0</th>\n",
       "      <td>A customer left us a 1-star review: 'i had the...</td>\n",
       "      <td>1. Apologize for the poor experience: Acknowle...</td>\n",
       "    </tr>\n",
       "    <tr>\n",
       "      <th>1</th>\n",
       "      <td>A customer left us a 3-star review: 'i've been...</td>\n",
       "      <td>1. Verify Age: Implement a more stringent age ...</td>\n",
       "    </tr>\n",
       "    <tr>\n",
       "      <th>2</th>\n",
       "      <td>A customer left us a 3-star review: 'a problem...</td>\n",
       "      <td>1. Emphasize the importance of cash tips: High...</td>\n",
       "    </tr>\n",
       "    <tr>\n",
       "      <th>3</th>\n",
       "      <td>A customer left us a 1-star review: 'i'd never...</td>\n",
       "      <td>1. Improve Communication: Ensure that the deli...</td>\n",
       "    </tr>\n",
       "    <tr>\n",
       "      <th>4</th>\n",
       "      <td>A customer left us a 2-star review: 'oh rue 21...</td>\n",
       "      <td>1. Improve product quality: Ensure that the cl...</td>\n",
       "    </tr>\n",
       "  </tbody>\n",
       "</table>\n",
       "</div>"
      ],
      "text/plain": [
       "                                               input  \\\n",
       "0  A customer left us a 1-star review: 'i had the...   \n",
       "1  A customer left us a 3-star review: 'i've been...   \n",
       "2  A customer left us a 3-star review: 'a problem...   \n",
       "3  A customer left us a 1-star review: 'i'd never...   \n",
       "4  A customer left us a 2-star review: 'oh rue 21...   \n",
       "\n",
       "                                  phi-2_output_final  \n",
       "0  1. Apologize for the poor experience: Acknowle...  \n",
       "1  1. Verify Age: Implement a more stringent age ...  \n",
       "2  1. Emphasize the importance of cash tips: High...  \n",
       "3  1. Improve Communication: Ensure that the deli...  \n",
       "4  1. Improve product quality: Ensure that the cl...  "
      ]
     },
     "execution_count": 58,
     "metadata": {},
     "output_type": "execute_result"
    }
   ],
   "source": [
    "train10k_benchmark.head()"
   ]
  },
  {
   "cell_type": "code",
   "execution_count": 81,
   "metadata": {},
   "outputs": [],
   "source": [
    "train10k_benchmark.to_csv('../data/ready_for_phi-2/eval/train10k_sample_fine-tuned.csv', index=False)"
   ]
  },
  {
   "cell_type": "markdown",
   "metadata": {},
   "source": [
    "## Evaluate"
   ]
  },
  {
   "cell_type": "code",
   "execution_count": 83,
   "metadata": {},
   "outputs": [
    {
     "data": {
      "text/plain": [
       "((1000, 6),\n",
       " Index(['label', 'input', 'mistral_output', 'phi-2_output', 'phi_input',\n",
       "        'phi-2_output_fine-tuned'],\n",
       "       dtype='object'))"
      ]
     },
     "execution_count": 83,
     "metadata": {},
     "output_type": "execute_result"
    }
   ],
   "source": [
    "# Load\n",
    "train10k_benchmark = pd.read_csv('../data/ready_for_phi-2/eval/train10k_sample_fine-tuned.csv')\n",
    "\n",
    "train10k_benchmark.shape, train10k_benchmark.columns"
   ]
  },
  {
   "cell_type": "code",
   "execution_count": 85,
   "metadata": {},
   "outputs": [
    {
     "data": {
      "text/plain": [
       "Index(['label', 'input', 'mistral_output', 'phi-2_output_base_model',\n",
       "       'phi_input', 'phi-2_output_fine-tuned'],\n",
       "      dtype='object')"
      ]
     },
     "execution_count": 85,
     "metadata": {},
     "output_type": "execute_result"
    }
   ],
   "source": [
    "# rename column\n",
    "train10k_benchmark.columns = ['label', 'input', 'mistral_output', 'phi-2_output_base_model', 'phi_input', 'phi-2_output_fine-tuned']\n",
    "\n",
    "train10k_benchmark.columns"
   ]
  },
  {
   "cell_type": "code",
   "execution_count": 87,
   "metadata": {},
   "outputs": [
    {
     "name": "stderr",
     "output_type": "stream",
     "text": [
      "Using default BLEURT-Base checkpoint for sequence maximum length 128. You can use a bigger model for better results with e.g.: evaluate.load('bleurt', 'bleurt-large-512').\n"
     ]
    },
    {
     "name": "stdout",
     "output_type": "stream",
     "text": [
      "INFO:tensorflow:Reading checkpoint C:\\Users\\kadm2\\.cache\\huggingface\\metrics\\bleurt\\default\\downloads\\extracted\\1ed47b7280a9b4162e745e8e509d21a5ca48976269d7d45c0c7b6c6e350c760e\\bleurt-base-128.\n",
      "INFO:tensorflow:Config file found, reading.\n",
      "INFO:tensorflow:Will load checkpoint bert_custom\n",
      "INFO:tensorflow:Loads full paths and checks that files exists.\n",
      "INFO:tensorflow:... name:bert_custom\n",
      "INFO:tensorflow:... vocab_file:vocab.txt\n",
      "INFO:tensorflow:... bert_config_file:bert_config.json\n",
      "INFO:tensorflow:... do_lower_case:True\n",
      "INFO:tensorflow:... max_seq_length:128\n",
      "INFO:tensorflow:Creating BLEURT scorer.\n",
      "INFO:tensorflow:Creating WordPiece tokenizer.\n",
      "INFO:tensorflow:WordPiece tokenizer instantiated.\n",
      "INFO:tensorflow:Creating Eager Mode predictor.\n",
      "INFO:tensorflow:Loading model.\n",
      "INFO:tensorflow:BLEURT initialized.\n"
     ]
    },
    {
     "name": "stderr",
     "output_type": "stream",
     "text": [
      "[nltk_data] Downloading package wordnet to\n",
      "[nltk_data]     C:\\Users\\kadm2\\AppData\\Roaming\\nltk_data...\n",
      "[nltk_data]   Package wordnet is already up-to-date!\n",
      "[nltk_data] Downloading package punkt_tab to\n",
      "[nltk_data]     C:\\Users\\kadm2\\AppData\\Roaming\\nltk_data...\n",
      "[nltk_data]   Package punkt_tab is already up-to-date!\n",
      "[nltk_data] Downloading package omw-1.4 to\n",
      "[nltk_data]     C:\\Users\\kadm2\\AppData\\Roaming\\nltk_data...\n",
      "[nltk_data]   Package omw-1.4 is already up-to-date!\n",
      "Some weights of RobertaModel were not initialized from the model checkpoint at roberta-large and are newly initialized: ['roberta.pooler.dense.bias', 'roberta.pooler.dense.weight']\n",
      "You should probably TRAIN this model on a down-stream task to be able to use it for predictions and inference.\n"
     ]
    },
    {
     "data": {
      "application/vnd.microsoft.datawrangler.viewer.v0+json": {
       "columns": [
        {
         "name": "index",
         "rawType": "object",
         "type": "string"
        },
        {
         "name": "bleurt",
         "rawType": "float64",
         "type": "float"
        },
        {
         "name": "bertscore",
         "rawType": "float64",
         "type": "float"
        },
        {
         "name": "meteor",
         "rawType": "float64",
         "type": "float"
        }
       ],
       "conversionMethod": "pd.DataFrame",
       "ref": "8b88358c-5771-473d-ba65-89977bb503fe",
       "rows": [
        [
         "count",
         "1000.0",
         "1000.0",
         "1000.0"
        ],
        [
         "mean",
         "-0.3764657",
         "0.8854819",
         "0.2317999999999999"
        ],
        [
         "std",
         "0.28672441581444386",
         "0.016650232209270307",
         "1.4440121186638576e-15"
        ],
        [
         "min",
         "-1.8587",
         "0.7906",
         "0.2318"
        ],
        [
         "25%",
         "-0.548975",
         "0.8766750000000001",
         "0.2318"
        ],
        [
         "50%",
         "-0.33835",
         "0.8873",
         "0.2318"
        ],
        [
         "75%",
         "-0.159225",
         "0.897",
         "0.2318"
        ],
        [
         "max",
         "0.2163",
         "0.9282",
         "0.2318"
        ]
       ],
       "shape": {
        "columns": 3,
        "rows": 8
       }
      },
      "text/html": [
       "<div>\n",
       "<style scoped>\n",
       "    .dataframe tbody tr th:only-of-type {\n",
       "        vertical-align: middle;\n",
       "    }\n",
       "\n",
       "    .dataframe tbody tr th {\n",
       "        vertical-align: top;\n",
       "    }\n",
       "\n",
       "    .dataframe thead th {\n",
       "        text-align: right;\n",
       "    }\n",
       "</style>\n",
       "<table border=\"1\" class=\"dataframe\">\n",
       "  <thead>\n",
       "    <tr style=\"text-align: right;\">\n",
       "      <th></th>\n",
       "      <th>bleurt</th>\n",
       "      <th>bertscore</th>\n",
       "      <th>meteor</th>\n",
       "    </tr>\n",
       "  </thead>\n",
       "  <tbody>\n",
       "    <tr>\n",
       "      <th>count</th>\n",
       "      <td>1000.000000</td>\n",
       "      <td>1000.000000</td>\n",
       "      <td>1.000000e+03</td>\n",
       "    </tr>\n",
       "    <tr>\n",
       "      <th>mean</th>\n",
       "      <td>-0.376466</td>\n",
       "      <td>0.885482</td>\n",
       "      <td>2.318000e-01</td>\n",
       "    </tr>\n",
       "    <tr>\n",
       "      <th>std</th>\n",
       "      <td>0.286724</td>\n",
       "      <td>0.016650</td>\n",
       "      <td>1.444012e-15</td>\n",
       "    </tr>\n",
       "    <tr>\n",
       "      <th>min</th>\n",
       "      <td>-1.858700</td>\n",
       "      <td>0.790600</td>\n",
       "      <td>2.318000e-01</td>\n",
       "    </tr>\n",
       "    <tr>\n",
       "      <th>25%</th>\n",
       "      <td>-0.548975</td>\n",
       "      <td>0.876675</td>\n",
       "      <td>2.318000e-01</td>\n",
       "    </tr>\n",
       "    <tr>\n",
       "      <th>50%</th>\n",
       "      <td>-0.338350</td>\n",
       "      <td>0.887300</td>\n",
       "      <td>2.318000e-01</td>\n",
       "    </tr>\n",
       "    <tr>\n",
       "      <th>75%</th>\n",
       "      <td>-0.159225</td>\n",
       "      <td>0.897000</td>\n",
       "      <td>2.318000e-01</td>\n",
       "    </tr>\n",
       "    <tr>\n",
       "      <th>max</th>\n",
       "      <td>0.216300</td>\n",
       "      <td>0.928200</td>\n",
       "      <td>2.318000e-01</td>\n",
       "    </tr>\n",
       "  </tbody>\n",
       "</table>\n",
       "</div>"
      ],
      "text/plain": [
       "            bleurt    bertscore        meteor\n",
       "count  1000.000000  1000.000000  1.000000e+03\n",
       "mean     -0.376466     0.885482  2.318000e-01\n",
       "std       0.286724     0.016650  1.444012e-15\n",
       "min      -1.858700     0.790600  2.318000e-01\n",
       "25%      -0.548975     0.876675  2.318000e-01\n",
       "50%      -0.338350     0.887300  2.318000e-01\n",
       "75%      -0.159225     0.897000  2.318000e-01\n",
       "max       0.216300     0.928200  2.318000e-01"
      ]
     },
     "execution_count": 87,
     "metadata": {},
     "output_type": "execute_result"
    }
   ],
   "source": [
    "# Load evaluation metrics\n",
    "bleurt = evaluate.load(\"bleurt\", trust_remote_code=True)\n",
    "bertscore = evaluate.load(\"bertscore\")\n",
    "meteor = evaluate.load(\"meteor\")\n",
    "\n",
    "# Compute BLEURT scores\n",
    "bleurt_scores = bleurt.compute(predictions=train10k_benchmark['phi-2_output_fine-tuned'],\n",
    "                              references=train10k_benchmark['mistral_output'])\n",
    "\n",
    "# Extract inputs and outputs\n",
    "mistral_outputs = train10k_benchmark[\"mistral_output\"].tolist()  # Ground truth\n",
    "fine_phi2_outputs = train10k_benchmark['phi-2_output_fine-tuned'].tolist()  # Model to evaluate\n",
    "\n",
    "# Compute BERTScore\n",
    "bertscore_results = bertscore.compute(predictions=fine_phi2_outputs, \n",
    "                                      references=mistral_outputs, \n",
    "                                      lang=\"en\")\n",
    "bertscore_scores = bertscore_results[\"f1\"]\n",
    "\n",
    "# Compute METEOR\n",
    "meteor_scores = meteor.compute(predictions=fine_phi2_outputs,\n",
    "                               references=mistral_outputs)[\"meteor\"]\n",
    "\n",
    "# Aggregate Results\n",
    "results_df = pd.DataFrame({\n",
    "    \"bleurt\": (bleurt_scores[\"scores\"]),\n",
    "    \"bertscore\": bertscore_scores,\n",
    "    \"meteor\": meteor_scores\n",
    "})\n",
    "\n",
    "results_df = results_df.round(4)\n",
    "results_df.describe()"
   ]
  },
  {
   "cell_type": "code",
   "execution_count": 88,
   "metadata": {},
   "outputs": [
    {
     "name": "stdout",
     "output_type": "stream",
     "text": [
      "|        |    bleurt |   bertscore |   meteor |\n",
      "|:-------|----------:|------------:|---------:|\n",
      "| mean   | -0.376466 |    0.885482 |   0.2318 |\n",
      "| median | -0.33835  |    0.8873   |   0.2318 |\n"
     ]
    }
   ],
   "source": [
    "# Compute Mean & Median Scores\n",
    "summary = results_df.agg([\"mean\", \"median\"])\n",
    "print(summary.to_markdown())"
   ]
  },
  {
   "cell_type": "markdown",
   "metadata": {},
   "source": [
    "#### Visualize"
   ]
  },
  {
   "cell_type": "code",
   "execution_count": 7,
   "metadata": {},
   "outputs": [],
   "source": [
    "# Imports\n",
    "import matplotlib.pyplot as plt\n",
    "import seaborn as sns\n",
    "import numpy as np\n",
    "\n",
    "# Save img\n",
    "img_path = '../images'\n",
    "if not os.path.exists(img_path):\n",
    "    os.makedirs(img_path)"
   ]
  },
  {
   "cell_type": "code",
   "execution_count": 43,
   "metadata": {},
   "outputs": [
    {
     "data": {
      "image/png": "[encoded data removed]",
      "text/plain": [
       "<Figure size 600x200 with 1 Axes>"
      ]
     },
     "metadata": {},
     "output_type": "display_data"
    }
   ],
   "source": [
    "# Boxplot: BLEURT Score Distribution\n",
    "plt.figure(figsize=(6, 2))\n",
    "\n",
    "sns.boxplot(x=results_df['bleurt'], \n",
    "            color=\"#A72608\",\n",
    "            legend=False,\n",
    "            boxprops={'edgecolor': 'none'})\n",
    "\n",
    "plt.title(\"BLEURT Score Distribution\",\n",
    "          fontsize=12,\n",
    "          fontweight='medium',\n",
    "          pad=15)\n",
    "plt.xlabel(\"BLEURT Score\")\n",
    "plt.xticks(np.arange(-2.0, 1.01, 0.25))\n",
    "plt.grid(True, \n",
    "         alpha=0.6)\n",
    "\n",
    "plt.tight_layout()\n",
    "plt.savefig(img_path + '/fine-tuned_bleurt_score_distribution.png')\n",
    "plt.show()"
   ]
  },
  {
   "cell_type": "code",
   "execution_count": 42,
   "metadata": {},
   "outputs": [
    {
     "data": {
      "image/png": "[encoded data removed]",
      "text/plain": [
       "<Figure size 600x200 with 1 Axes>"
      ]
     },
     "metadata": {},
     "output_type": "display_data"
    }
   ],
   "source": [
    "# Boxplot: BERTScore (F1) Score Distribution\n",
    "plt.figure(figsize=(6, 2))\n",
    "\n",
    "sns.boxplot(x=results_df['bertscore'], \n",
    "            color=\"#50C9CE\",\n",
    "            legend=False,\n",
    "            boxprops={'edgecolor': 'none'})\n",
    "\n",
    "plt.title(\"BERTScore (F1) Score Distribution\",\n",
    "          fontsize=12,\n",
    "          fontweight='medium',\n",
    "          pad=15)\n",
    "plt.xlabel(\"BERTScore (F1)\")\n",
    "plt.xticks(np.arange(0.775, 1.001, 0.025))\n",
    "plt.grid(True,\n",
    "         alpha=0.6)\n",
    "\n",
    "plt.tight_layout()\n",
    "plt.savefig(img_path + '/fine-tuned_bertscore_f1_distribution.png')\n",
    "plt.show()"
   ]
  },
  {
   "cell_type": "code",
   "execution_count": 53,
   "metadata": {},
   "outputs": [
    {
     "data": {
      "image/png": "[encoded data removed]",
      "text/plain": [
       "<Figure size 800x600 with 2 Axes>"
      ]
     },
     "metadata": {},
     "output_type": "display_data"
    }
   ],
   "source": [
    "# Scatterplot: Alignment of Phi-2 vs Mistral Outputs\n",
    "plt.figure(figsize=(8,6))\n",
    "\n",
    "# Use values from the dataframe for plotting\n",
    "plt.scatter(results_df['bleurt'], \n",
    "            results_df['bertscore'], \n",
    "            c=results_df['meteor'], \n",
    "            cmap=\"plasma\", \n",
    "            alpha=0.6)\n",
    "\n",
    "# Add a color bar for METEOR scores\n",
    "plt.colorbar(label=\"METEOR Score\")\n",
    "\n",
    "# Plot settings\n",
    "plt.title(\"Alignment of Fine-Tuned Phi-2 vs Mistral Outputs (BERTScore vs BLEURT)\",\n",
    "          fontsize=14,\n",
    "          fontweight='medium',\n",
    "          pad=15)\n",
    "plt.xlabel(\"BLEURT Score\")\n",
    "plt.xticks(np.arange(-2.000, 1.001, 0.25))\n",
    "plt.ylabel(\"BERTScore (F1)\")\n",
    "plt.yticks(np.arange(0.750, 1.001, 0.025))\n",
    "plt.clim(0.150, 0.250)\n",
    "\n",
    "plt.grid(True,\n",
    "         alpha=0.6)\n",
    "plt.tight_layout()\n",
    "plt.savefig(img_path + '/fine-tuned_phi-2_vs_mistral_alignment.png')\n",
    "plt.show()"
   ]
  },
  {
   "cell_type": "markdown",
   "metadata": {},
   "source": [
    "##### Saving"
   ]
  },
  {
   "cell_type": "code",
   "execution_count": 2,
   "metadata": {},
   "outputs": [],
   "source": [
    "# Save sample\n",
    "eval_path = '../data/ready_for_phi-2/eval/'\n",
    "if not os.path.exists(eval_path):\n",
    "    os.makedirs(eval_path)"
   ]
  },
  {
   "cell_type": "code",
   "execution_count": 94,
   "metadata": {},
   "outputs": [],
   "source": [
    "# Save results\n",
    "results_df.to_csv(eval_path + \"fine-tuned_phi2_vs_mistral_scores.csv\", index=False)"
   ]
  },
  {
   "cell_type": "markdown",
   "metadata": {},
   "source": [
    "**BLEURT is better, but still low. -- Stronger Semantic Alignment**\n",
    "- Since BLEURT measures semantic similarity based on deep contextual embeddings, this suggests the fine-tuned Phi-2 is now much closer in meaning to Mistral’s output.\n",
    "- The fact that the score is still negative means there's room for improvement, but it’s a big step forward.\n",
    "  > Phi-2's behavior of trying to tell stories is now way less than usual. Out of our 1k rows of test, it was about 2 or 3 (that I saw).\n",
    "\n",
    "**BERTScore -- Better Contextual Similarity**\n",
    "- Phi-2’s outputs are now even more similar to Mistral’s outputs in terms of contextual word representations.\n",
    "- Since BERTScore evaluates word embeddings rather than exact word matches, this indicates that Phi-2 is better capturing the meaning and phrasing of Mistral.\n",
    "\n",
    "**METEOR better, but still low -- More Exact Matches & Better Paraphrasing**\n",
    "- Phi-2 now has better word choice, phrasing, and synonym matches.\n",
    "- Since METEOR gives extra weight to synonyms and paraphrases, this suggests Phi-2 is generating responses that more closely match Mistral’s structure\n",
    "\n",
    "### Fine-tuned Model: Summary of Eval\n",
    "Phi-2's semantic understanding of what needs to be done has improved. The fine-tuning process has led to better semantic alignment and contextual similarity, as shown by the improvements in BLEURT, BERTScore, and METEOR.\n",
    "\n",
    "While Phi-2 now mirrors Mistral’s responses more effectively, there is still room for improvement. BLEURT is still negative, indicating that some fine-grained semantic details might be missing. Further refinements could help Phi-2 align even more closely with Mistral’s outputs.\n",
    "\n",
    "This is great in a way that maybe an extra round of training with 1-2k more rows per training would get it on par with Mistral's. I have about 14k/2k of train/test I could use yet."
   ]
  }
 ],
 "metadata": {
  "kernelspec": {
   "display_name": "llmproject",
   "language": "python",
   "name": "python3"
  },
  "language_info": {
   "codemirror_mode": {
    "name": "ipython",
    "version": 3
   },
   "file_extension": ".py",
   "mimetype": "text/x-python",
   "name": "python",
   "nbconvert_exporter": "python",
   "pygments_lexer": "ipython3",
   "version": "3.10.8"
  },
  "orig_nbformat": 4
 },
 "nbformat": 4,
 "nbformat_minor": 2
}
