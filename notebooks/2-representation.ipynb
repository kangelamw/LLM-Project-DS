{
 "cells": [
  {
   "cell_type": "markdown",
   "metadata": {},
   "source": [
    "# Representation"
   ]
  },
  {
   "cell_type": "code",
   "execution_count": 94,
   "metadata": {},
   "outputs": [
    {
     "name": "stdout",
     "output_type": "stream",
     "text": [
      "True\n",
      "['test_samples_1.csv', 'test_samples_2.csv', 'train_samples_1.csv', 'train_samples_2.csv']\n"
     ]
    }
   ],
   "source": [
    "# Imports\n",
    "import os\n",
    "import pandas as pd\n",
    "\n",
    "# Load data\n",
    "save = \"../data/for_step_2/\"\n",
    "\n",
    "print(os.path.exists(save))\n",
    "print(os.listdir(save))"
   ]
  },
  {
   "cell_type": "markdown",
   "metadata": {},
   "source": [
    "#### Loading our prepped Yelp dataset."
   ]
  },
  {
   "cell_type": "markdown",
   "metadata": {},
   "source": [
    "> We're now trying to get an output from *mistral 7B* that we can fine-tune *phi-2* with.\n",
    "> - Read more about how this came about in the decision making process in the [project journal](../Project_Journal.md)."
   ]
  },
  {
   "cell_type": "code",
   "execution_count": 95,
   "metadata": {},
   "outputs": [
    {
     "name": "stdout",
     "output_type": "stream",
     "text": [
      "Train: (9999, 5) (4998, 5)\n",
      "Test: (1998, 5) (999, 5)\n"
     ]
    }
   ],
   "source": [
    "# Load train and test data\n",
    "train10k = pd.read_csv(save + 'train_samples_1.csv')\n",
    "train5k = pd.read_csv(save + 'train_samples_2.csv')\n",
    "test2k = pd.read_csv(save + 'test_samples_1.csv')\n",
    "test1k = pd.read_csv(save + 'test_samples_2.csv')\n",
    "\n",
    "print('Train:', train10k.shape, train5k.shape)\n",
    "print('Test:', test2k.shape, test1k.shape)"
   ]
  },
  {
   "cell_type": "markdown",
   "metadata": {},
   "source": [
    "#### Setting up `Mistral-7B-Instruct-v0.3` for inference"
   ]
  },
  {
   "cell_type": "code",
   "execution_count": 3,
   "metadata": {},
   "outputs": [],
   "source": [
    "import torch\n",
    "from transformers import AutoTokenizer, AutoModelForCausalLM, BitsAndBytesConfig\n",
    "import bitsandbytes as bnb\n",
    "\n",
    "torch.cuda.empty_cache()"
   ]
  },
  {
   "cell_type": "code",
   "execution_count": 4,
   "metadata": {},
   "outputs": [
    {
     "data": {
      "application/vnd.jupyter.widget-view+json": {
       "model_id": "4c67a59a577d45628669828afe006f19",
       "version_major": 2,
       "version_minor": 0
      },
      "text/plain": [
       "Loading checkpoint shards:   0%|          | 0/3 [00:00<?, ?it/s]"
      ]
     },
     "metadata": {},
     "output_type": "display_data"
    },
    {
     "data": {
      "text/plain": [
       "MistralForCausalLM(\n",
       "  (model): MistralModel(\n",
       "    (embed_tokens): Embedding(32768, 4096)\n",
       "    (layers): ModuleList(\n",
       "      (0-31): 32 x MistralDecoderLayer(\n",
       "        (self_attn): MistralSdpaAttention(\n",
       "          (q_proj): Linear4bit(in_features=4096, out_features=4096, bias=False)\n",
       "          (k_proj): Linear4bit(in_features=4096, out_features=1024, bias=False)\n",
       "          (v_proj): Linear4bit(in_features=4096, out_features=1024, bias=False)\n",
       "          (o_proj): Linear4bit(in_features=4096, out_features=4096, bias=False)\n",
       "          (rotary_emb): MistralRotaryEmbedding()\n",
       "        )\n",
       "        (mlp): MistralMLP(\n",
       "          (gate_proj): Linear4bit(in_features=4096, out_features=14336, bias=False)\n",
       "          (up_proj): Linear4bit(in_features=4096, out_features=14336, bias=False)\n",
       "          (down_proj): Linear4bit(in_features=14336, out_features=4096, bias=False)\n",
       "          (act_fn): SiLU()\n",
       "        )\n",
       "        (input_layernorm): MistralRMSNorm((4096,), eps=1e-05)\n",
       "        (post_attention_layernorm): MistralRMSNorm((4096,), eps=1e-05)\n",
       "      )\n",
       "    )\n",
       "    (norm): MistralRMSNorm((4096,), eps=1e-05)\n",
       "  )\n",
       "  (lm_head): Linear(in_features=4096, out_features=32768, bias=False)\n",
       ")"
      ]
     },
     "execution_count": 4,
     "metadata": {},
     "output_type": "execute_result"
    }
   ],
   "source": [
    "# Define 4-bit quantization config\n",
    "bnb_config = BitsAndBytesConfig(\n",
    "    load_in_4bit=True,  # Load in 4-bit to reduce VRAM usage\n",
    "    bnb_4bit_compute_dtype=torch.float16,  # Use float16 for computations\n",
    "    bnb_4bit_use_double_quant=True,  # Double quantization for further memory reduction\n",
    "    bnb_4bit_quant_type=\"nf4\",  # Use NF4 quantization (optimized for LLMs)\n",
    ")\n",
    "\n",
    "# Load model and tokenizer\n",
    "model_name = \"mistralai/Mistral-7B-Instruct-v0.3\"\n",
    "tokenizer = AutoTokenizer.from_pretrained(model_name)\n",
    "\n",
    "model = AutoModelForCausalLM.from_pretrained(\n",
    "    model_name,\n",
    "    quantization_config=bnb_config,\n",
    "    device_map=\"auto\"\n",
    ")\n",
    "\n",
    "# Get the model's device\n",
    "device = torch.device(\"cuda\" if torch.cuda.is_available() else \"cpu\")\n",
    "model.eval()  # Set to evaluation mode"
   ]
  },
  {
   "cell_type": "code",
   "execution_count": 6,
   "metadata": {},
   "outputs": [
    {
     "name": "stdout",
     "output_type": "stream",
     "text": [
      "PyTorch version: 2.5.1+cu121\n",
      "CUDA Available: True\n",
      "CUDA device count: 1\n",
      "CUDA device name: NVIDIA GeForce RTX 3060\n",
      "GPU memory allocated: 4138.59 MB\n",
      "GPU memory cached: 4160.75 MB\n"
     ]
    }
   ],
   "source": [
    "# Print the current GPU being used\n",
    "print(f\"PyTorch version: {torch.__version__}\")\n",
    "print(\"CUDA Available:\", torch.cuda.is_available())\n",
    "if torch.cuda.is_available():\n",
    "    print(f\"CUDA device count: {torch.cuda.device_count()}\")\n",
    "    print(f\"CUDA device name: {torch.cuda.get_device_name(0)}\")\n",
    "else:\n",
    "    print(\"CUDA is not available. Check your installation.\")\n",
    "\n",
    "# Print GPU memory usage\n",
    "print(f\"GPU memory allocated: {torch.cuda.memory_allocated()/1e6:.2f} MB\")\n",
    "print(f\"GPU memory cached: {torch.cuda.memory_reserved()/1e6:.2f} MB\")"
   ]
  },
  {
   "cell_type": "markdown",
   "metadata": {},
   "source": [
    "#### Testing Inference"
   ]
  },
  {
   "cell_type": "code",
   "execution_count": 7,
   "metadata": {},
   "outputs": [
    {
     "name": "stderr",
     "output_type": "stream",
     "text": [
      "Starting from v4.46, the `logits` model output will have the same type as the model (except at train time, where it will always be FP32)\n"
     ]
    },
    {
     "name": "stdout",
     "output_type": "stream",
     "text": [
      "Explain why customer feedback is important for improving business processes.  Customer feedback is crucial for improving business processes for several reasons:\n",
      "\n",
      "1. Identifying Strengths and Weaknesses: Feedback provides insights into what the business is doing well and where it needs improvement. This information can help businesses focus on their strengths and address areas that need improvement.\n",
      "\n",
      "2. Understanding Customer Needs: Feedback helps businesses understand their customers' needs, expectations, and preferences. This understanding can guide product development, service improvements, and marketing strategies.\n",
      "\n",
      "3. Enhancing Customer Satisfaction: By addressing issues raised in feedback, businesses can improve their products or services, leading to increased customer satisfaction. Satisfied customers are more likely to remain loyal and recommend the business to others\n"
     ]
    }
   ],
   "source": [
    "# Prepare input text\n",
    "text_test = \"[INST] Explain why customer feedback is important for improving business processes. [/INST]\"\n",
    "inputs = tokenizer(text_test, return_tensors=\"pt\").to(device)  # Move input tensors to the model's device\n",
    "\n",
    "# Generate output\n",
    "with torch.no_grad():\n",
    "    outputs = model.generate(**inputs, \n",
    "                             max_new_tokens=150,\n",
    "                             pad_token_id=tokenizer.eos_token_id)\n",
    "\n",
    "# Decode and print the response\n",
    "print(tokenizer.decode(outputs[0], \n",
    "                       skip_special_tokens=True))"
   ]
  },
  {
   "cell_type": "code",
   "execution_count": 8,
   "metadata": {},
   "outputs": [],
   "source": [
    "# Prompt\n",
    "def create_prompt(text, emotions, label):\n",
    "    text =  f\"A customer left us a {label}-star review: '{text}' The customer feels {emotions}. Concisely, how can we best improve our services for this customer's experience?\"\n",
    "    return f\"[INST] {text} [/INST]\""
   ]
  },
  {
   "cell_type": "code",
   "execution_count": 9,
   "metadata": {},
   "outputs": [
    {
     "name": "stdout",
     "output_type": "stream",
     "text": [
      "[INST] A customer left us a 2-star review: 'totally dont uunderstand this place........at all....! n nare you a mexican restaurant....are you a pub......what are you? the food is ok the wine is questionable for the price ther service is ok. n nits just a bit pointless great location going to waste in my opinion.' The customer feels disapproval, annoyance, confusion. Concisely, how can we best improve our services for this customer's experience? [/INST]\n"
     ]
    }
   ],
   "source": [
    "# Test inference\n",
    "sample_text = train10k['clean_text'][11]\n",
    "sample_emotions = train10k['emotions'][11]\n",
    "sample_stars = train10k['label'][11]\n",
    "\n",
    "prompt = create_prompt(sample_text, sample_emotions, sample_stars)\n",
    "print(prompt)"
   ]
  },
  {
   "cell_type": "code",
   "execution_count": null,
   "metadata": {},
   "outputs": [
    {
     "name": "stdout",
     "output_type": "stream",
     "text": [
      "\n",
      "Generated Response:\n",
      "\n",
      "A customer left us a 2-star review: 'totally dont uunderstand this place........at all....! n nare you a mexican restaurant....are you a pub......what are you? the food is ok the wine is questionable for the price ther service is ok. n nits just a bit pointless great location going to waste in my opinion.' The customer feels disapproval, annoyance, confusion. Concisely, how can we best improve our services for this customer's experience?  To improve the customer's experience, we can take the following steps:\n",
      "\n",
      "1. Clarify our establishment's identity: Ensure that our online presence clearly communicates our restaurant's concept, cuisine, and atmosphere to avoid confusion.\n",
      "\n",
      "2. Enhance menu offerings: Review our menu to ensure a consistent quality of food and competitive pricing, especially for wine.\n",
      "\n",
      "3. Improve service: Train our staff to provide friendly, attentive, and efficient service that meets customer expectations.\n",
      "\n",
      "4. Address cleanliness: Ensure the restaurant is clean and free of any distractions, such as nits, to create a more pleasant dining experience.\n",
      "\n",
      "5. Engage with the customer: Respond to the review, acknowledging their feedback and expressing our commitment to improving their experience in the future.\n",
      "\n",
      "Original Text:\n",
      "\n",
      "A customer left us a 2-star review: 'totally dont uunderstand this place........at all....! n nare you a mexican restaurant....are you a pub......what are you? the food is ok the wine is questionable for the price ther service is ok. n nits just a bit pointless great location going to waste in my opinion.' The customer feels disapproval, annoyance, confusion. Concisely, how can we best improve our services for this customer's experience?  To improve the customer's experience, we can take the following steps:\n",
      "\n",
      "1. Clarify our establishment's identity: Ensure that our online presence clearly communicates our restaurant's concept, cuisine, and atmosphere to avoid confusion.\n",
      "\n",
      "2. Enhance menu offerings: Review our menu to ensure a consistent quality of food and competitive pricing, especially for wine.\n",
      "\n",
      "3. Improve service: Train our staff to provide friendly, attentive, and efficient service that meets customer expectations.\n",
      "\n",
      "4. Address cleanliness: Ensure the restaurant is clean and free of any distractions, such as nits, to create a more pleasant dining experience.\n",
      "\n",
      "5. Engage with the customer: Respond to the review, acknowledging their feedback and expressing our commitment to improving their experience in the future. Offer a gesture of good\n"
     ]
    }
   ],
   "source": [
    "# Tokenize the input prompt and move to the model's device\n",
    "inputs = tokenizer(prompt, return_tensors=\"pt\").to(device)\n",
    "\n",
    "# Generate output using the model\n",
    "with torch.no_grad():\n",
    "    outputs = model.generate(**inputs,\n",
    "                             max_new_tokens=180,\n",
    "                             pad_token_id=tokenizer.eos_token_id)\n",
    "\n",
    "# Decode the output and remove the prompt part from the response\n",
    "generated_text = tokenizer.decode(outputs[0], skip_special_tokens=True)\n",
    "\n",
    "response = generated_text\n",
    "\n",
    "# Cleaning Functions\n",
    "import re\n",
    "def clean_response(text): \n",
    "    # Remove any occurrences of '</s>' (special token for end of sequence)\n",
    "    text = text.replace(\"</s>\", \"\").strip()\n",
    "\n",
    "    # Find last period\n",
    "    last_period = text.rfind('.')\n",
    "    if last_period == -1:\n",
    "        return text\n",
    "\n",
    "    # Get text up to last period\n",
    "    cleaned = text[:last_period + 1]\n",
    "\n",
    "    # Check for numbered list pattern at the end (like \"5.\" with nothing after it)\n",
    "    pattern = r'\\n\\d+\\.\\s*$'\n",
    "    cleaned = re.sub(pattern, '', cleaned)\n",
    "\n",
    "    return cleaned.strip()\n",
    "\n",
    "response = clean_response(response)\n",
    "print(\"\\nGenerated Response:\\n\")\n",
    "print(response)"
   ]
  },
  {
   "cell_type": "markdown",
   "metadata": {},
   "source": [
    "### Functions"
   ]
  },
  {
   "cell_type": "code",
   "execution_count": 96,
   "metadata": {},
   "outputs": [],
   "source": [
    "# Create prompt # Redefining here for clarity, but same as above.\n",
    "def create_prompt(text, emotions, label):\n",
    "    text =  f\"A customer left us a {label}-star review: '{text}' The customer feels {emotions}. Concisely, how can we best improve our services for this customer's experience?\"\n",
    "    return f\"[INST] {text} [/INST]\""
   ]
  },
  {
   "cell_type": "code",
   "execution_count": 97,
   "metadata": {},
   "outputs": [
    {
     "name": "stdout",
     "output_type": "stream",
     "text": [
      "Train: (9999, 6) (4998, 6)\n",
      "Test: (1998, 6) (999, 6)\n"
     ]
    }
   ],
   "source": [
    "# Apply to all samples\n",
    "train10k['prompt'] = train10k.apply(lambda x: create_prompt(x['clean_text'], x['emotions'], x['label']), axis=1)\n",
    "train5k['prompt'] = train5k.apply(lambda x: create_prompt(x['clean_text'], x['emotions'], x['label']), axis=1)\n",
    "test2k['prompt'] = test2k.apply(lambda x: create_prompt(x['clean_text'], x['emotions'], x['label']), axis=1)\n",
    "test1k['prompt'] = test1k.apply(lambda x: create_prompt(x['clean_text'], x['emotions'], x['label']), axis=1)\n",
    "\n",
    "# Print shapes\n",
    "print('Train:', train10k.shape, train5k.shape)\n",
    "print('Test:', test2k.shape, test1k.shape)"
   ]
  },
  {
   "cell_type": "code",
   "execution_count": 68,
   "metadata": {},
   "outputs": [],
   "source": [
    "# Clean responses\n",
    "import re\n",
    "def clean_response(text): \n",
    "    # Remove any occurrences of '</s>' (special token for end of sequence)\n",
    "    text = text.replace(\"</s>\", \"\").strip()\n",
    "\n",
    "    # Find last period\n",
    "    last_period = text.rfind('.')\n",
    "    if last_period == -1:\n",
    "        return text\n",
    "\n",
    "    # Get text up to last period\n",
    "    cleaned = text[:last_period + 1]\n",
    "\n",
    "    # Check for numbered list pattern at the end (like \"5.\" with nothing after it)\n",
    "    pattern = r'\\n\\d+\\.\\s*$'\n",
    "    cleaned = re.sub(pattern, '', cleaned)\n",
    "\n",
    "    return cleaned.strip()"
   ]
  },
  {
   "cell_type": "code",
   "execution_count": 1,
   "metadata": {},
   "outputs": [],
   "source": [
    "# Call model once\n",
    "def generate_1response(input_col):\n",
    "    # Create prompt\n",
    "    prompt = input_col\n",
    "    \n",
    "    # Tokenize the input prompt and move to the model's device\n",
    "    inputs = tokenizer(prompt, return_tensors=\"pt\").to(device)\n",
    "\n",
    "    # Generate output using the model\n",
    "    with torch.no_grad():\n",
    "        outputs = model.generate(**inputs,\n",
    "                                 max_new_tokens=150,\n",
    "                                 pad_token_id=tokenizer.eos_token_id\n",
    "                                 )\n",
    "\n",
    "    # Decode the output and remove the prompt part from the response\n",
    "    generated_text = tokenizer.decode(outputs[0], skip_special_tokens=True)\n",
    "    \n",
    "    # Clean response\n",
    "    response = clean_response(generated_text)\n",
    "    \n",
    "    return response"
   ]
  },
  {
   "cell_type": "code",
   "execution_count": 70,
   "metadata": {},
   "outputs": [
    {
     "name": "stdout",
     "output_type": "stream",
     "text": [
      "A customer left us a 2-star review: 'totally dont uunderstand this place........at all....! n nare you a mexican restaurant....are you a pub......what are you? the food is ok the wine is questionable for the price ther service is ok. n nits just a bit pointless great location going to waste in my opinion.' The customer feels disapproval, annoyance, confusion. Concisely, how can we best improve our services for this customer's experience?  To improve the customer's experience, we can take the following steps:\n",
      "\n",
      "1. Clarify our establishment's identity: Ensure that our online presence clearly communicates our restaurant's concept, cuisine, and atmosphere to avoid confusion.\n",
      "\n",
      "2. Enhance menu offerings: Review our menu to ensure a consistent quality of food and competitive pricing, especially for wine.\n",
      "\n",
      "3. Improve service: Train our staff to provide friendly, attentive, and efficient service that meets customer expectations.\n",
      "\n",
      "4. Address cleanliness: Ensure the restaurant is clean and free of any distractions, such as nits, to create a more pleasant dining experience.\n"
     ]
    }
   ],
   "source": [
    "# Test the function\n",
    "print(generate_1response(train10k['prompt'][11]))"
   ]
  },
  {
   "cell_type": "markdown",
   "metadata": {},
   "source": [
    "Batch"
   ]
  },
  {
   "cell_type": "code",
   "execution_count": 71,
   "metadata": {},
   "outputs": [],
   "source": [
    "import gc\n",
    "import pickle\n",
    "from tqdm.auto import tqdm"
   ]
  },
  {
   "cell_type": "code",
   "execution_count": null,
   "metadata": {},
   "outputs": [],
   "source": [
    "# Define function to generate responses\n",
    "def generate_response(prompts, batch_size=8, checkpoint_path='inference_checkpoint.pkl'):\n",
    "    if tokenizer.pad_token is None:\n",
    "        tokenizer.pad_token = tokenizer.eos_token\n",
    "\n",
    "    all_responses = [\"\"] * len(prompts)  # Pre-allocate list\n",
    "    start_batch = 0\n",
    "    prompts = list(prompts)\n",
    "\n",
    "    # Load checkpoint if it exists\n",
    "    if os.path.exists(checkpoint_path):\n",
    "        try:\n",
    "            with open(checkpoint_path, 'rb') as f:\n",
    "                checkpoint = pickle.load(f)\n",
    "                all_responses = checkpoint['responses']\n",
    "                start_batch = checkpoint['next_batch']\n",
    "                print(f\"Resuming from checkpoint: {start_batch * batch_size}/{len(prompts)} items processed\")\n",
    "        except Exception as e:\n",
    "            print(f\"Error loading checkpoint: {e}. Starting fresh...\")\n",
    "            all_responses = [\"\"] * len(prompts)\n",
    "            start_batch = 0\n",
    "\n",
    "    try:\n",
    "        for i in tqdm(range(start_batch * batch_size, len(prompts), batch_size), desc=\"Processing batches\"):\n",
    "            batch_prompts = prompts[i:i+batch_size]\n",
    "            batch_idx = i // batch_size  # Track batch number\n",
    "\n",
    "            try:\n",
    "                inputs = tokenizer(batch_prompts, \n",
    "                                   padding=True, \n",
    "                                   truncation=True, \n",
    "                                   max_length=512, \n",
    "                                   return_tensors=\"pt\").to(device)\n",
    "\n",
    "                with torch.no_grad():\n",
    "                    outputs = model.generate(**inputs, \n",
    "                                             max_new_tokens=150, pad_token_id=tokenizer.eos_token_id)\n",
    "\n",
    "                batch_responses = []\n",
    "                for j, output in enumerate(outputs):\n",
    "                    try:\n",
    "                        generated_text = tokenizer.decode(output, skip_special_tokens=True)\n",
    "                        response = clean_response(generated_text)  # Clean response\n",
    "                    except Exception as e:\n",
    "                        response = \"ERROR_GENERATING_RESPONSE\"\n",
    "                        print(f\"Error processing response {i+j}: {e}\")\n",
    "\n",
    "                    batch_responses.append(response)\n",
    "\n",
    "                # Assign responses to correct indices\n",
    "                all_responses[i:i+batch_size] = batch_responses\n",
    "\n",
    "                # Save progress to checkpoint (AFTER a batch is completed)\n",
    "                checkpoint = {'responses': all_responses, 'next_batch': batch_idx + 1}\n",
    "                with open(checkpoint_path, 'wb') as f:\n",
    "                    pickle.dump(checkpoint, f)\n",
    "\n",
    "                # Free GPU memory\n",
    "                if torch.cuda.is_available():\n",
    "                    torch.cuda.empty_cache()\n",
    "                    gc.collect()\n",
    "\n",
    "            except Exception as e:\n",
    "                print(f\"Error in batch {batch_idx}: {e}\")\n",
    "                \n",
    "                # Assign error responses only to the failed batch\n",
    "                all_responses[i:i+batch_size] = [\"ERROR_GENERATING_RESPONSE\"] * len(batch_prompts)\n",
    "\n",
    "                # Save progress to checkpoint even if batch fails\n",
    "                checkpoint = {'responses': all_responses, 'next_batch': batch_idx + 1}\n",
    "                with open(checkpoint_path, 'wb') as f:\n",
    "                    pickle.dump(checkpoint, f)\n",
    "\n",
    "    except KeyboardInterrupt:\n",
    "        print(\"\\nProcess interrupted. Saving progress...\")\n",
    "        with open(checkpoint_path, 'wb') as f:\n",
    "            pickle.dump({'responses': all_responses, 'next_batch': i // batch_size + 1}, f)\n",
    "\n",
    "    # Fill any missing responses\n",
    "    if \"\" in all_responses:\n",
    "        all_responses = [\"ERROR_GENERATING_RESPONSE\" if r == \"\" else r for r in all_responses]\n",
    "\n",
    "    # Remove checkpoint if processing completes successfully\n",
    "    if len(all_responses) == len(prompts) and os.path.exists(checkpoint_path):\n",
    "        os.remove(checkpoint_path)\n",
    "        print(\"Processing completed, checkpoint removed.\")\n",
    "\n",
    "    return all_responses"
   ]
  },
  {
   "cell_type": "code",
   "execution_count": 87,
   "metadata": {},
   "outputs": [
    {
     "data": {
      "application/vnd.jupyter.widget-view+json": {
       "model_id": "226ef09fd0ba42fd9cb03959ec472598",
       "version_major": 2,
       "version_minor": 0
      },
      "text/plain": [
       "Processing batches:   0%|          | 0/3 [00:00<?, ?it/s]"
      ]
     },
     "metadata": {},
     "output_type": "display_data"
    },
    {
     "name": "stdout",
     "output_type": "stream",
     "text": [
      "Processing completed, checkpoint removed.\n"
     ]
    }
   ],
   "source": [
    "testing_batch = train10k[:21].copy()\n",
    "\n",
    "testing_batch['response'] = generate_response(testing_batch['prompt'], batch_size=10)"
   ]
  },
  {
   "cell_type": "code",
   "execution_count": 88,
   "metadata": {},
   "outputs": [
    {
     "data": {
      "application/vnd.microsoft.datawrangler.viewer.v0+json": {
       "columns": [
        {
         "name": "index",
         "rawType": "int64",
         "type": "integer"
        },
        {
         "name": "prompt",
         "rawType": "object",
         "type": "string"
        },
        {
         "name": "response",
         "rawType": "object",
         "type": "string"
        }
       ],
       "conversionMethod": "pd.DataFrame",
       "ref": "bc3174ec-afaa-4ee6-b093-c93d4c079002",
       "rows": [
        [
         "0",
         "[INST] A customer left us a 2-star review: 'the cashier told my husband that should he get change and the air machine just don't work don't come back in asking for a refund. this location the employees are uneducated on any kind of hospitality when having contact with human customers. i just don't care for employees who have a rude attitude. how do store owners proudly have a rude person as a cashier? well let's see how that will work out for them. attention all friends the people are rude at this location.' The customer feels annoyance, anger, neutral. Concisely, how can we best improve our services for this customer's experience? [/INST]",
         "A customer left us a 2-star review: 'the cashier told my husband that should he get change and the air machine just don't work don't come back in asking for a refund. this location the employees are uneducated on any kind of hospitality when having contact with human customers. i just don't care for employees who have a rude attitude. how do store owners proudly have a rude person as a cashier? well let's see how that will work out for them. attention all friends the people are rude at this location.' The customer feels annoyance, anger, neutral. Concisely, how can we best improve our services for this customer's experience?  To improve the customer's experience and address their concerns, we can take the following steps:\n\n1. Acknowledge the issue: Respond to the review by acknowledging the customer's frustration and apologizing for the poor experience they had with our cashier.\n\n2. Investigate the incident: Speak with the cashier involved to understand the situation from their perspective and determine if there was a misunderstanding or if the cashier was indeed rude.\n\n3. Provide training: Offer additional training to the cashier on customer service skills, focusing on communication, empathy, and problem-solving."
        ],
        [
         "1",
         "[INST] A customer left us a 2-star review: 'here's what happened n we were suppose to be at the regular mgm.. so we pulled up, put our car in valet, got a bell boy to take our stuff.. and then we realized they gave us rooms at the signature. what a pain!!!! n then when we tried to check in we were suppose to have 2 rooms... but they couldn't find our other reservation because we booked through an online travel company so they only gave us one room!!! n the next day we had to spend at least an hour trying to get compensated for the room that we pre paid for! finally they gave us back the money and also said they would give us 200 to spend on food and bev. n so, we ordered 158 in food that night... and tipped 30! n then when i went to check out... they had all the room service charges and all the room charges on my card!!! it was such a hassle to get them off!!! in the end, they took off all charges but the 30 tip which i was still mad about . n nthe rooms were super nice! they had a nice kitchen and a nice view. but, i do not consider it much of an upgrade from the mgm since one of the beds is a pull out couch. n nalso, we were there for a bachelorette party... and the bachelorette likes to gamble.. so it probably would have been more ideal to stay in the casino. n noverall, the condo was very nice... but the customer service was totally disorganized and bad. numerous times the signature blamed their poor service on the mgm and said they couldn't do anything about our problems since we booked through the mgm.' The customer feels realization, neutral, disappointment. Concisely, how can we best improve our services for this customer's experience? [/INST]",
         "A customer left us a 2-star review: 'here's what happened n we were suppose to be at the regular mgm.. so we pulled up, put our car in valet, got a bell boy to take our stuff.. and then we realized they gave us rooms at the signature. what a pain!!!! n then when we tried to check in we were suppose to have 2 rooms... but they couldn't find our other reservation because we booked through an online travel company so they only gave us one room!!! n the next day we had to spend at least an hour trying to get compensated for the room that we pre paid for! finally they gave us back the money and also said they would give us 200 to spend on food and bev. n so, we ordered 158 in food that night... and tipped 30! n then when i went to check out... they had all the room service charges and all the room charges on my card!!! it was such a hassle to get them off!!! in the end, they took off all charges but the 30 tip which i was still mad about . n nthe rooms were super nice! they had a nice kitchen and a nice view. but, i do not consider it much of an upgrade from the mgm since one of the beds is a pull out couch. n nalso, we were there for a bachelorette party... and the bachelorette likes to gamble.. so it probably would have been more ideal to stay in the casino. n noverall, the condo was very nice... but the customer service was totally disorganized and bad. numerous times the signature blamed their poor service on the mgm and said they couldn't do anything about our problems since we booked through the mgm.' The customer feels realization, neutral, disappointment. Concisely, how can we best improve our services for this customer's experience?  To improve the customer's experience, we can focus on the following areas:\n\n1. Clear Communication: Ensure that guests are aware of their accommodation location before arrival. This can be done through confirmation emails, phone calls, or text messages.\n\n2. Accurate Reservations: Double-check reservations, especially when bookings are made through online travel companies. Ensure that all reservations are correctly linked and accounted for.\n\n3. Streamlined Check-in Process: Improve the check-in process to minimize delays and confusion. This could involve training staff to handle such situations more efficiently."
        ],
        [
         "2",
         "[INST] A customer left us a 2-star review: 'went to this fest today and admission is 12. there were 2 tiny stages where live entertainment was scheduled. there was a food truck, a catered brazilian meal stand and some lebanese food ??? . the booths were boring and mainly were hawking insurance or travel or sports. there weren't any booths offering anything to do with brazil. there were streamers in yellow and green and that was the extent of the decorations. the schedules were preprinted which was good...but it's not like there was anything to do other than eat, drink or watch the stage. and it was very hot outside. the portion that was supposed to be 8 of brazilian food was small and cold. and there was only one line to order and one line to pick up. seems like if this is the 5th annual event, there would be more attention to details. it was even hot inside the building and i really don't know what jui jitsu has to do with brazil. that country has such a rich culture, history and importance to the ecosystems of the world and all that was wasted at this festival. the good? public parking was free.' The customer feels neutral, disapproval, approval. Concisely, how can we best improve our services for this customer's experience? [/INST]",
         "A customer left us a 2-star review: 'went to this fest today and admission is 12. there were 2 tiny stages where live entertainment was scheduled. there was a food truck, a catered brazilian meal stand and some lebanese food ??? . the booths were boring and mainly were hawking insurance or travel or sports. there weren't any booths offering anything to do with brazil. there were streamers in yellow and green and that was the extent of the decorations. the schedules were preprinted which was good...but it's not like there was anything to do other than eat, drink or watch the stage. and it was very hot outside. the portion that was supposed to be 8 of brazilian food was small and cold. and there was only one line to order and one line to pick up. seems like if this is the 5th annual event, there would be more attention to details. it was even hot inside the building and i really don't know what jui jitsu has to do with brazil. that country has such a rich culture, history and importance to the ecosystems of the world and all that was wasted at this festival. the good? public parking was free.' The customer feels neutral, disapproval, approval. Concisely, how can we best improve our services for this customer's experience?  To improve the customer's experience, we can focus on the following areas:\n\n1. Expand and diversify entertainment: Offer a wider variety of live entertainment that better represents Brazil's rich culture, such as music, dance, and art performances.\n\n2. Improve food offerings: Offer more substantial and hot Brazilian food options, with multiple lines for ordering and picking up to reduce wait times.\n\n3. Enhance decorations: Increase the use of decorations that reflect Brazil's culture, history, and importance to the ecosystems of the world."
        ],
        [
         "3",
         "[INST] A customer left us a 2-star review: 'went to check out this joint the other weekend when i was in vegas. its certainly off the beaten path or strip for that matter... nwas it worth the extra travel time to get to the strip...that remains to be seen. the place looks nice but it has an old casino type of feel...and not in a good sense. nso i may be back in vegas before year is out and if time permits...try to hit the golf course. nwe will see.....' The customer feels admiration, approval, neutral. Concisely, how can we best improve our services for this customer's experience? [/INST]",
         "A customer left us a 2-star review: 'went to check out this joint the other weekend when i was in vegas. its certainly off the beaten path or strip for that matter... nwas it worth the extra travel time to get to the strip...that remains to be seen. the place looks nice but it has an old casino type of feel...and not in a good sense. nso i may be back in vegas before year is out and if time permits...try to hit the golf course. nwe will see.....' The customer feels admiration, approval, neutral. Concisely, how can we best improve our services for this customer's experience?  To improve the customer's experience, we could focus on modernizing the ambiance of our establishment to make it less reminiscent of an old casino. This could involve updating the decor, improving the lighting, and potentially enhancing the overall cleanliness and maintenance of the venue. Additionally, we could consider offering incentives or promotions to make the extra travel time to reach our location more appealing, such as discounts on food, drinks, or activities. Lastly, ensuring excellent customer service and a welcoming atmosphere could help create a more positive impression and encourage repeat visits."
        ],
        [
         "4",
         "[INST] A customer left us a 2-star review: 'a whole lot of meh. this store is in a horrible location and the store hasn't received the corporate refresh yet like the store down the road. beyond that it's a dang home depot' The customer feels disappointment, sadness, fear. Concisely, how can we best improve our services for this customer's experience? [/INST]",
         "A customer left us a 2-star review: 'a whole lot of meh. this store is in a horrible location and the store hasn't received the corporate refresh yet like the store down the road. beyond that it's a dang home depot' The customer feels disappointment, sadness, fear. Concisely, how can we best improve our services for this customer's experience?  To improve the customer's experience, we can address the following concerns:\n\n1. Location: Although we cannot change the physical location of the store, we can offer delivery services or suggest alternative stores that may be more convenient for the customer.\n\n2. Corporate refresh: We can expedite the store refresh to ensure a more modern and updated appearance, which may enhance the customer's overall experience.\n\n3. Comparison to Home Depot: To differentiate ourselves from Home Depot, we can focus on providing exceptional customer service, unique product offerings, or specialized expertise in certain areas. This could include offering personalized shopping experiences, providing expert advice on products, or offering exclusive deals and promotions."
        ],
        [
         "5",
         "[INST] A customer left us a 2-star review: 'i didn't like the staff here. they are not very friendly or attentive. i understand that cold stone is just a ice cream joint, but i think they just wanted everyone to get ice cream and get going. in addition, they seem to spill all over the serving cup. the cup was sticky even after they wiped it clean with some cloth. n ni am definitely not going back even though i love cold stone ice creams.. i am willing to drive to another location for it even though this is the closest to where i live.' The customer feels disapproval, annoyance, disappointment. Concisely, how can we best improve our services for this customer's experience? [/INST]",
         "A customer left us a 2-star review: 'i didn't like the staff here. they are not very friendly or attentive. i understand that cold stone is just a ice cream joint, but i think they just wanted everyone to get ice cream and get going. in addition, they seem to spill all over the serving cup. the cup was sticky even after they wiped it clean with some cloth. n ni am definitely not going back even though i love cold stone ice creams.. i am willing to drive to another location for it even though this is the closest to where i live.' The customer feels disapproval, annoyance, disappointment. Concisely, how can we best improve our services for this customer's experience?  To improve the customer's experience at your Cold Stone Creamery, consider the following steps:\n\n1. Staff Training: Provide additional training to your staff on customer service skills, emphasizing friendliness, attentiveness, and cleanliness.\n\n2. Cleanliness: Ensure that all serving cups are thoroughly cleaned and free of residue before use.\n\n3. Attention to Detail: Encourage staff to pay close attention to the presentation of the ice cream, ensuring that it is not spilled or messy.\n\n4. Personalized Service: Train staff to engage with customers in a friendly and attentive manner, making them feel valued and appreciated."
        ],
        [
         "6",
         "[INST] A customer left us a 2-star review: 'we've been here twice now. the servers are very sweet and obviously good looking. but they have yet to get our orders correct. n nthe first time, we sat at the bar. there were about 10 other people there. it took a solid 5 minutes to be greeted. once we ordered our food, she read back the wrong order. we corrected her, and the food still came out wrong. n nthe second time we went with another couple. again, our server was super sweet, but knew nothing about beer asked us what a wheat beer is . and, once again, our food came out incorrectly. n nit's a great atmosphere. nice, open space. tvs everywhere and i mean everywhere . not too loud. but the service has got to get better. i have a feeling they hired a lot of girls with zero service experience, which is fine. but you've got to train them not only on beer basics, but how to take an order correctly.' The customer feels disappointment, neutral, annoyance. Concisely, how can we best improve our services for this customer's experience? [/INST]",
         "A customer left us a 2-star review: 'we've been here twice now. the servers are very sweet and obviously good looking. but they have yet to get our orders correct. n nthe first time, we sat at the bar. there were about 10 other people there. it took a solid 5 minutes to be greeted. once we ordered our food, she read back the wrong order. we corrected her, and the food still came out wrong. n nthe second time we went with another couple. again, our server was super sweet, but knew nothing about beer asked us what a wheat beer is . and, once again, our food came out incorrectly. n nit's a great atmosphere. nice, open space. tvs everywhere and i mean everywhere . not too loud. but the service has got to get better. i have a feeling they hired a lot of girls with zero service experience, which is fine. but you've got to train them not only on beer basics, but how to take an order correctly.' The customer feels disappointment, neutral, annoyance. Concisely, how can we best improve our services for this customer's experience?  To improve the customer's experience, we can focus on the following areas:\n\n1. **Order Accuracy**: Ensure that orders are taken correctly the first time. This may involve additional training for staff to improve listening skills and attention to detail.\n\n2. **Knowledge of Menu Items**: Servers should have a good understanding of the menu, including food and beverage options. This can be achieved through regular training sessions.\n\n3. **Prompt Attention**: Improve response times, especially during busy periods. Greeting customers promptly can help set a positive tone for their dining experience."
        ],
        [
         "7",
         "[INST] A customer left us a 2-star review: 'a local dive that opened in 1985. n ndark, dingy, and more than a bit used but with friendly bartenders and a fascinating clientele. n non my first visit, i met a computer animator, a former lounge musician, and a lady who was taking a break from her work on the street. she was accompanied by a gentleman friend who seemed to be some sort of boss handler. anyway, she fit right in with the used vibe. n nno fancy drinks or interesting beers. the restaurant was not open when i visited. n none star for the friendly folks, another for just hangin in there.' The customer feels neutral, approval, realization. Concisely, how can we best improve our services for this customer's experience? [/INST]",
         "A customer left us a 2-star review: 'a local dive that opened in 1985. n ndark, dingy, and more than a bit used but with friendly bartenders and a fascinating clientele. n non my first visit, i met a computer animator, a former lounge musician, and a lady who was taking a break from her work on the street. she was accompanied by a gentleman friend who seemed to be some sort of boss handler. anyway, she fit right in with the used vibe. n nno fancy drinks or interesting beers. the restaurant was not open when i visited. n none star for the friendly folks, another for just hangin in there.' The customer feels neutral, approval, realization. Concisely, how can we best improve our services for this customer's experience?  To improve the customer's experience, we could focus on enhancing the ambiance and food options, as mentioned in the review, the restaurant was not open during their visit. Offering a more inviting and clean environment could help create a better first impression. Additionally, expanding the drink menu to include more interesting options, such as fancy drinks or unique beers, might appeal to a wider range of customers. Lastly, considering the positive mention of the friendly bartenders and diverse clientele, maintaining and fostering this aspect of our business could help create a welcoming and engaging atmosphere."
        ],
        [
         "8",
         "[INST] A customer left us a 2-star review: 'tja, es f u00e4llt mir schwer was positives zu schreiben. es ist alt, direkt am highway gelegen, es ist laut am pool spielt bis sp u00e4t nachts sehr laut musik, die man durch die d u00fcnnen w u00e4nde u00fcberall h u00f6rt und es ist teuer. n nwarum kommen trotzdem leute? weil es das einzige gay clothing optional resort in vegas ist und das scheinen die besitzer sehr gut zu wissen. n naber da gibt bessere orte f u00fcr palm springs! und in las vegas will man doch auf den strip und in die verr u00fcckte stadt eintauchen. also haben wir nach zwei tagen abgebrochen und sind in ein hotel auf den strip gewechselt!' The customer feels neutral, curiosity, confusion. Concisely, how can we best improve our services for this customer's experience? [/INST]",
         "A customer left us a 2-star review: 'tja, es f u00e4llt mir schwer was positives zu schreiben. es ist alt, direkt am highway gelegen, es ist laut am pool spielt bis sp u00e4t nachts sehr laut musik, die man durch die d u00fcnnen w u00e4nde u00fcberall h u00f6rt und es ist teuer. n nwarum kommen trotzdem leute? weil es das einzige gay clothing optional resort in vegas ist und das scheinen die besitzer sehr gut zu wissen. n naber da gibt bessere orte f u00fcr palm springs! und in las vegas will man doch auf den strip und in die verr u00fcckte stadt eintauchen. also haben wir nach zwei tagen abgebrochen und sind in ein hotel auf den strip gewechselt!' The customer feels neutral, curiosity, confusion. Concisely, how can we best improve our services for this customer's experience?  To improve the customer's experience, we could consider the following steps:\n\n1. Noise Levels: Address the noise issue by implementing noise regulations around the pool area, especially during late hours. Consider installing soundproofing materials to reduce the transfer of music and pool noise to guest rooms.\n\n2. Age of the Property: Consider updating the property to give it a fresher, more modern look. This could include renovating common areas, guest rooms, and the pool.\n\n3. Pricing: Review the pricing strategy to ensure it is competitive with other similar properties in the area. Offer special promotions or packages to attract more customers."
        ],
        [
         "9",
         "[INST] A customer left us a 2-star review: 'this place completely underwhelms me. n nat first glance, the decor seems cool, but then you sit down in a booth and sink four inches in the impression made from the hundreds of other asses that sat there. not a pleasant thought. after that, you look around and realize that it's just an asian version of applebees or some other chain. n nthe service comes from a totally mediocre cute college girl with the personality of a tea cup. adequate and boring, never really there but nothing you can truly fault her for. n nthe menu is absurd. it's huge and broken down into what seems like six unintelligible sections. some of the sushi rolls are explained on the back, and inexplicably, some aren't. a lot of them have cream cheese, which in my opinion, is nasty. n nive been here twice and both times i said i wouldn't come back, and yet i keep returning. i guess because it's easy and it's there. between the dining area and the bar, definitely sit at the bar. at least the bartenders are fun to watch while they tweak out on whatever uppers they're on.' The customer feels annoyance, disappointment, disapproval. Concisely, how can we best improve our services for this customer's experience? [/INST]",
         "A customer left us a 2-star review: 'this place completely underwhelms me. n nat first glance, the decor seems cool, but then you sit down in a booth and sink four inches in the impression made from the hundreds of other asses that sat there. not a pleasant thought. after that, you look around and realize that it's just an asian version of applebees or some other chain. n nthe service comes from a totally mediocre cute college girl with the personality of a tea cup. adequate and boring, never really there but nothing you can truly fault her for. n nthe menu is absurd. it's huge and broken down into what seems like six unintelligible sections. some of the sushi rolls are explained on the back, and inexplicably, some aren't. a lot of them have cream cheese, which in my opinion, is nasty. n nive been here twice and both times i said i wouldn't come back, and yet i keep returning. i guess because it's easy and it's there. between the dining area and the bar, definitely sit at the bar. at least the bartenders are fun to watch while they tweak out on whatever uppers they're on.' The customer feels annoyance, disappointment, disapproval. Concisely, how can we best improve our services for this customer's experience?  To improve the customer's experience, we can focus on the following areas:\n\n1. Booth Seating: Investigate the comfort of our booth seating and consider replacing or improving it to prevent sinking or discomfort.\n\n2. Atmosphere: Enhance the ambiance to differentiate ourselves from chain restaurants, perhaps by incorporating more unique decor elements or a more distinctive theme.\n\n3. Menu: Simplify the menu structure and ensure all sushi rolls are clearly explained with ingredients. Offer options for customers who dislike cream cheese.\n\n4. Staff Training: Provide staff with training to improve their service skills, focusing on building a more engaging and welcoming atmosphere."
        ],
        [
         "10",
         "[INST] A customer left us a 2-star review: 'we ordered wings, queso, mac n cheese, sloppy joe and chicken tenders. not a very impressive order to be sure, but it still should've lived up to its typical standards. but, it did not. n nwhile the wings were good and meaty, everything else feel way short. the sloppy joe was the consistency of wet dog food and did not taste good. the mac n cheese was flavor less it's bad when a 4 year old is asking for salt and pepper . the fries were battered and greasy. the chicken tenders and the queso dip were decent though. n nthe wait staff was excellent however, this review is for the food alone. step up the quality of the food to match the high prices, and this place would be decent. good beer selection.' The customer feels disapproval, neutral, disappointment. Concisely, how can we best improve our services for this customer's experience? [/INST]",
         "A customer left us a 2-star review: 'we ordered wings, queso, mac n cheese, sloppy joe and chicken tenders. not a very impressive order to be sure, but it still should've lived up to its typical standards. but, it did not. n nwhile the wings were good and meaty, everything else feel way short. the sloppy joe was the consistency of wet dog food and did not taste good. the mac n cheese was flavor less it's bad when a 4 year old is asking for salt and pepper . the fries were battered and greasy. the chicken tenders and the queso dip were decent though. n nthe wait staff was excellent however, this review is for the food alone. step up the quality of the food to match the high prices, and this place would be decent. good beer selection.' The customer feels disapproval, neutral, disappointment. Concisely, how can we best improve our services for this customer's experience?  To improve the customer's experience, we can focus on the following areas:\n\n1. Enhance the quality of the dishes mentioned in the review, particularly the sloppy joe, mac n cheese, and fries. We can work on improving the taste, texture, and seasoning of these dishes.\n\n2. Provide clear and accurate descriptions of our dishes, especially those that may be subject to individual taste preferences. This will help manage customer expectations.\n\n3. Consider adjusting the prices to better reflect the quality of the food, or improve the quality of the food to match the current prices."
        ],
        [
         "11",
         "[INST] A customer left us a 2-star review: 'totally dont uunderstand this place........at all....! n nare you a mexican restaurant....are you a pub......what are you? the food is ok the wine is questionable for the price ther service is ok. n nits just a bit pointless great location going to waste in my opinion.' The customer feels disapproval, annoyance, confusion. Concisely, how can we best improve our services for this customer's experience? [/INST]",
         "A customer left us a 2-star review: 'totally dont uunderstand this place........at all....! n nare you a mexican restaurant....are you a pub......what are you? the food is ok the wine is questionable for the price ther service is ok. n nits just a bit pointless great location going to waste in my opinion.' The customer feels disapproval, annoyance, confusion. Concisely, how can we best improve our services for this customer's experience?  To improve the customer's experience, we can take the following steps:\n\n1. Clarify our establishment's identity: Ensure that our online presence clearly communicates our restaurant's concept, cuisine, and atmosphere to avoid confusion.\n\n2. Enhance menu offerings: Review our menu to ensure a consistent quality of food and competitive pricing, especially for wine.\n\n3. Improve service: Train our staff to provide friendly, attentive, and efficient service that meets customer expectations.\n\n4. Address cleanliness: Ensure the restaurant is clean and free of any distractions, such as nits, to create a more pleasant dining experience."
        ],
        [
         "12",
         "[INST] A customer left us a 2-star review: 'the three different nines are fun to play, but don't confuse this with a country club. no real range to warm at and even the foam ball play area and putting green aren't in operation. oh and btw your tee time has been pushed back because the men's club had trouble teeing it up earlier. too many other options in the valley to play. why come here? doubtful i will again.' The customer feels confusion, disapproval, joy. Concisely, how can we best improve our services for this customer's experience? [/INST]",
         "A customer left us a 2-star review: 'the three different nines are fun to play, but don't confuse this with a country club. no real range to warm at and even the foam ball play area and putting green aren't in operation. oh and btw your tee time has been pushed back because the men's club had trouble teeing it up earlier. too many other options in the valley to play. why come here? doubtful i will again.' The customer feels confusion, disapproval, joy. Concisely, how can we best improve our services for this customer's experience?  To improve the customer's experience, we can focus on the following areas:\n\n1. Clarify the nature of the facility: Make it clearer that the venue is not a country club, but a fun, family-friendly golfing experience with unique features like the three different nines.\n\n2. Ensure facilities are operational: Address the issues with the foam ball play area and putting green not being in operation. Regular maintenance and timely repairs can help ensure these facilities are always available for customers.\n\n3. Improve communication: Notify customers about any changes to tee times or facility availability in advance. This can help manage customer expectations and reduce frustration."
        ],
        [
         "13",
         "[INST] A customer left us a 2-star review: 'i ate here not wanting to wander too far off before my shuttle to the airport arrived. i knew it would be crappy food and the garden cafe delivered! it wasn't as bad as i thought it would be. the decor of the cafe is just as humorous as the rest of the tropicana. n ni didn't, however, order anything out of the ordinary. chicken fried steak and biscuits and gravy is what i stuck to. i think if you order anything fancier at a joint like this you might be suicidal. naive? optimistic? one of those. order safe! n ni thought the service was fine. the servers were actually very nice to me. i think it makes a difference if you're not drunk off your ass, 'cause they were a little more severe in their dealings with drunk people that came in. fascinating theater if fate is smiling on your timing while you eat here!' The customer feels amusement, approval, optimism. Concisely, how can we best improve our services for this customer's experience? [/INST]",
         "A customer left us a 2-star review: 'i ate here not wanting to wander too far off before my shuttle to the airport arrived. i knew it would be crappy food and the garden cafe delivered! it wasn't as bad as i thought it would be. the decor of the cafe is just as humorous as the rest of the tropicana. n ni didn't, however, order anything out of the ordinary. chicken fried steak and biscuits and gravy is what i stuck to. i think if you order anything fancier at a joint like this you might be suicidal. naive? optimistic? one of those. order safe! n ni thought the service was fine. the servers were actually very nice to me. i think it makes a difference if you're not drunk off your ass, 'cause they were a little more severe in their dealings with drunk people that came in. fascinating theater if fate is smiling on your timing while you eat here!' The customer feels amusement, approval, optimism. Concisely, how can we best improve our services for this customer's experience?  To improve the customer's experience, consider the following suggestions:\n\n1. Enhance the food quality and variety: Offer a wider range of menu options, focusing on improving the quality of the existing dishes, especially the chicken fried steak and biscuits and gravy. This could help cater to customers who prefer more traditional, hearty meals.\n\n2. Improve ambiance: Maintain and update the decor to ensure it remains humorous and appealing to customers. A clean, well-maintained environment can contribute to a more enjoyable dining experience."
        ],
        [
         "14",
         "[INST] A customer left us a 2-star review: 'i wish they'd invest some money and make this a fry's marketplace. they don't have a great selection of items so i usually end of going to safeway's, albertson's or basha's to pick up other items. but as usual in fry's, they have super friendly employees! so five starts for them for that!' The customer feels desire, admiration, neutral. Concisely, how can we best improve our services for this customer's experience? [/INST]",
         "A customer left us a 2-star review: 'i wish they'd invest some money and make this a fry's marketplace. they don't have a great selection of items so i usually end of going to safeway's, albertson's or basha's to pick up other items. but as usual in fry's, they have super friendly employees! so five starts for them for that!' The customer feels desire, admiration, neutral. Concisely, how can we best improve our services for this customer's experience?  To improve the customer's experience, we can focus on expanding our product selection to be more competitive with other major grocery stores like Safeway, Albertsons, and Basha's. This will address the customer's desire for a wider variety of items. Additionally, we can continue to prioritize excellent customer service, as the customer appreciates our friendly employees. To further enhance their experience, we could consider offering online shopping and home delivery options, which may help save them time and make shopping more convenient."
        ],
        [
         "15",
         "[INST] A customer left us a 2-star review: 'i have to say right when we got there it started off bad. so when we were asked if we like help with our bags we said yes well needless to say we got no help with them at all. then we got all checked in. well we had no hot water at all... i mean none... so the first night i was thinking ok maybe it will be fixed well the night 2 still no hot water at all again when we called the front desk some one was sent up. he could not do anything about it. well he told them we needed a room change. so later on around 945 we got a call saying if we really wanted to be moved to call but they really didnt have anything tell the next day. so come the next day we got the run around. telling us we needed to get out bag and bring them down to changes room but we would not have a room tell 1 and if we are not back by 6 we mite not have a room.... wtf dose that mean? then the bell boy asked what happened and was like i don think they told u that!!! wtf i could not make that up if i want to. needless to say ho one was nice no one was helpful the one nice people where the 3 young men working the bar closer to the lobby and the guy who came to try to fix our water issue. but other then that every one was rude! i don't think i will go back here again' The customer feels neutral, disappointment, realization. Concisely, how can we best improve our services for this customer's experience? [/INST]",
         "A customer left us a 2-star review: 'i have to say right when we got there it started off bad. so when we were asked if we like help with our bags we said yes well needless to say we got no help with them at all. then we got all checked in. well we had no hot water at all... i mean none... so the first night i was thinking ok maybe it will be fixed well the night 2 still no hot water at all again when we called the front desk some one was sent up. he could not do anything about it. well he told them we needed a room change. so later on around 945 we got a call saying if we really wanted to be moved to call but they really didnt have anything tell the next day. so come the next day we got the run around. telling us we needed to get out bag and bring them down to changes room but we would not have a room tell 1 and if we are not back by 6 we mite not have a room.... wtf dose that mean? then the bell boy asked what happened and was like i don think they told u that!!! wtf i could not make that up if i want to. needless to say ho one was nice no one was helpful the one nice people where the 3 young men working the bar closer to the lobby and the guy who came to try to fix our water issue. but other then that every one was rude! i don't think i will go back here again' The customer feels neutral, disappointment, realization. Concisely, how can we best improve our services for this customer's experience?  To improve the customer's experience, we can take the following steps:\n\n1. Provide assistance with luggage upon arrival: Ensure that staff are trained to offer help with luggage upon arrival, as this was a point of frustration for the customer.\n\n2. Address maintenance issues promptly: Address maintenance issues such as the lack of hot water in a timely manner. This can be done by having a dedicated maintenance team on-site or by having a clear process for reporting and addressing such issues.\n\n3. Communicate effectively: Improve communication with guests regarding room changes, maintenance issues, and any other important information. Be clear, concise, and empathetic in all communications."
        ],
        [
         "16",
         "[INST] A customer left us a 2-star review: 'have been going ever since it opened and wtf has happened to the service????? the last 3 4 times i have gone it seems like the service gets more horrible each time. love the dishes although they need some kind of different specials now then...will give it another chance but between being feeling ignored by the wait staff and having out orders either screwed up or come out at a agonizing slow pace i feel like my love affair with rice paper is coming to an unfortunate end. sigh' The customer feels love, disappointment, sadness. Concisely, how can we best improve our services for this customer's experience? [/INST]",
         "A customer left us a 2-star review: 'have been going ever since it opened and wtf has happened to the service????? the last 3 4 times i have gone it seems like the service gets more horrible each time. love the dishes although they need some kind of different specials now then...will give it another chance but between being feeling ignored by the wait staff and having out orders either screwed up or come out at a agonizing slow pace i feel like my love affair with rice paper is coming to an unfortunate end. sigh' The customer feels love, disappointment, sadness. Concisely, how can we best improve our services for this customer's experience?  To improve the customer's experience, we can focus on the following areas:\n\n1. Improve Service Quality: Train staff to provide friendly, attentive, and efficient service. Ensure they are aware of the customer's presence and needs, and respond promptly to requests.\n\n2. Streamline Order Process: Review the order process to minimize errors and delays. This may involve better communication between the kitchen and the waitstaff, or implementing a more efficient system for taking and delivering orders.\n\n3. Specials and Menu Variety: Introduce new specials or menu items to keep the customer interested and engaged."
        ],
        [
         "17",
         "[INST] A customer left us a 2-star review: 'the rooms looks old, the beds are hard, all the decor is dated or beat up or in rough shape. it is deafly not one of the best station properties, we probably will not stay here ever again until upgrades are made to the rooms. they need to spend some of that ufc money on up grading this property.' The customer feels disapproval, disappointment, neutral. Concisely, how can we best improve our services for this customer's experience? [/INST]",
         "A customer left us a 2-star review: 'the rooms looks old, the beds are hard, all the decor is dated or beat up or in rough shape. it is deafly not one of the best station properties, we probably will not stay here ever again until upgrades are made to the rooms. they need to spend some of that ufc money on up grading this property.' The customer feels disapproval, disappointment, neutral. Concisely, how can we best improve our services for this customer's experience?  To improve the customer's experience and address their concerns, we can take the following steps:\n\n1. Acknowledge their feedback: Respond to the review, thank them for their feedback, and express our appreciation for their patronage.\n\n2. Address the issues: Assure them that we are taking their concerns seriously and are working on upgrading the rooms, beds, and decor to improve their stay.\n\n3. Offer a solution: If possible, offer a discount or upgrade on their next stay as a gesture of goodwill and to encourage them to give us another chance."
        ],
        [
         "18",
         "[INST] A customer left us a 2-star review: 'we went in a group of 6 for their saturday lunch buffet. the vegetarian dishes were pretty good saag paneer, paneer matar, daal, rice, etc. the non veg weren't that good except for the chicken tikka. idlis tasted like they were microwaved from having prepared them a few days ago. sambar wasn't too bad. the gulab jamoon was ok, hard to cut with a spoon. noverall, it was ok considering it is one of the very few indian food options on the strip' The customer feels neutral, approval, admiration. Concisely, how can we best improve our services for this customer's experience? [/INST]",
         "A customer left us a 2-star review: 'we went in a group of 6 for their saturday lunch buffet. the vegetarian dishes were pretty good saag paneer, paneer matar, daal, rice, etc. the non veg weren't that good except for the chicken tikka. idlis tasted like they were microwaved from having prepared them a few days ago. sambar wasn't too bad. the gulab jamoon was ok, hard to cut with a spoon. noverall, it was ok considering it is one of the very few indian food options on the strip' The customer feels neutral, approval, admiration. Concisely, how can we best improve our services for this customer's experience?  To improve the customer's experience, we could focus on the following areas:\n\n1. Improve the quality and consistency of non-vegetarian dishes, particularly those mentioned as not being good.\n2. Ensure that idlis are freshly prepared and served, possibly offering a more frequent turnover or a la carte option for these items.\n3. Enhance the presentation of gulab jamun, making it easier to cut and more appealing to the eye.\n4. Consider offering a wider variety of Indian food options on the menu, as the customer mentions that your establishment is one of the few Indian food options on the strip."
        ],
        [
         "19",
         "[INST] A customer left us a 2-star review: 'this place has major potential! as is, it's pretty much friendly super suck. n nadorable husband and wife team bickering in a foreign language? check. nclean facilities and warm owners employees. check. nall personal recipes and made from scratch items? check. n nbut..crazy interior, weak following of menu, long wait time due to every.single.item being made from scratch while you wait except bread, of course and gallons of mayo on sandwiches? check, check, check and check. the poor folks i bought sandwiches for actually threw them away because they were so incredibly drenched and overpowered by the mayo. tried a second time, ordering something slightly different, and still nothing special. not sure why yelpers are lovin' on this place, but i wholeheartedly disagree.' The customer feels neutral, disappointment, annoyance. Concisely, how can we best improve our services for this customer's experience? [/INST]",
         "A customer left us a 2-star review: 'this place has major potential! as is, it's pretty much friendly super suck. n nadorable husband and wife team bickering in a foreign language? check. nclean facilities and warm owners employees. check. nall personal recipes and made from scratch items? check. n nbut..crazy interior, weak following of menu, long wait time due to every.single.item being made from scratch while you wait except bread, of course and gallons of mayo on sandwiches? check, check, check and check. the poor folks i bought sandwiches for actually threw them away because they were so incredibly drenched and overpowered by the mayo. tried a second time, ordering something slightly different, and still nothing special. not sure why yelpers are lovin' on this place, but i wholeheartedly disagree.' The customer feels neutral, disappointment, annoyance. Concisely, how can we best improve our services for this customer's experience?  To improve the customer's experience, we can focus on the following areas:\n\n1. Communication: Ensure that all interactions with customers, especially during service, are clear and professional, regardless of the language spoken.\n\n2. Menu Consistency: Improve the consistency of menu items, ensuring that they are prepared as described and that the presentation is appealing.\n\n3. Portion Control: Address the issue of excessive mayo on sandwiches by adjusting the amount used or offering it as a separate condiment.\n\n4. Wait Time: Reduce wait times by optimizing the kitchen workflow, so that items are prepared more efficiently without compromising quality."
        ],
        [
         "20",
         "[INST] A customer left us a 2-star review: 'they might know tires, but they don't know how to troubleshoot problems with my vw. they said i needed an idle control valve, but there's one problem my car doesn't use one it controls the idle by the ecu . they then wanted to replace the entire throttle body. my problem was solved by doing an ecu reset.' The customer feels neutral, disapproval, disappointment. Concisely, how can we best improve our services for this customer's experience? [/INST]",
         "A customer left us a 2-star review: 'they might know tires, but they don't know how to troubleshoot problems with my vw. they said i needed an idle control valve, but there's one problem my car doesn't use one it controls the idle by the ecu . they then wanted to replace the entire throttle body. my problem was solved by doing an ecu reset.' The customer feels neutral, disapproval, disappointment. Concisely, how can we best improve our services for this customer's experience?  To improve the customer's experience, we can take the following steps:\n\n1. Acknowledge the customer's feedback: Respond to the review by acknowledging their concerns and expressing appreciation for their feedback.\n\n2. Apologize for the inconvenience: Apologize for the inconvenience caused by the misdiagnosis and assure them that we value their business and strive to provide accurate and effective service.\n\n3. Educate our staff: Provide additional training to our technicians on the specifics of Volkswagen models, including their components and diagnostic procedures, to ensure they are better equipped to handle future issues."
        ]
       ],
       "shape": {
        "columns": 2,
        "rows": 21
       }
      },
      "text/html": [
       "<div>\n",
       "<style scoped>\n",
       "    .dataframe tbody tr th:only-of-type {\n",
       "        vertical-align: middle;\n",
       "    }\n",
       "\n",
       "    .dataframe tbody tr th {\n",
       "        vertical-align: top;\n",
       "    }\n",
       "\n",
       "    .dataframe thead th {\n",
       "        text-align: right;\n",
       "    }\n",
       "</style>\n",
       "<table border=\"1\" class=\"dataframe\">\n",
       "  <thead>\n",
       "    <tr style=\"text-align: right;\">\n",
       "      <th></th>\n",
       "      <th>prompt</th>\n",
       "      <th>response</th>\n",
       "    </tr>\n",
       "  </thead>\n",
       "  <tbody>\n",
       "    <tr>\n",
       "      <th>0</th>\n",
       "      <td>[INST] A customer left us a 2-star review: 'th...</td>\n",
       "      <td>A customer left us a 2-star review: 'the cashi...</td>\n",
       "    </tr>\n",
       "    <tr>\n",
       "      <th>1</th>\n",
       "      <td>[INST] A customer left us a 2-star review: 'he...</td>\n",
       "      <td>A customer left us a 2-star review: 'here's wh...</td>\n",
       "    </tr>\n",
       "    <tr>\n",
       "      <th>2</th>\n",
       "      <td>[INST] A customer left us a 2-star review: 'we...</td>\n",
       "      <td>A customer left us a 2-star review: 'went to t...</td>\n",
       "    </tr>\n",
       "    <tr>\n",
       "      <th>3</th>\n",
       "      <td>[INST] A customer left us a 2-star review: 'we...</td>\n",
       "      <td>A customer left us a 2-star review: 'went to c...</td>\n",
       "    </tr>\n",
       "    <tr>\n",
       "      <th>4</th>\n",
       "      <td>[INST] A customer left us a 2-star review: 'a ...</td>\n",
       "      <td>A customer left us a 2-star review: 'a whole l...</td>\n",
       "    </tr>\n",
       "    <tr>\n",
       "      <th>5</th>\n",
       "      <td>[INST] A customer left us a 2-star review: 'i ...</td>\n",
       "      <td>A customer left us a 2-star review: 'i didn't ...</td>\n",
       "    </tr>\n",
       "    <tr>\n",
       "      <th>6</th>\n",
       "      <td>[INST] A customer left us a 2-star review: 'we...</td>\n",
       "      <td>A customer left us a 2-star review: 'we've bee...</td>\n",
       "    </tr>\n",
       "    <tr>\n",
       "      <th>7</th>\n",
       "      <td>[INST] A customer left us a 2-star review: 'a ...</td>\n",
       "      <td>A customer left us a 2-star review: 'a local d...</td>\n",
       "    </tr>\n",
       "    <tr>\n",
       "      <th>8</th>\n",
       "      <td>[INST] A customer left us a 2-star review: 'tj...</td>\n",
       "      <td>A customer left us a 2-star review: 'tja, es f...</td>\n",
       "    </tr>\n",
       "    <tr>\n",
       "      <th>9</th>\n",
       "      <td>[INST] A customer left us a 2-star review: 'th...</td>\n",
       "      <td>A customer left us a 2-star review: 'this plac...</td>\n",
       "    </tr>\n",
       "    <tr>\n",
       "      <th>10</th>\n",
       "      <td>[INST] A customer left us a 2-star review: 'we...</td>\n",
       "      <td>A customer left us a 2-star review: 'we ordere...</td>\n",
       "    </tr>\n",
       "    <tr>\n",
       "      <th>11</th>\n",
       "      <td>[INST] A customer left us a 2-star review: 'to...</td>\n",
       "      <td>A customer left us a 2-star review: 'totally d...</td>\n",
       "    </tr>\n",
       "    <tr>\n",
       "      <th>12</th>\n",
       "      <td>[INST] A customer left us a 2-star review: 'th...</td>\n",
       "      <td>A customer left us a 2-star review: 'the three...</td>\n",
       "    </tr>\n",
       "    <tr>\n",
       "      <th>13</th>\n",
       "      <td>[INST] A customer left us a 2-star review: 'i ...</td>\n",
       "      <td>A customer left us a 2-star review: 'i ate her...</td>\n",
       "    </tr>\n",
       "    <tr>\n",
       "      <th>14</th>\n",
       "      <td>[INST] A customer left us a 2-star review: 'i ...</td>\n",
       "      <td>A customer left us a 2-star review: 'i wish th...</td>\n",
       "    </tr>\n",
       "    <tr>\n",
       "      <th>15</th>\n",
       "      <td>[INST] A customer left us a 2-star review: 'i ...</td>\n",
       "      <td>A customer left us a 2-star review: 'i have to...</td>\n",
       "    </tr>\n",
       "    <tr>\n",
       "      <th>16</th>\n",
       "      <td>[INST] A customer left us a 2-star review: 'ha...</td>\n",
       "      <td>A customer left us a 2-star review: 'have been...</td>\n",
       "    </tr>\n",
       "    <tr>\n",
       "      <th>17</th>\n",
       "      <td>[INST] A customer left us a 2-star review: 'th...</td>\n",
       "      <td>A customer left us a 2-star review: 'the rooms...</td>\n",
       "    </tr>\n",
       "    <tr>\n",
       "      <th>18</th>\n",
       "      <td>[INST] A customer left us a 2-star review: 'we...</td>\n",
       "      <td>A customer left us a 2-star review: 'we went i...</td>\n",
       "    </tr>\n",
       "    <tr>\n",
       "      <th>19</th>\n",
       "      <td>[INST] A customer left us a 2-star review: 'th...</td>\n",
       "      <td>A customer left us a 2-star review: 'this plac...</td>\n",
       "    </tr>\n",
       "    <tr>\n",
       "      <th>20</th>\n",
       "      <td>[INST] A customer left us a 2-star review: 'th...</td>\n",
       "      <td>A customer left us a 2-star review: 'they migh...</td>\n",
       "    </tr>\n",
       "  </tbody>\n",
       "</table>\n",
       "</div>"
      ],
      "text/plain": [
       "                                               prompt  \\\n",
       "0   [INST] A customer left us a 2-star review: 'th...   \n",
       "1   [INST] A customer left us a 2-star review: 'he...   \n",
       "2   [INST] A customer left us a 2-star review: 'we...   \n",
       "3   [INST] A customer left us a 2-star review: 'we...   \n",
       "4   [INST] A customer left us a 2-star review: 'a ...   \n",
       "5   [INST] A customer left us a 2-star review: 'i ...   \n",
       "6   [INST] A customer left us a 2-star review: 'we...   \n",
       "7   [INST] A customer left us a 2-star review: 'a ...   \n",
       "8   [INST] A customer left us a 2-star review: 'tj...   \n",
       "9   [INST] A customer left us a 2-star review: 'th...   \n",
       "10  [INST] A customer left us a 2-star review: 'we...   \n",
       "11  [INST] A customer left us a 2-star review: 'to...   \n",
       "12  [INST] A customer left us a 2-star review: 'th...   \n",
       "13  [INST] A customer left us a 2-star review: 'i ...   \n",
       "14  [INST] A customer left us a 2-star review: 'i ...   \n",
       "15  [INST] A customer left us a 2-star review: 'i ...   \n",
       "16  [INST] A customer left us a 2-star review: 'ha...   \n",
       "17  [INST] A customer left us a 2-star review: 'th...   \n",
       "18  [INST] A customer left us a 2-star review: 'we...   \n",
       "19  [INST] A customer left us a 2-star review: 'th...   \n",
       "20  [INST] A customer left us a 2-star review: 'th...   \n",
       "\n",
       "                                             response  \n",
       "0   A customer left us a 2-star review: 'the cashi...  \n",
       "1   A customer left us a 2-star review: 'here's wh...  \n",
       "2   A customer left us a 2-star review: 'went to t...  \n",
       "3   A customer left us a 2-star review: 'went to c...  \n",
       "4   A customer left us a 2-star review: 'a whole l...  \n",
       "5   A customer left us a 2-star review: 'i didn't ...  \n",
       "6   A customer left us a 2-star review: 'we've bee...  \n",
       "7   A customer left us a 2-star review: 'a local d...  \n",
       "8   A customer left us a 2-star review: 'tja, es f...  \n",
       "9   A customer left us a 2-star review: 'this plac...  \n",
       "10  A customer left us a 2-star review: 'we ordere...  \n",
       "11  A customer left us a 2-star review: 'totally d...  \n",
       "12  A customer left us a 2-star review: 'the three...  \n",
       "13  A customer left us a 2-star review: 'i ate her...  \n",
       "14  A customer left us a 2-star review: 'i wish th...  \n",
       "15  A customer left us a 2-star review: 'i have to...  \n",
       "16  A customer left us a 2-star review: 'have been...  \n",
       "17  A customer left us a 2-star review: 'the rooms...  \n",
       "18  A customer left us a 2-star review: 'we went i...  \n",
       "19  A customer left us a 2-star review: 'this plac...  \n",
       "20  A customer left us a 2-star review: 'they migh...  "
      ]
     },
     "execution_count": 88,
     "metadata": {},
     "output_type": "execute_result"
    }
   ],
   "source": [
    "testing_batch[['prompt', 'response']]"
   ]
  },
  {
   "cell_type": "code",
   "execution_count": 90,
   "metadata": {},
   "outputs": [],
   "source": [
    "# Freeing up some memory\n",
    "gc.collect()\n",
    "torch.cuda.empty_cache()"
   ]
  },
  {
   "cell_type": "markdown",
   "metadata": {},
   "source": [
    "## Full inference"
   ]
  },
  {
   "cell_type": "code",
   "execution_count": 98,
   "metadata": {},
   "outputs": [
    {
     "name": "stdout",
     "output_type": "stream",
     "text": [
      "Train: (9999, 6) (4998, 6)\n",
      "Test: (1998, 6) (999, 6)\n"
     ]
    }
   ],
   "source": [
    "# Refresher\n",
    "print('Train:', train10k.shape, train5k.shape)\n",
    "print('Test:', test2k.shape, test1k.shape)"
   ]
  },
  {
   "cell_type": "code",
   "execution_count": 99,
   "metadata": {},
   "outputs": [],
   "source": [
    "# Save the chunks\n",
    "chunks = '../data/chunks/'\n",
    "if not os.path.exists(chunks):\n",
    "    os.makedirs(chunks)"
   ]
  },
  {
   "cell_type": "markdown",
   "metadata": {},
   "source": [
    "### Part 1 <span style=\"font-size:12px;\">Close this for less scrolling...</span>"
   ]
  },
  {
   "cell_type": "code",
   "execution_count": 101,
   "metadata": {},
   "outputs": [],
   "source": [
    "# Split train10k into 10 chunks of ~1000 records each\n",
    "train1 = train10k[:1000].copy()\n",
    "train2 = train10k[1000:2000].copy()\n",
    "train3 = train10k[2000:3000].copy()\n",
    "train4 = train10k[3000:4000].copy()\n",
    "train5 = train10k[4000:5000].copy()\n",
    "train6 = train10k[5000:6000].copy()\n",
    "train7 = train10k[6000:7000].copy()\n",
    "train8 = train10k[7000:8000].copy()\n",
    "train9 = train10k[8000:9000].copy()\n",
    "train10 = train10k[9000:].copy()\n",
    "\n",
    "# Split 2k test into 2 chunks of ~1000 records each\n",
    "test1 = test2k[:1000].copy()\n",
    "test2 = test2k[1000:].copy()\n",
    "\n",
    "# Not the most efficient way, but it works..."
   ]
  },
  {
   "cell_type": "markdown",
   "metadata": {},
   "source": [
    "##### Train10k and Test2k"
   ]
  },
  {
   "cell_type": "code",
   "execution_count": 102,
   "metadata": {},
   "outputs": [
    {
     "data": {
      "application/vnd.jupyter.widget-view+json": {
       "model_id": "f2a8a35f233049e0898674c4127b035e",
       "version_major": 2,
       "version_minor": 0
      },
      "text/plain": [
       "Processing batches:   0%|          | 0/20 [00:00<?, ?it/s]"
      ]
     },
     "metadata": {},
     "output_type": "display_data"
    },
    {
     "name": "stdout",
     "output_type": "stream",
     "text": [
      "Processing completed, checkpoint removed.\n"
     ]
    }
   ],
   "source": [
    "train1['response'] = generate_response(train1['prompt'], batch_size=50)\n",
    "train1.to_csv(chunks + 'train1.csv', index=False)"
   ]
  },
  {
   "cell_type": "code",
   "execution_count": 103,
   "metadata": {},
   "outputs": [
    {
     "data": {
      "application/vnd.jupyter.widget-view+json": {
       "model_id": "83fa56fb400947228013ae49cebf87e3",
       "version_major": 2,
       "version_minor": 0
      },
      "text/plain": [
       "Processing batches:   0%|          | 0/20 [00:00<?, ?it/s]"
      ]
     },
     "metadata": {},
     "output_type": "display_data"
    },
    {
     "name": "stdout",
     "output_type": "stream",
     "text": [
      "Processing completed, checkpoint removed.\n"
     ]
    }
   ],
   "source": [
    "test1['response'] = generate_response(test1['prompt'], batch_size=50)\n",
    "test1.to_csv(chunks + 'test1.csv', index=False)"
   ]
  },
  {
   "cell_type": "code",
   "execution_count": 104,
   "metadata": {},
   "outputs": [
    {
     "data": {
      "application/vnd.jupyter.widget-view+json": {
       "model_id": "8c8f658e3b3b4955abe4f58806c4098b",
       "version_major": 2,
       "version_minor": 0
      },
      "text/plain": [
       "Processing batches:   0%|          | 0/20 [00:00<?, ?it/s]"
      ]
     },
     "metadata": {},
     "output_type": "display_data"
    },
    {
     "name": "stdout",
     "output_type": "stream",
     "text": [
      "Processing completed, checkpoint removed.\n"
     ]
    }
   ],
   "source": [
    "train2['response'] = generate_response(train2['prompt'], batch_size=50)\n",
    "train2.to_csv(chunks + 'train2.csv', index=False)"
   ]
  },
  {
   "cell_type": "code",
   "execution_count": 105,
   "metadata": {},
   "outputs": [],
   "source": [
    "# Freeing up some memory\n",
    "gc.collect()\n",
    "torch.cuda.empty_cache()"
   ]
  },
  {
   "cell_type": "code",
   "execution_count": 106,
   "metadata": {},
   "outputs": [
    {
     "data": {
      "application/vnd.jupyter.widget-view+json": {
       "model_id": "51c79f36358b4af59b38bc483acc1458",
       "version_major": 2,
       "version_minor": 0
      },
      "text/plain": [
       "Processing batches:   0%|          | 0/20 [00:00<?, ?it/s]"
      ]
     },
     "metadata": {},
     "output_type": "display_data"
    },
    {
     "name": "stdout",
     "output_type": "stream",
     "text": [
      "Processing completed, checkpoint removed.\n"
     ]
    }
   ],
   "source": [
    "test2['response'] = generate_response(test2['prompt'], batch_size=50)\n",
    "test2.to_csv(chunks + 'test2.csv', index=False)"
   ]
  },
  {
   "cell_type": "code",
   "execution_count": 107,
   "metadata": {},
   "outputs": [
    {
     "data": {
      "application/vnd.jupyter.widget-view+json": {
       "model_id": "ec7c6d9f4b394b8a94376a869bcf3125",
       "version_major": 2,
       "version_minor": 0
      },
      "text/plain": [
       "Processing batches:   0%|          | 0/20 [00:00<?, ?it/s]"
      ]
     },
     "metadata": {},
     "output_type": "display_data"
    },
    {
     "name": "stdout",
     "output_type": "stream",
     "text": [
      "Processing completed, checkpoint removed.\n"
     ]
    }
   ],
   "source": [
    "train3['response'] = generate_response(train3['prompt'], batch_size=50)\n",
    "train3.to_csv(chunks + 'train3.csv', index=False)"
   ]
  },
  {
   "cell_type": "code",
   "execution_count": 108,
   "metadata": {},
   "outputs": [
    {
     "data": {
      "application/vnd.jupyter.widget-view+json": {
       "model_id": "d92153d3a17e456b80b32a4c3d863fd9",
       "version_major": 2,
       "version_minor": 0
      },
      "text/plain": [
       "Processing batches:   0%|          | 0/20 [00:00<?, ?it/s]"
      ]
     },
     "metadata": {},
     "output_type": "display_data"
    },
    {
     "name": "stdout",
     "output_type": "stream",
     "text": [
      "Processing completed, checkpoint removed.\n"
     ]
    }
   ],
   "source": [
    "train4['response'] = generate_response(train4['prompt'], batch_size=50)\n",
    "train4.to_csv(chunks + 'train4.csv', index=False)"
   ]
  },
  {
   "cell_type": "code",
   "execution_count": 109,
   "metadata": {},
   "outputs": [],
   "source": [
    "# Freeing up some memory\n",
    "gc.collect()\n",
    "torch.cuda.empty_cache()"
   ]
  },
  {
   "cell_type": "code",
   "execution_count": 110,
   "metadata": {},
   "outputs": [
    {
     "data": {
      "application/vnd.jupyter.widget-view+json": {
       "model_id": "eb89d236ba134b7daafb42476bdb6d49",
       "version_major": 2,
       "version_minor": 0
      },
      "text/plain": [
       "Processing batches:   0%|          | 0/20 [00:00<?, ?it/s]"
      ]
     },
     "metadata": {},
     "output_type": "display_data"
    },
    {
     "name": "stdout",
     "output_type": "stream",
     "text": [
      "Processing completed, checkpoint removed.\n"
     ]
    }
   ],
   "source": [
    "train5['response'] = generate_response(train5['prompt'], batch_size=50)\n",
    "train5.to_csv(chunks + 'train5.csv', index=False)"
   ]
  },
  {
   "cell_type": "code",
   "execution_count": 111,
   "metadata": {},
   "outputs": [
    {
     "data": {
      "application/vnd.jupyter.widget-view+json": {
       "model_id": "2b3d204767ff4466b79b05aa0ecfe6aa",
       "version_major": 2,
       "version_minor": 0
      },
      "text/plain": [
       "Processing batches:   0%|          | 0/20 [00:00<?, ?it/s]"
      ]
     },
     "metadata": {},
     "output_type": "display_data"
    },
    {
     "name": "stdout",
     "output_type": "stream",
     "text": [
      "Processing completed, checkpoint removed.\n"
     ]
    }
   ],
   "source": [
    "train6['response'] = generate_response(train6['prompt'], batch_size=50)\n",
    "train6.to_csv(chunks + 'train6.csv', index=False)"
   ]
  },
  {
   "cell_type": "code",
   "execution_count": 112,
   "metadata": {},
   "outputs": [
    {
     "data": {
      "application/vnd.jupyter.widget-view+json": {
       "model_id": "78efb05413864b8a801aec3f13d51289",
       "version_major": 2,
       "version_minor": 0
      },
      "text/plain": [
       "Processing batches:   0%|          | 0/20 [00:00<?, ?it/s]"
      ]
     },
     "metadata": {},
     "output_type": "display_data"
    },
    {
     "name": "stdout",
     "output_type": "stream",
     "text": [
      "Processing completed, checkpoint removed.\n"
     ]
    }
   ],
   "source": [
    "train7['response'] = generate_response(train7['prompt'], batch_size=50)\n",
    "train7.to_csv(chunks + 'train7.csv', index=False)"
   ]
  },
  {
   "cell_type": "code",
   "execution_count": 113,
   "metadata": {},
   "outputs": [],
   "source": [
    "# Freeing up some memory\n",
    "gc.collect()\n",
    "torch.cuda.empty_cache()"
   ]
  },
  {
   "cell_type": "code",
   "execution_count": 114,
   "metadata": {},
   "outputs": [
    {
     "data": {
      "application/vnd.jupyter.widget-view+json": {
       "model_id": "be6a848f9bd1441eb857838c8089a8a1",
       "version_major": 2,
       "version_minor": 0
      },
      "text/plain": [
       "Processing batches:   0%|          | 0/20 [00:00<?, ?it/s]"
      ]
     },
     "metadata": {},
     "output_type": "display_data"
    },
    {
     "name": "stdout",
     "output_type": "stream",
     "text": [
      "Processing completed, checkpoint removed.\n"
     ]
    }
   ],
   "source": [
    "train8['response'] = generate_response(train8['prompt'], batch_size=50)\n",
    "train8.to_csv(chunks + 'train8.csv', index=False)"
   ]
  },
  {
   "cell_type": "code",
   "execution_count": 115,
   "metadata": {},
   "outputs": [
    {
     "data": {
      "application/vnd.jupyter.widget-view+json": {
       "model_id": "3451507e18f242dd8fcbd059b26ab85a",
       "version_major": 2,
       "version_minor": 0
      },
      "text/plain": [
       "Processing batches:   0%|          | 0/20 [00:00<?, ?it/s]"
      ]
     },
     "metadata": {},
     "output_type": "display_data"
    },
    {
     "name": "stdout",
     "output_type": "stream",
     "text": [
      "Processing completed, checkpoint removed.\n"
     ]
    }
   ],
   "source": [
    "train9['response'] = generate_response(train9['prompt'], batch_size=50)\n",
    "train9.to_csv(chunks + 'train9.csv', index=False)"
   ]
  },
  {
   "cell_type": "code",
   "execution_count": 116,
   "metadata": {},
   "outputs": [
    {
     "data": {
      "application/vnd.jupyter.widget-view+json": {
       "model_id": "756d7f011c714d8c8cc1702ab334b53c",
       "version_major": 2,
       "version_minor": 0
      },
      "text/plain": [
       "Processing batches:   0%|          | 0/20 [00:00<?, ?it/s]"
      ]
     },
     "metadata": {},
     "output_type": "display_data"
    },
    {
     "name": "stdout",
     "output_type": "stream",
     "text": [
      "Processing completed, checkpoint removed.\n"
     ]
    }
   ],
   "source": [
    "train10['response'] = generate_response(train10['prompt'], batch_size=50)\n",
    "train10.to_csv(chunks + 'train10.csv', index=False)"
   ]
  },
  {
   "cell_type": "markdown",
   "metadata": {},
   "source": [
    "### Part 2 <span style=\"font-size:12px;\">Close this for less scrolling...</span>"
   ]
  },
  {
   "cell_type": "code",
   "execution_count": 117,
   "metadata": {},
   "outputs": [],
   "source": [
    "# Split train5k into 5 chunks of ~1000 records each\n",
    "train11 = train5k[:1000].copy()\n",
    "train12 = train5k[1000:2000].copy()\n",
    "train13 = train5k[2000:3000].copy()\n",
    "train14 = train5k[3000:4000].copy()\n",
    "train15 = train5k[4000:].copy()"
   ]
  },
  {
   "cell_type": "code",
   "execution_count": 118,
   "metadata": {},
   "outputs": [],
   "source": [
    "# Freeing up some memory\n",
    "gc.collect()\n",
    "torch.cuda.empty_cache()"
   ]
  },
  {
   "cell_type": "markdown",
   "metadata": {},
   "source": [
    "#### Train5k & Test1k"
   ]
  },
  {
   "cell_type": "code",
   "execution_count": 119,
   "metadata": {},
   "outputs": [
    {
     "data": {
      "application/vnd.jupyter.widget-view+json": {
       "model_id": "268067ada7fe4c469e157adcb475fb5c",
       "version_major": 2,
       "version_minor": 0
      },
      "text/plain": [
       "Processing batches:   0%|          | 0/20 [00:00<?, ?it/s]"
      ]
     },
     "metadata": {},
     "output_type": "display_data"
    },
    {
     "name": "stdout",
     "output_type": "stream",
     "text": [
      "Processing completed, checkpoint removed.\n"
     ]
    }
   ],
   "source": [
    "train11['response'] = generate_response(train11['prompt'], batch_size=50)\n",
    "train11.to_csv(chunks + 'train11.csv', index=False)"
   ]
  },
  {
   "cell_type": "code",
   "execution_count": 120,
   "metadata": {},
   "outputs": [
    {
     "data": {
      "application/vnd.jupyter.widget-view+json": {
       "model_id": "d0db3e76c30b4899b0feca39815a84f0",
       "version_major": 2,
       "version_minor": 0
      },
      "text/plain": [
       "Processing batches:   0%|          | 0/20 [00:00<?, ?it/s]"
      ]
     },
     "metadata": {},
     "output_type": "display_data"
    },
    {
     "name": "stdout",
     "output_type": "stream",
     "text": [
      "Processing completed, checkpoint removed.\n"
     ]
    }
   ],
   "source": [
    "train12['response'] = generate_response(train12['prompt'], batch_size=50)\n",
    "train12.to_csv(chunks + 'train12.csv', index=False)"
   ]
  },
  {
   "cell_type": "code",
   "execution_count": 121,
   "metadata": {},
   "outputs": [
    {
     "data": {
      "application/vnd.jupyter.widget-view+json": {
       "model_id": "aaa2e21b7b534a11bda90dad705925a9",
       "version_major": 2,
       "version_minor": 0
      },
      "text/plain": [
       "Processing batches:   0%|          | 0/20 [00:00<?, ?it/s]"
      ]
     },
     "metadata": {},
     "output_type": "display_data"
    },
    {
     "name": "stdout",
     "output_type": "stream",
     "text": [
      "Processing completed, checkpoint removed.\n"
     ]
    }
   ],
   "source": [
    "train13['response'] = generate_response(train13['prompt'], batch_size=50)\n",
    "train13.to_csv(chunks + 'train13.csv', index=False)"
   ]
  },
  {
   "cell_type": "code",
   "execution_count": 122,
   "metadata": {},
   "outputs": [],
   "source": [
    "# Freeing up some memory\n",
    "gc.collect()\n",
    "torch.cuda.empty_cache()"
   ]
  },
  {
   "cell_type": "code",
   "execution_count": 123,
   "metadata": {},
   "outputs": [
    {
     "data": {
      "application/vnd.jupyter.widget-view+json": {
       "model_id": "dd4ba0a789ed45afa453adba1e6e2d58",
       "version_major": 2,
       "version_minor": 0
      },
      "text/plain": [
       "Processing batches:   0%|          | 0/20 [00:00<?, ?it/s]"
      ]
     },
     "metadata": {},
     "output_type": "display_data"
    },
    {
     "name": "stdout",
     "output_type": "stream",
     "text": [
      "Processing completed, checkpoint removed.\n"
     ]
    }
   ],
   "source": [
    "train14['response'] = generate_response(train14['prompt'], batch_size=50)\n",
    "train14.to_csv(chunks + 'train14.csv', index=False)"
   ]
  },
  {
   "cell_type": "code",
   "execution_count": 124,
   "metadata": {},
   "outputs": [
    {
     "data": {
      "application/vnd.jupyter.widget-view+json": {
       "model_id": "efacc6c06bef482c9bf8908013dc61b1",
       "version_major": 2,
       "version_minor": 0
      },
      "text/plain": [
       "Processing batches:   0%|          | 0/20 [00:00<?, ?it/s]"
      ]
     },
     "metadata": {},
     "output_type": "display_data"
    },
    {
     "name": "stdout",
     "output_type": "stream",
     "text": [
      "Processing completed, checkpoint removed.\n"
     ]
    }
   ],
   "source": [
    "train15['response'] = generate_response(train15['prompt'], batch_size=50)\n",
    "train15.to_csv(chunks + 'train15.csv', index=False)"
   ]
  },
  {
   "cell_type": "code",
   "execution_count": 125,
   "metadata": {},
   "outputs": [
    {
     "data": {
      "application/vnd.jupyter.widget-view+json": {
       "model_id": "04a1d54d58a14df883890401c4081700",
       "version_major": 2,
       "version_minor": 0
      },
      "text/plain": [
       "Processing batches:   0%|          | 0/20 [00:00<?, ?it/s]"
      ]
     },
     "metadata": {},
     "output_type": "display_data"
    },
    {
     "name": "stdout",
     "output_type": "stream",
     "text": [
      "Processing completed, checkpoint removed.\n"
     ]
    }
   ],
   "source": [
    "test1k['response'] = generate_response(test1k['prompt'], batch_size=50)\n",
    "test1k.to_csv(chunks + 'test1k.csv', index=False)"
   ]
  },
  {
   "cell_type": "code",
   "execution_count": 126,
   "metadata": {},
   "outputs": [],
   "source": [
    "# Freeing up some memory\n",
    "gc.collect()\n",
    "torch.cuda.empty_cache()"
   ]
  },
  {
   "cell_type": "markdown",
   "metadata": {},
   "source": [
    "### Cleaning"
   ]
  },
  {
   "cell_type": "code",
   "execution_count": 127,
   "metadata": {},
   "outputs": [
    {
     "name": "stdout",
     "output_type": "stream",
     "text": [
      "Train: (1000, 7) (1000, 7) (1000, 7) (1000, 7) (1000, 7) (1000, 7) (1000, 7) (1000, 7) (1000, 7) (999, 7) (1000, 7) (1000, 7) (1000, 7) (1000, 7) (998, 7)\n",
      "Test: (1000, 7) (998, 7) (999, 7)\n"
     ]
    }
   ],
   "source": [
    "# Load chunks\n",
    "train1 = pd.read_csv(chunks + 'train1.csv')\n",
    "train2 = pd.read_csv(chunks + 'train2.csv')\n",
    "train3 = pd.read_csv(chunks + 'train3.csv')\n",
    "train4 = pd.read_csv(chunks + 'train4.csv')\n",
    "train5 = pd.read_csv(chunks + 'train5.csv')\n",
    "train6 = pd.read_csv(chunks + 'train6.csv')\n",
    "train7 = pd.read_csv(chunks + 'train7.csv')\n",
    "train8 = pd.read_csv(chunks + 'train8.csv')\n",
    "train9 = pd.read_csv(chunks + 'train9.csv')\n",
    "train10 = pd.read_csv(chunks + 'train10.csv')\n",
    "\n",
    "test1 = pd.read_csv(chunks + 'test1.csv')\n",
    "test2 = pd.read_csv(chunks + 'test2.csv')\n",
    "\n",
    "train11 = pd.read_csv(chunks + 'train11.csv')\n",
    "train12 = pd.read_csv(chunks + 'train12.csv')\n",
    "train13 = pd.read_csv(chunks + 'train13.csv')\n",
    "train14 = pd.read_csv(chunks + 'train14.csv')\n",
    "train15 = pd.read_csv(chunks + 'train15.csv')\n",
    "\n",
    "test1k = pd.read_csv(chunks + 'test1k.csv')\n",
    "\n",
    "# Print shapes\n",
    "print('Train:', train1.shape, train2.shape, train3.shape, train4.shape, train5.shape, train6.shape, train7.shape, train8.shape, train9.shape, train10.shape, train11.shape, train12.shape, train13.shape, train14.shape, train15.shape)\n",
    "print('Test:', test1.shape, test2.shape, test1k.shape)"
   ]
  },
  {
   "cell_type": "code",
   "execution_count": 128,
   "metadata": {},
   "outputs": [],
   "source": [
    "# Concatenate the chunks\n",
    "train10k = pd.concat([train1, train2, train3, train4, train5, train6, train7, train8, train9, train10], ignore_index=True)\n",
    "\n",
    "train5k = pd.concat([train11, train12, train13, train14, train15], ignore_index=True)\n",
    "\n",
    "test2k = pd.concat([test1, test2], ignore_index=True)"
   ]
  },
  {
   "cell_type": "code",
   "execution_count": 129,
   "metadata": {},
   "outputs": [
    {
     "data": {
      "text/plain": [
       "(label\n",
       " 2    3333\n",
       " 1    3333\n",
       " 3    3333\n",
       " Name: count, dtype: int64,\n",
       " label\n",
       " 2    1666\n",
       " 1    1666\n",
       " 3    1666\n",
       " Name: count, dtype: int64,\n",
       " label\n",
       " 1    666\n",
       " 3    666\n",
       " 2    666\n",
       " Name: count, dtype: int64,\n",
       " label\n",
       " 1    333\n",
       " 3    333\n",
       " 2    333\n",
       " Name: count, dtype: int64)"
      ]
     },
     "execution_count": 129,
     "metadata": {},
     "output_type": "execute_result"
    }
   ],
   "source": [
    "train10k['label'].value_counts(), train5k['label'].value_counts(),test2k['label'].value_counts(), test1k['label'].value_counts()\n",
    "# We are good on balance."
   ]
  },
  {
   "cell_type": "markdown",
   "metadata": {},
   "source": [
    "#### Saving"
   ]
  },
  {
   "cell_type": "code",
   "execution_count": 131,
   "metadata": {},
   "outputs": [],
   "source": [
    "# Create the directory if it doesn't exist\n",
    "save_here = \"../data/ready_for_phi-2/\"\n",
    "if not os.path.exists(save_here):\n",
    "    os.makedirs(save_here)"
   ]
  },
  {
   "cell_type": "code",
   "execution_count": 132,
   "metadata": {},
   "outputs": [
    {
     "name": "stdout",
     "output_type": "stream",
     "text": [
      "File train_01.csv saved successfully!\n",
      "File train_02.csv saved successfully!\n",
      "\n",
      "\n",
      "File test_01.csv saved successfully!\n",
      "File test_02.csv saved successfully!\n"
     ]
    }
   ],
   "source": [
    "train_dfs = [train10k, train5k]\n",
    "test_dfs = [test2k, test1k]\n",
    "\n",
    "# Save the splits\n",
    "for i, df in enumerate(train_dfs):\n",
    "    df.to_csv(save_here + f'train_samples_{i+1}.csv', index=False)\n",
    "    if save_here + f'train_0{i+1}.csv':\n",
    "        print(f\"File train_0{i+1}.csv saved successfully!\")\n",
    "\n",
    "print(\"\\n\")\n",
    "        \n",
    "for i, df in enumerate(test_dfs):\n",
    "    df.to_csv(save_here + f'test_0{i+1}.csv', index=False)\n",
    "    if save_here + f'test_0{i+1}.csv':\n",
    "        print(f\"File test_0{i+1}.csv saved successfully!\")"
   ]
  }
 ],
 "metadata": {
  "kernelspec": {
   "display_name": "llmproject",
   "language": "python",
   "name": "python3"
  },
  "language_info": {
   "codemirror_mode": {
    "name": "ipython",
    "version": 3
   },
   "file_extension": ".py",
   "mimetype": "text/x-python",
   "name": "python",
   "nbconvert_exporter": "python",
   "pygments_lexer": "ipython3",
   "version": "3.10.8"
  },
  "orig_nbformat": 4
 },
 "nbformat": 4,
 "nbformat_minor": 2
}
